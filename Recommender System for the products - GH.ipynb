{
 "cells": [
  {
   "cell_type": "markdown",
   "metadata": {},
   "source": [
    "# Recommender System for the products "
   ]
  },
  {
   "cell_type": "code",
   "execution_count": 1,
   "metadata": {
    "colab": {
     "base_uri": "https://localhost:8080/"
    },
    "id": "oistEb63mAcs",
    "outputId": "1bcde157-a0c2-4ec6-e2ef-55b162fa6abb"
   },
   "outputs": [
    {
     "name": "stdout",
     "output_type": "stream",
     "text": [
      "Requirement already satisfied: turicreate in /usr/local/lib/python3.6/dist-packages (6.4.1)\n",
      "Requirement already satisfied: pillow>=5.2.0 in /usr/local/lib/python3.6/dist-packages (from turicreate) (7.0.0)\n",
      "Requirement already satisfied: tensorflow<2.1.0,>=2.0.0 in /usr/local/lib/python3.6/dist-packages (from turicreate) (2.0.3)\n",
      "Requirement already satisfied: decorator>=4.0.9 in /usr/local/lib/python3.6/dist-packages (from turicreate) (4.4.2)\n",
      "Requirement already satisfied: numba<0.51.0 in /usr/local/lib/python3.6/dist-packages (from turicreate) (0.48.0)\n",
      "Requirement already satisfied: requests>=2.9.1 in /usr/local/lib/python3.6/dist-packages (from turicreate) (2.23.0)\n",
      "Requirement already satisfied: scipy>=1.1.0 in /usr/local/lib/python3.6/dist-packages (from turicreate) (1.4.1)\n",
      "Requirement already satisfied: coremltools==3.3 in /usr/local/lib/python3.6/dist-packages (from turicreate) (3.3)\n",
      "Requirement already satisfied: six>=1.10.0 in /usr/local/lib/python3.6/dist-packages (from turicreate) (1.15.0)\n",
      "Requirement already satisfied: resampy==0.2.1 in /usr/local/lib/python3.6/dist-packages (from turicreate) (0.2.1)\n",
      "Requirement already satisfied: pandas>=0.23.2 in /usr/local/lib/python3.6/dist-packages (from turicreate) (1.1.4)\n",
      "Requirement already satisfied: numpy in /usr/local/lib/python3.6/dist-packages (from turicreate) (1.18.5)\n",
      "Requirement already satisfied: prettytable==0.7.2 in /usr/local/lib/python3.6/dist-packages (from turicreate) (0.7.2)\n",
      "Requirement already satisfied: protobuf>=3.6.1 in /usr/local/lib/python3.6/dist-packages (from tensorflow<2.1.0,>=2.0.0->turicreate) (3.12.4)\n",
      "Requirement already satisfied: keras-applications>=1.0.8 in /usr/local/lib/python3.6/dist-packages (from tensorflow<2.1.0,>=2.0.0->turicreate) (1.0.8)\n",
      "Requirement already satisfied: grpcio>=1.8.6 in /usr/local/lib/python3.6/dist-packages (from tensorflow<2.1.0,>=2.0.0->turicreate) (1.33.2)\n",
      "Requirement already satisfied: wrapt>=1.11.1 in /usr/local/lib/python3.6/dist-packages (from tensorflow<2.1.0,>=2.0.0->turicreate) (1.12.1)\n",
      "Requirement already satisfied: opt-einsum>=2.3.2 in /usr/local/lib/python3.6/dist-packages (from tensorflow<2.1.0,>=2.0.0->turicreate) (3.3.0)\n",
      "Requirement already satisfied: absl-py>=0.7.0 in /usr/local/lib/python3.6/dist-packages (from tensorflow<2.1.0,>=2.0.0->turicreate) (0.10.0)\n",
      "Requirement already satisfied: tensorflow-estimator<2.1.0,>=2.0.0 in /usr/local/lib/python3.6/dist-packages (from tensorflow<2.1.0,>=2.0.0->turicreate) (2.0.1)\n",
      "Requirement already satisfied: google-pasta>=0.1.6 in /usr/local/lib/python3.6/dist-packages (from tensorflow<2.1.0,>=2.0.0->turicreate) (0.2.0)\n",
      "Requirement already satisfied: astor>=0.6.0 in /usr/local/lib/python3.6/dist-packages (from tensorflow<2.1.0,>=2.0.0->turicreate) (0.8.1)\n",
      "Requirement already satisfied: tensorboard<2.1.0,>=2.0.0 in /usr/local/lib/python3.6/dist-packages (from tensorflow<2.1.0,>=2.0.0->turicreate) (2.0.2)\n",
      "Requirement already satisfied: gast==0.2.2 in /usr/local/lib/python3.6/dist-packages (from tensorflow<2.1.0,>=2.0.0->turicreate) (0.2.2)\n",
      "Requirement already satisfied: termcolor>=1.1.0 in /usr/local/lib/python3.6/dist-packages (from tensorflow<2.1.0,>=2.0.0->turicreate) (1.1.0)\n",
      "Requirement already satisfied: keras-preprocessing>=1.0.5 in /usr/local/lib/python3.6/dist-packages (from tensorflow<2.1.0,>=2.0.0->turicreate) (1.1.2)\n",
      "Requirement already satisfied: wheel>=0.26; python_version >= \"3\" in /usr/local/lib/python3.6/dist-packages (from tensorflow<2.1.0,>=2.0.0->turicreate) (0.35.1)\n",
      "Requirement already satisfied: setuptools in /usr/local/lib/python3.6/dist-packages (from numba<0.51.0->turicreate) (50.3.2)\n",
      "Requirement already satisfied: llvmlite<0.32.0,>=0.31.0dev0 in /usr/local/lib/python3.6/dist-packages (from numba<0.51.0->turicreate) (0.31.0)\n",
      "Requirement already satisfied: certifi>=2017.4.17 in /usr/local/lib/python3.6/dist-packages (from requests>=2.9.1->turicreate) (2020.11.8)\n",
      "Requirement already satisfied: chardet<4,>=3.0.2 in /usr/local/lib/python3.6/dist-packages (from requests>=2.9.1->turicreate) (3.0.4)\n",
      "Requirement already satisfied: urllib3!=1.25.0,!=1.25.1,<1.26,>=1.21.1 in /usr/local/lib/python3.6/dist-packages (from requests>=2.9.1->turicreate) (1.24.3)\n",
      "Requirement already satisfied: idna<3,>=2.5 in /usr/local/lib/python3.6/dist-packages (from requests>=2.9.1->turicreate) (2.10)\n",
      "Requirement already satisfied: pytz>=2017.2 in /usr/local/lib/python3.6/dist-packages (from pandas>=0.23.2->turicreate) (2018.9)\n",
      "Requirement already satisfied: python-dateutil>=2.7.3 in /usr/local/lib/python3.6/dist-packages (from pandas>=0.23.2->turicreate) (2.8.1)\n",
      "Requirement already satisfied: h5py in /usr/local/lib/python3.6/dist-packages (from keras-applications>=1.0.8->tensorflow<2.1.0,>=2.0.0->turicreate) (2.10.0)\n",
      "Requirement already satisfied: google-auth<2,>=1.6.3 in /usr/local/lib/python3.6/dist-packages (from tensorboard<2.1.0,>=2.0.0->tensorflow<2.1.0,>=2.0.0->turicreate) (1.17.2)\n",
      "Requirement already satisfied: google-auth-oauthlib<0.5,>=0.4.1 in /usr/local/lib/python3.6/dist-packages (from tensorboard<2.1.0,>=2.0.0->tensorflow<2.1.0,>=2.0.0->turicreate) (0.4.2)\n",
      "Requirement already satisfied: werkzeug>=0.11.15 in /usr/local/lib/python3.6/dist-packages (from tensorboard<2.1.0,>=2.0.0->tensorflow<2.1.0,>=2.0.0->turicreate) (1.0.1)\n",
      "Requirement already satisfied: markdown>=2.6.8 in /usr/local/lib/python3.6/dist-packages (from tensorboard<2.1.0,>=2.0.0->tensorflow<2.1.0,>=2.0.0->turicreate) (3.3.3)\n",
      "Requirement already satisfied: cachetools<5.0,>=2.0.0 in /usr/local/lib/python3.6/dist-packages (from google-auth<2,>=1.6.3->tensorboard<2.1.0,>=2.0.0->tensorflow<2.1.0,>=2.0.0->turicreate) (4.1.1)\n",
      "Requirement already satisfied: rsa<5,>=3.1.4; python_version >= \"3\" in /usr/local/lib/python3.6/dist-packages (from google-auth<2,>=1.6.3->tensorboard<2.1.0,>=2.0.0->tensorflow<2.1.0,>=2.0.0->turicreate) (4.6)\n",
      "Requirement already satisfied: pyasn1-modules>=0.2.1 in /usr/local/lib/python3.6/dist-packages (from google-auth<2,>=1.6.3->tensorboard<2.1.0,>=2.0.0->tensorflow<2.1.0,>=2.0.0->turicreate) (0.2.8)\n",
      "Requirement already satisfied: requests-oauthlib>=0.7.0 in /usr/local/lib/python3.6/dist-packages (from google-auth-oauthlib<0.5,>=0.4.1->tensorboard<2.1.0,>=2.0.0->tensorflow<2.1.0,>=2.0.0->turicreate) (1.3.0)\n",
      "Requirement already satisfied: importlib-metadata; python_version < \"3.8\" in /usr/local/lib/python3.6/dist-packages (from markdown>=2.6.8->tensorboard<2.1.0,>=2.0.0->tensorflow<2.1.0,>=2.0.0->turicreate) (2.0.0)\n",
      "Requirement already satisfied: pyasn1>=0.1.3 in /usr/local/lib/python3.6/dist-packages (from rsa<5,>=3.1.4; python_version >= \"3\"->google-auth<2,>=1.6.3->tensorboard<2.1.0,>=2.0.0->tensorflow<2.1.0,>=2.0.0->turicreate) (0.4.8)\n",
      "Requirement already satisfied: oauthlib>=3.0.0 in /usr/local/lib/python3.6/dist-packages (from requests-oauthlib>=0.7.0->google-auth-oauthlib<0.5,>=0.4.1->tensorboard<2.1.0,>=2.0.0->tensorflow<2.1.0,>=2.0.0->turicreate) (3.1.0)\n",
      "Requirement already satisfied: zipp>=0.5 in /usr/local/lib/python3.6/dist-packages (from importlib-metadata; python_version < \"3.8\"->markdown>=2.6.8->tensorboard<2.1.0,>=2.0.0->tensorflow<2.1.0,>=2.0.0->turicreate) (3.4.0)\n"
     ]
    }
   ],
   "source": [
    "!pip install turicreate\n"
   ]
  },
  {
   "cell_type": "code",
   "execution_count": 2,
   "metadata": {
    "colab": {
     "base_uri": "https://localhost:8080/",
     "height": 202
    },
    "id": "bUTXFAP_md1s",
    "outputId": "7d2f6ae4-79c4-4ff4-d7e3-cff17609bc34"
   },
   "outputs": [
    {
     "data": {
      "text/html": [
       "<div>\n",
       "<style scoped>\n",
       "    .dataframe tbody tr th:only-of-type {\n",
       "        vertical-align: middle;\n",
       "    }\n",
       "\n",
       "    .dataframe tbody tr th {\n",
       "        vertical-align: top;\n",
       "    }\n",
       "\n",
       "    .dataframe thead th {\n",
       "        text-align: right;\n",
       "    }\n",
       "</style>\n",
       "<table border=\"1\" class=\"dataframe\">\n",
       "  <thead>\n",
       "    <tr style=\"text-align: right;\">\n",
       "      <th></th>\n",
       "      <th>user_id</th>\n",
       "      <th>item_id</th>\n",
       "      <th>rating</th>\n",
       "      <th>timestamp</th>\n",
       "    </tr>\n",
       "  </thead>\n",
       "  <tbody>\n",
       "    <tr>\n",
       "      <th>0</th>\n",
       "      <td>0</td>\n",
       "      <td>50</td>\n",
       "      <td>5</td>\n",
       "      <td>881250949</td>\n",
       "    </tr>\n",
       "    <tr>\n",
       "      <th>1</th>\n",
       "      <td>0</td>\n",
       "      <td>172</td>\n",
       "      <td>5</td>\n",
       "      <td>881250949</td>\n",
       "    </tr>\n",
       "    <tr>\n",
       "      <th>2</th>\n",
       "      <td>0</td>\n",
       "      <td>133</td>\n",
       "      <td>1</td>\n",
       "      <td>881250949</td>\n",
       "    </tr>\n",
       "    <tr>\n",
       "      <th>3</th>\n",
       "      <td>196</td>\n",
       "      <td>242</td>\n",
       "      <td>3</td>\n",
       "      <td>881250949</td>\n",
       "    </tr>\n",
       "    <tr>\n",
       "      <th>4</th>\n",
       "      <td>186</td>\n",
       "      <td>302</td>\n",
       "      <td>3</td>\n",
       "      <td>891717742</td>\n",
       "    </tr>\n",
       "  </tbody>\n",
       "</table>\n",
       "</div>"
      ],
      "text/plain": [
       "   user_id  item_id  rating  timestamp\n",
       "0        0       50       5  881250949\n",
       "1        0      172       5  881250949\n",
       "2        0      133       1  881250949\n",
       "3      196      242       3  881250949\n",
       "4      186      302       3  891717742"
      ]
     },
     "execution_count": 2,
     "metadata": {
      "tags": []
     },
     "output_type": "execute_result"
    }
   ],
   "source": [
    "import pandas as pd\n",
    "import numpy as np\n",
    "import time\n",
    "import turicreate as tc\n",
    "from sklearn.model_selection  import train_test_split\n",
    "import pandas as pd \n",
    "# Get the data \n",
    "column_names = ['user_id', 'item_id', 'rating', 'timestamp'] \n",
    "\n",
    "df = pd.read_csv('/content/data_file.csv', names=column_names) \n",
    "df.head(5)\n",
    "\n"
   ]
  },
  {
   "cell_type": "code",
   "execution_count": 3,
   "metadata": {
    "colab": {
     "base_uri": "https://localhost:8080/",
     "height": 202
    },
    "id": "428VpF7X4P_M",
    "outputId": "4f181791-4302-4fc8-cb75-082fa3211b01"
   },
   "outputs": [
    {
     "data": {
      "text/html": [
       "<div>\n",
       "<style scoped>\n",
       "    .dataframe tbody tr th:only-of-type {\n",
       "        vertical-align: middle;\n",
       "    }\n",
       "\n",
       "    .dataframe tbody tr th {\n",
       "        vertical-align: top;\n",
       "    }\n",
       "\n",
       "    .dataframe thead th {\n",
       "        text-align: right;\n",
       "    }\n",
       "</style>\n",
       "<table border=\"1\" class=\"dataframe\">\n",
       "  <thead>\n",
       "    <tr style=\"text-align: right;\">\n",
       "      <th></th>\n",
       "      <th>item_id</th>\n",
       "      <th>title</th>\n",
       "    </tr>\n",
       "  </thead>\n",
       "  <tbody>\n",
       "    <tr>\n",
       "      <th>0</th>\n",
       "      <td>1</td>\n",
       "      <td>Toy Story (1995)</td>\n",
       "    </tr>\n",
       "    <tr>\n",
       "      <th>1</th>\n",
       "      <td>2</td>\n",
       "      <td>GoldenEye (1995)</td>\n",
       "    </tr>\n",
       "    <tr>\n",
       "      <th>2</th>\n",
       "      <td>3</td>\n",
       "      <td>Four Rooms (1995)</td>\n",
       "    </tr>\n",
       "    <tr>\n",
       "      <th>3</th>\n",
       "      <td>4</td>\n",
       "      <td>Get Shorty (1995)</td>\n",
       "    </tr>\n",
       "    <tr>\n",
       "      <th>4</th>\n",
       "      <td>5</td>\n",
       "      <td>Copycat (1995)</td>\n",
       "    </tr>\n",
       "  </tbody>\n",
       "</table>\n",
       "</div>"
      ],
      "text/plain": [
       "   item_id              title\n",
       "0        1   Toy Story (1995)\n",
       "1        2   GoldenEye (1995)\n",
       "2        3  Four Rooms (1995)\n",
       "3        4  Get Shorty (1995)\n",
       "4        5     Copycat (1995)"
      ]
     },
     "execution_count": 3,
     "metadata": {
      "tags": []
     },
     "output_type": "execute_result"
    }
   ],
   "source": [
    "# Check out all the movies and their respective IDs \n",
    "movie_titles = pd.read_csv('/content/Movie_Id_Titles1.csv') \n",
    "movie_titles.head(5) \n"
   ]
  },
  {
   "cell_type": "code",
   "execution_count": 4,
   "metadata": {
    "colab": {
     "base_uri": "https://localhost:8080/",
     "height": 202
    },
    "id": "itOO2DPo6kqH",
    "outputId": "cf272694-03b9-4e1e-9af5-15a8ded8f3f7"
   },
   "outputs": [
    {
     "data": {
      "text/html": [
       "<div>\n",
       "<style scoped>\n",
       "    .dataframe tbody tr th:only-of-type {\n",
       "        vertical-align: middle;\n",
       "    }\n",
       "\n",
       "    .dataframe tbody tr th {\n",
       "        vertical-align: top;\n",
       "    }\n",
       "\n",
       "    .dataframe thead th {\n",
       "        text-align: right;\n",
       "    }\n",
       "</style>\n",
       "<table border=\"1\" class=\"dataframe\">\n",
       "  <thead>\n",
       "    <tr style=\"text-align: right;\">\n",
       "      <th></th>\n",
       "      <th>user_id</th>\n",
       "      <th>item_id</th>\n",
       "      <th>rating</th>\n",
       "      <th>timestamp</th>\n",
       "      <th>title</th>\n",
       "    </tr>\n",
       "  </thead>\n",
       "  <tbody>\n",
       "    <tr>\n",
       "      <th>0</th>\n",
       "      <td>0</td>\n",
       "      <td>50</td>\n",
       "      <td>5</td>\n",
       "      <td>881250949</td>\n",
       "      <td>Star Wars (1977)</td>\n",
       "    </tr>\n",
       "    <tr>\n",
       "      <th>1</th>\n",
       "      <td>290</td>\n",
       "      <td>50</td>\n",
       "      <td>5</td>\n",
       "      <td>880473582</td>\n",
       "      <td>Star Wars (1977)</td>\n",
       "    </tr>\n",
       "    <tr>\n",
       "      <th>2</th>\n",
       "      <td>79</td>\n",
       "      <td>50</td>\n",
       "      <td>4</td>\n",
       "      <td>891271545</td>\n",
       "      <td>Star Wars (1977)</td>\n",
       "    </tr>\n",
       "    <tr>\n",
       "      <th>3</th>\n",
       "      <td>2</td>\n",
       "      <td>50</td>\n",
       "      <td>5</td>\n",
       "      <td>888552084</td>\n",
       "      <td>Star Wars (1977)</td>\n",
       "    </tr>\n",
       "    <tr>\n",
       "      <th>4</th>\n",
       "      <td>8</td>\n",
       "      <td>50</td>\n",
       "      <td>5</td>\n",
       "      <td>879362124</td>\n",
       "      <td>Star Wars (1977)</td>\n",
       "    </tr>\n",
       "  </tbody>\n",
       "</table>\n",
       "</div>"
      ],
      "text/plain": [
       "   user_id  item_id  rating  timestamp             title\n",
       "0        0       50       5  881250949  Star Wars (1977)\n",
       "1      290       50       5  880473582  Star Wars (1977)\n",
       "2       79       50       4  891271545  Star Wars (1977)\n",
       "3        2       50       5  888552084  Star Wars (1977)\n",
       "4        8       50       5  879362124  Star Wars (1977)"
      ]
     },
     "execution_count": 4,
     "metadata": {
      "tags": []
     },
     "output_type": "execute_result"
    }
   ],
   "source": [
    "Merge_Movie_files = pd.merge(df, movie_titles, on='item_id') \n",
    "Merge_Movie_files.head()"
   ]
  },
  {
   "cell_type": "code",
   "execution_count": 5,
   "metadata": {
    "colab": {
     "base_uri": "https://localhost:8080/"
    },
    "id": "8bjFQUi8AZMO",
    "outputId": "168fda8f-247f-4236-fbe9-20b113c66e0b"
   },
   "outputs": [
    {
     "data": {
      "text/plain": [
       "title\n",
       "Marlene Dietrich: Shadow and Light (1996)     5.0\n",
       "Prefontaine (1997)                            5.0\n",
       "Santa with Muscles (1996)                     5.0\n",
       "Star Kid (1997)                               5.0\n",
       "Someone Else's America (1995)                 5.0\n",
       "Name: rating, dtype: float64"
      ]
     },
     "execution_count": 5,
     "metadata": {
      "tags": []
     },
     "output_type": "execute_result"
    }
   ],
   "source": [
    "# Calculate mean rating of all movies \n",
    "Merge_Movie_files.groupby('title')['rating'].mean().sort_values(ascending=False).head() "
   ]
  },
  {
   "cell_type": "code",
   "execution_count": 6,
   "metadata": {
    "colab": {
     "base_uri": "https://localhost:8080/"
    },
    "id": "jbMXA3rxA2i9",
    "outputId": "ed544fe2-8926-4b53-bb55-6beec81f9d91"
   },
   "outputs": [
    {
     "data": {
      "text/plain": [
       "title\n",
       "Star Wars (1977)             584\n",
       "Contact (1997)               509\n",
       "Fargo (1996)                 508\n",
       "Return of the Jedi (1983)    507\n",
       "Liar Liar (1997)             485\n",
       "Name: rating, dtype: int64"
      ]
     },
     "execution_count": 6,
     "metadata": {
      "tags": []
     },
     "output_type": "execute_result"
    }
   ],
   "source": [
    "# Calculate count rating of all movies \n",
    "Merge_Movie_files.groupby('title')['rating'].count().sort_values(ascending=False).head()"
   ]
  },
  {
   "cell_type": "code",
   "execution_count": 7,
   "metadata": {
    "colab": {
     "base_uri": "https://localhost:8080/",
     "height": 233
    },
    "id": "Ps1JL9grBNrN",
    "outputId": "43f6eef8-d961-4cfe-bab5-5265d7bb6e7f"
   },
   "outputs": [
    {
     "data": {
      "text/html": [
       "<div>\n",
       "<style scoped>\n",
       "    .dataframe tbody tr th:only-of-type {\n",
       "        vertical-align: middle;\n",
       "    }\n",
       "\n",
       "    .dataframe tbody tr th {\n",
       "        vertical-align: top;\n",
       "    }\n",
       "\n",
       "    .dataframe thead th {\n",
       "        text-align: right;\n",
       "    }\n",
       "</style>\n",
       "<table border=\"1\" class=\"dataframe\">\n",
       "  <thead>\n",
       "    <tr style=\"text-align: right;\">\n",
       "      <th></th>\n",
       "      <th>Rating_mean</th>\n",
       "      <th>num of ratings</th>\n",
       "    </tr>\n",
       "    <tr>\n",
       "      <th>title</th>\n",
       "      <th></th>\n",
       "      <th></th>\n",
       "    </tr>\n",
       "  </thead>\n",
       "  <tbody>\n",
       "    <tr>\n",
       "      <th>'Til There Was You (1997)</th>\n",
       "      <td>2.333333</td>\n",
       "      <td>9</td>\n",
       "    </tr>\n",
       "    <tr>\n",
       "      <th>1-900 (1994)</th>\n",
       "      <td>2.600000</td>\n",
       "      <td>5</td>\n",
       "    </tr>\n",
       "    <tr>\n",
       "      <th>101 Dalmatians (1996)</th>\n",
       "      <td>2.908257</td>\n",
       "      <td>109</td>\n",
       "    </tr>\n",
       "    <tr>\n",
       "      <th>12 Angry Men (1957)</th>\n",
       "      <td>4.344000</td>\n",
       "      <td>125</td>\n",
       "    </tr>\n",
       "    <tr>\n",
       "      <th>187 (1997)</th>\n",
       "      <td>3.024390</td>\n",
       "      <td>41</td>\n",
       "    </tr>\n",
       "  </tbody>\n",
       "</table>\n",
       "</div>"
      ],
      "text/plain": [
       "                           Rating_mean  num of ratings\n",
       "title                                                 \n",
       "'Til There Was You (1997)     2.333333               9\n",
       "1-900 (1994)                  2.600000               5\n",
       "101 Dalmatians (1996)         2.908257             109\n",
       "12 Angry Men (1957)           4.344000             125\n",
       "187 (1997)                    3.024390              41"
      ]
     },
     "execution_count": 7,
     "metadata": {
      "tags": []
     },
     "output_type": "execute_result"
    }
   ],
   "source": [
    "# creating dataframe with 'rating' count values \n",
    "ratings = pd.DataFrame(Merge_Movie_files.groupby('title')['rating'].mean())  \n",
    "  \n",
    "ratings['num of ratings'] = pd.DataFrame(Merge_Movie_files.groupby('title')['rating'].count()) \n",
    "ratings.rename(columns = {'rating':'Rating_mean'}, inplace = True) \n",
    "ratings.head()"
   ]
  },
  {
   "cell_type": "code",
   "execution_count": 8,
   "metadata": {
    "colab": {
     "base_uri": "https://localhost:8080/",
     "height": 202
    },
    "id": "mxwydccrmpFl",
    "outputId": "0ce671ce-96c9-42ac-9199-ab07484a7da3"
   },
   "outputs": [
    {
     "data": {
      "text/html": [
       "<div>\n",
       "<style scoped>\n",
       "    .dataframe tbody tr th:only-of-type {\n",
       "        vertical-align: middle;\n",
       "    }\n",
       "\n",
       "    .dataframe tbody tr th {\n",
       "        vertical-align: top;\n",
       "    }\n",
       "\n",
       "    .dataframe thead th {\n",
       "        text-align: right;\n",
       "    }\n",
       "</style>\n",
       "<table border=\"1\" class=\"dataframe\">\n",
       "  <thead>\n",
       "    <tr style=\"text-align: right;\">\n",
       "      <th></th>\n",
       "      <th>user_id</th>\n",
       "      <th>item_id</th>\n",
       "      <th>rating</th>\n",
       "      <th>timestamp</th>\n",
       "      <th>title</th>\n",
       "      <th>Rating_mean</th>\n",
       "      <th>num of ratings</th>\n",
       "    </tr>\n",
       "  </thead>\n",
       "  <tbody>\n",
       "    <tr>\n",
       "      <th>0</th>\n",
       "      <td>0</td>\n",
       "      <td>50</td>\n",
       "      <td>5</td>\n",
       "      <td>881250949</td>\n",
       "      <td>Star Wars (1977)</td>\n",
       "      <td>4.359589</td>\n",
       "      <td>584</td>\n",
       "    </tr>\n",
       "    <tr>\n",
       "      <th>1</th>\n",
       "      <td>290</td>\n",
       "      <td>50</td>\n",
       "      <td>5</td>\n",
       "      <td>880473582</td>\n",
       "      <td>Star Wars (1977)</td>\n",
       "      <td>4.359589</td>\n",
       "      <td>584</td>\n",
       "    </tr>\n",
       "    <tr>\n",
       "      <th>2</th>\n",
       "      <td>79</td>\n",
       "      <td>50</td>\n",
       "      <td>4</td>\n",
       "      <td>891271545</td>\n",
       "      <td>Star Wars (1977)</td>\n",
       "      <td>4.359589</td>\n",
       "      <td>584</td>\n",
       "    </tr>\n",
       "    <tr>\n",
       "      <th>3</th>\n",
       "      <td>2</td>\n",
       "      <td>50</td>\n",
       "      <td>5</td>\n",
       "      <td>888552084</td>\n",
       "      <td>Star Wars (1977)</td>\n",
       "      <td>4.359589</td>\n",
       "      <td>584</td>\n",
       "    </tr>\n",
       "    <tr>\n",
       "      <th>4</th>\n",
       "      <td>8</td>\n",
       "      <td>50</td>\n",
       "      <td>5</td>\n",
       "      <td>879362124</td>\n",
       "      <td>Star Wars (1977)</td>\n",
       "      <td>4.359589</td>\n",
       "      <td>584</td>\n",
       "    </tr>\n",
       "  </tbody>\n",
       "</table>\n",
       "</div>"
      ],
      "text/plain": [
       "   user_id  item_id  rating  ...             title Rating_mean  num of ratings\n",
       "0        0       50       5  ...  Star Wars (1977)    4.359589             584\n",
       "1      290       50       5  ...  Star Wars (1977)    4.359589             584\n",
       "2       79       50       4  ...  Star Wars (1977)    4.359589             584\n",
       "3        2       50       5  ...  Star Wars (1977)    4.359589             584\n",
       "4        8       50       5  ...  Star Wars (1977)    4.359589             584\n",
       "\n",
       "[5 rows x 7 columns]"
      ]
     },
     "execution_count": 8,
     "metadata": {
      "tags": []
     },
     "output_type": "execute_result"
    }
   ],
   "source": [
    "Merge_Movie_files1 = pd.merge(Merge_Movie_files, ratings, on='title') \n",
    "Merge_Movie_files1.head()"
   ]
  },
  {
   "cell_type": "code",
   "execution_count": 9,
   "metadata": {
    "colab": {
     "base_uri": "https://localhost:8080/",
     "height": 283
    },
    "id": "grmmScLRB06S",
    "outputId": "72fe019f-d6ad-4efe-e5e3-4e50c0c31a8d"
   },
   "outputs": [
    {
     "data": {
      "text/plain": [
       "<matplotlib.axes._subplots.AxesSubplot at 0x7fba334d5400>"
      ]
     },
     "execution_count": 9,
     "metadata": {
      "tags": []
     },
     "output_type": "execute_result"
    },
    {
     "data": {
      "image/png": "[encoded data removed]",
      "text/plain": [
       "<Figure size 576x288 with 1 Axes>"
      ]
     },
     "metadata": {
      "needs_background": "light",
      "tags": []
     },
     "output_type": "display_data"
    }
   ],
   "source": [
    "import matplotlib.pyplot as plt \n",
    "import seaborn as sns \n",
    "  \n",
    "sns.set_style('white') \n",
    "%matplotlib inline \n",
    "# plot graph of 'num of ratings column' \n",
    "plt.figure(figsize =(8, 4)) \n",
    "  \n",
    "ratings['num of ratings'].hist(bins = 70) "
   ]
  },
  {
   "cell_type": "code",
   "execution_count": 10,
   "metadata": {
    "colab": {
     "base_uri": "https://localhost:8080/",
     "height": 283
    },
    "id": "XrFQpXaxCFgc",
    "outputId": "e1eefb39-16c9-4051-c5b5-f4105d103401"
   },
   "outputs": [
    {
     "data": {
      "text/plain": [
       "<matplotlib.axes._subplots.AxesSubplot at 0x7fba32623198>"
      ]
     },
     "execution_count": 10,
     "metadata": {
      "tags": []
     },
     "output_type": "execute_result"
    },
    {
     "data": {
      "image/png": "[encoded data removed]",
      "text/plain": [
       "<Figure size 720x288 with 1 Axes>"
      ]
     },
     "metadata": {
      "needs_background": "light",
      "tags": []
     },
     "output_type": "display_data"
    }
   ],
   "source": [
    "# plot graph of 'ratings' column \n",
    "plt.figure(figsize =(10, 4)) \n",
    "  \n",
    "ratings['Rating_mean'].hist(bins = 70) "
   ]
  },
  {
   "cell_type": "code",
   "execution_count": 11,
   "metadata": {
    "colab": {
     "base_uri": "https://localhost:8080/",
     "height": 386
    },
    "id": "t4zl8sZyCmsp",
    "outputId": "45199881-8ed6-4548-dfca-1b6807fae290"
   },
   "outputs": [
    {
     "data": {
      "text/html": [
       "<div>\n",
       "<style scoped>\n",
       "    .dataframe tbody tr th:only-of-type {\n",
       "        vertical-align: middle;\n",
       "    }\n",
       "\n",
       "    .dataframe tbody tr th {\n",
       "        vertical-align: top;\n",
       "    }\n",
       "\n",
       "    .dataframe thead th {\n",
       "        text-align: right;\n",
       "    }\n",
       "</style>\n",
       "<table border=\"1\" class=\"dataframe\">\n",
       "  <thead>\n",
       "    <tr style=\"text-align: right;\">\n",
       "      <th></th>\n",
       "      <th>Rating_mean</th>\n",
       "      <th>num of ratings</th>\n",
       "    </tr>\n",
       "    <tr>\n",
       "      <th>title</th>\n",
       "      <th></th>\n",
       "      <th></th>\n",
       "    </tr>\n",
       "  </thead>\n",
       "  <tbody>\n",
       "    <tr>\n",
       "      <th>Star Wars (1977)</th>\n",
       "      <td>4.359589</td>\n",
       "      <td>584</td>\n",
       "    </tr>\n",
       "    <tr>\n",
       "      <th>Contact (1997)</th>\n",
       "      <td>3.803536</td>\n",
       "      <td>509</td>\n",
       "    </tr>\n",
       "    <tr>\n",
       "      <th>Fargo (1996)</th>\n",
       "      <td>4.155512</td>\n",
       "      <td>508</td>\n",
       "    </tr>\n",
       "    <tr>\n",
       "      <th>Return of the Jedi (1983)</th>\n",
       "      <td>4.007890</td>\n",
       "      <td>507</td>\n",
       "    </tr>\n",
       "    <tr>\n",
       "      <th>Liar Liar (1997)</th>\n",
       "      <td>3.156701</td>\n",
       "      <td>485</td>\n",
       "    </tr>\n",
       "    <tr>\n",
       "      <th>English Patient, The (1996)</th>\n",
       "      <td>3.656965</td>\n",
       "      <td>481</td>\n",
       "    </tr>\n",
       "    <tr>\n",
       "      <th>Scream (1996)</th>\n",
       "      <td>3.441423</td>\n",
       "      <td>478</td>\n",
       "    </tr>\n",
       "    <tr>\n",
       "      <th>Toy Story (1995)</th>\n",
       "      <td>3.878319</td>\n",
       "      <td>452</td>\n",
       "    </tr>\n",
       "    <tr>\n",
       "      <th>Air Force One (1997)</th>\n",
       "      <td>3.631090</td>\n",
       "      <td>431</td>\n",
       "    </tr>\n",
       "    <tr>\n",
       "      <th>Independence Day (ID4) (1996)</th>\n",
       "      <td>3.438228</td>\n",
       "      <td>429</td>\n",
       "    </tr>\n",
       "  </tbody>\n",
       "</table>\n",
       "</div>"
      ],
      "text/plain": [
       "                               Rating_mean  num of ratings\n",
       "title                                                     \n",
       "Star Wars (1977)                  4.359589             584\n",
       "Contact (1997)                    3.803536             509\n",
       "Fargo (1996)                      4.155512             508\n",
       "Return of the Jedi (1983)         4.007890             507\n",
       "Liar Liar (1997)                  3.156701             485\n",
       "English Patient, The (1996)       3.656965             481\n",
       "Scream (1996)                     3.441423             478\n",
       "Toy Story (1995)                  3.878319             452\n",
       "Air Force One (1997)              3.631090             431\n",
       "Independence Day (ID4) (1996)     3.438228             429"
      ]
     },
     "execution_count": 11,
     "metadata": {
      "tags": []
     },
     "output_type": "execute_result"
    }
   ],
   "source": [
    "# Sorting values according to  \n",
    "# the 'num of rating column' \n",
    "moviemat = Merge_Movie_files.pivot_table(index ='user_id', \n",
    "              columns ='title', values ='rating') \n",
    "  \n",
    "#print(moviemat.head() )\n",
    "  \n",
    "ratings.sort_values('num of ratings', ascending = False).head(10) "
   ]
  },
  {
   "cell_type": "code",
   "execution_count": 12,
   "metadata": {
    "colab": {
     "base_uri": "https://localhost:8080/"
    },
    "id": "AzSZr09gEN3E",
    "outputId": "b426078f-0a75-46ec-9b37-56e8a1dc9711"
   },
   "outputs": [
    {
     "data": {
      "text/plain": [
       "user_id\n",
       "0    5.0\n",
       "1    5.0\n",
       "2    5.0\n",
       "3    NaN\n",
       "4    5.0\n",
       "Name: Star Wars (1977), dtype: float64"
      ]
     },
     "execution_count": 12,
     "metadata": {
      "tags": []
     },
     "output_type": "execute_result"
    }
   ],
   "source": [
    "\n",
    "# analysing correlation with similar movies \n",
    "starwars_user_ratings = moviemat['Star Wars (1977)'] \n",
    "liarliar_user_ratings = moviemat['Liar Liar (1997)'] \n",
    "  \n",
    "starwars_user_ratings.head()  \n"
   ]
  },
  {
   "cell_type": "code",
   "execution_count": 13,
   "metadata": {
    "colab": {
     "base_uri": "https://localhost:8080/",
     "height": 322
    },
    "id": "mlzG370CDAxp",
    "outputId": "9fadfbd7-15d5-471b-e172-3b195cff1c79"
   },
   "outputs": [
    {
     "name": "stderr",
     "output_type": "stream",
     "text": [
      "/usr/local/lib/python3.6/dist-packages/numpy/lib/function_base.py:2526: RuntimeWarning: Degrees of freedom <= 0 for slice\n",
      "  c = cov(x, y, rowvar)\n",
      "/usr/local/lib/python3.6/dist-packages/numpy/lib/function_base.py:2455: RuntimeWarning: divide by zero encountered in true_divide\n",
      "  c *= np.true_divide(1, fact)\n"
     ]
    },
    {
     "data": {
      "text/html": [
       "<div>\n",
       "<style scoped>\n",
       "    .dataframe tbody tr th:only-of-type {\n",
       "        vertical-align: middle;\n",
       "    }\n",
       "\n",
       "    .dataframe tbody tr th {\n",
       "        vertical-align: top;\n",
       "    }\n",
       "\n",
       "    .dataframe thead th {\n",
       "        text-align: right;\n",
       "    }\n",
       "</style>\n",
       "<table border=\"1\" class=\"dataframe\">\n",
       "  <thead>\n",
       "    <tr style=\"text-align: right;\">\n",
       "      <th></th>\n",
       "      <th>Correlation</th>\n",
       "    </tr>\n",
       "    <tr>\n",
       "      <th>title</th>\n",
       "      <th></th>\n",
       "    </tr>\n",
       "  </thead>\n",
       "  <tbody>\n",
       "    <tr>\n",
       "      <th>'Til There Was You (1997)</th>\n",
       "      <td>0.872872</td>\n",
       "    </tr>\n",
       "    <tr>\n",
       "      <th>1-900 (1994)</th>\n",
       "      <td>-0.645497</td>\n",
       "    </tr>\n",
       "    <tr>\n",
       "      <th>101 Dalmatians (1996)</th>\n",
       "      <td>0.211132</td>\n",
       "    </tr>\n",
       "    <tr>\n",
       "      <th>12 Angry Men (1957)</th>\n",
       "      <td>0.184289</td>\n",
       "    </tr>\n",
       "    <tr>\n",
       "      <th>187 (1997)</th>\n",
       "      <td>0.027398</td>\n",
       "    </tr>\n",
       "  </tbody>\n",
       "</table>\n",
       "</div>"
      ],
      "text/plain": [
       "                           Correlation\n",
       "title                                 \n",
       "'Til There Was You (1997)     0.872872\n",
       "1-900 (1994)                 -0.645497\n",
       "101 Dalmatians (1996)         0.211132\n",
       "12 Angry Men (1957)           0.184289\n",
       "187 (1997)                    0.027398"
      ]
     },
     "execution_count": 13,
     "metadata": {
      "tags": []
     },
     "output_type": "execute_result"
    }
   ],
   "source": [
    "# analysing correlation with similar movies \n",
    "similar_to_starwars = moviemat.corrwith(starwars_user_ratings) \n",
    "similar_to_liarliar = moviemat.corrwith(liarliar_user_ratings) \n",
    "  \n",
    "corr_starwars = pd.DataFrame(similar_to_starwars, columns =['Correlation']) \n",
    "corr_starwars.dropna(inplace = True) \n",
    "  \n",
    "corr_starwars.head()  "
   ]
  },
  {
   "cell_type": "code",
   "execution_count": 14,
   "metadata": {
    "colab": {
     "base_uri": "https://localhost:8080/",
     "height": 233
    },
    "id": "GKOIfpCXEIXb",
    "outputId": "f0db0479-4da4-4586-8519-4c1393269e77"
   },
   "outputs": [
    {
     "data": {
      "text/html": [
       "<div>\n",
       "<style scoped>\n",
       "    .dataframe tbody tr th:only-of-type {\n",
       "        vertical-align: middle;\n",
       "    }\n",
       "\n",
       "    .dataframe tbody tr th {\n",
       "        vertical-align: top;\n",
       "    }\n",
       "\n",
       "    .dataframe thead th {\n",
       "        text-align: right;\n",
       "    }\n",
       "</style>\n",
       "<table border=\"1\" class=\"dataframe\">\n",
       "  <thead>\n",
       "    <tr style=\"text-align: right;\">\n",
       "      <th></th>\n",
       "      <th>Correlation</th>\n",
       "      <th>num of ratings</th>\n",
       "    </tr>\n",
       "    <tr>\n",
       "      <th>title</th>\n",
       "      <th></th>\n",
       "      <th></th>\n",
       "    </tr>\n",
       "  </thead>\n",
       "  <tbody>\n",
       "    <tr>\n",
       "      <th>Star Wars (1977)</th>\n",
       "      <td>1.000000</td>\n",
       "      <td>584</td>\n",
       "    </tr>\n",
       "    <tr>\n",
       "      <th>Empire Strikes Back, The (1980)</th>\n",
       "      <td>0.748353</td>\n",
       "      <td>368</td>\n",
       "    </tr>\n",
       "    <tr>\n",
       "      <th>Return of the Jedi (1983)</th>\n",
       "      <td>0.672556</td>\n",
       "      <td>507</td>\n",
       "    </tr>\n",
       "    <tr>\n",
       "      <th>Raiders of the Lost Ark (1981)</th>\n",
       "      <td>0.536117</td>\n",
       "      <td>420</td>\n",
       "    </tr>\n",
       "    <tr>\n",
       "      <th>Austin Powers: International Man of Mystery (1997)</th>\n",
       "      <td>0.377433</td>\n",
       "      <td>130</td>\n",
       "    </tr>\n",
       "  </tbody>\n",
       "</table>\n",
       "</div>"
      ],
      "text/plain": [
       "                                                    Correlation  num of ratings\n",
       "title                                                                          \n",
       "Star Wars (1977)                                       1.000000             584\n",
       "Empire Strikes Back, The (1980)                        0.748353             368\n",
       "Return of the Jedi (1983)                              0.672556             507\n",
       "Raiders of the Lost Ark (1981)                         0.536117             420\n",
       "Austin Powers: International Man of Mystery (1997)     0.377433             130"
      ]
     },
     "execution_count": 14,
     "metadata": {
      "tags": []
     },
     "output_type": "execute_result"
    }
   ],
   "source": [
    "# Similar movies like starwars \n",
    "corr_starwars.sort_values('Correlation', ascending = False).head(10) \n",
    "corr_starwars = corr_starwars.join(ratings['num of ratings']) \n",
    "  \n",
    "corr_starwars.head() \n",
    "  \n",
    "corr_starwars[corr_starwars['num of ratings']>100].sort_values('Correlation', ascending = False).head() "
   ]
  },
  {
   "cell_type": "code",
   "execution_count": 15,
   "metadata": {
    "colab": {
     "base_uri": "https://localhost:8080/",
     "height": 233
    },
    "id": "kcBDaoHrFD9C",
    "outputId": "f31fa1d0-8921-4393-e612-fec2d2bb3135"
   },
   "outputs": [
    {
     "data": {
      "text/html": [
       "<div>\n",
       "<style scoped>\n",
       "    .dataframe tbody tr th:only-of-type {\n",
       "        vertical-align: middle;\n",
       "    }\n",
       "\n",
       "    .dataframe tbody tr th {\n",
       "        vertical-align: top;\n",
       "    }\n",
       "\n",
       "    .dataframe thead th {\n",
       "        text-align: right;\n",
       "    }\n",
       "</style>\n",
       "<table border=\"1\" class=\"dataframe\">\n",
       "  <thead>\n",
       "    <tr style=\"text-align: right;\">\n",
       "      <th></th>\n",
       "      <th>Correlation</th>\n",
       "      <th>num of ratings</th>\n",
       "    </tr>\n",
       "    <tr>\n",
       "      <th>title</th>\n",
       "      <th></th>\n",
       "      <th></th>\n",
       "    </tr>\n",
       "  </thead>\n",
       "  <tbody>\n",
       "    <tr>\n",
       "      <th>Liar Liar (1997)</th>\n",
       "      <td>1.000000</td>\n",
       "      <td>485</td>\n",
       "    </tr>\n",
       "    <tr>\n",
       "      <th>Batman Forever (1995)</th>\n",
       "      <td>0.516968</td>\n",
       "      <td>114</td>\n",
       "    </tr>\n",
       "    <tr>\n",
       "      <th>Mask, The (1994)</th>\n",
       "      <td>0.484650</td>\n",
       "      <td>129</td>\n",
       "    </tr>\n",
       "    <tr>\n",
       "      <th>Down Periscope (1996)</th>\n",
       "      <td>0.472681</td>\n",
       "      <td>101</td>\n",
       "    </tr>\n",
       "    <tr>\n",
       "      <th>Con Air (1997)</th>\n",
       "      <td>0.469828</td>\n",
       "      <td>137</td>\n",
       "    </tr>\n",
       "  </tbody>\n",
       "</table>\n",
       "</div>"
      ],
      "text/plain": [
       "                       Correlation  num of ratings\n",
       "title                                             \n",
       "Liar Liar (1997)          1.000000             485\n",
       "Batman Forever (1995)     0.516968             114\n",
       "Mask, The (1994)          0.484650             129\n",
       "Down Periscope (1996)     0.472681             101\n",
       "Con Air (1997)            0.469828             137"
      ]
     },
     "execution_count": 15,
     "metadata": {
      "tags": []
     },
     "output_type": "execute_result"
    }
   ],
   "source": [
    "# Similar movies as of liarliar \n",
    "corr_liarliar = pd.DataFrame(similar_to_liarliar, columns =['Correlation']) \n",
    "corr_liarliar.dropna(inplace = True) \n",
    "  \n",
    "corr_liarliar = corr_liarliar.join(ratings['num of ratings']) \n",
    "corr_liarliar[corr_liarliar['num of ratings']>100].sort_values('Correlation', ascending = False).head() "
   ]
  },
  {
   "cell_type": "code",
   "execution_count": 16,
   "metadata": {
    "id": "6i6LY1dTFUeE"
   },
   "outputs": [],
   "source": [
    "### Assignment generate movie recommendations for different users using turicreate package"
   ]
  },
  {
   "cell_type": "code",
   "execution_count": 17,
   "metadata": {
    "id": "Y6u8vZq3E_Ry"
   },
   "outputs": [],
   "source": [
    "#Create dummy\n"
   ]
  },
  {
   "cell_type": "code",
   "execution_count": 18,
   "metadata": {
    "id": "tWLk8z5jexPu"
   },
   "outputs": [],
   "source": [
    "def create_data_dummy(data):\n",
    "    data_dummy = data.copy()\n",
    "    data_dummy['rating_dummy'] = 1\n",
    "    return data_dummy\n",
    "data_dummy = create_data_dummy(Merge_Movie_files1)\n",
    "#print(data_dummy)"
   ]
  },
  {
   "cell_type": "code",
   "execution_count": 19,
   "metadata": {
    "id": "M7-88B1VL8bb"
   },
   "outputs": [],
   "source": [
    "#Normalize item values across users"
   ]
  },
  {
   "cell_type": "code",
   "execution_count": 20,
   "metadata": {
    "colab": {
     "base_uri": "https://localhost:8080/",
     "height": 282
    },
    "id": "32gTiHABhRtb",
    "outputId": "2c3818b6-4cd6-416e-9b4d-b79cbe737225"
   },
   "outputs": [
    {
     "data": {
      "text/html": [
       "<div>\n",
       "<style scoped>\n",
       "    .dataframe tbody tr th:only-of-type {\n",
       "        vertical-align: middle;\n",
       "    }\n",
       "\n",
       "    .dataframe tbody tr th {\n",
       "        vertical-align: top;\n",
       "    }\n",
       "\n",
       "    .dataframe thead th {\n",
       "        text-align: right;\n",
       "    }\n",
       "</style>\n",
       "<table border=\"1\" class=\"dataframe\">\n",
       "  <thead>\n",
       "    <tr style=\"text-align: right;\">\n",
       "      <th>item_id</th>\n",
       "      <th>1</th>\n",
       "      <th>2</th>\n",
       "      <th>3</th>\n",
       "      <th>4</th>\n",
       "      <th>5</th>\n",
       "      <th>6</th>\n",
       "      <th>7</th>\n",
       "      <th>8</th>\n",
       "      <th>9</th>\n",
       "      <th>10</th>\n",
       "      <th>11</th>\n",
       "      <th>12</th>\n",
       "      <th>13</th>\n",
       "      <th>14</th>\n",
       "      <th>15</th>\n",
       "      <th>16</th>\n",
       "      <th>17</th>\n",
       "      <th>18</th>\n",
       "      <th>19</th>\n",
       "      <th>20</th>\n",
       "      <th>21</th>\n",
       "      <th>22</th>\n",
       "      <th>23</th>\n",
       "      <th>24</th>\n",
       "      <th>25</th>\n",
       "      <th>26</th>\n",
       "      <th>27</th>\n",
       "      <th>28</th>\n",
       "      <th>29</th>\n",
       "      <th>30</th>\n",
       "      <th>31</th>\n",
       "      <th>32</th>\n",
       "      <th>33</th>\n",
       "      <th>34</th>\n",
       "      <th>35</th>\n",
       "      <th>36</th>\n",
       "      <th>37</th>\n",
       "      <th>38</th>\n",
       "      <th>39</th>\n",
       "      <th>40</th>\n",
       "      <th>...</th>\n",
       "      <th>1643</th>\n",
       "      <th>1644</th>\n",
       "      <th>1645</th>\n",
       "      <th>1646</th>\n",
       "      <th>1647</th>\n",
       "      <th>1648</th>\n",
       "      <th>1649</th>\n",
       "      <th>1650</th>\n",
       "      <th>1651</th>\n",
       "      <th>1652</th>\n",
       "      <th>1653</th>\n",
       "      <th>1654</th>\n",
       "      <th>1655</th>\n",
       "      <th>1656</th>\n",
       "      <th>1657</th>\n",
       "      <th>1658</th>\n",
       "      <th>1659</th>\n",
       "      <th>1660</th>\n",
       "      <th>1661</th>\n",
       "      <th>1662</th>\n",
       "      <th>1663</th>\n",
       "      <th>1664</th>\n",
       "      <th>1665</th>\n",
       "      <th>1666</th>\n",
       "      <th>1667</th>\n",
       "      <th>1668</th>\n",
       "      <th>1669</th>\n",
       "      <th>1670</th>\n",
       "      <th>1671</th>\n",
       "      <th>1672</th>\n",
       "      <th>1673</th>\n",
       "      <th>1674</th>\n",
       "      <th>1675</th>\n",
       "      <th>1676</th>\n",
       "      <th>1677</th>\n",
       "      <th>1678</th>\n",
       "      <th>1679</th>\n",
       "      <th>1680</th>\n",
       "      <th>1681</th>\n",
       "      <th>1682</th>\n",
       "    </tr>\n",
       "    <tr>\n",
       "      <th>user_id</th>\n",
       "      <th></th>\n",
       "      <th></th>\n",
       "      <th></th>\n",
       "      <th></th>\n",
       "      <th></th>\n",
       "      <th></th>\n",
       "      <th></th>\n",
       "      <th></th>\n",
       "      <th></th>\n",
       "      <th></th>\n",
       "      <th></th>\n",
       "      <th></th>\n",
       "      <th></th>\n",
       "      <th></th>\n",
       "      <th></th>\n",
       "      <th></th>\n",
       "      <th></th>\n",
       "      <th></th>\n",
       "      <th></th>\n",
       "      <th></th>\n",
       "      <th></th>\n",
       "      <th></th>\n",
       "      <th></th>\n",
       "      <th></th>\n",
       "      <th></th>\n",
       "      <th></th>\n",
       "      <th></th>\n",
       "      <th></th>\n",
       "      <th></th>\n",
       "      <th></th>\n",
       "      <th></th>\n",
       "      <th></th>\n",
       "      <th></th>\n",
       "      <th></th>\n",
       "      <th></th>\n",
       "      <th></th>\n",
       "      <th></th>\n",
       "      <th></th>\n",
       "      <th></th>\n",
       "      <th></th>\n",
       "      <th></th>\n",
       "      <th></th>\n",
       "      <th></th>\n",
       "      <th></th>\n",
       "      <th></th>\n",
       "      <th></th>\n",
       "      <th></th>\n",
       "      <th></th>\n",
       "      <th></th>\n",
       "      <th></th>\n",
       "      <th></th>\n",
       "      <th></th>\n",
       "      <th></th>\n",
       "      <th></th>\n",
       "      <th></th>\n",
       "      <th></th>\n",
       "      <th></th>\n",
       "      <th></th>\n",
       "      <th></th>\n",
       "      <th></th>\n",
       "      <th></th>\n",
       "      <th></th>\n",
       "      <th></th>\n",
       "      <th></th>\n",
       "      <th></th>\n",
       "      <th></th>\n",
       "      <th></th>\n",
       "      <th></th>\n",
       "      <th></th>\n",
       "      <th></th>\n",
       "      <th></th>\n",
       "      <th></th>\n",
       "      <th></th>\n",
       "      <th></th>\n",
       "      <th></th>\n",
       "      <th></th>\n",
       "      <th></th>\n",
       "      <th></th>\n",
       "      <th></th>\n",
       "      <th></th>\n",
       "      <th></th>\n",
       "    </tr>\n",
       "  </thead>\n",
       "  <tbody>\n",
       "    <tr>\n",
       "      <th>0</th>\n",
       "      <td>NaN</td>\n",
       "      <td>NaN</td>\n",
       "      <td>NaN</td>\n",
       "      <td>NaN</td>\n",
       "      <td>NaN</td>\n",
       "      <td>NaN</td>\n",
       "      <td>NaN</td>\n",
       "      <td>NaN</td>\n",
       "      <td>NaN</td>\n",
       "      <td>NaN</td>\n",
       "      <td>NaN</td>\n",
       "      <td>NaN</td>\n",
       "      <td>NaN</td>\n",
       "      <td>NaN</td>\n",
       "      <td>NaN</td>\n",
       "      <td>NaN</td>\n",
       "      <td>NaN</td>\n",
       "      <td>NaN</td>\n",
       "      <td>NaN</td>\n",
       "      <td>NaN</td>\n",
       "      <td>NaN</td>\n",
       "      <td>NaN</td>\n",
       "      <td>NaN</td>\n",
       "      <td>NaN</td>\n",
       "      <td>NaN</td>\n",
       "      <td>NaN</td>\n",
       "      <td>NaN</td>\n",
       "      <td>NaN</td>\n",
       "      <td>NaN</td>\n",
       "      <td>NaN</td>\n",
       "      <td>NaN</td>\n",
       "      <td>NaN</td>\n",
       "      <td>NaN</td>\n",
       "      <td>NaN</td>\n",
       "      <td>NaN</td>\n",
       "      <td>NaN</td>\n",
       "      <td>NaN</td>\n",
       "      <td>NaN</td>\n",
       "      <td>NaN</td>\n",
       "      <td>NaN</td>\n",
       "      <td>...</td>\n",
       "      <td>NaN</td>\n",
       "      <td>NaN</td>\n",
       "      <td>NaN</td>\n",
       "      <td>NaN</td>\n",
       "      <td>NaN</td>\n",
       "      <td>NaN</td>\n",
       "      <td>NaN</td>\n",
       "      <td>NaN</td>\n",
       "      <td>NaN</td>\n",
       "      <td>NaN</td>\n",
       "      <td>NaN</td>\n",
       "      <td>NaN</td>\n",
       "      <td>NaN</td>\n",
       "      <td>NaN</td>\n",
       "      <td>NaN</td>\n",
       "      <td>NaN</td>\n",
       "      <td>NaN</td>\n",
       "      <td>NaN</td>\n",
       "      <td>NaN</td>\n",
       "      <td>NaN</td>\n",
       "      <td>NaN</td>\n",
       "      <td>NaN</td>\n",
       "      <td>NaN</td>\n",
       "      <td>NaN</td>\n",
       "      <td>NaN</td>\n",
       "      <td>NaN</td>\n",
       "      <td>NaN</td>\n",
       "      <td>NaN</td>\n",
       "      <td>NaN</td>\n",
       "      <td>NaN</td>\n",
       "      <td>NaN</td>\n",
       "      <td>NaN</td>\n",
       "      <td>NaN</td>\n",
       "      <td>NaN</td>\n",
       "      <td>NaN</td>\n",
       "      <td>NaN</td>\n",
       "      <td>NaN</td>\n",
       "      <td>NaN</td>\n",
       "      <td>NaN</td>\n",
       "      <td>NaN</td>\n",
       "    </tr>\n",
       "    <tr>\n",
       "      <th>1</th>\n",
       "      <td>5.0</td>\n",
       "      <td>3.0</td>\n",
       "      <td>4.0</td>\n",
       "      <td>3.0</td>\n",
       "      <td>3.0</td>\n",
       "      <td>5.0</td>\n",
       "      <td>4.0</td>\n",
       "      <td>1.0</td>\n",
       "      <td>5.0</td>\n",
       "      <td>3.0</td>\n",
       "      <td>2.0</td>\n",
       "      <td>5.0</td>\n",
       "      <td>5.0</td>\n",
       "      <td>5.0</td>\n",
       "      <td>5.0</td>\n",
       "      <td>5.0</td>\n",
       "      <td>3.0</td>\n",
       "      <td>4.0</td>\n",
       "      <td>5.0</td>\n",
       "      <td>4.0</td>\n",
       "      <td>1.0</td>\n",
       "      <td>4.0</td>\n",
       "      <td>4.0</td>\n",
       "      <td>3.0</td>\n",
       "      <td>4.0</td>\n",
       "      <td>3.0</td>\n",
       "      <td>2.0</td>\n",
       "      <td>4.0</td>\n",
       "      <td>1.0</td>\n",
       "      <td>3.0</td>\n",
       "      <td>3.0</td>\n",
       "      <td>5.0</td>\n",
       "      <td>4.0</td>\n",
       "      <td>2.0</td>\n",
       "      <td>1.0</td>\n",
       "      <td>2.0</td>\n",
       "      <td>2.0</td>\n",
       "      <td>3.0</td>\n",
       "      <td>4.0</td>\n",
       "      <td>3.0</td>\n",
       "      <td>...</td>\n",
       "      <td>NaN</td>\n",
       "      <td>NaN</td>\n",
       "      <td>NaN</td>\n",
       "      <td>NaN</td>\n",
       "      <td>NaN</td>\n",
       "      <td>NaN</td>\n",
       "      <td>NaN</td>\n",
       "      <td>NaN</td>\n",
       "      <td>NaN</td>\n",
       "      <td>NaN</td>\n",
       "      <td>NaN</td>\n",
       "      <td>NaN</td>\n",
       "      <td>NaN</td>\n",
       "      <td>NaN</td>\n",
       "      <td>NaN</td>\n",
       "      <td>NaN</td>\n",
       "      <td>NaN</td>\n",
       "      <td>NaN</td>\n",
       "      <td>NaN</td>\n",
       "      <td>NaN</td>\n",
       "      <td>NaN</td>\n",
       "      <td>NaN</td>\n",
       "      <td>NaN</td>\n",
       "      <td>NaN</td>\n",
       "      <td>NaN</td>\n",
       "      <td>NaN</td>\n",
       "      <td>NaN</td>\n",
       "      <td>NaN</td>\n",
       "      <td>NaN</td>\n",
       "      <td>NaN</td>\n",
       "      <td>NaN</td>\n",
       "      <td>NaN</td>\n",
       "      <td>NaN</td>\n",
       "      <td>NaN</td>\n",
       "      <td>NaN</td>\n",
       "      <td>NaN</td>\n",
       "      <td>NaN</td>\n",
       "      <td>NaN</td>\n",
       "      <td>NaN</td>\n",
       "      <td>NaN</td>\n",
       "    </tr>\n",
       "    <tr>\n",
       "      <th>2</th>\n",
       "      <td>4.0</td>\n",
       "      <td>NaN</td>\n",
       "      <td>NaN</td>\n",
       "      <td>NaN</td>\n",
       "      <td>NaN</td>\n",
       "      <td>NaN</td>\n",
       "      <td>NaN</td>\n",
       "      <td>NaN</td>\n",
       "      <td>NaN</td>\n",
       "      <td>2.0</td>\n",
       "      <td>NaN</td>\n",
       "      <td>NaN</td>\n",
       "      <td>4.0</td>\n",
       "      <td>4.0</td>\n",
       "      <td>NaN</td>\n",
       "      <td>NaN</td>\n",
       "      <td>NaN</td>\n",
       "      <td>NaN</td>\n",
       "      <td>3.0</td>\n",
       "      <td>NaN</td>\n",
       "      <td>NaN</td>\n",
       "      <td>NaN</td>\n",
       "      <td>NaN</td>\n",
       "      <td>NaN</td>\n",
       "      <td>4.0</td>\n",
       "      <td>NaN</td>\n",
       "      <td>NaN</td>\n",
       "      <td>NaN</td>\n",
       "      <td>NaN</td>\n",
       "      <td>NaN</td>\n",
       "      <td>NaN</td>\n",
       "      <td>NaN</td>\n",
       "      <td>NaN</td>\n",
       "      <td>NaN</td>\n",
       "      <td>NaN</td>\n",
       "      <td>NaN</td>\n",
       "      <td>NaN</td>\n",
       "      <td>NaN</td>\n",
       "      <td>NaN</td>\n",
       "      <td>NaN</td>\n",
       "      <td>...</td>\n",
       "      <td>NaN</td>\n",
       "      <td>NaN</td>\n",
       "      <td>NaN</td>\n",
       "      <td>NaN</td>\n",
       "      <td>NaN</td>\n",
       "      <td>NaN</td>\n",
       "      <td>NaN</td>\n",
       "      <td>NaN</td>\n",
       "      <td>NaN</td>\n",
       "      <td>NaN</td>\n",
       "      <td>NaN</td>\n",
       "      <td>NaN</td>\n",
       "      <td>NaN</td>\n",
       "      <td>NaN</td>\n",
       "      <td>NaN</td>\n",
       "      <td>NaN</td>\n",
       "      <td>NaN</td>\n",
       "      <td>NaN</td>\n",
       "      <td>NaN</td>\n",
       "      <td>NaN</td>\n",
       "      <td>NaN</td>\n",
       "      <td>NaN</td>\n",
       "      <td>NaN</td>\n",
       "      <td>NaN</td>\n",
       "      <td>NaN</td>\n",
       "      <td>NaN</td>\n",
       "      <td>NaN</td>\n",
       "      <td>NaN</td>\n",
       "      <td>NaN</td>\n",
       "      <td>NaN</td>\n",
       "      <td>NaN</td>\n",
       "      <td>NaN</td>\n",
       "      <td>NaN</td>\n",
       "      <td>NaN</td>\n",
       "      <td>NaN</td>\n",
       "      <td>NaN</td>\n",
       "      <td>NaN</td>\n",
       "      <td>NaN</td>\n",
       "      <td>NaN</td>\n",
       "      <td>NaN</td>\n",
       "    </tr>\n",
       "    <tr>\n",
       "      <th>3</th>\n",
       "      <td>NaN</td>\n",
       "      <td>NaN</td>\n",
       "      <td>NaN</td>\n",
       "      <td>NaN</td>\n",
       "      <td>NaN</td>\n",
       "      <td>NaN</td>\n",
       "      <td>NaN</td>\n",
       "      <td>NaN</td>\n",
       "      <td>NaN</td>\n",
       "      <td>NaN</td>\n",
       "      <td>NaN</td>\n",
       "      <td>NaN</td>\n",
       "      <td>NaN</td>\n",
       "      <td>NaN</td>\n",
       "      <td>NaN</td>\n",
       "      <td>NaN</td>\n",
       "      <td>NaN</td>\n",
       "      <td>NaN</td>\n",
       "      <td>NaN</td>\n",
       "      <td>NaN</td>\n",
       "      <td>NaN</td>\n",
       "      <td>NaN</td>\n",
       "      <td>NaN</td>\n",
       "      <td>NaN</td>\n",
       "      <td>NaN</td>\n",
       "      <td>NaN</td>\n",
       "      <td>NaN</td>\n",
       "      <td>NaN</td>\n",
       "      <td>NaN</td>\n",
       "      <td>NaN</td>\n",
       "      <td>NaN</td>\n",
       "      <td>NaN</td>\n",
       "      <td>NaN</td>\n",
       "      <td>NaN</td>\n",
       "      <td>NaN</td>\n",
       "      <td>NaN</td>\n",
       "      <td>NaN</td>\n",
       "      <td>NaN</td>\n",
       "      <td>NaN</td>\n",
       "      <td>NaN</td>\n",
       "      <td>...</td>\n",
       "      <td>NaN</td>\n",
       "      <td>NaN</td>\n",
       "      <td>NaN</td>\n",
       "      <td>NaN</td>\n",
       "      <td>NaN</td>\n",
       "      <td>NaN</td>\n",
       "      <td>NaN</td>\n",
       "      <td>NaN</td>\n",
       "      <td>NaN</td>\n",
       "      <td>NaN</td>\n",
       "      <td>NaN</td>\n",
       "      <td>NaN</td>\n",
       "      <td>NaN</td>\n",
       "      <td>NaN</td>\n",
       "      <td>NaN</td>\n",
       "      <td>NaN</td>\n",
       "      <td>NaN</td>\n",
       "      <td>NaN</td>\n",
       "      <td>NaN</td>\n",
       "      <td>NaN</td>\n",
       "      <td>NaN</td>\n",
       "      <td>NaN</td>\n",
       "      <td>NaN</td>\n",
       "      <td>NaN</td>\n",
       "      <td>NaN</td>\n",
       "      <td>NaN</td>\n",
       "      <td>NaN</td>\n",
       "      <td>NaN</td>\n",
       "      <td>NaN</td>\n",
       "      <td>NaN</td>\n",
       "      <td>NaN</td>\n",
       "      <td>NaN</td>\n",
       "      <td>NaN</td>\n",
       "      <td>NaN</td>\n",
       "      <td>NaN</td>\n",
       "      <td>NaN</td>\n",
       "      <td>NaN</td>\n",
       "      <td>NaN</td>\n",
       "      <td>NaN</td>\n",
       "      <td>NaN</td>\n",
       "    </tr>\n",
       "    <tr>\n",
       "      <th>4</th>\n",
       "      <td>NaN</td>\n",
       "      <td>NaN</td>\n",
       "      <td>NaN</td>\n",
       "      <td>NaN</td>\n",
       "      <td>NaN</td>\n",
       "      <td>NaN</td>\n",
       "      <td>NaN</td>\n",
       "      <td>NaN</td>\n",
       "      <td>NaN</td>\n",
       "      <td>NaN</td>\n",
       "      <td>4.0</td>\n",
       "      <td>NaN</td>\n",
       "      <td>NaN</td>\n",
       "      <td>NaN</td>\n",
       "      <td>NaN</td>\n",
       "      <td>NaN</td>\n",
       "      <td>NaN</td>\n",
       "      <td>NaN</td>\n",
       "      <td>NaN</td>\n",
       "      <td>NaN</td>\n",
       "      <td>NaN</td>\n",
       "      <td>NaN</td>\n",
       "      <td>NaN</td>\n",
       "      <td>NaN</td>\n",
       "      <td>NaN</td>\n",
       "      <td>NaN</td>\n",
       "      <td>NaN</td>\n",
       "      <td>NaN</td>\n",
       "      <td>NaN</td>\n",
       "      <td>NaN</td>\n",
       "      <td>NaN</td>\n",
       "      <td>NaN</td>\n",
       "      <td>NaN</td>\n",
       "      <td>NaN</td>\n",
       "      <td>NaN</td>\n",
       "      <td>NaN</td>\n",
       "      <td>NaN</td>\n",
       "      <td>NaN</td>\n",
       "      <td>NaN</td>\n",
       "      <td>NaN</td>\n",
       "      <td>...</td>\n",
       "      <td>NaN</td>\n",
       "      <td>NaN</td>\n",
       "      <td>NaN</td>\n",
       "      <td>NaN</td>\n",
       "      <td>NaN</td>\n",
       "      <td>NaN</td>\n",
       "      <td>NaN</td>\n",
       "      <td>NaN</td>\n",
       "      <td>NaN</td>\n",
       "      <td>NaN</td>\n",
       "      <td>NaN</td>\n",
       "      <td>NaN</td>\n",
       "      <td>NaN</td>\n",
       "      <td>NaN</td>\n",
       "      <td>NaN</td>\n",
       "      <td>NaN</td>\n",
       "      <td>NaN</td>\n",
       "      <td>NaN</td>\n",
       "      <td>NaN</td>\n",
       "      <td>NaN</td>\n",
       "      <td>NaN</td>\n",
       "      <td>NaN</td>\n",
       "      <td>NaN</td>\n",
       "      <td>NaN</td>\n",
       "      <td>NaN</td>\n",
       "      <td>NaN</td>\n",
       "      <td>NaN</td>\n",
       "      <td>NaN</td>\n",
       "      <td>NaN</td>\n",
       "      <td>NaN</td>\n",
       "      <td>NaN</td>\n",
       "      <td>NaN</td>\n",
       "      <td>NaN</td>\n",
       "      <td>NaN</td>\n",
       "      <td>NaN</td>\n",
       "      <td>NaN</td>\n",
       "      <td>NaN</td>\n",
       "      <td>NaN</td>\n",
       "      <td>NaN</td>\n",
       "      <td>NaN</td>\n",
       "    </tr>\n",
       "  </tbody>\n",
       "</table>\n",
       "<p>5 rows × 1682 columns</p>\n",
       "</div>"
      ],
      "text/plain": [
       "item_id  1     2     3     4     5     6     ...  1677  1678  1679  1680  1681  1682\n",
       "user_id                                      ...                                    \n",
       "0         NaN   NaN   NaN   NaN   NaN   NaN  ...   NaN   NaN   NaN   NaN   NaN   NaN\n",
       "1         5.0   3.0   4.0   3.0   3.0   5.0  ...   NaN   NaN   NaN   NaN   NaN   NaN\n",
       "2         4.0   NaN   NaN   NaN   NaN   NaN  ...   NaN   NaN   NaN   NaN   NaN   NaN\n",
       "3         NaN   NaN   NaN   NaN   NaN   NaN  ...   NaN   NaN   NaN   NaN   NaN   NaN\n",
       "4         NaN   NaN   NaN   NaN   NaN   NaN  ...   NaN   NaN   NaN   NaN   NaN   NaN\n",
       "\n",
       "[5 rows x 1682 columns]"
      ]
     },
     "execution_count": 20,
     "metadata": {
      "tags": []
     },
     "output_type": "execute_result"
    }
   ],
   "source": [
    "df_matrix = pd.pivot_table(Merge_Movie_files1, values='rating', index='user_id', columns='item_id')\n",
    "df_matrix.head()"
   ]
  },
  {
   "cell_type": "code",
   "execution_count": 21,
   "metadata": {
    "colab": {
     "base_uri": "https://localhost:8080/"
    },
    "id": "q5DVpIPMMzQl",
    "outputId": "aefa978c-c6e9-466e-ca04-c80e1d156cca"
   },
   "outputs": [
    {
     "data": {
      "text/plain": [
       "(944, 1682)"
      ]
     },
     "execution_count": 21,
     "metadata": {
      "tags": []
     },
     "output_type": "execute_result"
    }
   ],
   "source": [
    "(df_matrix.shape)"
   ]
  },
  {
   "cell_type": "code",
   "execution_count": 22,
   "metadata": {
    "colab": {
     "base_uri": "https://localhost:8080/",
     "height": 299
    },
    "id": "WbSJ2v19M1pK",
    "outputId": "4f44d993-97f5-4b7a-90f4-25c1e2534693"
   },
   "outputs": [
    {
     "name": "stdout",
     "output_type": "stream",
     "text": [
      "(944, 1682)\n"
     ]
    },
    {
     "data": {
      "text/html": [
       "<div>\n",
       "<style scoped>\n",
       "    .dataframe tbody tr th:only-of-type {\n",
       "        vertical-align: middle;\n",
       "    }\n",
       "\n",
       "    .dataframe tbody tr th {\n",
       "        vertical-align: top;\n",
       "    }\n",
       "\n",
       "    .dataframe thead th {\n",
       "        text-align: right;\n",
       "    }\n",
       "</style>\n",
       "<table border=\"1\" class=\"dataframe\">\n",
       "  <thead>\n",
       "    <tr style=\"text-align: right;\">\n",
       "      <th>item_id</th>\n",
       "      <th>1</th>\n",
       "      <th>2</th>\n",
       "      <th>3</th>\n",
       "      <th>4</th>\n",
       "      <th>5</th>\n",
       "      <th>6</th>\n",
       "      <th>7</th>\n",
       "      <th>8</th>\n",
       "      <th>9</th>\n",
       "      <th>10</th>\n",
       "      <th>11</th>\n",
       "      <th>12</th>\n",
       "      <th>13</th>\n",
       "      <th>14</th>\n",
       "      <th>15</th>\n",
       "      <th>16</th>\n",
       "      <th>17</th>\n",
       "      <th>18</th>\n",
       "      <th>19</th>\n",
       "      <th>20</th>\n",
       "      <th>21</th>\n",
       "      <th>22</th>\n",
       "      <th>23</th>\n",
       "      <th>24</th>\n",
       "      <th>25</th>\n",
       "      <th>26</th>\n",
       "      <th>27</th>\n",
       "      <th>28</th>\n",
       "      <th>29</th>\n",
       "      <th>30</th>\n",
       "      <th>31</th>\n",
       "      <th>32</th>\n",
       "      <th>33</th>\n",
       "      <th>34</th>\n",
       "      <th>35</th>\n",
       "      <th>36</th>\n",
       "      <th>37</th>\n",
       "      <th>38</th>\n",
       "      <th>39</th>\n",
       "      <th>40</th>\n",
       "      <th>...</th>\n",
       "      <th>1643</th>\n",
       "      <th>1644</th>\n",
       "      <th>1645</th>\n",
       "      <th>1646</th>\n",
       "      <th>1647</th>\n",
       "      <th>1648</th>\n",
       "      <th>1649</th>\n",
       "      <th>1650</th>\n",
       "      <th>1651</th>\n",
       "      <th>1652</th>\n",
       "      <th>1653</th>\n",
       "      <th>1654</th>\n",
       "      <th>1655</th>\n",
       "      <th>1656</th>\n",
       "      <th>1657</th>\n",
       "      <th>1658</th>\n",
       "      <th>1659</th>\n",
       "      <th>1660</th>\n",
       "      <th>1661</th>\n",
       "      <th>1662</th>\n",
       "      <th>1663</th>\n",
       "      <th>1664</th>\n",
       "      <th>1665</th>\n",
       "      <th>1666</th>\n",
       "      <th>1667</th>\n",
       "      <th>1668</th>\n",
       "      <th>1669</th>\n",
       "      <th>1670</th>\n",
       "      <th>1671</th>\n",
       "      <th>1672</th>\n",
       "      <th>1673</th>\n",
       "      <th>1674</th>\n",
       "      <th>1675</th>\n",
       "      <th>1676</th>\n",
       "      <th>1677</th>\n",
       "      <th>1678</th>\n",
       "      <th>1679</th>\n",
       "      <th>1680</th>\n",
       "      <th>1681</th>\n",
       "      <th>1682</th>\n",
       "    </tr>\n",
       "    <tr>\n",
       "      <th>user_id</th>\n",
       "      <th></th>\n",
       "      <th></th>\n",
       "      <th></th>\n",
       "      <th></th>\n",
       "      <th></th>\n",
       "      <th></th>\n",
       "      <th></th>\n",
       "      <th></th>\n",
       "      <th></th>\n",
       "      <th></th>\n",
       "      <th></th>\n",
       "      <th></th>\n",
       "      <th></th>\n",
       "      <th></th>\n",
       "      <th></th>\n",
       "      <th></th>\n",
       "      <th></th>\n",
       "      <th></th>\n",
       "      <th></th>\n",
       "      <th></th>\n",
       "      <th></th>\n",
       "      <th></th>\n",
       "      <th></th>\n",
       "      <th></th>\n",
       "      <th></th>\n",
       "      <th></th>\n",
       "      <th></th>\n",
       "      <th></th>\n",
       "      <th></th>\n",
       "      <th></th>\n",
       "      <th></th>\n",
       "      <th></th>\n",
       "      <th></th>\n",
       "      <th></th>\n",
       "      <th></th>\n",
       "      <th></th>\n",
       "      <th></th>\n",
       "      <th></th>\n",
       "      <th></th>\n",
       "      <th></th>\n",
       "      <th></th>\n",
       "      <th></th>\n",
       "      <th></th>\n",
       "      <th></th>\n",
       "      <th></th>\n",
       "      <th></th>\n",
       "      <th></th>\n",
       "      <th></th>\n",
       "      <th></th>\n",
       "      <th></th>\n",
       "      <th></th>\n",
       "      <th></th>\n",
       "      <th></th>\n",
       "      <th></th>\n",
       "      <th></th>\n",
       "      <th></th>\n",
       "      <th></th>\n",
       "      <th></th>\n",
       "      <th></th>\n",
       "      <th></th>\n",
       "      <th></th>\n",
       "      <th></th>\n",
       "      <th></th>\n",
       "      <th></th>\n",
       "      <th></th>\n",
       "      <th></th>\n",
       "      <th></th>\n",
       "      <th></th>\n",
       "      <th></th>\n",
       "      <th></th>\n",
       "      <th></th>\n",
       "      <th></th>\n",
       "      <th></th>\n",
       "      <th></th>\n",
       "      <th></th>\n",
       "      <th></th>\n",
       "      <th></th>\n",
       "      <th></th>\n",
       "      <th></th>\n",
       "      <th></th>\n",
       "      <th></th>\n",
       "    </tr>\n",
       "  </thead>\n",
       "  <tbody>\n",
       "    <tr>\n",
       "      <th>0</th>\n",
       "      <td>NaN</td>\n",
       "      <td>NaN</td>\n",
       "      <td>NaN</td>\n",
       "      <td>NaN</td>\n",
       "      <td>NaN</td>\n",
       "      <td>NaN</td>\n",
       "      <td>NaN</td>\n",
       "      <td>NaN</td>\n",
       "      <td>NaN</td>\n",
       "      <td>NaN</td>\n",
       "      <td>NaN</td>\n",
       "      <td>NaN</td>\n",
       "      <td>NaN</td>\n",
       "      <td>NaN</td>\n",
       "      <td>NaN</td>\n",
       "      <td>NaN</td>\n",
       "      <td>NaN</td>\n",
       "      <td>NaN</td>\n",
       "      <td>NaN</td>\n",
       "      <td>NaN</td>\n",
       "      <td>NaN</td>\n",
       "      <td>NaN</td>\n",
       "      <td>NaN</td>\n",
       "      <td>NaN</td>\n",
       "      <td>NaN</td>\n",
       "      <td>NaN</td>\n",
       "      <td>NaN</td>\n",
       "      <td>NaN</td>\n",
       "      <td>NaN</td>\n",
       "      <td>NaN</td>\n",
       "      <td>NaN</td>\n",
       "      <td>NaN</td>\n",
       "      <td>NaN</td>\n",
       "      <td>NaN</td>\n",
       "      <td>NaN</td>\n",
       "      <td>NaN</td>\n",
       "      <td>NaN</td>\n",
       "      <td>NaN</td>\n",
       "      <td>NaN</td>\n",
       "      <td>NaN</td>\n",
       "      <td>...</td>\n",
       "      <td>NaN</td>\n",
       "      <td>NaN</td>\n",
       "      <td>NaN</td>\n",
       "      <td>NaN</td>\n",
       "      <td>NaN</td>\n",
       "      <td>NaN</td>\n",
       "      <td>NaN</td>\n",
       "      <td>NaN</td>\n",
       "      <td>NaN</td>\n",
       "      <td>NaN</td>\n",
       "      <td>NaN</td>\n",
       "      <td>NaN</td>\n",
       "      <td>NaN</td>\n",
       "      <td>NaN</td>\n",
       "      <td>NaN</td>\n",
       "      <td>NaN</td>\n",
       "      <td>NaN</td>\n",
       "      <td>NaN</td>\n",
       "      <td>NaN</td>\n",
       "      <td>NaN</td>\n",
       "      <td>NaN</td>\n",
       "      <td>NaN</td>\n",
       "      <td>NaN</td>\n",
       "      <td>NaN</td>\n",
       "      <td>NaN</td>\n",
       "      <td>NaN</td>\n",
       "      <td>NaN</td>\n",
       "      <td>NaN</td>\n",
       "      <td>NaN</td>\n",
       "      <td>NaN</td>\n",
       "      <td>NaN</td>\n",
       "      <td>NaN</td>\n",
       "      <td>NaN</td>\n",
       "      <td>NaN</td>\n",
       "      <td>NaN</td>\n",
       "      <td>NaN</td>\n",
       "      <td>NaN</td>\n",
       "      <td>NaN</td>\n",
       "      <td>NaN</td>\n",
       "      <td>NaN</td>\n",
       "    </tr>\n",
       "    <tr>\n",
       "      <th>1</th>\n",
       "      <td>1.00</td>\n",
       "      <td>0.5</td>\n",
       "      <td>0.75</td>\n",
       "      <td>0.5</td>\n",
       "      <td>0.5</td>\n",
       "      <td>1.0</td>\n",
       "      <td>0.75</td>\n",
       "      <td>0.0</td>\n",
       "      <td>1.0</td>\n",
       "      <td>0.50</td>\n",
       "      <td>0.25</td>\n",
       "      <td>1.0</td>\n",
       "      <td>1.00</td>\n",
       "      <td>1.00</td>\n",
       "      <td>1.0</td>\n",
       "      <td>1.0</td>\n",
       "      <td>0.5</td>\n",
       "      <td>0.75</td>\n",
       "      <td>1.0</td>\n",
       "      <td>0.75</td>\n",
       "      <td>0.0</td>\n",
       "      <td>0.75</td>\n",
       "      <td>0.666667</td>\n",
       "      <td>0.5</td>\n",
       "      <td>0.75</td>\n",
       "      <td>0.5</td>\n",
       "      <td>0.25</td>\n",
       "      <td>0.666667</td>\n",
       "      <td>0.0</td>\n",
       "      <td>0.5</td>\n",
       "      <td>0.5</td>\n",
       "      <td>1.0</td>\n",
       "      <td>0.75</td>\n",
       "      <td>0.25</td>\n",
       "      <td>0.0</td>\n",
       "      <td>0.333333</td>\n",
       "      <td>0.333333</td>\n",
       "      <td>0.5</td>\n",
       "      <td>0.75</td>\n",
       "      <td>0.5</td>\n",
       "      <td>...</td>\n",
       "      <td>NaN</td>\n",
       "      <td>NaN</td>\n",
       "      <td>NaN</td>\n",
       "      <td>NaN</td>\n",
       "      <td>NaN</td>\n",
       "      <td>NaN</td>\n",
       "      <td>NaN</td>\n",
       "      <td>NaN</td>\n",
       "      <td>NaN</td>\n",
       "      <td>NaN</td>\n",
       "      <td>NaN</td>\n",
       "      <td>NaN</td>\n",
       "      <td>NaN</td>\n",
       "      <td>NaN</td>\n",
       "      <td>NaN</td>\n",
       "      <td>NaN</td>\n",
       "      <td>NaN</td>\n",
       "      <td>NaN</td>\n",
       "      <td>NaN</td>\n",
       "      <td>NaN</td>\n",
       "      <td>NaN</td>\n",
       "      <td>NaN</td>\n",
       "      <td>NaN</td>\n",
       "      <td>NaN</td>\n",
       "      <td>NaN</td>\n",
       "      <td>NaN</td>\n",
       "      <td>NaN</td>\n",
       "      <td>NaN</td>\n",
       "      <td>NaN</td>\n",
       "      <td>NaN</td>\n",
       "      <td>NaN</td>\n",
       "      <td>NaN</td>\n",
       "      <td>NaN</td>\n",
       "      <td>NaN</td>\n",
       "      <td>NaN</td>\n",
       "      <td>NaN</td>\n",
       "      <td>NaN</td>\n",
       "      <td>NaN</td>\n",
       "      <td>NaN</td>\n",
       "      <td>NaN</td>\n",
       "    </tr>\n",
       "    <tr>\n",
       "      <th>2</th>\n",
       "      <td>0.75</td>\n",
       "      <td>NaN</td>\n",
       "      <td>NaN</td>\n",
       "      <td>NaN</td>\n",
       "      <td>NaN</td>\n",
       "      <td>NaN</td>\n",
       "      <td>NaN</td>\n",
       "      <td>NaN</td>\n",
       "      <td>NaN</td>\n",
       "      <td>0.25</td>\n",
       "      <td>NaN</td>\n",
       "      <td>NaN</td>\n",
       "      <td>0.75</td>\n",
       "      <td>0.75</td>\n",
       "      <td>NaN</td>\n",
       "      <td>NaN</td>\n",
       "      <td>NaN</td>\n",
       "      <td>NaN</td>\n",
       "      <td>0.5</td>\n",
       "      <td>NaN</td>\n",
       "      <td>NaN</td>\n",
       "      <td>NaN</td>\n",
       "      <td>NaN</td>\n",
       "      <td>NaN</td>\n",
       "      <td>0.75</td>\n",
       "      <td>NaN</td>\n",
       "      <td>NaN</td>\n",
       "      <td>NaN</td>\n",
       "      <td>NaN</td>\n",
       "      <td>NaN</td>\n",
       "      <td>NaN</td>\n",
       "      <td>NaN</td>\n",
       "      <td>NaN</td>\n",
       "      <td>NaN</td>\n",
       "      <td>NaN</td>\n",
       "      <td>NaN</td>\n",
       "      <td>NaN</td>\n",
       "      <td>NaN</td>\n",
       "      <td>NaN</td>\n",
       "      <td>NaN</td>\n",
       "      <td>...</td>\n",
       "      <td>NaN</td>\n",
       "      <td>NaN</td>\n",
       "      <td>NaN</td>\n",
       "      <td>NaN</td>\n",
       "      <td>NaN</td>\n",
       "      <td>NaN</td>\n",
       "      <td>NaN</td>\n",
       "      <td>NaN</td>\n",
       "      <td>NaN</td>\n",
       "      <td>NaN</td>\n",
       "      <td>NaN</td>\n",
       "      <td>NaN</td>\n",
       "      <td>NaN</td>\n",
       "      <td>NaN</td>\n",
       "      <td>NaN</td>\n",
       "      <td>NaN</td>\n",
       "      <td>NaN</td>\n",
       "      <td>NaN</td>\n",
       "      <td>NaN</td>\n",
       "      <td>NaN</td>\n",
       "      <td>NaN</td>\n",
       "      <td>NaN</td>\n",
       "      <td>NaN</td>\n",
       "      <td>NaN</td>\n",
       "      <td>NaN</td>\n",
       "      <td>NaN</td>\n",
       "      <td>NaN</td>\n",
       "      <td>NaN</td>\n",
       "      <td>NaN</td>\n",
       "      <td>NaN</td>\n",
       "      <td>NaN</td>\n",
       "      <td>NaN</td>\n",
       "      <td>NaN</td>\n",
       "      <td>NaN</td>\n",
       "      <td>NaN</td>\n",
       "      <td>NaN</td>\n",
       "      <td>NaN</td>\n",
       "      <td>NaN</td>\n",
       "      <td>NaN</td>\n",
       "      <td>NaN</td>\n",
       "    </tr>\n",
       "    <tr>\n",
       "      <th>3</th>\n",
       "      <td>NaN</td>\n",
       "      <td>NaN</td>\n",
       "      <td>NaN</td>\n",
       "      <td>NaN</td>\n",
       "      <td>NaN</td>\n",
       "      <td>NaN</td>\n",
       "      <td>NaN</td>\n",
       "      <td>NaN</td>\n",
       "      <td>NaN</td>\n",
       "      <td>NaN</td>\n",
       "      <td>NaN</td>\n",
       "      <td>NaN</td>\n",
       "      <td>NaN</td>\n",
       "      <td>NaN</td>\n",
       "      <td>NaN</td>\n",
       "      <td>NaN</td>\n",
       "      <td>NaN</td>\n",
       "      <td>NaN</td>\n",
       "      <td>NaN</td>\n",
       "      <td>NaN</td>\n",
       "      <td>NaN</td>\n",
       "      <td>NaN</td>\n",
       "      <td>NaN</td>\n",
       "      <td>NaN</td>\n",
       "      <td>NaN</td>\n",
       "      <td>NaN</td>\n",
       "      <td>NaN</td>\n",
       "      <td>NaN</td>\n",
       "      <td>NaN</td>\n",
       "      <td>NaN</td>\n",
       "      <td>NaN</td>\n",
       "      <td>NaN</td>\n",
       "      <td>NaN</td>\n",
       "      <td>NaN</td>\n",
       "      <td>NaN</td>\n",
       "      <td>NaN</td>\n",
       "      <td>NaN</td>\n",
       "      <td>NaN</td>\n",
       "      <td>NaN</td>\n",
       "      <td>NaN</td>\n",
       "      <td>...</td>\n",
       "      <td>NaN</td>\n",
       "      <td>NaN</td>\n",
       "      <td>NaN</td>\n",
       "      <td>NaN</td>\n",
       "      <td>NaN</td>\n",
       "      <td>NaN</td>\n",
       "      <td>NaN</td>\n",
       "      <td>NaN</td>\n",
       "      <td>NaN</td>\n",
       "      <td>NaN</td>\n",
       "      <td>NaN</td>\n",
       "      <td>NaN</td>\n",
       "      <td>NaN</td>\n",
       "      <td>NaN</td>\n",
       "      <td>NaN</td>\n",
       "      <td>NaN</td>\n",
       "      <td>NaN</td>\n",
       "      <td>NaN</td>\n",
       "      <td>NaN</td>\n",
       "      <td>NaN</td>\n",
       "      <td>NaN</td>\n",
       "      <td>NaN</td>\n",
       "      <td>NaN</td>\n",
       "      <td>NaN</td>\n",
       "      <td>NaN</td>\n",
       "      <td>NaN</td>\n",
       "      <td>NaN</td>\n",
       "      <td>NaN</td>\n",
       "      <td>NaN</td>\n",
       "      <td>NaN</td>\n",
       "      <td>NaN</td>\n",
       "      <td>NaN</td>\n",
       "      <td>NaN</td>\n",
       "      <td>NaN</td>\n",
       "      <td>NaN</td>\n",
       "      <td>NaN</td>\n",
       "      <td>NaN</td>\n",
       "      <td>NaN</td>\n",
       "      <td>NaN</td>\n",
       "      <td>NaN</td>\n",
       "    </tr>\n",
       "    <tr>\n",
       "      <th>4</th>\n",
       "      <td>NaN</td>\n",
       "      <td>NaN</td>\n",
       "      <td>NaN</td>\n",
       "      <td>NaN</td>\n",
       "      <td>NaN</td>\n",
       "      <td>NaN</td>\n",
       "      <td>NaN</td>\n",
       "      <td>NaN</td>\n",
       "      <td>NaN</td>\n",
       "      <td>NaN</td>\n",
       "      <td>0.75</td>\n",
       "      <td>NaN</td>\n",
       "      <td>NaN</td>\n",
       "      <td>NaN</td>\n",
       "      <td>NaN</td>\n",
       "      <td>NaN</td>\n",
       "      <td>NaN</td>\n",
       "      <td>NaN</td>\n",
       "      <td>NaN</td>\n",
       "      <td>NaN</td>\n",
       "      <td>NaN</td>\n",
       "      <td>NaN</td>\n",
       "      <td>NaN</td>\n",
       "      <td>NaN</td>\n",
       "      <td>NaN</td>\n",
       "      <td>NaN</td>\n",
       "      <td>NaN</td>\n",
       "      <td>NaN</td>\n",
       "      <td>NaN</td>\n",
       "      <td>NaN</td>\n",
       "      <td>NaN</td>\n",
       "      <td>NaN</td>\n",
       "      <td>NaN</td>\n",
       "      <td>NaN</td>\n",
       "      <td>NaN</td>\n",
       "      <td>NaN</td>\n",
       "      <td>NaN</td>\n",
       "      <td>NaN</td>\n",
       "      <td>NaN</td>\n",
       "      <td>NaN</td>\n",
       "      <td>...</td>\n",
       "      <td>NaN</td>\n",
       "      <td>NaN</td>\n",
       "      <td>NaN</td>\n",
       "      <td>NaN</td>\n",
       "      <td>NaN</td>\n",
       "      <td>NaN</td>\n",
       "      <td>NaN</td>\n",
       "      <td>NaN</td>\n",
       "      <td>NaN</td>\n",
       "      <td>NaN</td>\n",
       "      <td>NaN</td>\n",
       "      <td>NaN</td>\n",
       "      <td>NaN</td>\n",
       "      <td>NaN</td>\n",
       "      <td>NaN</td>\n",
       "      <td>NaN</td>\n",
       "      <td>NaN</td>\n",
       "      <td>NaN</td>\n",
       "      <td>NaN</td>\n",
       "      <td>NaN</td>\n",
       "      <td>NaN</td>\n",
       "      <td>NaN</td>\n",
       "      <td>NaN</td>\n",
       "      <td>NaN</td>\n",
       "      <td>NaN</td>\n",
       "      <td>NaN</td>\n",
       "      <td>NaN</td>\n",
       "      <td>NaN</td>\n",
       "      <td>NaN</td>\n",
       "      <td>NaN</td>\n",
       "      <td>NaN</td>\n",
       "      <td>NaN</td>\n",
       "      <td>NaN</td>\n",
       "      <td>NaN</td>\n",
       "      <td>NaN</td>\n",
       "      <td>NaN</td>\n",
       "      <td>NaN</td>\n",
       "      <td>NaN</td>\n",
       "      <td>NaN</td>\n",
       "      <td>NaN</td>\n",
       "    </tr>\n",
       "  </tbody>\n",
       "</table>\n",
       "<p>5 rows × 1682 columns</p>\n",
       "</div>"
      ],
      "text/plain": [
       "item_id  1     2     3     4     5     6     ...  1677  1678  1679  1680  1681  1682\n",
       "user_id                                      ...                                    \n",
       "0         NaN   NaN   NaN   NaN   NaN   NaN  ...   NaN   NaN   NaN   NaN   NaN   NaN\n",
       "1        1.00   0.5  0.75   0.5   0.5   1.0  ...   NaN   NaN   NaN   NaN   NaN   NaN\n",
       "2        0.75   NaN   NaN   NaN   NaN   NaN  ...   NaN   NaN   NaN   NaN   NaN   NaN\n",
       "3         NaN   NaN   NaN   NaN   NaN   NaN  ...   NaN   NaN   NaN   NaN   NaN   NaN\n",
       "4         NaN   NaN   NaN   NaN   NaN   NaN  ...   NaN   NaN   NaN   NaN   NaN   NaN\n",
       "\n",
       "[5 rows x 1682 columns]"
      ]
     },
     "execution_count": 22,
     "metadata": {
      "tags": []
     },
     "output_type": "execute_result"
    }
   ],
   "source": [
    "df_matrix_norm = (df_matrix-df_matrix.min())/(df_matrix.max()-df_matrix.min())\n",
    "print(df_matrix_norm.shape)\n",
    "df_matrix_norm.head()"
   ]
  },
  {
   "cell_type": "code",
   "execution_count": 23,
   "metadata": {
    "colab": {
     "base_uri": "https://localhost:8080/",
     "height": 219
    },
    "id": "fIFcKVgDL7Pr",
    "outputId": "b612db6a-bd5b-425d-e7ed-2504a7049524"
   },
   "outputs": [
    {
     "name": "stdout",
     "output_type": "stream",
     "text": [
      "(99793, 3)\n"
     ]
    },
    {
     "data": {
      "text/html": [
       "<div>\n",
       "<style scoped>\n",
       "    .dataframe tbody tr th:only-of-type {\n",
       "        vertical-align: middle;\n",
       "    }\n",
       "\n",
       "    .dataframe tbody tr th {\n",
       "        vertical-align: top;\n",
       "    }\n",
       "\n",
       "    .dataframe thead th {\n",
       "        text-align: right;\n",
       "    }\n",
       "</style>\n",
       "<table border=\"1\" class=\"dataframe\">\n",
       "  <thead>\n",
       "    <tr style=\"text-align: right;\">\n",
       "      <th></th>\n",
       "      <th>user_id</th>\n",
       "      <th>item_id</th>\n",
       "      <th>scaled_rating_freq</th>\n",
       "    </tr>\n",
       "  </thead>\n",
       "  <tbody>\n",
       "    <tr>\n",
       "      <th>1</th>\n",
       "      <td>1</td>\n",
       "      <td>1</td>\n",
       "      <td>1.00</td>\n",
       "    </tr>\n",
       "    <tr>\n",
       "      <th>2</th>\n",
       "      <td>2</td>\n",
       "      <td>1</td>\n",
       "      <td>0.75</td>\n",
       "    </tr>\n",
       "    <tr>\n",
       "      <th>5</th>\n",
       "      <td>5</td>\n",
       "      <td>1</td>\n",
       "      <td>0.75</td>\n",
       "    </tr>\n",
       "    <tr>\n",
       "      <th>6</th>\n",
       "      <td>6</td>\n",
       "      <td>1</td>\n",
       "      <td>0.75</td>\n",
       "    </tr>\n",
       "    <tr>\n",
       "      <th>10</th>\n",
       "      <td>10</td>\n",
       "      <td>1</td>\n",
       "      <td>0.75</td>\n",
       "    </tr>\n",
       "  </tbody>\n",
       "</table>\n",
       "</div>"
      ],
      "text/plain": [
       "    user_id item_id  scaled_rating_freq\n",
       "1         1       1                1.00\n",
       "2         2       1                0.75\n",
       "5         5       1                0.75\n",
       "6         6       1                0.75\n",
       "10       10       1                0.75"
      ]
     },
     "execution_count": 23,
     "metadata": {
      "tags": []
     },
     "output_type": "execute_result"
    }
   ],
   "source": [
    "# create a table for input to the modeling\n",
    "\n",
    "d = df_matrix_norm.reset_index()\n",
    "d.index.names = ['scaled_rating_freq']\n",
    "data_norm = pd.melt(d, id_vars=['user_id'], value_name='scaled_rating_freq').dropna()\n",
    "print(data_norm.shape)\n",
    "data_norm.head()"
   ]
  },
  {
   "cell_type": "markdown",
   "metadata": {
    "id": "oIV61WLYH37r"
   },
   "source": []
  },
  {
   "cell_type": "code",
   "execution_count": 24,
   "metadata": {
    "id": "rAkheKOvhazI"
   },
   "outputs": [],
   "source": [
    "# define a function for spliting data\n",
    "\n",
    "def split_data(data):\n",
    "    \n",
    "    train, test = train_test_split(data, test_size = .2)\n",
    "    train_data = tc.SFrame(train)\n",
    "    test_data = tc.SFrame(test)\n",
    "    return train_data, test_data"
   ]
  },
  {
   "cell_type": "code",
   "execution_count": 25,
   "metadata": {
    "id": "v2BTQ3IhP8IO"
   },
   "outputs": [],
   "source": [
    "# lets try with normal, dummy table and scaled/normalized rating table\n",
    "train_data_split, test_data_split = split_data(Merge_Movie_files1)\n",
    "#print(train_data_split)\n",
    "train_data_dummy, test_data_dummy = split_data(data_dummy)\n",
    "#print(train_data_dummy)\n",
    "#print(test_data_dummy)\n",
    "train_data_norm, test_data_norm = split_data(data_norm)\n",
    "#print(train_data_norm)"
   ]
  },
  {
   "cell_type": "code",
   "execution_count": 26,
   "metadata": {
    "id": "lJKiNxkpRaBB"
   },
   "outputs": [],
   "source": [
    "#Baseline Model\n",
    "  # Using a Popularity ( # of rating) model as a baseline\n",
    "# variables to define field names\n",
    "user_id = 'user_id'\n",
    "item_id = 'item_id'\n",
    "target = 'rating'\n",
    "users_to_recommend = list(Merge_Movie_files1[user_id])\n",
    "n_rec = 10 # number of items to recommend\n",
    "n_display = 20"
   ]
  },
  {
   "cell_type": "code",
   "execution_count": 27,
   "metadata": {
    "colab": {
     "base_uri": "https://localhost:8080/",
     "height": 121
    },
    "id": "myJwyP-dSBre",
    "outputId": "ef91aafa-be08-44aa-ab6f-5989028e71c5"
   },
   "outputs": [
    {
     "data": {
      "text/html": [
       "<pre>Warning: Ignoring columns timestamp, title, Rating_mean, num of ratings;</pre>"
      ],
      "text/plain": [
       "Warning: Ignoring columns timestamp, title, Rating_mean, num of ratings;"
      ]
     },
     "metadata": {
      "tags": []
     },
     "output_type": "display_data"
    },
    {
     "data": {
      "text/html": [
       "<pre>    To use these columns in scoring predictions, use a model that allows the use of additional features.</pre>"
      ],
      "text/plain": [
       "    To use these columns in scoring predictions, use a model that allows the use of additional features."
      ]
     },
     "metadata": {
      "tags": []
     },
     "output_type": "display_data"
    },
    {
     "data": {
      "text/html": [
       "<pre>Preparing data set.</pre>"
      ],
      "text/plain": [
       "Preparing data set."
      ]
     },
     "metadata": {
      "tags": []
     },
     "output_type": "display_data"
    },
    {
     "data": {
      "text/html": [
       "<pre>    Data has 80002 observations with 944 users and 1654 items.</pre>"
      ],
      "text/plain": [
       "    Data has 80002 observations with 944 users and 1654 items."
      ]
     },
     "metadata": {
      "tags": []
     },
     "output_type": "display_data"
    },
    {
     "data": {
      "text/html": [
       "<pre>    Data prepared in: 0.093978s</pre>"
      ],
      "text/plain": [
       "    Data prepared in: 0.093978s"
      ]
     },
     "metadata": {
      "tags": []
     },
     "output_type": "display_data"
    },
    {
     "data": {
      "text/html": [
       "<pre>80002 observations to process; with 1654 unique items.</pre>"
      ],
      "text/plain": [
       "80002 observations to process; with 1654 unique items."
      ]
     },
     "metadata": {
      "tags": []
     },
     "output_type": "display_data"
    }
   ],
   "source": [
    "popularity_model = tc.popularity_recommender.create(train_data_split, \n",
    "                                                    user_id=user_id, \n",
    "                                                    item_id=item_id, \n",
    "                                                    target=target)"
   ]
  },
  {
   "cell_type": "code",
   "execution_count": 28,
   "metadata": {
    "colab": {
     "base_uri": "https://localhost:8080/",
     "height": 1000
    },
    "id": "OHQN36cXT1at",
    "outputId": "836dc5f2-48e8-44cf-a4fc-ed6c112958b3"
   },
   "outputs": [
    {
     "data": {
      "text/html": [
       "<pre>recommendations finished on 1000/100003 queries. users per second: 42753.3</pre>"
      ],
      "text/plain": [
       "recommendations finished on 1000/100003 queries. users per second: 42753.3"
      ]
     },
     "metadata": {
      "tags": []
     },
     "output_type": "display_data"
    },
    {
     "data": {
      "text/html": [
       "<pre>recommendations finished on 2000/100003 queries. users per second: 41062.7</pre>"
      ],
      "text/plain": [
       "recommendations finished on 2000/100003 queries. users per second: 41062.7"
      ]
     },
     "metadata": {
      "tags": []
     },
     "output_type": "display_data"
    },
    {
     "data": {
      "text/html": [
       "<pre>recommendations finished on 3000/100003 queries. users per second: 41233.1</pre>"
      ],
      "text/plain": [
       "recommendations finished on 3000/100003 queries. users per second: 41233.1"
      ]
     },
     "metadata": {
      "tags": []
     },
     "output_type": "display_data"
    },
    {
     "data": {
      "text/html": [
       "<pre>recommendations finished on 4000/100003 queries. users per second: 41269</pre>"
      ],
      "text/plain": [
       "recommendations finished on 4000/100003 queries. users per second: 41269"
      ]
     },
     "metadata": {
      "tags": []
     },
     "output_type": "display_data"
    },
    {
     "data": {
      "text/html": [
       "<pre>recommendations finished on 5000/100003 queries. users per second: 41286.1</pre>"
      ],
      "text/plain": [
       "recommendations finished on 5000/100003 queries. users per second: 41286.1"
      ]
     },
     "metadata": {
      "tags": []
     },
     "output_type": "display_data"
    },
    {
     "data": {
      "text/html": [
       "<pre>recommendations finished on 6000/100003 queries. users per second: 41098.4</pre>"
      ],
      "text/plain": [
       "recommendations finished on 6000/100003 queries. users per second: 41098.4"
      ]
     },
     "metadata": {
      "tags": []
     },
     "output_type": "display_data"
    },
    {
     "data": {
      "text/html": [
       "<pre>recommendations finished on 7000/100003 queries. users per second: 40725.4</pre>"
      ],
      "text/plain": [
       "recommendations finished on 7000/100003 queries. users per second: 40725.4"
      ]
     },
     "metadata": {
      "tags": []
     },
     "output_type": "display_data"
    },
    {
     "data": {
      "text/html": [
       "<pre>recommendations finished on 8000/100003 queries. users per second: 40398.9</pre>"
      ],
      "text/plain": [
       "recommendations finished on 8000/100003 queries. users per second: 40398.9"
      ]
     },
     "metadata": {
      "tags": []
     },
     "output_type": "display_data"
    },
    {
     "data": {
      "text/html": [
       "<pre>recommendations finished on 9000/100003 queries. users per second: 40608.2</pre>"
      ],
      "text/plain": [
       "recommendations finished on 9000/100003 queries. users per second: 40608.2"
      ]
     },
     "metadata": {
      "tags": []
     },
     "output_type": "display_data"
    },
    {
     "data": {
      "text/html": [
       "<pre>recommendations finished on 10000/100003 queries. users per second: 40344.4</pre>"
      ],
      "text/plain": [
       "recommendations finished on 10000/100003 queries. users per second: 40344.4"
      ]
     },
     "metadata": {
      "tags": []
     },
     "output_type": "display_data"
    },
    {
     "data": {
      "text/html": [
       "<pre>recommendations finished on 11000/100003 queries. users per second: 40171.3</pre>"
      ],
      "text/plain": [
       "recommendations finished on 11000/100003 queries. users per second: 40171.3"
      ]
     },
     "metadata": {
      "tags": []
     },
     "output_type": "display_data"
    },
    {
     "data": {
      "text/html": [
       "<pre>recommendations finished on 12000/100003 queries. users per second: 40315.9</pre>"
      ],
      "text/plain": [
       "recommendations finished on 12000/100003 queries. users per second: 40315.9"
      ]
     },
     "metadata": {
      "tags": []
     },
     "output_type": "display_data"
    },
    {
     "data": {
      "text/html": [
       "<pre>recommendations finished on 13000/100003 queries. users per second: 40255.2</pre>"
      ],
      "text/plain": [
       "recommendations finished on 13000/100003 queries. users per second: 40255.2"
      ]
     },
     "metadata": {
      "tags": []
     },
     "output_type": "display_data"
    },
    {
     "data": {
      "text/html": [
       "<pre>recommendations finished on 14000/100003 queries. users per second: 40400</pre>"
      ],
      "text/plain": [
       "recommendations finished on 14000/100003 queries. users per second: 40400"
      ]
     },
     "metadata": {
      "tags": []
     },
     "output_type": "display_data"
    },
    {
     "data": {
      "text/html": [
       "<pre>recommendations finished on 15000/100003 queries. users per second: 40334.4</pre>"
      ],
      "text/plain": [
       "recommendations finished on 15000/100003 queries. users per second: 40334.4"
      ]
     },
     "metadata": {
      "tags": []
     },
     "output_type": "display_data"
    },
    {
     "data": {
      "text/html": [
       "<pre>recommendations finished on 16000/100003 queries. users per second: 40289.1</pre>"
      ],
      "text/plain": [
       "recommendations finished on 16000/100003 queries. users per second: 40289.1"
      ]
     },
     "metadata": {
      "tags": []
     },
     "output_type": "display_data"
    },
    {
     "data": {
      "text/html": [
       "<pre>recommendations finished on 17000/100003 queries. users per second: 40279.6</pre>"
      ],
      "text/plain": [
       "recommendations finished on 17000/100003 queries. users per second: 40279.6"
      ]
     },
     "metadata": {
      "tags": []
     },
     "output_type": "display_data"
    },
    {
     "data": {
      "text/html": [
       "<pre>recommendations finished on 18000/100003 queries. users per second: 40401.3</pre>"
      ],
      "text/plain": [
       "recommendations finished on 18000/100003 queries. users per second: 40401.3"
      ]
     },
     "metadata": {
      "tags": []
     },
     "output_type": "display_data"
    },
    {
     "data": {
      "text/html": [
       "<pre>recommendations finished on 19000/100003 queries. users per second: 40494.4</pre>"
      ],
      "text/plain": [
       "recommendations finished on 19000/100003 queries. users per second: 40494.4"
      ]
     },
     "metadata": {
      "tags": []
     },
     "output_type": "display_data"
    },
    {
     "data": {
      "text/html": [
       "<pre>recommendations finished on 20000/100003 queries. users per second: 40536.5</pre>"
      ],
      "text/plain": [
       "recommendations finished on 20000/100003 queries. users per second: 40536.5"
      ]
     },
     "metadata": {
      "tags": []
     },
     "output_type": "display_data"
    },
    {
     "data": {
      "text/html": [
       "<pre>recommendations finished on 21000/100003 queries. users per second: 40499.3</pre>"
      ],
      "text/plain": [
       "recommendations finished on 21000/100003 queries. users per second: 40499.3"
      ]
     },
     "metadata": {
      "tags": []
     },
     "output_type": "display_data"
    },
    {
     "data": {
      "text/html": [
       "<pre>recommendations finished on 22000/100003 queries. users per second: 40545.4</pre>"
      ],
      "text/plain": [
       "recommendations finished on 22000/100003 queries. users per second: 40545.4"
      ]
     },
     "metadata": {
      "tags": []
     },
     "output_type": "display_data"
    },
    {
     "data": {
      "text/html": [
       "<pre>recommendations finished on 23000/100003 queries. users per second: 40578</pre>"
      ],
      "text/plain": [
       "recommendations finished on 23000/100003 queries. users per second: 40578"
      ]
     },
     "metadata": {
      "tags": []
     },
     "output_type": "display_data"
    },
    {
     "data": {
      "text/html": [
       "<pre>recommendations finished on 24000/100003 queries. users per second: 39564</pre>"
      ],
      "text/plain": [
       "recommendations finished on 24000/100003 queries. users per second: 39564"
      ]
     },
     "metadata": {
      "tags": []
     },
     "output_type": "display_data"
    },
    {
     "data": {
      "text/html": [
       "<pre>recommendations finished on 25000/100003 queries. users per second: 39394.1</pre>"
      ],
      "text/plain": [
       "recommendations finished on 25000/100003 queries. users per second: 39394.1"
      ]
     },
     "metadata": {
      "tags": []
     },
     "output_type": "display_data"
    },
    {
     "data": {
      "text/html": [
       "<pre>recommendations finished on 26000/100003 queries. users per second: 39210.5</pre>"
      ],
      "text/plain": [
       "recommendations finished on 26000/100003 queries. users per second: 39210.5"
      ]
     },
     "metadata": {
      "tags": []
     },
     "output_type": "display_data"
    },
    {
     "data": {
      "text/html": [
       "<pre>recommendations finished on 27000/100003 queries. users per second: 39054.3</pre>"
      ],
      "text/plain": [
       "recommendations finished on 27000/100003 queries. users per second: 39054.3"
      ]
     },
     "metadata": {
      "tags": []
     },
     "output_type": "display_data"
    },
    {
     "data": {
      "text/html": [
       "<pre>recommendations finished on 28000/100003 queries. users per second: 39153.7</pre>"
      ],
      "text/plain": [
       "recommendations finished on 28000/100003 queries. users per second: 39153.7"
      ]
     },
     "metadata": {
      "tags": []
     },
     "output_type": "display_data"
    },
    {
     "data": {
      "text/html": [
       "<pre>recommendations finished on 29000/100003 queries. users per second: 39131.9</pre>"
      ],
      "text/plain": [
       "recommendations finished on 29000/100003 queries. users per second: 39131.9"
      ]
     },
     "metadata": {
      "tags": []
     },
     "output_type": "display_data"
    },
    {
     "data": {
      "text/html": [
       "<pre>recommendations finished on 30000/100003 queries. users per second: 39202.3</pre>"
      ],
      "text/plain": [
       "recommendations finished on 30000/100003 queries. users per second: 39202.3"
      ]
     },
     "metadata": {
      "tags": []
     },
     "output_type": "display_data"
    },
    {
     "data": {
      "text/html": [
       "<pre>recommendations finished on 31000/100003 queries. users per second: 39337.7</pre>"
      ],
      "text/plain": [
       "recommendations finished on 31000/100003 queries. users per second: 39337.7"
      ]
     },
     "metadata": {
      "tags": []
     },
     "output_type": "display_data"
    },
    {
     "data": {
      "text/html": [
       "<pre>recommendations finished on 32000/100003 queries. users per second: 39242.9</pre>"
      ],
      "text/plain": [
       "recommendations finished on 32000/100003 queries. users per second: 39242.9"
      ]
     },
     "metadata": {
      "tags": []
     },
     "output_type": "display_data"
    },
    {
     "data": {
      "text/html": [
       "<pre>recommendations finished on 33000/100003 queries. users per second: 39278.7</pre>"
      ],
      "text/plain": [
       "recommendations finished on 33000/100003 queries. users per second: 39278.7"
      ]
     },
     "metadata": {
      "tags": []
     },
     "output_type": "display_data"
    },
    {
     "data": {
      "text/html": [
       "<pre>recommendations finished on 34000/100003 queries. users per second: 39293</pre>"
      ],
      "text/plain": [
       "recommendations finished on 34000/100003 queries. users per second: 39293"
      ]
     },
     "metadata": {
      "tags": []
     },
     "output_type": "display_data"
    },
    {
     "data": {
      "text/html": [
       "<pre>recommendations finished on 35000/100003 queries. users per second: 38907</pre>"
      ],
      "text/plain": [
       "recommendations finished on 35000/100003 queries. users per second: 38907"
      ]
     },
     "metadata": {
      "tags": []
     },
     "output_type": "display_data"
    },
    {
     "data": {
      "text/html": [
       "<pre>recommendations finished on 36000/100003 queries. users per second: 38940.9</pre>"
      ],
      "text/plain": [
       "recommendations finished on 36000/100003 queries. users per second: 38940.9"
      ]
     },
     "metadata": {
      "tags": []
     },
     "output_type": "display_data"
    },
    {
     "data": {
      "text/html": [
       "<pre>recommendations finished on 37000/100003 queries. users per second: 38937.2</pre>"
      ],
      "text/plain": [
       "recommendations finished on 37000/100003 queries. users per second: 38937.2"
      ]
     },
     "metadata": {
      "tags": []
     },
     "output_type": "display_data"
    },
    {
     "data": {
      "text/html": [
       "<pre>recommendations finished on 38000/100003 queries. users per second: 38962.9</pre>"
      ],
      "text/plain": [
       "recommendations finished on 38000/100003 queries. users per second: 38962.9"
      ]
     },
     "metadata": {
      "tags": []
     },
     "output_type": "display_data"
    },
    {
     "data": {
      "text/html": [
       "<pre>recommendations finished on 39000/100003 queries. users per second: 39007.5</pre>"
      ],
      "text/plain": [
       "recommendations finished on 39000/100003 queries. users per second: 39007.5"
      ]
     },
     "metadata": {
      "tags": []
     },
     "output_type": "display_data"
    },
    {
     "data": {
      "text/html": [
       "<pre>recommendations finished on 40000/100003 queries. users per second: 39011</pre>"
      ],
      "text/plain": [
       "recommendations finished on 40000/100003 queries. users per second: 39011"
      ]
     },
     "metadata": {
      "tags": []
     },
     "output_type": "display_data"
    },
    {
     "data": {
      "text/html": [
       "<pre>recommendations finished on 41000/100003 queries. users per second: 39018.3</pre>"
      ],
      "text/plain": [
       "recommendations finished on 41000/100003 queries. users per second: 39018.3"
      ]
     },
     "metadata": {
      "tags": []
     },
     "output_type": "display_data"
    },
    {
     "data": {
      "text/html": [
       "<pre>recommendations finished on 42000/100003 queries. users per second: 39036.3</pre>"
      ],
      "text/plain": [
       "recommendations finished on 42000/100003 queries. users per second: 39036.3"
      ]
     },
     "metadata": {
      "tags": []
     },
     "output_type": "display_data"
    },
    {
     "data": {
      "text/html": [
       "<pre>recommendations finished on 43000/100003 queries. users per second: 39131</pre>"
      ],
      "text/plain": [
       "recommendations finished on 43000/100003 queries. users per second: 39131"
      ]
     },
     "metadata": {
      "tags": []
     },
     "output_type": "display_data"
    },
    {
     "data": {
      "text/html": [
       "<pre>recommendations finished on 44000/100003 queries. users per second: 39101.8</pre>"
      ],
      "text/plain": [
       "recommendations finished on 44000/100003 queries. users per second: 39101.8"
      ]
     },
     "metadata": {
      "tags": []
     },
     "output_type": "display_data"
    },
    {
     "data": {
      "text/html": [
       "<pre>recommendations finished on 45000/100003 queries. users per second: 39134.2</pre>"
      ],
      "text/plain": [
       "recommendations finished on 45000/100003 queries. users per second: 39134.2"
      ]
     },
     "metadata": {
      "tags": []
     },
     "output_type": "display_data"
    },
    {
     "data": {
      "text/html": [
       "<pre>recommendations finished on 46000/100003 queries. users per second: 39052.1</pre>"
      ],
      "text/plain": [
       "recommendations finished on 46000/100003 queries. users per second: 39052.1"
      ]
     },
     "metadata": {
      "tags": []
     },
     "output_type": "display_data"
    },
    {
     "data": {
      "text/html": [
       "<pre>recommendations finished on 47000/100003 queries. users per second: 39131.8</pre>"
      ],
      "text/plain": [
       "recommendations finished on 47000/100003 queries. users per second: 39131.8"
      ]
     },
     "metadata": {
      "tags": []
     },
     "output_type": "display_data"
    },
    {
     "data": {
      "text/html": [
       "<pre>recommendations finished on 48000/100003 queries. users per second: 39202.4</pre>"
      ],
      "text/plain": [
       "recommendations finished on 48000/100003 queries. users per second: 39202.4"
      ]
     },
     "metadata": {
      "tags": []
     },
     "output_type": "display_data"
    },
    {
     "data": {
      "text/html": [
       "<pre>recommendations finished on 49000/100003 queries. users per second: 39213.1</pre>"
      ],
      "text/plain": [
       "recommendations finished on 49000/100003 queries. users per second: 39213.1"
      ]
     },
     "metadata": {
      "tags": []
     },
     "output_type": "display_data"
    },
    {
     "data": {
      "text/html": [
       "<pre>recommendations finished on 50000/100003 queries. users per second: 39258.8</pre>"
      ],
      "text/plain": [
       "recommendations finished on 50000/100003 queries. users per second: 39258.8"
      ]
     },
     "metadata": {
      "tags": []
     },
     "output_type": "display_data"
    },
    {
     "data": {
      "text/html": [
       "<pre>recommendations finished on 51000/100003 queries. users per second: 39198.8</pre>"
      ],
      "text/plain": [
       "recommendations finished on 51000/100003 queries. users per second: 39198.8"
      ]
     },
     "metadata": {
      "tags": []
     },
     "output_type": "display_data"
    },
    {
     "data": {
      "text/html": [
       "<pre>recommendations finished on 52000/100003 queries. users per second: 39095</pre>"
      ],
      "text/plain": [
       "recommendations finished on 52000/100003 queries. users per second: 39095"
      ]
     },
     "metadata": {
      "tags": []
     },
     "output_type": "display_data"
    },
    {
     "data": {
      "text/html": [
       "<pre>recommendations finished on 53000/100003 queries. users per second: 38997.4</pre>"
      ],
      "text/plain": [
       "recommendations finished on 53000/100003 queries. users per second: 38997.4"
      ]
     },
     "metadata": {
      "tags": []
     },
     "output_type": "display_data"
    },
    {
     "data": {
      "text/html": [
       "<pre>recommendations finished on 54000/100003 queries. users per second: 39065.9</pre>"
      ],
      "text/plain": [
       "recommendations finished on 54000/100003 queries. users per second: 39065.9"
      ]
     },
     "metadata": {
      "tags": []
     },
     "output_type": "display_data"
    },
    {
     "data": {
      "text/html": [
       "<pre>recommendations finished on 55000/100003 queries. users per second: 39076.7</pre>"
      ],
      "text/plain": [
       "recommendations finished on 55000/100003 queries. users per second: 39076.7"
      ]
     },
     "metadata": {
      "tags": []
     },
     "output_type": "display_data"
    },
    {
     "data": {
      "text/html": [
       "<pre>recommendations finished on 56000/100003 queries. users per second: 39106.3</pre>"
      ],
      "text/plain": [
       "recommendations finished on 56000/100003 queries. users per second: 39106.3"
      ]
     },
     "metadata": {
      "tags": []
     },
     "output_type": "display_data"
    },
    {
     "data": {
      "text/html": [
       "<pre>recommendations finished on 57000/100003 queries. users per second: 39108.2</pre>"
      ],
      "text/plain": [
       "recommendations finished on 57000/100003 queries. users per second: 39108.2"
      ]
     },
     "metadata": {
      "tags": []
     },
     "output_type": "display_data"
    },
    {
     "data": {
      "text/html": [
       "<pre>recommendations finished on 58000/100003 queries. users per second: 39060.1</pre>"
      ],
      "text/plain": [
       "recommendations finished on 58000/100003 queries. users per second: 39060.1"
      ]
     },
     "metadata": {
      "tags": []
     },
     "output_type": "display_data"
    },
    {
     "data": {
      "text/html": [
       "<pre>recommendations finished on 59000/100003 queries. users per second: 39082.4</pre>"
      ],
      "text/plain": [
       "recommendations finished on 59000/100003 queries. users per second: 39082.4"
      ]
     },
     "metadata": {
      "tags": []
     },
     "output_type": "display_data"
    },
    {
     "data": {
      "text/html": [
       "<pre>recommendations finished on 60000/100003 queries. users per second: 39101.6</pre>"
      ],
      "text/plain": [
       "recommendations finished on 60000/100003 queries. users per second: 39101.6"
      ]
     },
     "metadata": {
      "tags": []
     },
     "output_type": "display_data"
    },
    {
     "data": {
      "text/html": [
       "<pre>recommendations finished on 61000/100003 queries. users per second: 39125.3</pre>"
      ],
      "text/plain": [
       "recommendations finished on 61000/100003 queries. users per second: 39125.3"
      ]
     },
     "metadata": {
      "tags": []
     },
     "output_type": "display_data"
    },
    {
     "data": {
      "text/html": [
       "<pre>recommendations finished on 62000/100003 queries. users per second: 39075.6</pre>"
      ],
      "text/plain": [
       "recommendations finished on 62000/100003 queries. users per second: 39075.6"
      ]
     },
     "metadata": {
      "tags": []
     },
     "output_type": "display_data"
    },
    {
     "data": {
      "text/html": [
       "<pre>recommendations finished on 63000/100003 queries. users per second: 39031.7</pre>"
      ],
      "text/plain": [
       "recommendations finished on 63000/100003 queries. users per second: 39031.7"
      ]
     },
     "metadata": {
      "tags": []
     },
     "output_type": "display_data"
    },
    {
     "data": {
      "text/html": [
       "<pre>recommendations finished on 64000/100003 queries. users per second: 38992.8</pre>"
      ],
      "text/plain": [
       "recommendations finished on 64000/100003 queries. users per second: 38992.8"
      ]
     },
     "metadata": {
      "tags": []
     },
     "output_type": "display_data"
    },
    {
     "data": {
      "text/html": [
       "<pre>recommendations finished on 65000/100003 queries. users per second: 38929.2</pre>"
      ],
      "text/plain": [
       "recommendations finished on 65000/100003 queries. users per second: 38929.2"
      ]
     },
     "metadata": {
      "tags": []
     },
     "output_type": "display_data"
    },
    {
     "data": {
      "text/html": [
       "<pre>recommendations finished on 66000/100003 queries. users per second: 38934.2</pre>"
      ],
      "text/plain": [
       "recommendations finished on 66000/100003 queries. users per second: 38934.2"
      ]
     },
     "metadata": {
      "tags": []
     },
     "output_type": "display_data"
    },
    {
     "data": {
      "text/html": [
       "<pre>recommendations finished on 67000/100003 queries. users per second: 38807.1</pre>"
      ],
      "text/plain": [
       "recommendations finished on 67000/100003 queries. users per second: 38807.1"
      ]
     },
     "metadata": {
      "tags": []
     },
     "output_type": "display_data"
    },
    {
     "data": {
      "text/html": [
       "<pre>recommendations finished on 68000/100003 queries. users per second: 38797</pre>"
      ],
      "text/plain": [
       "recommendations finished on 68000/100003 queries. users per second: 38797"
      ]
     },
     "metadata": {
      "tags": []
     },
     "output_type": "display_data"
    },
    {
     "data": {
      "text/html": [
       "<pre>recommendations finished on 69000/100003 queries. users per second: 38865.6</pre>"
      ],
      "text/plain": [
       "recommendations finished on 69000/100003 queries. users per second: 38865.6"
      ]
     },
     "metadata": {
      "tags": []
     },
     "output_type": "display_data"
    },
    {
     "data": {
      "text/html": [
       "<pre>recommendations finished on 70000/100003 queries. users per second: 38835.3</pre>"
      ],
      "text/plain": [
       "recommendations finished on 70000/100003 queries. users per second: 38835.3"
      ]
     },
     "metadata": {
      "tags": []
     },
     "output_type": "display_data"
    },
    {
     "data": {
      "text/html": [
       "<pre>recommendations finished on 71000/100003 queries. users per second: 38824.8</pre>"
      ],
      "text/plain": [
       "recommendations finished on 71000/100003 queries. users per second: 38824.8"
      ]
     },
     "metadata": {
      "tags": []
     },
     "output_type": "display_data"
    },
    {
     "data": {
      "text/html": [
       "<pre>recommendations finished on 72000/100003 queries. users per second: 38748.3</pre>"
      ],
      "text/plain": [
       "recommendations finished on 72000/100003 queries. users per second: 38748.3"
      ]
     },
     "metadata": {
      "tags": []
     },
     "output_type": "display_data"
    },
    {
     "data": {
      "text/html": [
       "<pre>recommendations finished on 73000/100003 queries. users per second: 38558.8</pre>"
      ],
      "text/plain": [
       "recommendations finished on 73000/100003 queries. users per second: 38558.8"
      ]
     },
     "metadata": {
      "tags": []
     },
     "output_type": "display_data"
    },
    {
     "data": {
      "text/html": [
       "<pre>recommendations finished on 74000/100003 queries. users per second: 38611.5</pre>"
      ],
      "text/plain": [
       "recommendations finished on 74000/100003 queries. users per second: 38611.5"
      ]
     },
     "metadata": {
      "tags": []
     },
     "output_type": "display_data"
    },
    {
     "data": {
      "text/html": [
       "<pre>recommendations finished on 75000/100003 queries. users per second: 38662.8</pre>"
      ],
      "text/plain": [
       "recommendations finished on 75000/100003 queries. users per second: 38662.8"
      ]
     },
     "metadata": {
      "tags": []
     },
     "output_type": "display_data"
    },
    {
     "data": {
      "text/html": [
       "<pre>recommendations finished on 76000/100003 queries. users per second: 38711.1</pre>"
      ],
      "text/plain": [
       "recommendations finished on 76000/100003 queries. users per second: 38711.1"
      ]
     },
     "metadata": {
      "tags": []
     },
     "output_type": "display_data"
    },
    {
     "data": {
      "text/html": [
       "<pre>recommendations finished on 77000/100003 queries. users per second: 38641.4</pre>"
      ],
      "text/plain": [
       "recommendations finished on 77000/100003 queries. users per second: 38641.4"
      ]
     },
     "metadata": {
      "tags": []
     },
     "output_type": "display_data"
    },
    {
     "data": {
      "text/html": [
       "<pre>recommendations finished on 78000/100003 queries. users per second: 38613.9</pre>"
      ],
      "text/plain": [
       "recommendations finished on 78000/100003 queries. users per second: 38613.9"
      ]
     },
     "metadata": {
      "tags": []
     },
     "output_type": "display_data"
    },
    {
     "data": {
      "text/html": [
       "<pre>recommendations finished on 79000/100003 queries. users per second: 38611.1</pre>"
      ],
      "text/plain": [
       "recommendations finished on 79000/100003 queries. users per second: 38611.1"
      ]
     },
     "metadata": {
      "tags": []
     },
     "output_type": "display_data"
    },
    {
     "data": {
      "text/html": [
       "<pre>recommendations finished on 80000/100003 queries. users per second: 38619.5</pre>"
      ],
      "text/plain": [
       "recommendations finished on 80000/100003 queries. users per second: 38619.5"
      ]
     },
     "metadata": {
      "tags": []
     },
     "output_type": "display_data"
    },
    {
     "data": {
      "text/html": [
       "<pre>recommendations finished on 81000/100003 queries. users per second: 38590.2</pre>"
      ],
      "text/plain": [
       "recommendations finished on 81000/100003 queries. users per second: 38590.2"
      ]
     },
     "metadata": {
      "tags": []
     },
     "output_type": "display_data"
    },
    {
     "data": {
      "text/html": [
       "<pre>recommendations finished on 82000/100003 queries. users per second: 38629.1</pre>"
      ],
      "text/plain": [
       "recommendations finished on 82000/100003 queries. users per second: 38629.1"
      ]
     },
     "metadata": {
      "tags": []
     },
     "output_type": "display_data"
    },
    {
     "data": {
      "text/html": [
       "<pre>recommendations finished on 83000/100003 queries. users per second: 38610.8</pre>"
      ],
      "text/plain": [
       "recommendations finished on 83000/100003 queries. users per second: 38610.8"
      ]
     },
     "metadata": {
      "tags": []
     },
     "output_type": "display_data"
    },
    {
     "data": {
      "text/html": [
       "<pre>recommendations finished on 84000/100003 queries. users per second: 38606.4</pre>"
      ],
      "text/plain": [
       "recommendations finished on 84000/100003 queries. users per second: 38606.4"
      ]
     },
     "metadata": {
      "tags": []
     },
     "output_type": "display_data"
    },
    {
     "data": {
      "text/html": [
       "<pre>recommendations finished on 85000/100003 queries. users per second: 38633.3</pre>"
      ],
      "text/plain": [
       "recommendations finished on 85000/100003 queries. users per second: 38633.3"
      ]
     },
     "metadata": {
      "tags": []
     },
     "output_type": "display_data"
    },
    {
     "data": {
      "text/html": [
       "<pre>recommendations finished on 86000/100003 queries. users per second: 38614.2</pre>"
      ],
      "text/plain": [
       "recommendations finished on 86000/100003 queries. users per second: 38614.2"
      ]
     },
     "metadata": {
      "tags": []
     },
     "output_type": "display_data"
    },
    {
     "data": {
      "text/html": [
       "<pre>recommendations finished on 87000/100003 queries. users per second: 38610.1</pre>"
      ],
      "text/plain": [
       "recommendations finished on 87000/100003 queries. users per second: 38610.1"
      ]
     },
     "metadata": {
      "tags": []
     },
     "output_type": "display_data"
    },
    {
     "data": {
      "text/html": [
       "<pre>recommendations finished on 88000/100003 queries. users per second: 38630.3</pre>"
      ],
      "text/plain": [
       "recommendations finished on 88000/100003 queries. users per second: 38630.3"
      ]
     },
     "metadata": {
      "tags": []
     },
     "output_type": "display_data"
    },
    {
     "data": {
      "text/html": [
       "<pre>recommendations finished on 89000/100003 queries. users per second: 38610.9</pre>"
      ],
      "text/plain": [
       "recommendations finished on 89000/100003 queries. users per second: 38610.9"
      ]
     },
     "metadata": {
      "tags": []
     },
     "output_type": "display_data"
    },
    {
     "data": {
      "text/html": [
       "<pre>recommendations finished on 90000/100003 queries. users per second: 38622</pre>"
      ],
      "text/plain": [
       "recommendations finished on 90000/100003 queries. users per second: 38622"
      ]
     },
     "metadata": {
      "tags": []
     },
     "output_type": "display_data"
    },
    {
     "data": {
      "text/html": [
       "<pre>recommendations finished on 91000/100003 queries. users per second: 38571.1</pre>"
      ],
      "text/plain": [
       "recommendations finished on 91000/100003 queries. users per second: 38571.1"
      ]
     },
     "metadata": {
      "tags": []
     },
     "output_type": "display_data"
    },
    {
     "data": {
      "text/html": [
       "<pre>recommendations finished on 92000/100003 queries. users per second: 38586.3</pre>"
      ],
      "text/plain": [
       "recommendations finished on 92000/100003 queries. users per second: 38586.3"
      ]
     },
     "metadata": {
      "tags": []
     },
     "output_type": "display_data"
    },
    {
     "data": {
      "text/html": [
       "<pre>recommendations finished on 93000/100003 queries. users per second: 38598.6</pre>"
      ],
      "text/plain": [
       "recommendations finished on 93000/100003 queries. users per second: 38598.6"
      ]
     },
     "metadata": {
      "tags": []
     },
     "output_type": "display_data"
    },
    {
     "data": {
      "text/html": [
       "<pre>recommendations finished on 94000/100003 queries. users per second: 38572.4</pre>"
      ],
      "text/plain": [
       "recommendations finished on 94000/100003 queries. users per second: 38572.4"
      ]
     },
     "metadata": {
      "tags": []
     },
     "output_type": "display_data"
    },
    {
     "data": {
      "text/html": [
       "<pre>recommendations finished on 95000/100003 queries. users per second: 38596.6</pre>"
      ],
      "text/plain": [
       "recommendations finished on 95000/100003 queries. users per second: 38596.6"
      ]
     },
     "metadata": {
      "tags": []
     },
     "output_type": "display_data"
    },
    {
     "data": {
      "text/html": [
       "<pre>recommendations finished on 96000/100003 queries. users per second: 38548.7</pre>"
      ],
      "text/plain": [
       "recommendations finished on 96000/100003 queries. users per second: 38548.7"
      ]
     },
     "metadata": {
      "tags": []
     },
     "output_type": "display_data"
    },
    {
     "data": {
      "text/html": [
       "<pre>recommendations finished on 97000/100003 queries. users per second: 38478</pre>"
      ],
      "text/plain": [
       "recommendations finished on 97000/100003 queries. users per second: 38478"
      ]
     },
     "metadata": {
      "tags": []
     },
     "output_type": "display_data"
    },
    {
     "data": {
      "text/html": [
       "<pre>recommendations finished on 98000/100003 queries. users per second: 38455</pre>"
      ],
      "text/plain": [
       "recommendations finished on 98000/100003 queries. users per second: 38455"
      ]
     },
     "metadata": {
      "tags": []
     },
     "output_type": "display_data"
    },
    {
     "data": {
      "text/html": [
       "<pre>recommendations finished on 99000/100003 queries. users per second: 38456.2</pre>"
      ],
      "text/plain": [
       "recommendations finished on 99000/100003 queries. users per second: 38456.2"
      ]
     },
     "metadata": {
      "tags": []
     },
     "output_type": "display_data"
    },
    {
     "data": {
      "text/html": [
       "<pre>recommendations finished on 100000/100003 queries. users per second: 38441.6</pre>"
      ],
      "text/plain": [
       "recommendations finished on 100000/100003 queries. users per second: 38441.6"
      ]
     },
     "metadata": {
      "tags": []
     },
     "output_type": "display_data"
    },
    {
     "name": "stdout",
     "output_type": "stream",
     "text": [
      "+---------+---------+-------+------+\n",
      "| user_id | item_id | score | rank |\n",
      "+---------+---------+-------+------+\n",
      "|    0    |   1189  |  5.0  |  1   |\n",
      "|    0    |   1600  |  5.0  |  2   |\n",
      "|    0    |   814   |  5.0  |  3   |\n",
      "|    0    |   1617  |  5.0  |  4   |\n",
      "|    0    |   1122  |  5.0  |  5   |\n",
      "|    0    |   1500  |  5.0  |  6   |\n",
      "|    0    |   1293  |  5.0  |  7   |\n",
      "|    0    |   1467  |  5.0  |  8   |\n",
      "|    0    |   1653  |  5.0  |  9   |\n",
      "|    0    |   1155  |  5.0  |  10  |\n",
      "|   290   |   1189  |  5.0  |  1   |\n",
      "|   290   |   1600  |  5.0  |  2   |\n",
      "|   290   |   814   |  5.0  |  3   |\n",
      "|   290   |   1617  |  5.0  |  4   |\n",
      "|   290   |   1122  |  5.0  |  5   |\n",
      "|   290   |   1500  |  5.0  |  6   |\n",
      "|   290   |   1293  |  5.0  |  7   |\n",
      "|   290   |   1467  |  5.0  |  8   |\n",
      "|   290   |   1653  |  5.0  |  9   |\n",
      "|   290   |   1155  |  5.0  |  10  |\n",
      "+---------+---------+-------+------+\n",
      "[1000030 rows x 4 columns]\n",
      "\n"
     ]
    }
   ],
   "source": [
    "# Get recommendations for a list of users to recommend (from customers file)\n",
    "# Printed below is head / top 30 rows for first 3 customers with 10 recommendations each\n",
    "\n",
    "popularity_recomm = popularity_model.recommend(users=users_to_recommend, k=n_rec)\n",
    "popularity_recomm.print_rows(n_display)"
   ]
  },
  {
   "cell_type": "code",
   "execution_count": 29,
   "metadata": {
    "id": "ebTPo8c1UHz2"
   },
   "outputs": [],
   "source": [
    "# define a model selection function\n",
    "\n",
    "def model(train_data, name, user_id, item_id, target, users_to_recommend, n_rec, n_display):\n",
    "    if name == 'popularity':\n",
    "        model = tc.popularity_recommender.create(train_data, \n",
    "                                                    user_id=user_id, \n",
    "                                                    item_id=item_id, \n",
    "                                                    target=target)\n",
    "    elif name == 'cosine':\n",
    "        model = tc.item_similarity_recommender.create(train_data, \n",
    "                                                    user_id=user_id, \n",
    "                                                    item_id=item_id, \n",
    "                                                    target=target, \n",
    "                                                    similarity_type='cosine')\n",
    "    elif name == 'pearson':\n",
    "        model = tc.item_similarity_recommender.create(train_data, \n",
    "                                                    user_id=user_id, \n",
    "                                                    item_id=item_id, \n",
    "                                                    target=target, \n",
    "                                                    similarity_type='pearson')\n",
    "        \n",
    "    recom = model.recommend(users=users_to_recommend, k=n_rec)\n",
    "    recom.print_rows(n_display)\n",
    "    return model"
   ]
  },
  {
   "cell_type": "code",
   "execution_count": 30,
   "metadata": {
    "id": "FW7ADxc6U4iH"
   },
   "outputs": [],
   "source": [
    "# variables to define field names\n",
    "# constant variables include:\n",
    "user_id = 'user_id'\n",
    "item_id = 'item_id'\n",
    "users_to_recommend = list(df[user_id])\n",
    "n_rec = 10 # number of items to recommend\n",
    "n_display = 30 # to print the head / first few rows in a defined dataset"
   ]
  },
  {
   "cell_type": "code",
   "execution_count": 31,
   "metadata": {
    "colab": {
     "base_uri": "https://localhost:8080/",
     "height": 1000
    },
    "id": "7qCmoIRSVw4v",
    "outputId": "c9ad9941-3c30-4135-e95c-49d9ac93fc18"
   },
   "outputs": [
    {
     "data": {
      "text/html": [
       "<pre>Warning: Ignoring columns timestamp, title, Rating_mean, num of ratings;</pre>"
      ],
      "text/plain": [
       "Warning: Ignoring columns timestamp, title, Rating_mean, num of ratings;"
      ]
     },
     "metadata": {
      "tags": []
     },
     "output_type": "display_data"
    },
    {
     "data": {
      "text/html": [
       "<pre>    To use these columns in scoring predictions, use a model that allows the use of additional features.</pre>"
      ],
      "text/plain": [
       "    To use these columns in scoring predictions, use a model that allows the use of additional features."
      ]
     },
     "metadata": {
      "tags": []
     },
     "output_type": "display_data"
    },
    {
     "data": {
      "text/html": [
       "<pre>Preparing data set.</pre>"
      ],
      "text/plain": [
       "Preparing data set."
      ]
     },
     "metadata": {
      "tags": []
     },
     "output_type": "display_data"
    },
    {
     "data": {
      "text/html": [
       "<pre>    Data has 80002 observations with 944 users and 1654 items.</pre>"
      ],
      "text/plain": [
       "    Data has 80002 observations with 944 users and 1654 items."
      ]
     },
     "metadata": {
      "tags": []
     },
     "output_type": "display_data"
    },
    {
     "data": {
      "text/html": [
       "<pre>    Data prepared in: 0.096557s</pre>"
      ],
      "text/plain": [
       "    Data prepared in: 0.096557s"
      ]
     },
     "metadata": {
      "tags": []
     },
     "output_type": "display_data"
    },
    {
     "data": {
      "text/html": [
       "<pre>80002 observations to process; with 1654 unique items.</pre>"
      ],
      "text/plain": [
       "80002 observations to process; with 1654 unique items."
      ]
     },
     "metadata": {
      "tags": []
     },
     "output_type": "display_data"
    },
    {
     "data": {
      "text/html": [
       "<pre>recommendations finished on 1000/100003 queries. users per second: 41106.6</pre>"
      ],
      "text/plain": [
       "recommendations finished on 1000/100003 queries. users per second: 41106.6"
      ]
     },
     "metadata": {
      "tags": []
     },
     "output_type": "display_data"
    },
    {
     "data": {
      "text/html": [
       "<pre>recommendations finished on 2000/100003 queries. users per second: 41379.6</pre>"
      ],
      "text/plain": [
       "recommendations finished on 2000/100003 queries. users per second: 41379.6"
      ]
     },
     "metadata": {
      "tags": []
     },
     "output_type": "display_data"
    },
    {
     "data": {
      "text/html": [
       "<pre>recommendations finished on 3000/100003 queries. users per second: 40449.8</pre>"
      ],
      "text/plain": [
       "recommendations finished on 3000/100003 queries. users per second: 40449.8"
      ]
     },
     "metadata": {
      "tags": []
     },
     "output_type": "display_data"
    },
    {
     "data": {
      "text/html": [
       "<pre>recommendations finished on 4000/100003 queries. users per second: 41285.2</pre>"
      ],
      "text/plain": [
       "recommendations finished on 4000/100003 queries. users per second: 41285.2"
      ]
     },
     "metadata": {
      "tags": []
     },
     "output_type": "display_data"
    },
    {
     "data": {
      "text/html": [
       "<pre>recommendations finished on 5000/100003 queries. users per second: 39384.3</pre>"
      ],
      "text/plain": [
       "recommendations finished on 5000/100003 queries. users per second: 39384.3"
      ]
     },
     "metadata": {
      "tags": []
     },
     "output_type": "display_data"
    },
    {
     "data": {
      "text/html": [
       "<pre>recommendations finished on 6000/100003 queries. users per second: 38494.9</pre>"
      ],
      "text/plain": [
       "recommendations finished on 6000/100003 queries. users per second: 38494.9"
      ]
     },
     "metadata": {
      "tags": []
     },
     "output_type": "display_data"
    },
    {
     "data": {
      "text/html": [
       "<pre>recommendations finished on 7000/100003 queries. users per second: 37638.9</pre>"
      ],
      "text/plain": [
       "recommendations finished on 7000/100003 queries. users per second: 37638.9"
      ]
     },
     "metadata": {
      "tags": []
     },
     "output_type": "display_data"
    },
    {
     "data": {
      "text/html": [
       "<pre>recommendations finished on 8000/100003 queries. users per second: 37929.4</pre>"
      ],
      "text/plain": [
       "recommendations finished on 8000/100003 queries. users per second: 37929.4"
      ]
     },
     "metadata": {
      "tags": []
     },
     "output_type": "display_data"
    },
    {
     "data": {
      "text/html": [
       "<pre>recommendations finished on 9000/100003 queries. users per second: 38470.7</pre>"
      ],
      "text/plain": [
       "recommendations finished on 9000/100003 queries. users per second: 38470.7"
      ]
     },
     "metadata": {
      "tags": []
     },
     "output_type": "display_data"
    },
    {
     "data": {
      "text/html": [
       "<pre>recommendations finished on 10000/100003 queries. users per second: 38905.8</pre>"
      ],
      "text/plain": [
       "recommendations finished on 10000/100003 queries. users per second: 38905.8"
      ]
     },
     "metadata": {
      "tags": []
     },
     "output_type": "display_data"
    },
    {
     "data": {
      "text/html": [
       "<pre>recommendations finished on 11000/100003 queries. users per second: 38787.7</pre>"
      ],
      "text/plain": [
       "recommendations finished on 11000/100003 queries. users per second: 38787.7"
      ]
     },
     "metadata": {
      "tags": []
     },
     "output_type": "display_data"
    },
    {
     "data": {
      "text/html": [
       "<pre>recommendations finished on 12000/100003 queries. users per second: 39062.8</pre>"
      ],
      "text/plain": [
       "recommendations finished on 12000/100003 queries. users per second: 39062.8"
      ]
     },
     "metadata": {
      "tags": []
     },
     "output_type": "display_data"
    },
    {
     "data": {
      "text/html": [
       "<pre>recommendations finished on 13000/100003 queries. users per second: 38916.2</pre>"
      ],
      "text/plain": [
       "recommendations finished on 13000/100003 queries. users per second: 38916.2"
      ]
     },
     "metadata": {
      "tags": []
     },
     "output_type": "display_data"
    },
    {
     "data": {
      "text/html": [
       "<pre>recommendations finished on 14000/100003 queries. users per second: 38952.1</pre>"
      ],
      "text/plain": [
       "recommendations finished on 14000/100003 queries. users per second: 38952.1"
      ]
     },
     "metadata": {
      "tags": []
     },
     "output_type": "display_data"
    },
    {
     "data": {
      "text/html": [
       "<pre>recommendations finished on 15000/100003 queries. users per second: 39234.7</pre>"
      ],
      "text/plain": [
       "recommendations finished on 15000/100003 queries. users per second: 39234.7"
      ]
     },
     "metadata": {
      "tags": []
     },
     "output_type": "display_data"
    },
    {
     "data": {
      "text/html": [
       "<pre>recommendations finished on 16000/100003 queries. users per second: 39235.7</pre>"
      ],
      "text/plain": [
       "recommendations finished on 16000/100003 queries. users per second: 39235.7"
      ]
     },
     "metadata": {
      "tags": []
     },
     "output_type": "display_data"
    },
    {
     "data": {
      "text/html": [
       "<pre>recommendations finished on 17000/100003 queries. users per second: 39208.2</pre>"
      ],
      "text/plain": [
       "recommendations finished on 17000/100003 queries. users per second: 39208.2"
      ]
     },
     "metadata": {
      "tags": []
     },
     "output_type": "display_data"
    },
    {
     "data": {
      "text/html": [
       "<pre>recommendations finished on 18000/100003 queries. users per second: 39526.1</pre>"
      ],
      "text/plain": [
       "recommendations finished on 18000/100003 queries. users per second: 39526.1"
      ]
     },
     "metadata": {
      "tags": []
     },
     "output_type": "display_data"
    },
    {
     "data": {
      "text/html": [
       "<pre>recommendations finished on 19000/100003 queries. users per second: 39795</pre>"
      ],
      "text/plain": [
       "recommendations finished on 19000/100003 queries. users per second: 39795"
      ]
     },
     "metadata": {
      "tags": []
     },
     "output_type": "display_data"
    },
    {
     "data": {
      "text/html": [
       "<pre>recommendations finished on 20000/100003 queries. users per second: 40001.1</pre>"
      ],
      "text/plain": [
       "recommendations finished on 20000/100003 queries. users per second: 40001.1"
      ]
     },
     "metadata": {
      "tags": []
     },
     "output_type": "display_data"
    },
    {
     "data": {
      "text/html": [
       "<pre>recommendations finished on 21000/100003 queries. users per second: 40197.3</pre>"
      ],
      "text/plain": [
       "recommendations finished on 21000/100003 queries. users per second: 40197.3"
      ]
     },
     "metadata": {
      "tags": []
     },
     "output_type": "display_data"
    },
    {
     "data": {
      "text/html": [
       "<pre>recommendations finished on 22000/100003 queries. users per second: 40064.2</pre>"
      ],
      "text/plain": [
       "recommendations finished on 22000/100003 queries. users per second: 40064.2"
      ]
     },
     "metadata": {
      "tags": []
     },
     "output_type": "display_data"
    },
    {
     "data": {
      "text/html": [
       "<pre>recommendations finished on 23000/100003 queries. users per second: 40151.8</pre>"
      ],
      "text/plain": [
       "recommendations finished on 23000/100003 queries. users per second: 40151.8"
      ]
     },
     "metadata": {
      "tags": []
     },
     "output_type": "display_data"
    },
    {
     "data": {
      "text/html": [
       "<pre>recommendations finished on 24000/100003 queries. users per second: 40165.2</pre>"
      ],
      "text/plain": [
       "recommendations finished on 24000/100003 queries. users per second: 40165.2"
      ]
     },
     "metadata": {
      "tags": []
     },
     "output_type": "display_data"
    },
    {
     "data": {
      "text/html": [
       "<pre>recommendations finished on 25000/100003 queries. users per second: 40075</pre>"
      ],
      "text/plain": [
       "recommendations finished on 25000/100003 queries. users per second: 40075"
      ]
     },
     "metadata": {
      "tags": []
     },
     "output_type": "display_data"
    },
    {
     "data": {
      "text/html": [
       "<pre>recommendations finished on 26000/100003 queries. users per second: 40279.6</pre>"
      ],
      "text/plain": [
       "recommendations finished on 26000/100003 queries. users per second: 40279.6"
      ]
     },
     "metadata": {
      "tags": []
     },
     "output_type": "display_data"
    },
    {
     "data": {
      "text/html": [
       "<pre>recommendations finished on 27000/100003 queries. users per second: 40004</pre>"
      ],
      "text/plain": [
       "recommendations finished on 27000/100003 queries. users per second: 40004"
      ]
     },
     "metadata": {
      "tags": []
     },
     "output_type": "display_data"
    },
    {
     "data": {
      "text/html": [
       "<pre>recommendations finished on 28000/100003 queries. users per second: 39897.8</pre>"
      ],
      "text/plain": [
       "recommendations finished on 28000/100003 queries. users per second: 39897.8"
      ]
     },
     "metadata": {
      "tags": []
     },
     "output_type": "display_data"
    },
    {
     "data": {
      "text/html": [
       "<pre>recommendations finished on 29000/100003 queries. users per second: 39844.4</pre>"
      ],
      "text/plain": [
       "recommendations finished on 29000/100003 queries. users per second: 39844.4"
      ]
     },
     "metadata": {
      "tags": []
     },
     "output_type": "display_data"
    },
    {
     "data": {
      "text/html": [
       "<pre>recommendations finished on 30000/100003 queries. users per second: 39694.9</pre>"
      ],
      "text/plain": [
       "recommendations finished on 30000/100003 queries. users per second: 39694.9"
      ]
     },
     "metadata": {
      "tags": []
     },
     "output_type": "display_data"
    },
    {
     "data": {
      "text/html": [
       "<pre>recommendations finished on 31000/100003 queries. users per second: 39659.3</pre>"
      ],
      "text/plain": [
       "recommendations finished on 31000/100003 queries. users per second: 39659.3"
      ]
     },
     "metadata": {
      "tags": []
     },
     "output_type": "display_data"
    },
    {
     "data": {
      "text/html": [
       "<pre>recommendations finished on 32000/100003 queries. users per second: 39029.4</pre>"
      ],
      "text/plain": [
       "recommendations finished on 32000/100003 queries. users per second: 39029.4"
      ]
     },
     "metadata": {
      "tags": []
     },
     "output_type": "display_data"
    },
    {
     "data": {
      "text/html": [
       "<pre>recommendations finished on 33000/100003 queries. users per second: 39002.8</pre>"
      ],
      "text/plain": [
       "recommendations finished on 33000/100003 queries. users per second: 39002.8"
      ]
     },
     "metadata": {
      "tags": []
     },
     "output_type": "display_data"
    },
    {
     "data": {
      "text/html": [
       "<pre>recommendations finished on 34000/100003 queries. users per second: 38996.8</pre>"
      ],
      "text/plain": [
       "recommendations finished on 34000/100003 queries. users per second: 38996.8"
      ]
     },
     "metadata": {
      "tags": []
     },
     "output_type": "display_data"
    },
    {
     "data": {
      "text/html": [
       "<pre>recommendations finished on 35000/100003 queries. users per second: 39032</pre>"
      ],
      "text/plain": [
       "recommendations finished on 35000/100003 queries. users per second: 39032"
      ]
     },
     "metadata": {
      "tags": []
     },
     "output_type": "display_data"
    },
    {
     "data": {
      "text/html": [
       "<pre>recommendations finished on 36000/100003 queries. users per second: 38974.4</pre>"
      ],
      "text/plain": [
       "recommendations finished on 36000/100003 queries. users per second: 38974.4"
      ]
     },
     "metadata": {
      "tags": []
     },
     "output_type": "display_data"
    },
    {
     "data": {
      "text/html": [
       "<pre>recommendations finished on 37000/100003 queries. users per second: 38876.3</pre>"
      ],
      "text/plain": [
       "recommendations finished on 37000/100003 queries. users per second: 38876.3"
      ]
     },
     "metadata": {
      "tags": []
     },
     "output_type": "display_data"
    },
    {
     "data": {
      "text/html": [
       "<pre>recommendations finished on 38000/100003 queries. users per second: 38668.5</pre>"
      ],
      "text/plain": [
       "recommendations finished on 38000/100003 queries. users per second: 38668.5"
      ]
     },
     "metadata": {
      "tags": []
     },
     "output_type": "display_data"
    },
    {
     "data": {
      "text/html": [
       "<pre>recommendations finished on 39000/100003 queries. users per second: 38714.8</pre>"
      ],
      "text/plain": [
       "recommendations finished on 39000/100003 queries. users per second: 38714.8"
      ]
     },
     "metadata": {
      "tags": []
     },
     "output_type": "display_data"
    },
    {
     "data": {
      "text/html": [
       "<pre>recommendations finished on 40000/100003 queries. users per second: 38781.3</pre>"
      ],
      "text/plain": [
       "recommendations finished on 40000/100003 queries. users per second: 38781.3"
      ]
     },
     "metadata": {
      "tags": []
     },
     "output_type": "display_data"
    },
    {
     "data": {
      "text/html": [
       "<pre>recommendations finished on 41000/100003 queries. users per second: 38859.6</pre>"
      ],
      "text/plain": [
       "recommendations finished on 41000/100003 queries. users per second: 38859.6"
      ]
     },
     "metadata": {
      "tags": []
     },
     "output_type": "display_data"
    },
    {
     "data": {
      "text/html": [
       "<pre>recommendations finished on 42000/100003 queries. users per second: 38859.4</pre>"
      ],
      "text/plain": [
       "recommendations finished on 42000/100003 queries. users per second: 38859.4"
      ]
     },
     "metadata": {
      "tags": []
     },
     "output_type": "display_data"
    },
    {
     "data": {
      "text/html": [
       "<pre>recommendations finished on 43000/100003 queries. users per second: 38776.6</pre>"
      ],
      "text/plain": [
       "recommendations finished on 43000/100003 queries. users per second: 38776.6"
      ]
     },
     "metadata": {
      "tags": []
     },
     "output_type": "display_data"
    },
    {
     "data": {
      "text/html": [
       "<pre>recommendations finished on 44000/100003 queries. users per second: 38608.9</pre>"
      ],
      "text/plain": [
       "recommendations finished on 44000/100003 queries. users per second: 38608.9"
      ]
     },
     "metadata": {
      "tags": []
     },
     "output_type": "display_data"
    },
    {
     "data": {
      "text/html": [
       "<pre>recommendations finished on 45000/100003 queries. users per second: 38620</pre>"
      ],
      "text/plain": [
       "recommendations finished on 45000/100003 queries. users per second: 38620"
      ]
     },
     "metadata": {
      "tags": []
     },
     "output_type": "display_data"
    },
    {
     "data": {
      "text/html": [
       "<pre>recommendations finished on 46000/100003 queries. users per second: 38613</pre>"
      ],
      "text/plain": [
       "recommendations finished on 46000/100003 queries. users per second: 38613"
      ]
     },
     "metadata": {
      "tags": []
     },
     "output_type": "display_data"
    },
    {
     "data": {
      "text/html": [
       "<pre>recommendations finished on 47000/100003 queries. users per second: 38572.6</pre>"
      ],
      "text/plain": [
       "recommendations finished on 47000/100003 queries. users per second: 38572.6"
      ]
     },
     "metadata": {
      "tags": []
     },
     "output_type": "display_data"
    },
    {
     "data": {
      "text/html": [
       "<pre>recommendations finished on 48000/100003 queries. users per second: 38565.7</pre>"
      ],
      "text/plain": [
       "recommendations finished on 48000/100003 queries. users per second: 38565.7"
      ]
     },
     "metadata": {
      "tags": []
     },
     "output_type": "display_data"
    },
    {
     "data": {
      "text/html": [
       "<pre>recommendations finished on 49000/100003 queries. users per second: 38609</pre>"
      ],
      "text/plain": [
       "recommendations finished on 49000/100003 queries. users per second: 38609"
      ]
     },
     "metadata": {
      "tags": []
     },
     "output_type": "display_data"
    },
    {
     "data": {
      "text/html": [
       "<pre>recommendations finished on 50000/100003 queries. users per second: 38583.6</pre>"
      ],
      "text/plain": [
       "recommendations finished on 50000/100003 queries. users per second: 38583.6"
      ]
     },
     "metadata": {
      "tags": []
     },
     "output_type": "display_data"
    },
    {
     "data": {
      "text/html": [
       "<pre>recommendations finished on 51000/100003 queries. users per second: 38556.2</pre>"
      ],
      "text/plain": [
       "recommendations finished on 51000/100003 queries. users per second: 38556.2"
      ]
     },
     "metadata": {
      "tags": []
     },
     "output_type": "display_data"
    },
    {
     "data": {
      "text/html": [
       "<pre>recommendations finished on 52000/100003 queries. users per second: 38538</pre>"
      ],
      "text/plain": [
       "recommendations finished on 52000/100003 queries. users per second: 38538"
      ]
     },
     "metadata": {
      "tags": []
     },
     "output_type": "display_data"
    },
    {
     "data": {
      "text/html": [
       "<pre>recommendations finished on 53000/100003 queries. users per second: 38568.1</pre>"
      ],
      "text/plain": [
       "recommendations finished on 53000/100003 queries. users per second: 38568.1"
      ]
     },
     "metadata": {
      "tags": []
     },
     "output_type": "display_data"
    },
    {
     "data": {
      "text/html": [
       "<pre>recommendations finished on 54000/100003 queries. users per second: 38547.4</pre>"
      ],
      "text/plain": [
       "recommendations finished on 54000/100003 queries. users per second: 38547.4"
      ]
     },
     "metadata": {
      "tags": []
     },
     "output_type": "display_data"
    },
    {
     "data": {
      "text/html": [
       "<pre>recommendations finished on 55000/100003 queries. users per second: 38450.2</pre>"
      ],
      "text/plain": [
       "recommendations finished on 55000/100003 queries. users per second: 38450.2"
      ]
     },
     "metadata": {
      "tags": []
     },
     "output_type": "display_data"
    },
    {
     "data": {
      "text/html": [
       "<pre>recommendations finished on 56000/100003 queries. users per second: 38198.8</pre>"
      ],
      "text/plain": [
       "recommendations finished on 56000/100003 queries. users per second: 38198.8"
      ]
     },
     "metadata": {
      "tags": []
     },
     "output_type": "display_data"
    },
    {
     "data": {
      "text/html": [
       "<pre>recommendations finished on 57000/100003 queries. users per second: 38133.1</pre>"
      ],
      "text/plain": [
       "recommendations finished on 57000/100003 queries. users per second: 38133.1"
      ]
     },
     "metadata": {
      "tags": []
     },
     "output_type": "display_data"
    },
    {
     "data": {
      "text/html": [
       "<pre>recommendations finished on 58000/100003 queries. users per second: 38104.8</pre>"
      ],
      "text/plain": [
       "recommendations finished on 58000/100003 queries. users per second: 38104.8"
      ]
     },
     "metadata": {
      "tags": []
     },
     "output_type": "display_data"
    },
    {
     "data": {
      "text/html": [
       "<pre>recommendations finished on 59000/100003 queries. users per second: 38128.5</pre>"
      ],
      "text/plain": [
       "recommendations finished on 59000/100003 queries. users per second: 38128.5"
      ]
     },
     "metadata": {
      "tags": []
     },
     "output_type": "display_data"
    },
    {
     "data": {
      "text/html": [
       "<pre>recommendations finished on 60000/100003 queries. users per second: 38166.1</pre>"
      ],
      "text/plain": [
       "recommendations finished on 60000/100003 queries. users per second: 38166.1"
      ]
     },
     "metadata": {
      "tags": []
     },
     "output_type": "display_data"
    },
    {
     "data": {
      "text/html": [
       "<pre>recommendations finished on 61000/100003 queries. users per second: 38172.1</pre>"
      ],
      "text/plain": [
       "recommendations finished on 61000/100003 queries. users per second: 38172.1"
      ]
     },
     "metadata": {
      "tags": []
     },
     "output_type": "display_data"
    },
    {
     "data": {
      "text/html": [
       "<pre>recommendations finished on 62000/100003 queries. users per second: 38222.8</pre>"
      ],
      "text/plain": [
       "recommendations finished on 62000/100003 queries. users per second: 38222.8"
      ]
     },
     "metadata": {
      "tags": []
     },
     "output_type": "display_data"
    },
    {
     "data": {
      "text/html": [
       "<pre>recommendations finished on 63000/100003 queries. users per second: 38150.9</pre>"
      ],
      "text/plain": [
       "recommendations finished on 63000/100003 queries. users per second: 38150.9"
      ]
     },
     "metadata": {
      "tags": []
     },
     "output_type": "display_data"
    },
    {
     "data": {
      "text/html": [
       "<pre>recommendations finished on 64000/100003 queries. users per second: 38198</pre>"
      ],
      "text/plain": [
       "recommendations finished on 64000/100003 queries. users per second: 38198"
      ]
     },
     "metadata": {
      "tags": []
     },
     "output_type": "display_data"
    },
    {
     "data": {
      "text/html": [
       "<pre>recommendations finished on 65000/100003 queries. users per second: 38218.6</pre>"
      ],
      "text/plain": [
       "recommendations finished on 65000/100003 queries. users per second: 38218.6"
      ]
     },
     "metadata": {
      "tags": []
     },
     "output_type": "display_data"
    },
    {
     "data": {
      "text/html": [
       "<pre>recommendations finished on 66000/100003 queries. users per second: 38227.5</pre>"
      ],
      "text/plain": [
       "recommendations finished on 66000/100003 queries. users per second: 38227.5"
      ]
     },
     "metadata": {
      "tags": []
     },
     "output_type": "display_data"
    },
    {
     "data": {
      "text/html": [
       "<pre>recommendations finished on 67000/100003 queries. users per second: 38190.1</pre>"
      ],
      "text/plain": [
       "recommendations finished on 67000/100003 queries. users per second: 38190.1"
      ]
     },
     "metadata": {
      "tags": []
     },
     "output_type": "display_data"
    },
    {
     "data": {
      "text/html": [
       "<pre>recommendations finished on 68000/100003 queries. users per second: 38184.7</pre>"
      ],
      "text/plain": [
       "recommendations finished on 68000/100003 queries. users per second: 38184.7"
      ]
     },
     "metadata": {
      "tags": []
     },
     "output_type": "display_data"
    },
    {
     "data": {
      "text/html": [
       "<pre>recommendations finished on 69000/100003 queries. users per second: 38261.1</pre>"
      ],
      "text/plain": [
       "recommendations finished on 69000/100003 queries. users per second: 38261.1"
      ]
     },
     "metadata": {
      "tags": []
     },
     "output_type": "display_data"
    },
    {
     "data": {
      "text/html": [
       "<pre>recommendations finished on 70000/100003 queries. users per second: 38254.2</pre>"
      ],
      "text/plain": [
       "recommendations finished on 70000/100003 queries. users per second: 38254.2"
      ]
     },
     "metadata": {
      "tags": []
     },
     "output_type": "display_data"
    },
    {
     "data": {
      "text/html": [
       "<pre>recommendations finished on 71000/100003 queries. users per second: 38206.9</pre>"
      ],
      "text/plain": [
       "recommendations finished on 71000/100003 queries. users per second: 38206.9"
      ]
     },
     "metadata": {
      "tags": []
     },
     "output_type": "display_data"
    },
    {
     "data": {
      "text/html": [
       "<pre>recommendations finished on 72000/100003 queries. users per second: 38243.2</pre>"
      ],
      "text/plain": [
       "recommendations finished on 72000/100003 queries. users per second: 38243.2"
      ]
     },
     "metadata": {
      "tags": []
     },
     "output_type": "display_data"
    },
    {
     "data": {
      "text/html": [
       "<pre>recommendations finished on 73000/100003 queries. users per second: 38239.5</pre>"
      ],
      "text/plain": [
       "recommendations finished on 73000/100003 queries. users per second: 38239.5"
      ]
     },
     "metadata": {
      "tags": []
     },
     "output_type": "display_data"
    },
    {
     "data": {
      "text/html": [
       "<pre>recommendations finished on 74000/100003 queries. users per second: 38294.1</pre>"
      ],
      "text/plain": [
       "recommendations finished on 74000/100003 queries. users per second: 38294.1"
      ]
     },
     "metadata": {
      "tags": []
     },
     "output_type": "display_data"
    },
    {
     "data": {
      "text/html": [
       "<pre>recommendations finished on 75000/100003 queries. users per second: 38304.4</pre>"
      ],
      "text/plain": [
       "recommendations finished on 75000/100003 queries. users per second: 38304.4"
      ]
     },
     "metadata": {
      "tags": []
     },
     "output_type": "display_data"
    },
    {
     "data": {
      "text/html": [
       "<pre>recommendations finished on 76000/100003 queries. users per second: 38289.6</pre>"
      ],
      "text/plain": [
       "recommendations finished on 76000/100003 queries. users per second: 38289.6"
      ]
     },
     "metadata": {
      "tags": []
     },
     "output_type": "display_data"
    },
    {
     "data": {
      "text/html": [
       "<pre>recommendations finished on 77000/100003 queries. users per second: 38321.7</pre>"
      ],
      "text/plain": [
       "recommendations finished on 77000/100003 queries. users per second: 38321.7"
      ]
     },
     "metadata": {
      "tags": []
     },
     "output_type": "display_data"
    },
    {
     "data": {
      "text/html": [
       "<pre>recommendations finished on 78000/100003 queries. users per second: 38379.8</pre>"
      ],
      "text/plain": [
       "recommendations finished on 78000/100003 queries. users per second: 38379.8"
      ]
     },
     "metadata": {
      "tags": []
     },
     "output_type": "display_data"
    },
    {
     "data": {
      "text/html": [
       "<pre>recommendations finished on 79000/100003 queries. users per second: 38330.2</pre>"
      ],
      "text/plain": [
       "recommendations finished on 79000/100003 queries. users per second: 38330.2"
      ]
     },
     "metadata": {
      "tags": []
     },
     "output_type": "display_data"
    },
    {
     "data": {
      "text/html": [
       "<pre>recommendations finished on 80000/100003 queries. users per second: 38323</pre>"
      ],
      "text/plain": [
       "recommendations finished on 80000/100003 queries. users per second: 38323"
      ]
     },
     "metadata": {
      "tags": []
     },
     "output_type": "display_data"
    },
    {
     "data": {
      "text/html": [
       "<pre>recommendations finished on 81000/100003 queries. users per second: 38318</pre>"
      ],
      "text/plain": [
       "recommendations finished on 81000/100003 queries. users per second: 38318"
      ]
     },
     "metadata": {
      "tags": []
     },
     "output_type": "display_data"
    },
    {
     "data": {
      "text/html": [
       "<pre>recommendations finished on 82000/100003 queries. users per second: 38358</pre>"
      ],
      "text/plain": [
       "recommendations finished on 82000/100003 queries. users per second: 38358"
      ]
     },
     "metadata": {
      "tags": []
     },
     "output_type": "display_data"
    },
    {
     "data": {
      "text/html": [
       "<pre>recommendations finished on 83000/100003 queries. users per second: 38421.3</pre>"
      ],
      "text/plain": [
       "recommendations finished on 83000/100003 queries. users per second: 38421.3"
      ]
     },
     "metadata": {
      "tags": []
     },
     "output_type": "display_data"
    },
    {
     "data": {
      "text/html": [
       "<pre>recommendations finished on 84000/100003 queries. users per second: 38472.8</pre>"
      ],
      "text/plain": [
       "recommendations finished on 84000/100003 queries. users per second: 38472.8"
      ]
     },
     "metadata": {
      "tags": []
     },
     "output_type": "display_data"
    },
    {
     "data": {
      "text/html": [
       "<pre>recommendations finished on 85000/100003 queries. users per second: 38510.2</pre>"
      ],
      "text/plain": [
       "recommendations finished on 85000/100003 queries. users per second: 38510.2"
      ]
     },
     "metadata": {
      "tags": []
     },
     "output_type": "display_data"
    },
    {
     "data": {
      "text/html": [
       "<pre>recommendations finished on 86000/100003 queries. users per second: 38499.3</pre>"
      ],
      "text/plain": [
       "recommendations finished on 86000/100003 queries. users per second: 38499.3"
      ]
     },
     "metadata": {
      "tags": []
     },
     "output_type": "display_data"
    },
    {
     "data": {
      "text/html": [
       "<pre>recommendations finished on 87000/100003 queries. users per second: 38482.2</pre>"
      ],
      "text/plain": [
       "recommendations finished on 87000/100003 queries. users per second: 38482.2"
      ]
     },
     "metadata": {
      "tags": []
     },
     "output_type": "display_data"
    },
    {
     "data": {
      "text/html": [
       "<pre>recommendations finished on 88000/100003 queries. users per second: 38523.4</pre>"
      ],
      "text/plain": [
       "recommendations finished on 88000/100003 queries. users per second: 38523.4"
      ]
     },
     "metadata": {
      "tags": []
     },
     "output_type": "display_data"
    },
    {
     "data": {
      "text/html": [
       "<pre>recommendations finished on 89000/100003 queries. users per second: 38544.3</pre>"
      ],
      "text/plain": [
       "recommendations finished on 89000/100003 queries. users per second: 38544.3"
      ]
     },
     "metadata": {
      "tags": []
     },
     "output_type": "display_data"
    },
    {
     "data": {
      "text/html": [
       "<pre>recommendations finished on 90000/100003 queries. users per second: 38515.1</pre>"
      ],
      "text/plain": [
       "recommendations finished on 90000/100003 queries. users per second: 38515.1"
      ]
     },
     "metadata": {
      "tags": []
     },
     "output_type": "display_data"
    },
    {
     "data": {
      "text/html": [
       "<pre>recommendations finished on 91000/100003 queries. users per second: 38550.4</pre>"
      ],
      "text/plain": [
       "recommendations finished on 91000/100003 queries. users per second: 38550.4"
      ]
     },
     "metadata": {
      "tags": []
     },
     "output_type": "display_data"
    },
    {
     "data": {
      "text/html": [
       "<pre>recommendations finished on 92000/100003 queries. users per second: 38573.1</pre>"
      ],
      "text/plain": [
       "recommendations finished on 92000/100003 queries. users per second: 38573.1"
      ]
     },
     "metadata": {
      "tags": []
     },
     "output_type": "display_data"
    },
    {
     "data": {
      "text/html": [
       "<pre>recommendations finished on 93000/100003 queries. users per second: 38575.4</pre>"
      ],
      "text/plain": [
       "recommendations finished on 93000/100003 queries. users per second: 38575.4"
      ]
     },
     "metadata": {
      "tags": []
     },
     "output_type": "display_data"
    },
    {
     "data": {
      "text/html": [
       "<pre>recommendations finished on 94000/100003 queries. users per second: 38571.7</pre>"
      ],
      "text/plain": [
       "recommendations finished on 94000/100003 queries. users per second: 38571.7"
      ]
     },
     "metadata": {
      "tags": []
     },
     "output_type": "display_data"
    },
    {
     "data": {
      "text/html": [
       "<pre>recommendations finished on 95000/100003 queries. users per second: 38562.6</pre>"
      ],
      "text/plain": [
       "recommendations finished on 95000/100003 queries. users per second: 38562.6"
      ]
     },
     "metadata": {
      "tags": []
     },
     "output_type": "display_data"
    },
    {
     "data": {
      "text/html": [
       "<pre>recommendations finished on 96000/100003 queries. users per second: 38570.3</pre>"
      ],
      "text/plain": [
       "recommendations finished on 96000/100003 queries. users per second: 38570.3"
      ]
     },
     "metadata": {
      "tags": []
     },
     "output_type": "display_data"
    },
    {
     "data": {
      "text/html": [
       "<pre>recommendations finished on 97000/100003 queries. users per second: 38569.8</pre>"
      ],
      "text/plain": [
       "recommendations finished on 97000/100003 queries. users per second: 38569.8"
      ]
     },
     "metadata": {
      "tags": []
     },
     "output_type": "display_data"
    },
    {
     "data": {
      "text/html": [
       "<pre>recommendations finished on 98000/100003 queries. users per second: 38537.1</pre>"
      ],
      "text/plain": [
       "recommendations finished on 98000/100003 queries. users per second: 38537.1"
      ]
     },
     "metadata": {
      "tags": []
     },
     "output_type": "display_data"
    },
    {
     "data": {
      "text/html": [
       "<pre>recommendations finished on 99000/100003 queries. users per second: 38547.1</pre>"
      ],
      "text/plain": [
       "recommendations finished on 99000/100003 queries. users per second: 38547.1"
      ]
     },
     "metadata": {
      "tags": []
     },
     "output_type": "display_data"
    },
    {
     "data": {
      "text/html": [
       "<pre>recommendations finished on 100000/100003 queries. users per second: 38566.6</pre>"
      ],
      "text/plain": [
       "recommendations finished on 100000/100003 queries. users per second: 38566.6"
      ]
     },
     "metadata": {
      "tags": []
     },
     "output_type": "display_data"
    },
    {
     "name": "stdout",
     "output_type": "stream",
     "text": [
      "+---------+---------+-------+------+\n",
      "| user_id | item_id | score | rank |\n",
      "+---------+---------+-------+------+\n",
      "|    0    |   1189  |  5.0  |  1   |\n",
      "|    0    |   1600  |  5.0  |  2   |\n",
      "|    0    |   814   |  5.0  |  3   |\n",
      "|    0    |   1617  |  5.0  |  4   |\n",
      "|    0    |   1122  |  5.0  |  5   |\n",
      "|    0    |   1500  |  5.0  |  6   |\n",
      "|    0    |   1293  |  5.0  |  7   |\n",
      "|    0    |   1467  |  5.0  |  8   |\n",
      "|    0    |   1653  |  5.0  |  9   |\n",
      "|    0    |   1155  |  5.0  |  10  |\n",
      "|    0    |   1189  |  5.0  |  1   |\n",
      "|    0    |   1600  |  5.0  |  2   |\n",
      "|    0    |   814   |  5.0  |  3   |\n",
      "|    0    |   1617  |  5.0  |  4   |\n",
      "|    0    |   1122  |  5.0  |  5   |\n",
      "|    0    |   1500  |  5.0  |  6   |\n",
      "|    0    |   1293  |  5.0  |  7   |\n",
      "|    0    |   1467  |  5.0  |  8   |\n",
      "|    0    |   1653  |  5.0  |  9   |\n",
      "|    0    |   1155  |  5.0  |  10  |\n",
      "|    0    |   1189  |  5.0  |  1   |\n",
      "|    0    |   1600  |  5.0  |  2   |\n",
      "|    0    |   814   |  5.0  |  3   |\n",
      "|    0    |   1617  |  5.0  |  4   |\n",
      "|    0    |   1122  |  5.0  |  5   |\n",
      "|    0    |   1500  |  5.0  |  6   |\n",
      "|    0    |   1293  |  5.0  |  7   |\n",
      "|    0    |   1467  |  5.0  |  8   |\n",
      "|    0    |   1653  |  5.0  |  9   |\n",
      "|    0    |   1155  |  5.0  |  10  |\n",
      "+---------+---------+-------+------+\n",
      "[1000030 rows x 4 columns]\n",
      "\n"
     ]
    }
   ],
   "source": [
    "#Using Rating \n",
    "# these variables will change accordingly\n",
    "name = 'popularity'\n",
    "target = 'rating'\n",
    "pop_Base = model(train_data_split, name, user_id, item_id, target, users_to_recommend, n_rec, n_display)"
   ]
  },
  {
   "cell_type": "code",
   "execution_count": 32,
   "metadata": {
    "colab": {
     "base_uri": "https://localhost:8080/",
     "height": 1000
    },
    "id": "TqC78zURWzIk",
    "outputId": "7b16f7de-e4aa-46d2-bfea-525386ea1abb"
   },
   "outputs": [
    {
     "data": {
      "text/html": [
       "<pre>Warning: Ignoring columns rating, timestamp, title, Rating_mean, num of ratings;</pre>"
      ],
      "text/plain": [
       "Warning: Ignoring columns rating, timestamp, title, Rating_mean, num of ratings;"
      ]
     },
     "metadata": {
      "tags": []
     },
     "output_type": "display_data"
    },
    {
     "data": {
      "text/html": [
       "<pre>    To use these columns in scoring predictions, use a model that allows the use of additional features.</pre>"
      ],
      "text/plain": [
       "    To use these columns in scoring predictions, use a model that allows the use of additional features."
      ]
     },
     "metadata": {
      "tags": []
     },
     "output_type": "display_data"
    },
    {
     "data": {
      "text/html": [
       "<pre>Preparing data set.</pre>"
      ],
      "text/plain": [
       "Preparing data set."
      ]
     },
     "metadata": {
      "tags": []
     },
     "output_type": "display_data"
    },
    {
     "data": {
      "text/html": [
       "<pre>    Data has 80002 observations with 944 users and 1647 items.</pre>"
      ],
      "text/plain": [
       "    Data has 80002 observations with 944 users and 1647 items."
      ]
     },
     "metadata": {
      "tags": []
     },
     "output_type": "display_data"
    },
    {
     "data": {
      "text/html": [
       "<pre>    Data prepared in: 0.094029s</pre>"
      ],
      "text/plain": [
       "    Data prepared in: 0.094029s"
      ]
     },
     "metadata": {
      "tags": []
     },
     "output_type": "display_data"
    },
    {
     "data": {
      "text/html": [
       "<pre>80002 observations to process; with 1647 unique items.</pre>"
      ],
      "text/plain": [
       "80002 observations to process; with 1647 unique items."
      ]
     },
     "metadata": {
      "tags": []
     },
     "output_type": "display_data"
    },
    {
     "data": {
      "text/html": [
       "<pre>recommendations finished on 1000/100003 queries. users per second: 43425.4</pre>"
      ],
      "text/plain": [
       "recommendations finished on 1000/100003 queries. users per second: 43425.4"
      ]
     },
     "metadata": {
      "tags": []
     },
     "output_type": "display_data"
    },
    {
     "data": {
      "text/html": [
       "<pre>recommendations finished on 2000/100003 queries. users per second: 40823.8</pre>"
      ],
      "text/plain": [
       "recommendations finished on 2000/100003 queries. users per second: 40823.8"
      ]
     },
     "metadata": {
      "tags": []
     },
     "output_type": "display_data"
    },
    {
     "data": {
      "text/html": [
       "<pre>recommendations finished on 3000/100003 queries. users per second: 36368.9</pre>"
      ],
      "text/plain": [
       "recommendations finished on 3000/100003 queries. users per second: 36368.9"
      ]
     },
     "metadata": {
      "tags": []
     },
     "output_type": "display_data"
    },
    {
     "data": {
      "text/html": [
       "<pre>recommendations finished on 4000/100003 queries. users per second: 36289.7</pre>"
      ],
      "text/plain": [
       "recommendations finished on 4000/100003 queries. users per second: 36289.7"
      ]
     },
     "metadata": {
      "tags": []
     },
     "output_type": "display_data"
    },
    {
     "data": {
      "text/html": [
       "<pre>recommendations finished on 5000/100003 queries. users per second: 37137.4</pre>"
      ],
      "text/plain": [
       "recommendations finished on 5000/100003 queries. users per second: 37137.4"
      ]
     },
     "metadata": {
      "tags": []
     },
     "output_type": "display_data"
    },
    {
     "data": {
      "text/html": [
       "<pre>recommendations finished on 6000/100003 queries. users per second: 36474.6</pre>"
      ],
      "text/plain": [
       "recommendations finished on 6000/100003 queries. users per second: 36474.6"
      ]
     },
     "metadata": {
      "tags": []
     },
     "output_type": "display_data"
    },
    {
     "data": {
      "text/html": [
       "<pre>recommendations finished on 7000/100003 queries. users per second: 36535</pre>"
      ],
      "text/plain": [
       "recommendations finished on 7000/100003 queries. users per second: 36535"
      ]
     },
     "metadata": {
      "tags": []
     },
     "output_type": "display_data"
    },
    {
     "data": {
      "text/html": [
       "<pre>recommendations finished on 8000/100003 queries. users per second: 36932.2</pre>"
      ],
      "text/plain": [
       "recommendations finished on 8000/100003 queries. users per second: 36932.2"
      ]
     },
     "metadata": {
      "tags": []
     },
     "output_type": "display_data"
    },
    {
     "data": {
      "text/html": [
       "<pre>recommendations finished on 9000/100003 queries. users per second: 37214.2</pre>"
      ],
      "text/plain": [
       "recommendations finished on 9000/100003 queries. users per second: 37214.2"
      ]
     },
     "metadata": {
      "tags": []
     },
     "output_type": "display_data"
    },
    {
     "data": {
      "text/html": [
       "<pre>recommendations finished on 10000/100003 queries. users per second: 37642.5</pre>"
      ],
      "text/plain": [
       "recommendations finished on 10000/100003 queries. users per second: 37642.5"
      ]
     },
     "metadata": {
      "tags": []
     },
     "output_type": "display_data"
    },
    {
     "data": {
      "text/html": [
       "<pre>recommendations finished on 11000/100003 queries. users per second: 37116.8</pre>"
      ],
      "text/plain": [
       "recommendations finished on 11000/100003 queries. users per second: 37116.8"
      ]
     },
     "metadata": {
      "tags": []
     },
     "output_type": "display_data"
    },
    {
     "data": {
      "text/html": [
       "<pre>recommendations finished on 12000/100003 queries. users per second: 37264.8</pre>"
      ],
      "text/plain": [
       "recommendations finished on 12000/100003 queries. users per second: 37264.8"
      ]
     },
     "metadata": {
      "tags": []
     },
     "output_type": "display_data"
    },
    {
     "data": {
      "text/html": [
       "<pre>recommendations finished on 13000/100003 queries. users per second: 37089.1</pre>"
      ],
      "text/plain": [
       "recommendations finished on 13000/100003 queries. users per second: 37089.1"
      ]
     },
     "metadata": {
      "tags": []
     },
     "output_type": "display_data"
    },
    {
     "data": {
      "text/html": [
       "<pre>recommendations finished on 14000/100003 queries. users per second: 37224</pre>"
      ],
      "text/plain": [
       "recommendations finished on 14000/100003 queries. users per second: 37224"
      ]
     },
     "metadata": {
      "tags": []
     },
     "output_type": "display_data"
    },
    {
     "data": {
      "text/html": [
       "<pre>recommendations finished on 15000/100003 queries. users per second: 37185.8</pre>"
      ],
      "text/plain": [
       "recommendations finished on 15000/100003 queries. users per second: 37185.8"
      ]
     },
     "metadata": {
      "tags": []
     },
     "output_type": "display_data"
    },
    {
     "data": {
      "text/html": [
       "<pre>recommendations finished on 16000/100003 queries. users per second: 37084.9</pre>"
      ],
      "text/plain": [
       "recommendations finished on 16000/100003 queries. users per second: 37084.9"
      ]
     },
     "metadata": {
      "tags": []
     },
     "output_type": "display_data"
    },
    {
     "data": {
      "text/html": [
       "<pre>recommendations finished on 17000/100003 queries. users per second: 37258.9</pre>"
      ],
      "text/plain": [
       "recommendations finished on 17000/100003 queries. users per second: 37258.9"
      ]
     },
     "metadata": {
      "tags": []
     },
     "output_type": "display_data"
    },
    {
     "data": {
      "text/html": [
       "<pre>recommendations finished on 18000/100003 queries. users per second: 37443.1</pre>"
      ],
      "text/plain": [
       "recommendations finished on 18000/100003 queries. users per second: 37443.1"
      ]
     },
     "metadata": {
      "tags": []
     },
     "output_type": "display_data"
    },
    {
     "data": {
      "text/html": [
       "<pre>recommendations finished on 19000/100003 queries. users per second: 37421</pre>"
      ],
      "text/plain": [
       "recommendations finished on 19000/100003 queries. users per second: 37421"
      ]
     },
     "metadata": {
      "tags": []
     },
     "output_type": "display_data"
    },
    {
     "data": {
      "text/html": [
       "<pre>recommendations finished on 20000/100003 queries. users per second: 37359.8</pre>"
      ],
      "text/plain": [
       "recommendations finished on 20000/100003 queries. users per second: 37359.8"
      ]
     },
     "metadata": {
      "tags": []
     },
     "output_type": "display_data"
    },
    {
     "data": {
      "text/html": [
       "<pre>recommendations finished on 21000/100003 queries. users per second: 37277.5</pre>"
      ],
      "text/plain": [
       "recommendations finished on 21000/100003 queries. users per second: 37277.5"
      ]
     },
     "metadata": {
      "tags": []
     },
     "output_type": "display_data"
    },
    {
     "data": {
      "text/html": [
       "<pre>recommendations finished on 22000/100003 queries. users per second: 36847.3</pre>"
      ],
      "text/plain": [
       "recommendations finished on 22000/100003 queries. users per second: 36847.3"
      ]
     },
     "metadata": {
      "tags": []
     },
     "output_type": "display_data"
    },
    {
     "data": {
      "text/html": [
       "<pre>recommendations finished on 23000/100003 queries. users per second: 36953.8</pre>"
      ],
      "text/plain": [
       "recommendations finished on 23000/100003 queries. users per second: 36953.8"
      ]
     },
     "metadata": {
      "tags": []
     },
     "output_type": "display_data"
    },
    {
     "data": {
      "text/html": [
       "<pre>recommendations finished on 24000/100003 queries. users per second: 36861.7</pre>"
      ],
      "text/plain": [
       "recommendations finished on 24000/100003 queries. users per second: 36861.7"
      ]
     },
     "metadata": {
      "tags": []
     },
     "output_type": "display_data"
    },
    {
     "data": {
      "text/html": [
       "<pre>recommendations finished on 25000/100003 queries. users per second: 36832.8</pre>"
      ],
      "text/plain": [
       "recommendations finished on 25000/100003 queries. users per second: 36832.8"
      ]
     },
     "metadata": {
      "tags": []
     },
     "output_type": "display_data"
    },
    {
     "data": {
      "text/html": [
       "<pre>recommendations finished on 26000/100003 queries. users per second: 36704.2</pre>"
      ],
      "text/plain": [
       "recommendations finished on 26000/100003 queries. users per second: 36704.2"
      ]
     },
     "metadata": {
      "tags": []
     },
     "output_type": "display_data"
    },
    {
     "data": {
      "text/html": [
       "<pre>recommendations finished on 27000/100003 queries. users per second: 36797.2</pre>"
      ],
      "text/plain": [
       "recommendations finished on 27000/100003 queries. users per second: 36797.2"
      ]
     },
     "metadata": {
      "tags": []
     },
     "output_type": "display_data"
    },
    {
     "data": {
      "text/html": [
       "<pre>recommendations finished on 28000/100003 queries. users per second: 36837.2</pre>"
      ],
      "text/plain": [
       "recommendations finished on 28000/100003 queries. users per second: 36837.2"
      ]
     },
     "metadata": {
      "tags": []
     },
     "output_type": "display_data"
    },
    {
     "data": {
      "text/html": [
       "<pre>recommendations finished on 29000/100003 queries. users per second: 36859.5</pre>"
      ],
      "text/plain": [
       "recommendations finished on 29000/100003 queries. users per second: 36859.5"
      ]
     },
     "metadata": {
      "tags": []
     },
     "output_type": "display_data"
    },
    {
     "data": {
      "text/html": [
       "<pre>recommendations finished on 30000/100003 queries. users per second: 36937</pre>"
      ],
      "text/plain": [
       "recommendations finished on 30000/100003 queries. users per second: 36937"
      ]
     },
     "metadata": {
      "tags": []
     },
     "output_type": "display_data"
    },
    {
     "data": {
      "text/html": [
       "<pre>recommendations finished on 31000/100003 queries. users per second: 36967.7</pre>"
      ],
      "text/plain": [
       "recommendations finished on 31000/100003 queries. users per second: 36967.7"
      ]
     },
     "metadata": {
      "tags": []
     },
     "output_type": "display_data"
    },
    {
     "data": {
      "text/html": [
       "<pre>recommendations finished on 32000/100003 queries. users per second: 36895</pre>"
      ],
      "text/plain": [
       "recommendations finished on 32000/100003 queries. users per second: 36895"
      ]
     },
     "metadata": {
      "tags": []
     },
     "output_type": "display_data"
    },
    {
     "data": {
      "text/html": [
       "<pre>recommendations finished on 33000/100003 queries. users per second: 36869.9</pre>"
      ],
      "text/plain": [
       "recommendations finished on 33000/100003 queries. users per second: 36869.9"
      ]
     },
     "metadata": {
      "tags": []
     },
     "output_type": "display_data"
    },
    {
     "data": {
      "text/html": [
       "<pre>recommendations finished on 34000/100003 queries. users per second: 36884.7</pre>"
      ],
      "text/plain": [
       "recommendations finished on 34000/100003 queries. users per second: 36884.7"
      ]
     },
     "metadata": {
      "tags": []
     },
     "output_type": "display_data"
    },
    {
     "data": {
      "text/html": [
       "<pre>recommendations finished on 35000/100003 queries. users per second: 37028.5</pre>"
      ],
      "text/plain": [
       "recommendations finished on 35000/100003 queries. users per second: 37028.5"
      ]
     },
     "metadata": {
      "tags": []
     },
     "output_type": "display_data"
    },
    {
     "data": {
      "text/html": [
       "<pre>recommendations finished on 36000/100003 queries. users per second: 36875</pre>"
      ],
      "text/plain": [
       "recommendations finished on 36000/100003 queries. users per second: 36875"
      ]
     },
     "metadata": {
      "tags": []
     },
     "output_type": "display_data"
    },
    {
     "data": {
      "text/html": [
       "<pre>recommendations finished on 37000/100003 queries. users per second: 36986.2</pre>"
      ],
      "text/plain": [
       "recommendations finished on 37000/100003 queries. users per second: 36986.2"
      ]
     },
     "metadata": {
      "tags": []
     },
     "output_type": "display_data"
    },
    {
     "data": {
      "text/html": [
       "<pre>recommendations finished on 38000/100003 queries. users per second: 36869.8</pre>"
      ],
      "text/plain": [
       "recommendations finished on 38000/100003 queries. users per second: 36869.8"
      ]
     },
     "metadata": {
      "tags": []
     },
     "output_type": "display_data"
    },
    {
     "data": {
      "text/html": [
       "<pre>recommendations finished on 39000/100003 queries. users per second: 36856.5</pre>"
      ],
      "text/plain": [
       "recommendations finished on 39000/100003 queries. users per second: 36856.5"
      ]
     },
     "metadata": {
      "tags": []
     },
     "output_type": "display_data"
    },
    {
     "data": {
      "text/html": [
       "<pre>recommendations finished on 40000/100003 queries. users per second: 36805.9</pre>"
      ],
      "text/plain": [
       "recommendations finished on 40000/100003 queries. users per second: 36805.9"
      ]
     },
     "metadata": {
      "tags": []
     },
     "output_type": "display_data"
    },
    {
     "data": {
      "text/html": [
       "<pre>recommendations finished on 41000/100003 queries. users per second: 36777.7</pre>"
      ],
      "text/plain": [
       "recommendations finished on 41000/100003 queries. users per second: 36777.7"
      ]
     },
     "metadata": {
      "tags": []
     },
     "output_type": "display_data"
    },
    {
     "data": {
      "text/html": [
       "<pre>recommendations finished on 42000/100003 queries. users per second: 36854.6</pre>"
      ],
      "text/plain": [
       "recommendations finished on 42000/100003 queries. users per second: 36854.6"
      ]
     },
     "metadata": {
      "tags": []
     },
     "output_type": "display_data"
    },
    {
     "data": {
      "text/html": [
       "<pre>recommendations finished on 43000/100003 queries. users per second: 36879.9</pre>"
      ],
      "text/plain": [
       "recommendations finished on 43000/100003 queries. users per second: 36879.9"
      ]
     },
     "metadata": {
      "tags": []
     },
     "output_type": "display_data"
    },
    {
     "data": {
      "text/html": [
       "<pre>recommendations finished on 44000/100003 queries. users per second: 36979.2</pre>"
      ],
      "text/plain": [
       "recommendations finished on 44000/100003 queries. users per second: 36979.2"
      ]
     },
     "metadata": {
      "tags": []
     },
     "output_type": "display_data"
    },
    {
     "data": {
      "text/html": [
       "<pre>recommendations finished on 45000/100003 queries. users per second: 37007.5</pre>"
      ],
      "text/plain": [
       "recommendations finished on 45000/100003 queries. users per second: 37007.5"
      ]
     },
     "metadata": {
      "tags": []
     },
     "output_type": "display_data"
    },
    {
     "data": {
      "text/html": [
       "<pre>recommendations finished on 46000/100003 queries. users per second: 36948.1</pre>"
      ],
      "text/plain": [
       "recommendations finished on 46000/100003 queries. users per second: 36948.1"
      ]
     },
     "metadata": {
      "tags": []
     },
     "output_type": "display_data"
    },
    {
     "data": {
      "text/html": [
       "<pre>recommendations finished on 47000/100003 queries. users per second: 37027.3</pre>"
      ],
      "text/plain": [
       "recommendations finished on 47000/100003 queries. users per second: 37027.3"
      ]
     },
     "metadata": {
      "tags": []
     },
     "output_type": "display_data"
    },
    {
     "data": {
      "text/html": [
       "<pre>recommendations finished on 48000/100003 queries. users per second: 36922.9</pre>"
      ],
      "text/plain": [
       "recommendations finished on 48000/100003 queries. users per second: 36922.9"
      ]
     },
     "metadata": {
      "tags": []
     },
     "output_type": "display_data"
    },
    {
     "data": {
      "text/html": [
       "<pre>recommendations finished on 49000/100003 queries. users per second: 36984.2</pre>"
      ],
      "text/plain": [
       "recommendations finished on 49000/100003 queries. users per second: 36984.2"
      ]
     },
     "metadata": {
      "tags": []
     },
     "output_type": "display_data"
    },
    {
     "data": {
      "text/html": [
       "<pre>recommendations finished on 50000/100003 queries. users per second: 37034</pre>"
      ],
      "text/plain": [
       "recommendations finished on 50000/100003 queries. users per second: 37034"
      ]
     },
     "metadata": {
      "tags": []
     },
     "output_type": "display_data"
    },
    {
     "data": {
      "text/html": [
       "<pre>recommendations finished on 51000/100003 queries. users per second: 37116.5</pre>"
      ],
      "text/plain": [
       "recommendations finished on 51000/100003 queries. users per second: 37116.5"
      ]
     },
     "metadata": {
      "tags": []
     },
     "output_type": "display_data"
    },
    {
     "data": {
      "text/html": [
       "<pre>recommendations finished on 52000/100003 queries. users per second: 37175</pre>"
      ],
      "text/plain": [
       "recommendations finished on 52000/100003 queries. users per second: 37175"
      ]
     },
     "metadata": {
      "tags": []
     },
     "output_type": "display_data"
    },
    {
     "data": {
      "text/html": [
       "<pre>recommendations finished on 53000/100003 queries. users per second: 37177.1</pre>"
      ],
      "text/plain": [
       "recommendations finished on 53000/100003 queries. users per second: 37177.1"
      ]
     },
     "metadata": {
      "tags": []
     },
     "output_type": "display_data"
    },
    {
     "data": {
      "text/html": [
       "<pre>recommendations finished on 54000/100003 queries. users per second: 37209.3</pre>"
      ],
      "text/plain": [
       "recommendations finished on 54000/100003 queries. users per second: 37209.3"
      ]
     },
     "metadata": {
      "tags": []
     },
     "output_type": "display_data"
    },
    {
     "data": {
      "text/html": [
       "<pre>recommendations finished on 55000/100003 queries. users per second: 37152.8</pre>"
      ],
      "text/plain": [
       "recommendations finished on 55000/100003 queries. users per second: 37152.8"
      ]
     },
     "metadata": {
      "tags": []
     },
     "output_type": "display_data"
    },
    {
     "data": {
      "text/html": [
       "<pre>recommendations finished on 56000/100003 queries. users per second: 37228.4</pre>"
      ],
      "text/plain": [
       "recommendations finished on 56000/100003 queries. users per second: 37228.4"
      ]
     },
     "metadata": {
      "tags": []
     },
     "output_type": "display_data"
    },
    {
     "data": {
      "text/html": [
       "<pre>recommendations finished on 57000/100003 queries. users per second: 37334.7</pre>"
      ],
      "text/plain": [
       "recommendations finished on 57000/100003 queries. users per second: 37334.7"
      ]
     },
     "metadata": {
      "tags": []
     },
     "output_type": "display_data"
    },
    {
     "data": {
      "text/html": [
       "<pre>recommendations finished on 58000/100003 queries. users per second: 37365.8</pre>"
      ],
      "text/plain": [
       "recommendations finished on 58000/100003 queries. users per second: 37365.8"
      ]
     },
     "metadata": {
      "tags": []
     },
     "output_type": "display_data"
    },
    {
     "data": {
      "text/html": [
       "<pre>recommendations finished on 59000/100003 queries. users per second: 37429.9</pre>"
      ],
      "text/plain": [
       "recommendations finished on 59000/100003 queries. users per second: 37429.9"
      ]
     },
     "metadata": {
      "tags": []
     },
     "output_type": "display_data"
    },
    {
     "data": {
      "text/html": [
       "<pre>recommendations finished on 60000/100003 queries. users per second: 37315.2</pre>"
      ],
      "text/plain": [
       "recommendations finished on 60000/100003 queries. users per second: 37315.2"
      ]
     },
     "metadata": {
      "tags": []
     },
     "output_type": "display_data"
    },
    {
     "data": {
      "text/html": [
       "<pre>recommendations finished on 61000/100003 queries. users per second: 37282.1</pre>"
      ],
      "text/plain": [
       "recommendations finished on 61000/100003 queries. users per second: 37282.1"
      ]
     },
     "metadata": {
      "tags": []
     },
     "output_type": "display_data"
    },
    {
     "data": {
      "text/html": [
       "<pre>recommendations finished on 62000/100003 queries. users per second: 37356.4</pre>"
      ],
      "text/plain": [
       "recommendations finished on 62000/100003 queries. users per second: 37356.4"
      ]
     },
     "metadata": {
      "tags": []
     },
     "output_type": "display_data"
    },
    {
     "data": {
      "text/html": [
       "<pre>recommendations finished on 63000/100003 queries. users per second: 37420.8</pre>"
      ],
      "text/plain": [
       "recommendations finished on 63000/100003 queries. users per second: 37420.8"
      ]
     },
     "metadata": {
      "tags": []
     },
     "output_type": "display_data"
    },
    {
     "data": {
      "text/html": [
       "<pre>recommendations finished on 64000/100003 queries. users per second: 37465.4</pre>"
      ],
      "text/plain": [
       "recommendations finished on 64000/100003 queries. users per second: 37465.4"
      ]
     },
     "metadata": {
      "tags": []
     },
     "output_type": "display_data"
    },
    {
     "data": {
      "text/html": [
       "<pre>recommendations finished on 65000/100003 queries. users per second: 37524.9</pre>"
      ],
      "text/plain": [
       "recommendations finished on 65000/100003 queries. users per second: 37524.9"
      ]
     },
     "metadata": {
      "tags": []
     },
     "output_type": "display_data"
    },
    {
     "data": {
      "text/html": [
       "<pre>recommendations finished on 66000/100003 queries. users per second: 37495</pre>"
      ],
      "text/plain": [
       "recommendations finished on 66000/100003 queries. users per second: 37495"
      ]
     },
     "metadata": {
      "tags": []
     },
     "output_type": "display_data"
    },
    {
     "data": {
      "text/html": [
       "<pre>recommendations finished on 67000/100003 queries. users per second: 37513.5</pre>"
      ],
      "text/plain": [
       "recommendations finished on 67000/100003 queries. users per second: 37513.5"
      ]
     },
     "metadata": {
      "tags": []
     },
     "output_type": "display_data"
    },
    {
     "data": {
      "text/html": [
       "<pre>recommendations finished on 68000/100003 queries. users per second: 37594.3</pre>"
      ],
      "text/plain": [
       "recommendations finished on 68000/100003 queries. users per second: 37594.3"
      ]
     },
     "metadata": {
      "tags": []
     },
     "output_type": "display_data"
    },
    {
     "data": {
      "text/html": [
       "<pre>recommendations finished on 69000/100003 queries. users per second: 37616.1</pre>"
      ],
      "text/plain": [
       "recommendations finished on 69000/100003 queries. users per second: 37616.1"
      ]
     },
     "metadata": {
      "tags": []
     },
     "output_type": "display_data"
    },
    {
     "data": {
      "text/html": [
       "<pre>recommendations finished on 70000/100003 queries. users per second: 37610</pre>"
      ],
      "text/plain": [
       "recommendations finished on 70000/100003 queries. users per second: 37610"
      ]
     },
     "metadata": {
      "tags": []
     },
     "output_type": "display_data"
    },
    {
     "data": {
      "text/html": [
       "<pre>recommendations finished on 71000/100003 queries. users per second: 37555.6</pre>"
      ],
      "text/plain": [
       "recommendations finished on 71000/100003 queries. users per second: 37555.6"
      ]
     },
     "metadata": {
      "tags": []
     },
     "output_type": "display_data"
    },
    {
     "data": {
      "text/html": [
       "<pre>recommendations finished on 72000/100003 queries. users per second: 37600</pre>"
      ],
      "text/plain": [
       "recommendations finished on 72000/100003 queries. users per second: 37600"
      ]
     },
     "metadata": {
      "tags": []
     },
     "output_type": "display_data"
    },
    {
     "data": {
      "text/html": [
       "<pre>recommendations finished on 73000/100003 queries. users per second: 37622.1</pre>"
      ],
      "text/plain": [
       "recommendations finished on 73000/100003 queries. users per second: 37622.1"
      ]
     },
     "metadata": {
      "tags": []
     },
     "output_type": "display_data"
    },
    {
     "data": {
      "text/html": [
       "<pre>recommendations finished on 74000/100003 queries. users per second: 37639.5</pre>"
      ],
      "text/plain": [
       "recommendations finished on 74000/100003 queries. users per second: 37639.5"
      ]
     },
     "metadata": {
      "tags": []
     },
     "output_type": "display_data"
    },
    {
     "data": {
      "text/html": [
       "<pre>recommendations finished on 75000/100003 queries. users per second: 37617.8</pre>"
      ],
      "text/plain": [
       "recommendations finished on 75000/100003 queries. users per second: 37617.8"
      ]
     },
     "metadata": {
      "tags": []
     },
     "output_type": "display_data"
    },
    {
     "data": {
      "text/html": [
       "<pre>recommendations finished on 76000/100003 queries. users per second: 37638.1</pre>"
      ],
      "text/plain": [
       "recommendations finished on 76000/100003 queries. users per second: 37638.1"
      ]
     },
     "metadata": {
      "tags": []
     },
     "output_type": "display_data"
    },
    {
     "data": {
      "text/html": [
       "<pre>recommendations finished on 77000/100003 queries. users per second: 37706.3</pre>"
      ],
      "text/plain": [
       "recommendations finished on 77000/100003 queries. users per second: 37706.3"
      ]
     },
     "metadata": {
      "tags": []
     },
     "output_type": "display_data"
    },
    {
     "data": {
      "text/html": [
       "<pre>recommendations finished on 78000/100003 queries. users per second: 37720.2</pre>"
      ],
      "text/plain": [
       "recommendations finished on 78000/100003 queries. users per second: 37720.2"
      ]
     },
     "metadata": {
      "tags": []
     },
     "output_type": "display_data"
    },
    {
     "data": {
      "text/html": [
       "<pre>recommendations finished on 79000/100003 queries. users per second: 37788.3</pre>"
      ],
      "text/plain": [
       "recommendations finished on 79000/100003 queries. users per second: 37788.3"
      ]
     },
     "metadata": {
      "tags": []
     },
     "output_type": "display_data"
    },
    {
     "data": {
      "text/html": [
       "<pre>recommendations finished on 80000/100003 queries. users per second: 37698.6</pre>"
      ],
      "text/plain": [
       "recommendations finished on 80000/100003 queries. users per second: 37698.6"
      ]
     },
     "metadata": {
      "tags": []
     },
     "output_type": "display_data"
    },
    {
     "data": {
      "text/html": [
       "<pre>recommendations finished on 81000/100003 queries. users per second: 37669</pre>"
      ],
      "text/plain": [
       "recommendations finished on 81000/100003 queries. users per second: 37669"
      ]
     },
     "metadata": {
      "tags": []
     },
     "output_type": "display_data"
    },
    {
     "data": {
      "text/html": [
       "<pre>recommendations finished on 82000/100003 queries. users per second: 37686.1</pre>"
      ],
      "text/plain": [
       "recommendations finished on 82000/100003 queries. users per second: 37686.1"
      ]
     },
     "metadata": {
      "tags": []
     },
     "output_type": "display_data"
    },
    {
     "data": {
      "text/html": [
       "<pre>recommendations finished on 83000/100003 queries. users per second: 37691.1</pre>"
      ],
      "text/plain": [
       "recommendations finished on 83000/100003 queries. users per second: 37691.1"
      ]
     },
     "metadata": {
      "tags": []
     },
     "output_type": "display_data"
    },
    {
     "data": {
      "text/html": [
       "<pre>recommendations finished on 84000/100003 queries. users per second: 37749.5</pre>"
      ],
      "text/plain": [
       "recommendations finished on 84000/100003 queries. users per second: 37749.5"
      ]
     },
     "metadata": {
      "tags": []
     },
     "output_type": "display_data"
    },
    {
     "data": {
      "text/html": [
       "<pre>recommendations finished on 85000/100003 queries. users per second: 37774.7</pre>"
      ],
      "text/plain": [
       "recommendations finished on 85000/100003 queries. users per second: 37774.7"
      ]
     },
     "metadata": {
      "tags": []
     },
     "output_type": "display_data"
    },
    {
     "data": {
      "text/html": [
       "<pre>recommendations finished on 86000/100003 queries. users per second: 37802.7</pre>"
      ],
      "text/plain": [
       "recommendations finished on 86000/100003 queries. users per second: 37802.7"
      ]
     },
     "metadata": {
      "tags": []
     },
     "output_type": "display_data"
    },
    {
     "data": {
      "text/html": [
       "<pre>recommendations finished on 87000/100003 queries. users per second: 37834.6</pre>"
      ],
      "text/plain": [
       "recommendations finished on 87000/100003 queries. users per second: 37834.6"
      ]
     },
     "metadata": {
      "tags": []
     },
     "output_type": "display_data"
    },
    {
     "data": {
      "text/html": [
       "<pre>recommendations finished on 88000/100003 queries. users per second: 37884.5</pre>"
      ],
      "text/plain": [
       "recommendations finished on 88000/100003 queries. users per second: 37884.5"
      ]
     },
     "metadata": {
      "tags": []
     },
     "output_type": "display_data"
    },
    {
     "data": {
      "text/html": [
       "<pre>recommendations finished on 89000/100003 queries. users per second: 37940.8</pre>"
      ],
      "text/plain": [
       "recommendations finished on 89000/100003 queries. users per second: 37940.8"
      ]
     },
     "metadata": {
      "tags": []
     },
     "output_type": "display_data"
    },
    {
     "data": {
      "text/html": [
       "<pre>recommendations finished on 90000/100003 queries. users per second: 37996.6</pre>"
      ],
      "text/plain": [
       "recommendations finished on 90000/100003 queries. users per second: 37996.6"
      ]
     },
     "metadata": {
      "tags": []
     },
     "output_type": "display_data"
    },
    {
     "data": {
      "text/html": [
       "<pre>recommendations finished on 91000/100003 queries. users per second: 37935.3</pre>"
      ],
      "text/plain": [
       "recommendations finished on 91000/100003 queries. users per second: 37935.3"
      ]
     },
     "metadata": {
      "tags": []
     },
     "output_type": "display_data"
    },
    {
     "data": {
      "text/html": [
       "<pre>recommendations finished on 92000/100003 queries. users per second: 37935</pre>"
      ],
      "text/plain": [
       "recommendations finished on 92000/100003 queries. users per second: 37935"
      ]
     },
     "metadata": {
      "tags": []
     },
     "output_type": "display_data"
    },
    {
     "data": {
      "text/html": [
       "<pre>recommendations finished on 93000/100003 queries. users per second: 38003.2</pre>"
      ],
      "text/plain": [
       "recommendations finished on 93000/100003 queries. users per second: 38003.2"
      ]
     },
     "metadata": {
      "tags": []
     },
     "output_type": "display_data"
    },
    {
     "data": {
      "text/html": [
       "<pre>recommendations finished on 94000/100003 queries. users per second: 38053.2</pre>"
      ],
      "text/plain": [
       "recommendations finished on 94000/100003 queries. users per second: 38053.2"
      ]
     },
     "metadata": {
      "tags": []
     },
     "output_type": "display_data"
    },
    {
     "data": {
      "text/html": [
       "<pre>recommendations finished on 95000/100003 queries. users per second: 38118.5</pre>"
      ],
      "text/plain": [
       "recommendations finished on 95000/100003 queries. users per second: 38118.5"
      ]
     },
     "metadata": {
      "tags": []
     },
     "output_type": "display_data"
    },
    {
     "data": {
      "text/html": [
       "<pre>recommendations finished on 96000/100003 queries. users per second: 38155.2</pre>"
      ],
      "text/plain": [
       "recommendations finished on 96000/100003 queries. users per second: 38155.2"
      ]
     },
     "metadata": {
      "tags": []
     },
     "output_type": "display_data"
    },
    {
     "data": {
      "text/html": [
       "<pre>recommendations finished on 97000/100003 queries. users per second: 38187.7</pre>"
      ],
      "text/plain": [
       "recommendations finished on 97000/100003 queries. users per second: 38187.7"
      ]
     },
     "metadata": {
      "tags": []
     },
     "output_type": "display_data"
    },
    {
     "data": {
      "text/html": [
       "<pre>recommendations finished on 98000/100003 queries. users per second: 38233.3</pre>"
      ],
      "text/plain": [
       "recommendations finished on 98000/100003 queries. users per second: 38233.3"
      ]
     },
     "metadata": {
      "tags": []
     },
     "output_type": "display_data"
    },
    {
     "data": {
      "text/html": [
       "<pre>recommendations finished on 99000/100003 queries. users per second: 38245.3</pre>"
      ],
      "text/plain": [
       "recommendations finished on 99000/100003 queries. users per second: 38245.3"
      ]
     },
     "metadata": {
      "tags": []
     },
     "output_type": "display_data"
    },
    {
     "data": {
      "text/html": [
       "<pre>recommendations finished on 100000/100003 queries. users per second: 38290.5</pre>"
      ],
      "text/plain": [
       "recommendations finished on 100000/100003 queries. users per second: 38290.5"
      ]
     },
     "metadata": {
      "tags": []
     },
     "output_type": "display_data"
    },
    {
     "name": "stdout",
     "output_type": "stream",
     "text": [
      "+---------+---------+-------+------+\n",
      "| user_id | item_id | score | rank |\n",
      "+---------+---------+-------+------+\n",
      "|    0    |    54   |  1.0  |  1   |\n",
      "|    0    |   225   |  1.0  |  2   |\n",
      "|    0    |    56   |  1.0  |  3   |\n",
      "|    0    |   833   |  1.0  |  4   |\n",
      "|    0    |   653   |  1.0  |  5   |\n",
      "|    0    |   526   |  1.0  |  6   |\n",
      "|    0    |   421   |  1.0  |  7   |\n",
      "|    0    |   136   |  1.0  |  8   |\n",
      "|    0    |   284   |  1.0  |  9   |\n",
      "|    0    |   509   |  1.0  |  10  |\n",
      "|    0    |    54   |  1.0  |  1   |\n",
      "|    0    |   225   |  1.0  |  2   |\n",
      "|    0    |    56   |  1.0  |  3   |\n",
      "|    0    |   833   |  1.0  |  4   |\n",
      "|    0    |   653   |  1.0  |  5   |\n",
      "|    0    |   526   |  1.0  |  6   |\n",
      "|    0    |   421   |  1.0  |  7   |\n",
      "|    0    |   136   |  1.0  |  8   |\n",
      "|    0    |   284   |  1.0  |  9   |\n",
      "|    0    |   509   |  1.0  |  10  |\n",
      "|    0    |    54   |  1.0  |  1   |\n",
      "|    0    |   225   |  1.0  |  2   |\n",
      "|    0    |    56   |  1.0  |  3   |\n",
      "|    0    |   833   |  1.0  |  4   |\n",
      "|    0    |   653   |  1.0  |  5   |\n",
      "|    0    |   526   |  1.0  |  6   |\n",
      "|    0    |   421   |  1.0  |  7   |\n",
      "|    0    |   136   |  1.0  |  8   |\n",
      "|    0    |   284   |  1.0  |  9   |\n",
      "|    0    |   509   |  1.0  |  10  |\n",
      "+---------+---------+-------+------+\n",
      "[1000030 rows x 4 columns]\n",
      "\n"
     ]
    }
   ],
   "source": [
    "#Using Rating dummies\n",
    "# these variables will change accordingly\n",
    "name = 'popularity'\n",
    "target = 'rating_dummy'\n",
    "pop_dummy = model(train_data_dummy, name, user_id, item_id, target, users_to_recommend, n_rec, n_display)"
   ]
  },
  {
   "cell_type": "code",
   "execution_count": 33,
   "metadata": {
    "colab": {
     "base_uri": "https://localhost:8080/",
     "height": 1000
    },
    "id": "2NHU7g4GX3c_",
    "outputId": "80de8bbe-deec-4132-b7e1-ae04179dad29"
   },
   "outputs": [
    {
     "data": {
      "text/html": [
       "<pre>Preparing data set.</pre>"
      ],
      "text/plain": [
       "Preparing data set."
      ]
     },
     "metadata": {
      "tags": []
     },
     "output_type": "display_data"
    },
    {
     "data": {
      "text/html": [
       "<pre>    Data has 79834 observations with 944 users and 1512 items.</pre>"
      ],
      "text/plain": [
       "    Data has 79834 observations with 944 users and 1512 items."
      ]
     },
     "metadata": {
      "tags": []
     },
     "output_type": "display_data"
    },
    {
     "data": {
      "text/html": [
       "<pre>    Data prepared in: 0.085448s</pre>"
      ],
      "text/plain": [
       "    Data prepared in: 0.085448s"
      ]
     },
     "metadata": {
      "tags": []
     },
     "output_type": "display_data"
    },
    {
     "data": {
      "text/html": [
       "<pre>79834 observations to process; with 1512 unique items.</pre>"
      ],
      "text/plain": [
       "79834 observations to process; with 1512 unique items."
      ]
     },
     "metadata": {
      "tags": []
     },
     "output_type": "display_data"
    },
    {
     "data": {
      "text/html": [
       "<pre>recommendations finished on 1000/100003 queries. users per second: 42673</pre>"
      ],
      "text/plain": [
       "recommendations finished on 1000/100003 queries. users per second: 42673"
      ]
     },
     "metadata": {
      "tags": []
     },
     "output_type": "display_data"
    },
    {
     "data": {
      "text/html": [
       "<pre>recommendations finished on 2000/100003 queries. users per second: 42964.6</pre>"
      ],
      "text/plain": [
       "recommendations finished on 2000/100003 queries. users per second: 42964.6"
      ]
     },
     "metadata": {
      "tags": []
     },
     "output_type": "display_data"
    },
    {
     "data": {
      "text/html": [
       "<pre>recommendations finished on 3000/100003 queries. users per second: 42144.3</pre>"
      ],
      "text/plain": [
       "recommendations finished on 3000/100003 queries. users per second: 42144.3"
      ]
     },
     "metadata": {
      "tags": []
     },
     "output_type": "display_data"
    },
    {
     "data": {
      "text/html": [
       "<pre>recommendations finished on 4000/100003 queries. users per second: 40878.9</pre>"
      ],
      "text/plain": [
       "recommendations finished on 4000/100003 queries. users per second: 40878.9"
      ]
     },
     "metadata": {
      "tags": []
     },
     "output_type": "display_data"
    },
    {
     "data": {
      "text/html": [
       "<pre>recommendations finished on 5000/100003 queries. users per second: 41303.9</pre>"
      ],
      "text/plain": [
       "recommendations finished on 5000/100003 queries. users per second: 41303.9"
      ]
     },
     "metadata": {
      "tags": []
     },
     "output_type": "display_data"
    },
    {
     "data": {
      "text/html": [
       "<pre>recommendations finished on 6000/100003 queries. users per second: 40005.6</pre>"
      ],
      "text/plain": [
       "recommendations finished on 6000/100003 queries. users per second: 40005.6"
      ]
     },
     "metadata": {
      "tags": []
     },
     "output_type": "display_data"
    },
    {
     "data": {
      "text/html": [
       "<pre>recommendations finished on 7000/100003 queries. users per second: 37640.3</pre>"
      ],
      "text/plain": [
       "recommendations finished on 7000/100003 queries. users per second: 37640.3"
      ]
     },
     "metadata": {
      "tags": []
     },
     "output_type": "display_data"
    },
    {
     "data": {
      "text/html": [
       "<pre>recommendations finished on 8000/100003 queries. users per second: 37423.7</pre>"
      ],
      "text/plain": [
       "recommendations finished on 8000/100003 queries. users per second: 37423.7"
      ]
     },
     "metadata": {
      "tags": []
     },
     "output_type": "display_data"
    },
    {
     "data": {
      "text/html": [
       "<pre>recommendations finished on 9000/100003 queries. users per second: 38064.8</pre>"
      ],
      "text/plain": [
       "recommendations finished on 9000/100003 queries. users per second: 38064.8"
      ]
     },
     "metadata": {
      "tags": []
     },
     "output_type": "display_data"
    },
    {
     "data": {
      "text/html": [
       "<pre>recommendations finished on 10000/100003 queries. users per second: 37885.7</pre>"
      ],
      "text/plain": [
       "recommendations finished on 10000/100003 queries. users per second: 37885.7"
      ]
     },
     "metadata": {
      "tags": []
     },
     "output_type": "display_data"
    },
    {
     "data": {
      "text/html": [
       "<pre>recommendations finished on 11000/100003 queries. users per second: 37953.3</pre>"
      ],
      "text/plain": [
       "recommendations finished on 11000/100003 queries. users per second: 37953.3"
      ]
     },
     "metadata": {
      "tags": []
     },
     "output_type": "display_data"
    },
    {
     "data": {
      "text/html": [
       "<pre>recommendations finished on 12000/100003 queries. users per second: 38398.2</pre>"
      ],
      "text/plain": [
       "recommendations finished on 12000/100003 queries. users per second: 38398.2"
      ]
     },
     "metadata": {
      "tags": []
     },
     "output_type": "display_data"
    },
    {
     "data": {
      "text/html": [
       "<pre>recommendations finished on 13000/100003 queries. users per second: 37563.6</pre>"
      ],
      "text/plain": [
       "recommendations finished on 13000/100003 queries. users per second: 37563.6"
      ]
     },
     "metadata": {
      "tags": []
     },
     "output_type": "display_data"
    },
    {
     "data": {
      "text/html": [
       "<pre>recommendations finished on 14000/100003 queries. users per second: 37856.9</pre>"
      ],
      "text/plain": [
       "recommendations finished on 14000/100003 queries. users per second: 37856.9"
      ]
     },
     "metadata": {
      "tags": []
     },
     "output_type": "display_data"
    },
    {
     "data": {
      "text/html": [
       "<pre>recommendations finished on 15000/100003 queries. users per second: 38015.3</pre>"
      ],
      "text/plain": [
       "recommendations finished on 15000/100003 queries. users per second: 38015.3"
      ]
     },
     "metadata": {
      "tags": []
     },
     "output_type": "display_data"
    },
    {
     "data": {
      "text/html": [
       "<pre>recommendations finished on 16000/100003 queries. users per second: 37614</pre>"
      ],
      "text/plain": [
       "recommendations finished on 16000/100003 queries. users per second: 37614"
      ]
     },
     "metadata": {
      "tags": []
     },
     "output_type": "display_data"
    },
    {
     "data": {
      "text/html": [
       "<pre>recommendations finished on 17000/100003 queries. users per second: 37536.3</pre>"
      ],
      "text/plain": [
       "recommendations finished on 17000/100003 queries. users per second: 37536.3"
      ]
     },
     "metadata": {
      "tags": []
     },
     "output_type": "display_data"
    },
    {
     "data": {
      "text/html": [
       "<pre>recommendations finished on 18000/100003 queries. users per second: 37758.3</pre>"
      ],
      "text/plain": [
       "recommendations finished on 18000/100003 queries. users per second: 37758.3"
      ]
     },
     "metadata": {
      "tags": []
     },
     "output_type": "display_data"
    },
    {
     "data": {
      "text/html": [
       "<pre>recommendations finished on 19000/100003 queries. users per second: 37917.7</pre>"
      ],
      "text/plain": [
       "recommendations finished on 19000/100003 queries. users per second: 37917.7"
      ]
     },
     "metadata": {
      "tags": []
     },
     "output_type": "display_data"
    },
    {
     "data": {
      "text/html": [
       "<pre>recommendations finished on 20000/100003 queries. users per second: 37886</pre>"
      ],
      "text/plain": [
       "recommendations finished on 20000/100003 queries. users per second: 37886"
      ]
     },
     "metadata": {
      "tags": []
     },
     "output_type": "display_data"
    },
    {
     "data": {
      "text/html": [
       "<pre>recommendations finished on 21000/100003 queries. users per second: 38085.6</pre>"
      ],
      "text/plain": [
       "recommendations finished on 21000/100003 queries. users per second: 38085.6"
      ]
     },
     "metadata": {
      "tags": []
     },
     "output_type": "display_data"
    },
    {
     "data": {
      "text/html": [
       "<pre>recommendations finished on 22000/100003 queries. users per second: 37746.1</pre>"
      ],
      "text/plain": [
       "recommendations finished on 22000/100003 queries. users per second: 37746.1"
      ]
     },
     "metadata": {
      "tags": []
     },
     "output_type": "display_data"
    },
    {
     "data": {
      "text/html": [
       "<pre>recommendations finished on 23000/100003 queries. users per second: 37697.7</pre>"
      ],
      "text/plain": [
       "recommendations finished on 23000/100003 queries. users per second: 37697.7"
      ]
     },
     "metadata": {
      "tags": []
     },
     "output_type": "display_data"
    },
    {
     "data": {
      "text/html": [
       "<pre>recommendations finished on 24000/100003 queries. users per second: 37609.8</pre>"
      ],
      "text/plain": [
       "recommendations finished on 24000/100003 queries. users per second: 37609.8"
      ]
     },
     "metadata": {
      "tags": []
     },
     "output_type": "display_data"
    },
    {
     "data": {
      "text/html": [
       "<pre>recommendations finished on 25000/100003 queries. users per second: 37838.7</pre>"
      ],
      "text/plain": [
       "recommendations finished on 25000/100003 queries. users per second: 37838.7"
      ]
     },
     "metadata": {
      "tags": []
     },
     "output_type": "display_data"
    },
    {
     "data": {
      "text/html": [
       "<pre>recommendations finished on 26000/100003 queries. users per second: 37723.6</pre>"
      ],
      "text/plain": [
       "recommendations finished on 26000/100003 queries. users per second: 37723.6"
      ]
     },
     "metadata": {
      "tags": []
     },
     "output_type": "display_data"
    },
    {
     "data": {
      "text/html": [
       "<pre>recommendations finished on 27000/100003 queries. users per second: 37807.8</pre>"
      ],
      "text/plain": [
       "recommendations finished on 27000/100003 queries. users per second: 37807.8"
      ]
     },
     "metadata": {
      "tags": []
     },
     "output_type": "display_data"
    },
    {
     "data": {
      "text/html": [
       "<pre>recommendations finished on 28000/100003 queries. users per second: 37834</pre>"
      ],
      "text/plain": [
       "recommendations finished on 28000/100003 queries. users per second: 37834"
      ]
     },
     "metadata": {
      "tags": []
     },
     "output_type": "display_data"
    },
    {
     "data": {
      "text/html": [
       "<pre>recommendations finished on 29000/100003 queries. users per second: 37942.3</pre>"
      ],
      "text/plain": [
       "recommendations finished on 29000/100003 queries. users per second: 37942.3"
      ]
     },
     "metadata": {
      "tags": []
     },
     "output_type": "display_data"
    },
    {
     "data": {
      "text/html": [
       "<pre>recommendations finished on 30000/100003 queries. users per second: 37941.9</pre>"
      ],
      "text/plain": [
       "recommendations finished on 30000/100003 queries. users per second: 37941.9"
      ]
     },
     "metadata": {
      "tags": []
     },
     "output_type": "display_data"
    },
    {
     "data": {
      "text/html": [
       "<pre>recommendations finished on 31000/100003 queries. users per second: 38104.9</pre>"
      ],
      "text/plain": [
       "recommendations finished on 31000/100003 queries. users per second: 38104.9"
      ]
     },
     "metadata": {
      "tags": []
     },
     "output_type": "display_data"
    },
    {
     "data": {
      "text/html": [
       "<pre>recommendations finished on 32000/100003 queries. users per second: 38223.7</pre>"
      ],
      "text/plain": [
       "recommendations finished on 32000/100003 queries. users per second: 38223.7"
      ]
     },
     "metadata": {
      "tags": []
     },
     "output_type": "display_data"
    },
    {
     "data": {
      "text/html": [
       "<pre>recommendations finished on 33000/100003 queries. users per second: 38228.2</pre>"
      ],
      "text/plain": [
       "recommendations finished on 33000/100003 queries. users per second: 38228.2"
      ]
     },
     "metadata": {
      "tags": []
     },
     "output_type": "display_data"
    },
    {
     "data": {
      "text/html": [
       "<pre>recommendations finished on 34000/100003 queries. users per second: 38221.4</pre>"
      ],
      "text/plain": [
       "recommendations finished on 34000/100003 queries. users per second: 38221.4"
      ]
     },
     "metadata": {
      "tags": []
     },
     "output_type": "display_data"
    },
    {
     "data": {
      "text/html": [
       "<pre>recommendations finished on 35000/100003 queries. users per second: 38284.5</pre>"
      ],
      "text/plain": [
       "recommendations finished on 35000/100003 queries. users per second: 38284.5"
      ]
     },
     "metadata": {
      "tags": []
     },
     "output_type": "display_data"
    },
    {
     "data": {
      "text/html": [
       "<pre>recommendations finished on 36000/100003 queries. users per second: 38216.1</pre>"
      ],
      "text/plain": [
       "recommendations finished on 36000/100003 queries. users per second: 38216.1"
      ]
     },
     "metadata": {
      "tags": []
     },
     "output_type": "display_data"
    },
    {
     "data": {
      "text/html": [
       "<pre>recommendations finished on 37000/100003 queries. users per second: 38300.5</pre>"
      ],
      "text/plain": [
       "recommendations finished on 37000/100003 queries. users per second: 38300.5"
      ]
     },
     "metadata": {
      "tags": []
     },
     "output_type": "display_data"
    },
    {
     "data": {
      "text/html": [
       "<pre>recommendations finished on 38000/100003 queries. users per second: 38384.5</pre>"
      ],
      "text/plain": [
       "recommendations finished on 38000/100003 queries. users per second: 38384.5"
      ]
     },
     "metadata": {
      "tags": []
     },
     "output_type": "display_data"
    },
    {
     "data": {
      "text/html": [
       "<pre>recommendations finished on 39000/100003 queries. users per second: 38338.3</pre>"
      ],
      "text/plain": [
       "recommendations finished on 39000/100003 queries. users per second: 38338.3"
      ]
     },
     "metadata": {
      "tags": []
     },
     "output_type": "display_data"
    },
    {
     "data": {
      "text/html": [
       "<pre>recommendations finished on 40000/100003 queries. users per second: 38428.4</pre>"
      ],
      "text/plain": [
       "recommendations finished on 40000/100003 queries. users per second: 38428.4"
      ]
     },
     "metadata": {
      "tags": []
     },
     "output_type": "display_data"
    },
    {
     "data": {
      "text/html": [
       "<pre>recommendations finished on 41000/100003 queries. users per second: 38275.5</pre>"
      ],
      "text/plain": [
       "recommendations finished on 41000/100003 queries. users per second: 38275.5"
      ]
     },
     "metadata": {
      "tags": []
     },
     "output_type": "display_data"
    },
    {
     "data": {
      "text/html": [
       "<pre>recommendations finished on 42000/100003 queries. users per second: 38257.6</pre>"
      ],
      "text/plain": [
       "recommendations finished on 42000/100003 queries. users per second: 38257.6"
      ]
     },
     "metadata": {
      "tags": []
     },
     "output_type": "display_data"
    },
    {
     "data": {
      "text/html": [
       "<pre>recommendations finished on 43000/100003 queries. users per second: 38375</pre>"
      ],
      "text/plain": [
       "recommendations finished on 43000/100003 queries. users per second: 38375"
      ]
     },
     "metadata": {
      "tags": []
     },
     "output_type": "display_data"
    },
    {
     "data": {
      "text/html": [
       "<pre>recommendations finished on 44000/100003 queries. users per second: 38406.3</pre>"
      ],
      "text/plain": [
       "recommendations finished on 44000/100003 queries. users per second: 38406.3"
      ]
     },
     "metadata": {
      "tags": []
     },
     "output_type": "display_data"
    },
    {
     "data": {
      "text/html": [
       "<pre>recommendations finished on 45000/100003 queries. users per second: 38446.7</pre>"
      ],
      "text/plain": [
       "recommendations finished on 45000/100003 queries. users per second: 38446.7"
      ]
     },
     "metadata": {
      "tags": []
     },
     "output_type": "display_data"
    },
    {
     "data": {
      "text/html": [
       "<pre>recommendations finished on 46000/100003 queries. users per second: 38498</pre>"
      ],
      "text/plain": [
       "recommendations finished on 46000/100003 queries. users per second: 38498"
      ]
     },
     "metadata": {
      "tags": []
     },
     "output_type": "display_data"
    },
    {
     "data": {
      "text/html": [
       "<pre>recommendations finished on 47000/100003 queries. users per second: 38539.3</pre>"
      ],
      "text/plain": [
       "recommendations finished on 47000/100003 queries. users per second: 38539.3"
      ]
     },
     "metadata": {
      "tags": []
     },
     "output_type": "display_data"
    },
    {
     "data": {
      "text/html": [
       "<pre>recommendations finished on 48000/100003 queries. users per second: 38640.7</pre>"
      ],
      "text/plain": [
       "recommendations finished on 48000/100003 queries. users per second: 38640.7"
      ]
     },
     "metadata": {
      "tags": []
     },
     "output_type": "display_data"
    },
    {
     "data": {
      "text/html": [
       "<pre>recommendations finished on 49000/100003 queries. users per second: 38780.5</pre>"
      ],
      "text/plain": [
       "recommendations finished on 49000/100003 queries. users per second: 38780.5"
      ]
     },
     "metadata": {
      "tags": []
     },
     "output_type": "display_data"
    },
    {
     "data": {
      "text/html": [
       "<pre>recommendations finished on 50000/100003 queries. users per second: 38836.4</pre>"
      ],
      "text/plain": [
       "recommendations finished on 50000/100003 queries. users per second: 38836.4"
      ]
     },
     "metadata": {
      "tags": []
     },
     "output_type": "display_data"
    },
    {
     "data": {
      "text/html": [
       "<pre>recommendations finished on 51000/100003 queries. users per second: 38879.2</pre>"
      ],
      "text/plain": [
       "recommendations finished on 51000/100003 queries. users per second: 38879.2"
      ]
     },
     "metadata": {
      "tags": []
     },
     "output_type": "display_data"
    },
    {
     "data": {
      "text/html": [
       "<pre>recommendations finished on 52000/100003 queries. users per second: 38945</pre>"
      ],
      "text/plain": [
       "recommendations finished on 52000/100003 queries. users per second: 38945"
      ]
     },
     "metadata": {
      "tags": []
     },
     "output_type": "display_data"
    },
    {
     "data": {
      "text/html": [
       "<pre>recommendations finished on 53000/100003 queries. users per second: 38815.9</pre>"
      ],
      "text/plain": [
       "recommendations finished on 53000/100003 queries. users per second: 38815.9"
      ]
     },
     "metadata": {
      "tags": []
     },
     "output_type": "display_data"
    },
    {
     "data": {
      "text/html": [
       "<pre>recommendations finished on 54000/100003 queries. users per second: 38917.1</pre>"
      ],
      "text/plain": [
       "recommendations finished on 54000/100003 queries. users per second: 38917.1"
      ]
     },
     "metadata": {
      "tags": []
     },
     "output_type": "display_data"
    },
    {
     "data": {
      "text/html": [
       "<pre>recommendations finished on 55000/100003 queries. users per second: 38782.1</pre>"
      ],
      "text/plain": [
       "recommendations finished on 55000/100003 queries. users per second: 38782.1"
      ]
     },
     "metadata": {
      "tags": []
     },
     "output_type": "display_data"
    },
    {
     "data": {
      "text/html": [
       "<pre>recommendations finished on 56000/100003 queries. users per second: 38780.5</pre>"
      ],
      "text/plain": [
       "recommendations finished on 56000/100003 queries. users per second: 38780.5"
      ]
     },
     "metadata": {
      "tags": []
     },
     "output_type": "display_data"
    },
    {
     "data": {
      "text/html": [
       "<pre>recommendations finished on 57000/100003 queries. users per second: 38815.8</pre>"
      ],
      "text/plain": [
       "recommendations finished on 57000/100003 queries. users per second: 38815.8"
      ]
     },
     "metadata": {
      "tags": []
     },
     "output_type": "display_data"
    },
    {
     "data": {
      "text/html": [
       "<pre>recommendations finished on 58000/100003 queries. users per second: 38858.8</pre>"
      ],
      "text/plain": [
       "recommendations finished on 58000/100003 queries. users per second: 38858.8"
      ]
     },
     "metadata": {
      "tags": []
     },
     "output_type": "display_data"
    },
    {
     "data": {
      "text/html": [
       "<pre>recommendations finished on 59000/100003 queries. users per second: 38934.3</pre>"
      ],
      "text/plain": [
       "recommendations finished on 59000/100003 queries. users per second: 38934.3"
      ]
     },
     "metadata": {
      "tags": []
     },
     "output_type": "display_data"
    },
    {
     "data": {
      "text/html": [
       "<pre>recommendations finished on 60000/100003 queries. users per second: 39008.6</pre>"
      ],
      "text/plain": [
       "recommendations finished on 60000/100003 queries. users per second: 39008.6"
      ]
     },
     "metadata": {
      "tags": []
     },
     "output_type": "display_data"
    },
    {
     "data": {
      "text/html": [
       "<pre>recommendations finished on 61000/100003 queries. users per second: 39081.8</pre>"
      ],
      "text/plain": [
       "recommendations finished on 61000/100003 queries. users per second: 39081.8"
      ]
     },
     "metadata": {
      "tags": []
     },
     "output_type": "display_data"
    },
    {
     "data": {
      "text/html": [
       "<pre>recommendations finished on 62000/100003 queries. users per second: 39101</pre>"
      ],
      "text/plain": [
       "recommendations finished on 62000/100003 queries. users per second: 39101"
      ]
     },
     "metadata": {
      "tags": []
     },
     "output_type": "display_data"
    },
    {
     "data": {
      "text/html": [
       "<pre>recommendations finished on 63000/100003 queries. users per second: 39158.7</pre>"
      ],
      "text/plain": [
       "recommendations finished on 63000/100003 queries. users per second: 39158.7"
      ]
     },
     "metadata": {
      "tags": []
     },
     "output_type": "display_data"
    },
    {
     "data": {
      "text/html": [
       "<pre>recommendations finished on 64000/100003 queries. users per second: 39186.8</pre>"
      ],
      "text/plain": [
       "recommendations finished on 64000/100003 queries. users per second: 39186.8"
      ]
     },
     "metadata": {
      "tags": []
     },
     "output_type": "display_data"
    },
    {
     "data": {
      "text/html": [
       "<pre>recommendations finished on 65000/100003 queries. users per second: 39234.9</pre>"
      ],
      "text/plain": [
       "recommendations finished on 65000/100003 queries. users per second: 39234.9"
      ]
     },
     "metadata": {
      "tags": []
     },
     "output_type": "display_data"
    },
    {
     "data": {
      "text/html": [
       "<pre>recommendations finished on 66000/100003 queries. users per second: 39304.5</pre>"
      ],
      "text/plain": [
       "recommendations finished on 66000/100003 queries. users per second: 39304.5"
      ]
     },
     "metadata": {
      "tags": []
     },
     "output_type": "display_data"
    },
    {
     "data": {
      "text/html": [
       "<pre>recommendations finished on 67000/100003 queries. users per second: 39314.9</pre>"
      ],
      "text/plain": [
       "recommendations finished on 67000/100003 queries. users per second: 39314.9"
      ]
     },
     "metadata": {
      "tags": []
     },
     "output_type": "display_data"
    },
    {
     "data": {
      "text/html": [
       "<pre>recommendations finished on 68000/100003 queries. users per second: 39307.5</pre>"
      ],
      "text/plain": [
       "recommendations finished on 68000/100003 queries. users per second: 39307.5"
      ]
     },
     "metadata": {
      "tags": []
     },
     "output_type": "display_data"
    },
    {
     "data": {
      "text/html": [
       "<pre>recommendations finished on 69000/100003 queries. users per second: 39231.5</pre>"
      ],
      "text/plain": [
       "recommendations finished on 69000/100003 queries. users per second: 39231.5"
      ]
     },
     "metadata": {
      "tags": []
     },
     "output_type": "display_data"
    },
    {
     "data": {
      "text/html": [
       "<pre>recommendations finished on 70000/100003 queries. users per second: 39278.6</pre>"
      ],
      "text/plain": [
       "recommendations finished on 70000/100003 queries. users per second: 39278.6"
      ]
     },
     "metadata": {
      "tags": []
     },
     "output_type": "display_data"
    },
    {
     "data": {
      "text/html": [
       "<pre>recommendations finished on 71000/100003 queries. users per second: 39326.4</pre>"
      ],
      "text/plain": [
       "recommendations finished on 71000/100003 queries. users per second: 39326.4"
      ]
     },
     "metadata": {
      "tags": []
     },
     "output_type": "display_data"
    },
    {
     "data": {
      "text/html": [
       "<pre>recommendations finished on 72000/100003 queries. users per second: 39375.5</pre>"
      ],
      "text/plain": [
       "recommendations finished on 72000/100003 queries. users per second: 39375.5"
      ]
     },
     "metadata": {
      "tags": []
     },
     "output_type": "display_data"
    },
    {
     "data": {
      "text/html": [
       "<pre>recommendations finished on 73000/100003 queries. users per second: 39405.2</pre>"
      ],
      "text/plain": [
       "recommendations finished on 73000/100003 queries. users per second: 39405.2"
      ]
     },
     "metadata": {
      "tags": []
     },
     "output_type": "display_data"
    },
    {
     "data": {
      "text/html": [
       "<pre>recommendations finished on 74000/100003 queries. users per second: 39423.7</pre>"
      ],
      "text/plain": [
       "recommendations finished on 74000/100003 queries. users per second: 39423.7"
      ]
     },
     "metadata": {
      "tags": []
     },
     "output_type": "display_data"
    },
    {
     "data": {
      "text/html": [
       "<pre>recommendations finished on 75000/100003 queries. users per second: 39452.6</pre>"
      ],
      "text/plain": [
       "recommendations finished on 75000/100003 queries. users per second: 39452.6"
      ]
     },
     "metadata": {
      "tags": []
     },
     "output_type": "display_data"
    },
    {
     "data": {
      "text/html": [
       "<pre>recommendations finished on 76000/100003 queries. users per second: 39492.4</pre>"
      ],
      "text/plain": [
       "recommendations finished on 76000/100003 queries. users per second: 39492.4"
      ]
     },
     "metadata": {
      "tags": []
     },
     "output_type": "display_data"
    },
    {
     "data": {
      "text/html": [
       "<pre>recommendations finished on 77000/100003 queries. users per second: 39581.9</pre>"
      ],
      "text/plain": [
       "recommendations finished on 77000/100003 queries. users per second: 39581.9"
      ]
     },
     "metadata": {
      "tags": []
     },
     "output_type": "display_data"
    },
    {
     "data": {
      "text/html": [
       "<pre>recommendations finished on 78000/100003 queries. users per second: 39633.3</pre>"
      ],
      "text/plain": [
       "recommendations finished on 78000/100003 queries. users per second: 39633.3"
      ]
     },
     "metadata": {
      "tags": []
     },
     "output_type": "display_data"
    },
    {
     "data": {
      "text/html": [
       "<pre>recommendations finished on 79000/100003 queries. users per second: 39695.7</pre>"
      ],
      "text/plain": [
       "recommendations finished on 79000/100003 queries. users per second: 39695.7"
      ]
     },
     "metadata": {
      "tags": []
     },
     "output_type": "display_data"
    },
    {
     "data": {
      "text/html": [
       "<pre>recommendations finished on 80000/100003 queries. users per second: 39754.9</pre>"
      ],
      "text/plain": [
       "recommendations finished on 80000/100003 queries. users per second: 39754.9"
      ]
     },
     "metadata": {
      "tags": []
     },
     "output_type": "display_data"
    },
    {
     "data": {
      "text/html": [
       "<pre>recommendations finished on 81000/100003 queries. users per second: 39820.7</pre>"
      ],
      "text/plain": [
       "recommendations finished on 81000/100003 queries. users per second: 39820.7"
      ]
     },
     "metadata": {
      "tags": []
     },
     "output_type": "display_data"
    },
    {
     "data": {
      "text/html": [
       "<pre>recommendations finished on 82000/100003 queries. users per second: 39871</pre>"
      ],
      "text/plain": [
       "recommendations finished on 82000/100003 queries. users per second: 39871"
      ]
     },
     "metadata": {
      "tags": []
     },
     "output_type": "display_data"
    },
    {
     "data": {
      "text/html": [
       "<pre>recommendations finished on 83000/100003 queries. users per second: 39906.7</pre>"
      ],
      "text/plain": [
       "recommendations finished on 83000/100003 queries. users per second: 39906.7"
      ]
     },
     "metadata": {
      "tags": []
     },
     "output_type": "display_data"
    },
    {
     "data": {
      "text/html": [
       "<pre>recommendations finished on 84000/100003 queries. users per second: 39941.6</pre>"
      ],
      "text/plain": [
       "recommendations finished on 84000/100003 queries. users per second: 39941.6"
      ]
     },
     "metadata": {
      "tags": []
     },
     "output_type": "display_data"
    },
    {
     "data": {
      "text/html": [
       "<pre>recommendations finished on 85000/100003 queries. users per second: 40004.5</pre>"
      ],
      "text/plain": [
       "recommendations finished on 85000/100003 queries. users per second: 40004.5"
      ]
     },
     "metadata": {
      "tags": []
     },
     "output_type": "display_data"
    },
    {
     "data": {
      "text/html": [
       "<pre>recommendations finished on 86000/100003 queries. users per second: 39886.3</pre>"
      ],
      "text/plain": [
       "recommendations finished on 86000/100003 queries. users per second: 39886.3"
      ]
     },
     "metadata": {
      "tags": []
     },
     "output_type": "display_data"
    },
    {
     "data": {
      "text/html": [
       "<pre>recommendations finished on 87000/100003 queries. users per second: 39984.9</pre>"
      ],
      "text/plain": [
       "recommendations finished on 87000/100003 queries. users per second: 39984.9"
      ]
     },
     "metadata": {
      "tags": []
     },
     "output_type": "display_data"
    },
    {
     "data": {
      "text/html": [
       "<pre>recommendations finished on 88000/100003 queries. users per second: 40015</pre>"
      ],
      "text/plain": [
       "recommendations finished on 88000/100003 queries. users per second: 40015"
      ]
     },
     "metadata": {
      "tags": []
     },
     "output_type": "display_data"
    },
    {
     "data": {
      "text/html": [
       "<pre>recommendations finished on 89000/100003 queries. users per second: 40081.2</pre>"
      ],
      "text/plain": [
       "recommendations finished on 89000/100003 queries. users per second: 40081.2"
      ]
     },
     "metadata": {
      "tags": []
     },
     "output_type": "display_data"
    },
    {
     "data": {
      "text/html": [
       "<pre>recommendations finished on 90000/100003 queries. users per second: 40117.9</pre>"
      ],
      "text/plain": [
       "recommendations finished on 90000/100003 queries. users per second: 40117.9"
      ]
     },
     "metadata": {
      "tags": []
     },
     "output_type": "display_data"
    },
    {
     "data": {
      "text/html": [
       "<pre>recommendations finished on 91000/100003 queries. users per second: 40130.4</pre>"
      ],
      "text/plain": [
       "recommendations finished on 91000/100003 queries. users per second: 40130.4"
      ]
     },
     "metadata": {
      "tags": []
     },
     "output_type": "display_data"
    },
    {
     "data": {
      "text/html": [
       "<pre>recommendations finished on 92000/100003 queries. users per second: 40141.1</pre>"
      ],
      "text/plain": [
       "recommendations finished on 92000/100003 queries. users per second: 40141.1"
      ]
     },
     "metadata": {
      "tags": []
     },
     "output_type": "display_data"
    },
    {
     "data": {
      "text/html": [
       "<pre>recommendations finished on 93000/100003 queries. users per second: 40192.9</pre>"
      ],
      "text/plain": [
       "recommendations finished on 93000/100003 queries. users per second: 40192.9"
      ]
     },
     "metadata": {
      "tags": []
     },
     "output_type": "display_data"
    },
    {
     "data": {
      "text/html": [
       "<pre>recommendations finished on 94000/100003 queries. users per second: 40248.8</pre>"
      ],
      "text/plain": [
       "recommendations finished on 94000/100003 queries. users per second: 40248.8"
      ]
     },
     "metadata": {
      "tags": []
     },
     "output_type": "display_data"
    },
    {
     "data": {
      "text/html": [
       "<pre>recommendations finished on 95000/100003 queries. users per second: 40317.7</pre>"
      ],
      "text/plain": [
       "recommendations finished on 95000/100003 queries. users per second: 40317.7"
      ]
     },
     "metadata": {
      "tags": []
     },
     "output_type": "display_data"
    },
    {
     "data": {
      "text/html": [
       "<pre>recommendations finished on 96000/100003 queries. users per second: 40226.7</pre>"
      ],
      "text/plain": [
       "recommendations finished on 96000/100003 queries. users per second: 40226.7"
      ]
     },
     "metadata": {
      "tags": []
     },
     "output_type": "display_data"
    },
    {
     "data": {
      "text/html": [
       "<pre>recommendations finished on 97000/100003 queries. users per second: 40252.5</pre>"
      ],
      "text/plain": [
       "recommendations finished on 97000/100003 queries. users per second: 40252.5"
      ]
     },
     "metadata": {
      "tags": []
     },
     "output_type": "display_data"
    },
    {
     "data": {
      "text/html": [
       "<pre>recommendations finished on 98000/100003 queries. users per second: 40212</pre>"
      ],
      "text/plain": [
       "recommendations finished on 98000/100003 queries. users per second: 40212"
      ]
     },
     "metadata": {
      "tags": []
     },
     "output_type": "display_data"
    },
    {
     "data": {
      "text/html": [
       "<pre>recommendations finished on 99000/100003 queries. users per second: 40201</pre>"
      ],
      "text/plain": [
       "recommendations finished on 99000/100003 queries. users per second: 40201"
      ]
     },
     "metadata": {
      "tags": []
     },
     "output_type": "display_data"
    },
    {
     "data": {
      "text/html": [
       "<pre>recommendations finished on 100000/100003 queries. users per second: 40197.5</pre>"
      ],
      "text/plain": [
       "recommendations finished on 100000/100003 queries. users per second: 40197.5"
      ]
     },
     "metadata": {
      "tags": []
     },
     "output_type": "display_data"
    },
    {
     "name": "stdout",
     "output_type": "stream",
     "text": [
      "+---------+---------+-------+------+\n",
      "| user_id | item_id | score | rank |\n",
      "+---------+---------+-------+------+\n",
      "|    0    |   1389  |  1.0  |  1   |\n",
      "|    0    |   1465  |  1.0  |  2   |\n",
      "|    0    |   1506  |  1.0  |  3   |\n",
      "|    0    |   1365  |  1.0  |  4   |\n",
      "|    0    |   1662  |  1.0  |  5   |\n",
      "|    0    |   1362  |  1.0  |  6   |\n",
      "|    0    |   1472  |  1.0  |  7   |\n",
      "|    0    |   600   |  1.0  |  8   |\n",
      "|    0    |   1360  |  1.0  |  9   |\n",
      "|    0    |   1261  |  1.0  |  10  |\n",
      "|    0    |   1389  |  1.0  |  1   |\n",
      "|    0    |   1465  |  1.0  |  2   |\n",
      "|    0    |   1506  |  1.0  |  3   |\n",
      "|    0    |   1365  |  1.0  |  4   |\n",
      "|    0    |   1662  |  1.0  |  5   |\n",
      "|    0    |   1362  |  1.0  |  6   |\n",
      "|    0    |   1472  |  1.0  |  7   |\n",
      "|    0    |   600   |  1.0  |  8   |\n",
      "|    0    |   1360  |  1.0  |  9   |\n",
      "|    0    |   1261  |  1.0  |  10  |\n",
      "|    0    |   1389  |  1.0  |  1   |\n",
      "|    0    |   1465  |  1.0  |  2   |\n",
      "|    0    |   1506  |  1.0  |  3   |\n",
      "|    0    |   1365  |  1.0  |  4   |\n",
      "|    0    |   1662  |  1.0  |  5   |\n",
      "|    0    |   1362  |  1.0  |  6   |\n",
      "|    0    |   1472  |  1.0  |  7   |\n",
      "|    0    |   600   |  1.0  |  8   |\n",
      "|    0    |   1360  |  1.0  |  9   |\n",
      "|    0    |   1261  |  1.0  |  10  |\n",
      "+---------+---------+-------+------+\n",
      "[1000030 rows x 4 columns]\n",
      "\n"
     ]
    }
   ],
   "source": [
    "name = 'popularity'\n",
    "target = 'scaled_rating_freq'\n",
    "pop_norm = model(train_data_norm, name, user_id, item_id, target, users_to_recommend, n_rec, n_display)"
   ]
  },
  {
   "cell_type": "code",
   "execution_count": 34,
   "metadata": {
    "colab": {
     "base_uri": "https://localhost:8080/",
     "height": 1000
    },
    "id": "fbQKvoYJZjmC",
    "outputId": "84fa0e3b-ecc8-40b5-d12a-8a8d179c1c58"
   },
   "outputs": [
    {
     "data": {
      "text/html": [
       "<pre>Warning: Ignoring columns timestamp, title, Rating_mean, num of ratings;</pre>"
      ],
      "text/plain": [
       "Warning: Ignoring columns timestamp, title, Rating_mean, num of ratings;"
      ]
     },
     "metadata": {
      "tags": []
     },
     "output_type": "display_data"
    },
    {
     "data": {
      "text/html": [
       "<pre>    To use these columns in scoring predictions, use a model that allows the use of additional features.</pre>"
      ],
      "text/plain": [
       "    To use these columns in scoring predictions, use a model that allows the use of additional features."
      ]
     },
     "metadata": {
      "tags": []
     },
     "output_type": "display_data"
    },
    {
     "data": {
      "text/html": [
       "<pre>Preparing data set.</pre>"
      ],
      "text/plain": [
       "Preparing data set."
      ]
     },
     "metadata": {
      "tags": []
     },
     "output_type": "display_data"
    },
    {
     "data": {
      "text/html": [
       "<pre>    Data has 80002 observations with 944 users and 1654 items.</pre>"
      ],
      "text/plain": [
       "    Data has 80002 observations with 944 users and 1654 items."
      ]
     },
     "metadata": {
      "tags": []
     },
     "output_type": "display_data"
    },
    {
     "data": {
      "text/html": [
       "<pre>    Data prepared in: 0.094212s</pre>"
      ],
      "text/plain": [
       "    Data prepared in: 0.094212s"
      ]
     },
     "metadata": {
      "tags": []
     },
     "output_type": "display_data"
    },
    {
     "data": {
      "text/html": [
       "<pre>Training model from provided data.</pre>"
      ],
      "text/plain": [
       "Training model from provided data."
      ]
     },
     "metadata": {
      "tags": []
     },
     "output_type": "display_data"
    },
    {
     "data": {
      "text/html": [
       "<pre>Gathering per-item and per-user statistics.</pre>"
      ],
      "text/plain": [
       "Gathering per-item and per-user statistics."
      ]
     },
     "metadata": {
      "tags": []
     },
     "output_type": "display_data"
    },
    {
     "data": {
      "text/html": [
       "<pre>+--------------------------------+------------+</pre>"
      ],
      "text/plain": [
       "+--------------------------------+------------+"
      ]
     },
     "metadata": {
      "tags": []
     },
     "output_type": "display_data"
    },
    {
     "data": {
      "text/html": [
       "<pre>| Elapsed Time (Item Statistics) | % Complete |</pre>"
      ],
      "text/plain": [
       "| Elapsed Time (Item Statistics) | % Complete |"
      ]
     },
     "metadata": {
      "tags": []
     },
     "output_type": "display_data"
    },
    {
     "data": {
      "text/html": [
       "<pre>+--------------------------------+------------+</pre>"
      ],
      "text/plain": [
       "+--------------------------------+------------+"
      ]
     },
     "metadata": {
      "tags": []
     },
     "output_type": "display_data"
    },
    {
     "data": {
      "text/html": [
       "<pre>| 5.116ms                        | 100        |</pre>"
      ],
      "text/plain": [
       "| 5.116ms                        | 100        |"
      ]
     },
     "metadata": {
      "tags": []
     },
     "output_type": "display_data"
    },
    {
     "data": {
      "text/html": [
       "<pre>+--------------------------------+------------+</pre>"
      ],
      "text/plain": [
       "+--------------------------------+------------+"
      ]
     },
     "metadata": {
      "tags": []
     },
     "output_type": "display_data"
    },
    {
     "data": {
      "text/html": [
       "<pre>Setting up lookup tables.</pre>"
      ],
      "text/plain": [
       "Setting up lookup tables."
      ]
     },
     "metadata": {
      "tags": []
     },
     "output_type": "display_data"
    },
    {
     "data": {
      "text/html": [
       "<pre>Processing data in one pass using dense lookup tables.</pre>"
      ],
      "text/plain": [
       "Processing data in one pass using dense lookup tables."
      ]
     },
     "metadata": {
      "tags": []
     },
     "output_type": "display_data"
    },
    {
     "data": {
      "text/html": [
       "<pre>+-------------------------------------+------------------+-----------------+</pre>"
      ],
      "text/plain": [
       "+-------------------------------------+------------------+-----------------+"
      ]
     },
     "metadata": {
      "tags": []
     },
     "output_type": "display_data"
    },
    {
     "data": {
      "text/html": [
       "<pre>| Elapsed Time (Constructing Lookups) | Total % Complete | Items Processed |</pre>"
      ],
      "text/plain": [
       "| Elapsed Time (Constructing Lookups) | Total % Complete | Items Processed |"
      ]
     },
     "metadata": {
      "tags": []
     },
     "output_type": "display_data"
    },
    {
     "data": {
      "text/html": [
       "<pre>+-------------------------------------+------------------+-----------------+</pre>"
      ],
      "text/plain": [
       "+-------------------------------------+------------------+-----------------+"
      ]
     },
     "metadata": {
      "tags": []
     },
     "output_type": "display_data"
    },
    {
     "data": {
      "text/html": [
       "<pre>| 8.076ms                             | 0                | 0               |</pre>"
      ],
      "text/plain": [
       "| 8.076ms                             | 0                | 0               |"
      ]
     },
     "metadata": {
      "tags": []
     },
     "output_type": "display_data"
    },
    {
     "data": {
      "text/html": [
       "<pre>| 187.823ms                           | 100              | 1654            |</pre>"
      ],
      "text/plain": [
       "| 187.823ms                           | 100              | 1654            |"
      ]
     },
     "metadata": {
      "tags": []
     },
     "output_type": "display_data"
    },
    {
     "data": {
      "text/html": [
       "<pre>+-------------------------------------+------------------+-----------------+</pre>"
      ],
      "text/plain": [
       "+-------------------------------------+------------------+-----------------+"
      ]
     },
     "metadata": {
      "tags": []
     },
     "output_type": "display_data"
    },
    {
     "data": {
      "text/html": [
       "<pre>Finalizing lookup tables.</pre>"
      ],
      "text/plain": [
       "Finalizing lookup tables."
      ]
     },
     "metadata": {
      "tags": []
     },
     "output_type": "display_data"
    },
    {
     "data": {
      "text/html": [
       "<pre>Generating candidate set for working with new users.</pre>"
      ],
      "text/plain": [
       "Generating candidate set for working with new users."
      ]
     },
     "metadata": {
      "tags": []
     },
     "output_type": "display_data"
    },
    {
     "data": {
      "text/html": [
       "<pre>Finished training in 1.20889s</pre>"
      ],
      "text/plain": [
       "Finished training in 1.20889s"
      ]
     },
     "metadata": {
      "tags": []
     },
     "output_type": "display_data"
    },
    {
     "data": {
      "text/html": [
       "<pre>recommendations finished on 1000/100003 queries. users per second: 9465.13</pre>"
      ],
      "text/plain": [
       "recommendations finished on 1000/100003 queries. users per second: 9465.13"
      ]
     },
     "metadata": {
      "tags": []
     },
     "output_type": "display_data"
    },
    {
     "data": {
      "text/html": [
       "<pre>recommendations finished on 2000/100003 queries. users per second: 9615.99</pre>"
      ],
      "text/plain": [
       "recommendations finished on 2000/100003 queries. users per second: 9615.99"
      ]
     },
     "metadata": {
      "tags": []
     },
     "output_type": "display_data"
    },
    {
     "data": {
      "text/html": [
       "<pre>recommendations finished on 3000/100003 queries. users per second: 9420.36</pre>"
      ],
      "text/plain": [
       "recommendations finished on 3000/100003 queries. users per second: 9420.36"
      ]
     },
     "metadata": {
      "tags": []
     },
     "output_type": "display_data"
    },
    {
     "data": {
      "text/html": [
       "<pre>recommendations finished on 4000/100003 queries. users per second: 9496.86</pre>"
      ],
      "text/plain": [
       "recommendations finished on 4000/100003 queries. users per second: 9496.86"
      ]
     },
     "metadata": {
      "tags": []
     },
     "output_type": "display_data"
    },
    {
     "data": {
      "text/html": [
       "<pre>recommendations finished on 5000/100003 queries. users per second: 9510.93</pre>"
      ],
      "text/plain": [
       "recommendations finished on 5000/100003 queries. users per second: 9510.93"
      ]
     },
     "metadata": {
      "tags": []
     },
     "output_type": "display_data"
    },
    {
     "data": {
      "text/html": [
       "<pre>recommendations finished on 6000/100003 queries. users per second: 9399.04</pre>"
      ],
      "text/plain": [
       "recommendations finished on 6000/100003 queries. users per second: 9399.04"
      ]
     },
     "metadata": {
      "tags": []
     },
     "output_type": "display_data"
    },
    {
     "data": {
      "text/html": [
       "<pre>recommendations finished on 7000/100003 queries. users per second: 9428.7</pre>"
      ],
      "text/plain": [
       "recommendations finished on 7000/100003 queries. users per second: 9428.7"
      ]
     },
     "metadata": {
      "tags": []
     },
     "output_type": "display_data"
    },
    {
     "data": {
      "text/html": [
       "<pre>recommendations finished on 8000/100003 queries. users per second: 9495.13</pre>"
      ],
      "text/plain": [
       "recommendations finished on 8000/100003 queries. users per second: 9495.13"
      ]
     },
     "metadata": {
      "tags": []
     },
     "output_type": "display_data"
    },
    {
     "data": {
      "text/html": [
       "<pre>recommendations finished on 9000/100003 queries. users per second: 9530.88</pre>"
      ],
      "text/plain": [
       "recommendations finished on 9000/100003 queries. users per second: 9530.88"
      ]
     },
     "metadata": {
      "tags": []
     },
     "output_type": "display_data"
    },
    {
     "data": {
      "text/html": [
       "<pre>recommendations finished on 10000/100003 queries. users per second: 9571.38</pre>"
      ],
      "text/plain": [
       "recommendations finished on 10000/100003 queries. users per second: 9571.38"
      ]
     },
     "metadata": {
      "tags": []
     },
     "output_type": "display_data"
    },
    {
     "data": {
      "text/html": [
       "<pre>recommendations finished on 11000/100003 queries. users per second: 9539.3</pre>"
      ],
      "text/plain": [
       "recommendations finished on 11000/100003 queries. users per second: 9539.3"
      ]
     },
     "metadata": {
      "tags": []
     },
     "output_type": "display_data"
    },
    {
     "data": {
      "text/html": [
       "<pre>recommendations finished on 12000/100003 queries. users per second: 9568.49</pre>"
      ],
      "text/plain": [
       "recommendations finished on 12000/100003 queries. users per second: 9568.49"
      ]
     },
     "metadata": {
      "tags": []
     },
     "output_type": "display_data"
    },
    {
     "data": {
      "text/html": [
       "<pre>recommendations finished on 13000/100003 queries. users per second: 9608.9</pre>"
      ],
      "text/plain": [
       "recommendations finished on 13000/100003 queries. users per second: 9608.9"
      ]
     },
     "metadata": {
      "tags": []
     },
     "output_type": "display_data"
    },
    {
     "data": {
      "text/html": [
       "<pre>recommendations finished on 14000/100003 queries. users per second: 9598.15</pre>"
      ],
      "text/plain": [
       "recommendations finished on 14000/100003 queries. users per second: 9598.15"
      ]
     },
     "metadata": {
      "tags": []
     },
     "output_type": "display_data"
    },
    {
     "data": {
      "text/html": [
       "<pre>recommendations finished on 15000/100003 queries. users per second: 9563.29</pre>"
      ],
      "text/plain": [
       "recommendations finished on 15000/100003 queries. users per second: 9563.29"
      ]
     },
     "metadata": {
      "tags": []
     },
     "output_type": "display_data"
    },
    {
     "data": {
      "text/html": [
       "<pre>recommendations finished on 16000/100003 queries. users per second: 9582.94</pre>"
      ],
      "text/plain": [
       "recommendations finished on 16000/100003 queries. users per second: 9582.94"
      ]
     },
     "metadata": {
      "tags": []
     },
     "output_type": "display_data"
    },
    {
     "data": {
      "text/html": [
       "<pre>recommendations finished on 17000/100003 queries. users per second: 9592.58</pre>"
      ],
      "text/plain": [
       "recommendations finished on 17000/100003 queries. users per second: 9592.58"
      ]
     },
     "metadata": {
      "tags": []
     },
     "output_type": "display_data"
    },
    {
     "data": {
      "text/html": [
       "<pre>recommendations finished on 18000/100003 queries. users per second: 9613.53</pre>"
      ],
      "text/plain": [
       "recommendations finished on 18000/100003 queries. users per second: 9613.53"
      ]
     },
     "metadata": {
      "tags": []
     },
     "output_type": "display_data"
    },
    {
     "data": {
      "text/html": [
       "<pre>recommendations finished on 19000/100003 queries. users per second: 9642.86</pre>"
      ],
      "text/plain": [
       "recommendations finished on 19000/100003 queries. users per second: 9642.86"
      ]
     },
     "metadata": {
      "tags": []
     },
     "output_type": "display_data"
    },
    {
     "data": {
      "text/html": [
       "<pre>recommendations finished on 20000/100003 queries. users per second: 9662.28</pre>"
      ],
      "text/plain": [
       "recommendations finished on 20000/100003 queries. users per second: 9662.28"
      ]
     },
     "metadata": {
      "tags": []
     },
     "output_type": "display_data"
    },
    {
     "data": {
      "text/html": [
       "<pre>recommendations finished on 21000/100003 queries. users per second: 9666.57</pre>"
      ],
      "text/plain": [
       "recommendations finished on 21000/100003 queries. users per second: 9666.57"
      ]
     },
     "metadata": {
      "tags": []
     },
     "output_type": "display_data"
    },
    {
     "data": {
      "text/html": [
       "<pre>recommendations finished on 22000/100003 queries. users per second: 9641.64</pre>"
      ],
      "text/plain": [
       "recommendations finished on 22000/100003 queries. users per second: 9641.64"
      ]
     },
     "metadata": {
      "tags": []
     },
     "output_type": "display_data"
    },
    {
     "data": {
      "text/html": [
       "<pre>recommendations finished on 23000/100003 queries. users per second: 9644.85</pre>"
      ],
      "text/plain": [
       "recommendations finished on 23000/100003 queries. users per second: 9644.85"
      ]
     },
     "metadata": {
      "tags": []
     },
     "output_type": "display_data"
    },
    {
     "data": {
      "text/html": [
       "<pre>recommendations finished on 24000/100003 queries. users per second: 9653.23</pre>"
      ],
      "text/plain": [
       "recommendations finished on 24000/100003 queries. users per second: 9653.23"
      ]
     },
     "metadata": {
      "tags": []
     },
     "output_type": "display_data"
    },
    {
     "data": {
      "text/html": [
       "<pre>recommendations finished on 25000/100003 queries. users per second: 9638.08</pre>"
      ],
      "text/plain": [
       "recommendations finished on 25000/100003 queries. users per second: 9638.08"
      ]
     },
     "metadata": {
      "tags": []
     },
     "output_type": "display_data"
    },
    {
     "data": {
      "text/html": [
       "<pre>recommendations finished on 26000/100003 queries. users per second: 9615.12</pre>"
      ],
      "text/plain": [
       "recommendations finished on 26000/100003 queries. users per second: 9615.12"
      ]
     },
     "metadata": {
      "tags": []
     },
     "output_type": "display_data"
    },
    {
     "data": {
      "text/html": [
       "<pre>recommendations finished on 27000/100003 queries. users per second: 9608.6</pre>"
      ],
      "text/plain": [
       "recommendations finished on 27000/100003 queries. users per second: 9608.6"
      ]
     },
     "metadata": {
      "tags": []
     },
     "output_type": "display_data"
    },
    {
     "data": {
      "text/html": [
       "<pre>recommendations finished on 28000/100003 queries. users per second: 9588.81</pre>"
      ],
      "text/plain": [
       "recommendations finished on 28000/100003 queries. users per second: 9588.81"
      ]
     },
     "metadata": {
      "tags": []
     },
     "output_type": "display_data"
    },
    {
     "data": {
      "text/html": [
       "<pre>recommendations finished on 29000/100003 queries. users per second: 9574.17</pre>"
      ],
      "text/plain": [
       "recommendations finished on 29000/100003 queries. users per second: 9574.17"
      ]
     },
     "metadata": {
      "tags": []
     },
     "output_type": "display_data"
    },
    {
     "data": {
      "text/html": [
       "<pre>recommendations finished on 30000/100003 queries. users per second: 9560.5</pre>"
      ],
      "text/plain": [
       "recommendations finished on 30000/100003 queries. users per second: 9560.5"
      ]
     },
     "metadata": {
      "tags": []
     },
     "output_type": "display_data"
    },
    {
     "data": {
      "text/html": [
       "<pre>recommendations finished on 31000/100003 queries. users per second: 9538.87</pre>"
      ],
      "text/plain": [
       "recommendations finished on 31000/100003 queries. users per second: 9538.87"
      ]
     },
     "metadata": {
      "tags": []
     },
     "output_type": "display_data"
    },
    {
     "data": {
      "text/html": [
       "<pre>recommendations finished on 32000/100003 queries. users per second: 9523.34</pre>"
      ],
      "text/plain": [
       "recommendations finished on 32000/100003 queries. users per second: 9523.34"
      ]
     },
     "metadata": {
      "tags": []
     },
     "output_type": "display_data"
    },
    {
     "data": {
      "text/html": [
       "<pre>recommendations finished on 33000/100003 queries. users per second: 9505.79</pre>"
      ],
      "text/plain": [
       "recommendations finished on 33000/100003 queries. users per second: 9505.79"
      ]
     },
     "metadata": {
      "tags": []
     },
     "output_type": "display_data"
    },
    {
     "data": {
      "text/html": [
       "<pre>recommendations finished on 34000/100003 queries. users per second: 9512.63</pre>"
      ],
      "text/plain": [
       "recommendations finished on 34000/100003 queries. users per second: 9512.63"
      ]
     },
     "metadata": {
      "tags": []
     },
     "output_type": "display_data"
    },
    {
     "data": {
      "text/html": [
       "<pre>recommendations finished on 35000/100003 queries. users per second: 9500.42</pre>"
      ],
      "text/plain": [
       "recommendations finished on 35000/100003 queries. users per second: 9500.42"
      ]
     },
     "metadata": {
      "tags": []
     },
     "output_type": "display_data"
    },
    {
     "data": {
      "text/html": [
       "<pre>recommendations finished on 36000/100003 queries. users per second: 9502.37</pre>"
      ],
      "text/plain": [
       "recommendations finished on 36000/100003 queries. users per second: 9502.37"
      ]
     },
     "metadata": {
      "tags": []
     },
     "output_type": "display_data"
    },
    {
     "data": {
      "text/html": [
       "<pre>recommendations finished on 37000/100003 queries. users per second: 9502.78</pre>"
      ],
      "text/plain": [
       "recommendations finished on 37000/100003 queries. users per second: 9502.78"
      ]
     },
     "metadata": {
      "tags": []
     },
     "output_type": "display_data"
    },
    {
     "data": {
      "text/html": [
       "<pre>recommendations finished on 38000/100003 queries. users per second: 9496.25</pre>"
      ],
      "text/plain": [
       "recommendations finished on 38000/100003 queries. users per second: 9496.25"
      ]
     },
     "metadata": {
      "tags": []
     },
     "output_type": "display_data"
    },
    {
     "data": {
      "text/html": [
       "<pre>recommendations finished on 39000/100003 queries. users per second: 9474.55</pre>"
      ],
      "text/plain": [
       "recommendations finished on 39000/100003 queries. users per second: 9474.55"
      ]
     },
     "metadata": {
      "tags": []
     },
     "output_type": "display_data"
    },
    {
     "data": {
      "text/html": [
       "<pre>recommendations finished on 40000/100003 queries. users per second: 9464.03</pre>"
      ],
      "text/plain": [
       "recommendations finished on 40000/100003 queries. users per second: 9464.03"
      ]
     },
     "metadata": {
      "tags": []
     },
     "output_type": "display_data"
    },
    {
     "data": {
      "text/html": [
       "<pre>recommendations finished on 41000/100003 queries. users per second: 9460.24</pre>"
      ],
      "text/plain": [
       "recommendations finished on 41000/100003 queries. users per second: 9460.24"
      ]
     },
     "metadata": {
      "tags": []
     },
     "output_type": "display_data"
    },
    {
     "data": {
      "text/html": [
       "<pre>recommendations finished on 42000/100003 queries. users per second: 9458.01</pre>"
      ],
      "text/plain": [
       "recommendations finished on 42000/100003 queries. users per second: 9458.01"
      ]
     },
     "metadata": {
      "tags": []
     },
     "output_type": "display_data"
    },
    {
     "data": {
      "text/html": [
       "<pre>recommendations finished on 43000/100003 queries. users per second: 9464.56</pre>"
      ],
      "text/plain": [
       "recommendations finished on 43000/100003 queries. users per second: 9464.56"
      ]
     },
     "metadata": {
      "tags": []
     },
     "output_type": "display_data"
    },
    {
     "data": {
      "text/html": [
       "<pre>recommendations finished on 44000/100003 queries. users per second: 9453.25</pre>"
      ],
      "text/plain": [
       "recommendations finished on 44000/100003 queries. users per second: 9453.25"
      ]
     },
     "metadata": {
      "tags": []
     },
     "output_type": "display_data"
    },
    {
     "data": {
      "text/html": [
       "<pre>recommendations finished on 45000/100003 queries. users per second: 9463.75</pre>"
      ],
      "text/plain": [
       "recommendations finished on 45000/100003 queries. users per second: 9463.75"
      ]
     },
     "metadata": {
      "tags": []
     },
     "output_type": "display_data"
    },
    {
     "data": {
      "text/html": [
       "<pre>recommendations finished on 46000/100003 queries. users per second: 9462.99</pre>"
      ],
      "text/plain": [
       "recommendations finished on 46000/100003 queries. users per second: 9462.99"
      ]
     },
     "metadata": {
      "tags": []
     },
     "output_type": "display_data"
    },
    {
     "data": {
      "text/html": [
       "<pre>recommendations finished on 47000/100003 queries. users per second: 9463.96</pre>"
      ],
      "text/plain": [
       "recommendations finished on 47000/100003 queries. users per second: 9463.96"
      ]
     },
     "metadata": {
      "tags": []
     },
     "output_type": "display_data"
    },
    {
     "data": {
      "text/html": [
       "<pre>recommendations finished on 48000/100003 queries. users per second: 9466.28</pre>"
      ],
      "text/plain": [
       "recommendations finished on 48000/100003 queries. users per second: 9466.28"
      ]
     },
     "metadata": {
      "tags": []
     },
     "output_type": "display_data"
    },
    {
     "data": {
      "text/html": [
       "<pre>recommendations finished on 49000/100003 queries. users per second: 9472.53</pre>"
      ],
      "text/plain": [
       "recommendations finished on 49000/100003 queries. users per second: 9472.53"
      ]
     },
     "metadata": {
      "tags": []
     },
     "output_type": "display_data"
    },
    {
     "data": {
      "text/html": [
       "<pre>recommendations finished on 50000/100003 queries. users per second: 9480.84</pre>"
      ],
      "text/plain": [
       "recommendations finished on 50000/100003 queries. users per second: 9480.84"
      ]
     },
     "metadata": {
      "tags": []
     },
     "output_type": "display_data"
    },
    {
     "data": {
      "text/html": [
       "<pre>recommendations finished on 51000/100003 queries. users per second: 9485.14</pre>"
      ],
      "text/plain": [
       "recommendations finished on 51000/100003 queries. users per second: 9485.14"
      ]
     },
     "metadata": {
      "tags": []
     },
     "output_type": "display_data"
    },
    {
     "data": {
      "text/html": [
       "<pre>recommendations finished on 52000/100003 queries. users per second: 9484.26</pre>"
      ],
      "text/plain": [
       "recommendations finished on 52000/100003 queries. users per second: 9484.26"
      ]
     },
     "metadata": {
      "tags": []
     },
     "output_type": "display_data"
    },
    {
     "data": {
      "text/html": [
       "<pre>recommendations finished on 53000/100003 queries. users per second: 9484.21</pre>"
      ],
      "text/plain": [
       "recommendations finished on 53000/100003 queries. users per second: 9484.21"
      ]
     },
     "metadata": {
      "tags": []
     },
     "output_type": "display_data"
    },
    {
     "data": {
      "text/html": [
       "<pre>recommendations finished on 54000/100003 queries. users per second: 9478.23</pre>"
      ],
      "text/plain": [
       "recommendations finished on 54000/100003 queries. users per second: 9478.23"
      ]
     },
     "metadata": {
      "tags": []
     },
     "output_type": "display_data"
    },
    {
     "data": {
      "text/html": [
       "<pre>recommendations finished on 55000/100003 queries. users per second: 9476.62</pre>"
      ],
      "text/plain": [
       "recommendations finished on 55000/100003 queries. users per second: 9476.62"
      ]
     },
     "metadata": {
      "tags": []
     },
     "output_type": "display_data"
    },
    {
     "data": {
      "text/html": [
       "<pre>recommendations finished on 56000/100003 queries. users per second: 9477.22</pre>"
      ],
      "text/plain": [
       "recommendations finished on 56000/100003 queries. users per second: 9477.22"
      ]
     },
     "metadata": {
      "tags": []
     },
     "output_type": "display_data"
    },
    {
     "data": {
      "text/html": [
       "<pre>recommendations finished on 57000/100003 queries. users per second: 9477.46</pre>"
      ],
      "text/plain": [
       "recommendations finished on 57000/100003 queries. users per second: 9477.46"
      ]
     },
     "metadata": {
      "tags": []
     },
     "output_type": "display_data"
    },
    {
     "data": {
      "text/html": [
       "<pre>recommendations finished on 58000/100003 queries. users per second: 9483.58</pre>"
      ],
      "text/plain": [
       "recommendations finished on 58000/100003 queries. users per second: 9483.58"
      ]
     },
     "metadata": {
      "tags": []
     },
     "output_type": "display_data"
    },
    {
     "data": {
      "text/html": [
       "<pre>recommendations finished on 59000/100003 queries. users per second: 9477.96</pre>"
      ],
      "text/plain": [
       "recommendations finished on 59000/100003 queries. users per second: 9477.96"
      ]
     },
     "metadata": {
      "tags": []
     },
     "output_type": "display_data"
    },
    {
     "data": {
      "text/html": [
       "<pre>recommendations finished on 60000/100003 queries. users per second: 9480.49</pre>"
      ],
      "text/plain": [
       "recommendations finished on 60000/100003 queries. users per second: 9480.49"
      ]
     },
     "metadata": {
      "tags": []
     },
     "output_type": "display_data"
    },
    {
     "data": {
      "text/html": [
       "<pre>recommendations finished on 61000/100003 queries. users per second: 9480.38</pre>"
      ],
      "text/plain": [
       "recommendations finished on 61000/100003 queries. users per second: 9480.38"
      ]
     },
     "metadata": {
      "tags": []
     },
     "output_type": "display_data"
    },
    {
     "data": {
      "text/html": [
       "<pre>recommendations finished on 62000/100003 queries. users per second: 9484.11</pre>"
      ],
      "text/plain": [
       "recommendations finished on 62000/100003 queries. users per second: 9484.11"
      ]
     },
     "metadata": {
      "tags": []
     },
     "output_type": "display_data"
    },
    {
     "data": {
      "text/html": [
       "<pre>recommendations finished on 63000/100003 queries. users per second: 9479.71</pre>"
      ],
      "text/plain": [
       "recommendations finished on 63000/100003 queries. users per second: 9479.71"
      ]
     },
     "metadata": {
      "tags": []
     },
     "output_type": "display_data"
    },
    {
     "data": {
      "text/html": [
       "<pre>recommendations finished on 64000/100003 queries. users per second: 9476.79</pre>"
      ],
      "text/plain": [
       "recommendations finished on 64000/100003 queries. users per second: 9476.79"
      ]
     },
     "metadata": {
      "tags": []
     },
     "output_type": "display_data"
    },
    {
     "data": {
      "text/html": [
       "<pre>recommendations finished on 65000/100003 queries. users per second: 9483.8</pre>"
      ],
      "text/plain": [
       "recommendations finished on 65000/100003 queries. users per second: 9483.8"
      ]
     },
     "metadata": {
      "tags": []
     },
     "output_type": "display_data"
    },
    {
     "data": {
      "text/html": [
       "<pre>recommendations finished on 66000/100003 queries. users per second: 9456.1</pre>"
      ],
      "text/plain": [
       "recommendations finished on 66000/100003 queries. users per second: 9456.1"
      ]
     },
     "metadata": {
      "tags": []
     },
     "output_type": "display_data"
    },
    {
     "data": {
      "text/html": [
       "<pre>recommendations finished on 67000/100003 queries. users per second: 9462.05</pre>"
      ],
      "text/plain": [
       "recommendations finished on 67000/100003 queries. users per second: 9462.05"
      ]
     },
     "metadata": {
      "tags": []
     },
     "output_type": "display_data"
    },
    {
     "data": {
      "text/html": [
       "<pre>recommendations finished on 68000/100003 queries. users per second: 9460.92</pre>"
      ],
      "text/plain": [
       "recommendations finished on 68000/100003 queries. users per second: 9460.92"
      ]
     },
     "metadata": {
      "tags": []
     },
     "output_type": "display_data"
    },
    {
     "data": {
      "text/html": [
       "<pre>recommendations finished on 69000/100003 queries. users per second: 9458.84</pre>"
      ],
      "text/plain": [
       "recommendations finished on 69000/100003 queries. users per second: 9458.84"
      ]
     },
     "metadata": {
      "tags": []
     },
     "output_type": "display_data"
    },
    {
     "data": {
      "text/html": [
       "<pre>recommendations finished on 70000/100003 queries. users per second: 9460.1</pre>"
      ],
      "text/plain": [
       "recommendations finished on 70000/100003 queries. users per second: 9460.1"
      ]
     },
     "metadata": {
      "tags": []
     },
     "output_type": "display_data"
    },
    {
     "data": {
      "text/html": [
       "<pre>recommendations finished on 71000/100003 queries. users per second: 9465.29</pre>"
      ],
      "text/plain": [
       "recommendations finished on 71000/100003 queries. users per second: 9465.29"
      ]
     },
     "metadata": {
      "tags": []
     },
     "output_type": "display_data"
    },
    {
     "data": {
      "text/html": [
       "<pre>recommendations finished on 72000/100003 queries. users per second: 9468.76</pre>"
      ],
      "text/plain": [
       "recommendations finished on 72000/100003 queries. users per second: 9468.76"
      ]
     },
     "metadata": {
      "tags": []
     },
     "output_type": "display_data"
    },
    {
     "data": {
      "text/html": [
       "<pre>recommendations finished on 73000/100003 queries. users per second: 9470.46</pre>"
      ],
      "text/plain": [
       "recommendations finished on 73000/100003 queries. users per second: 9470.46"
      ]
     },
     "metadata": {
      "tags": []
     },
     "output_type": "display_data"
    },
    {
     "data": {
      "text/html": [
       "<pre>recommendations finished on 74000/100003 queries. users per second: 9475.35</pre>"
      ],
      "text/plain": [
       "recommendations finished on 74000/100003 queries. users per second: 9475.35"
      ]
     },
     "metadata": {
      "tags": []
     },
     "output_type": "display_data"
    },
    {
     "data": {
      "text/html": [
       "<pre>recommendations finished on 75000/100003 queries. users per second: 9479.55</pre>"
      ],
      "text/plain": [
       "recommendations finished on 75000/100003 queries. users per second: 9479.55"
      ]
     },
     "metadata": {
      "tags": []
     },
     "output_type": "display_data"
    },
    {
     "data": {
      "text/html": [
       "<pre>recommendations finished on 76000/100003 queries. users per second: 9492.89</pre>"
      ],
      "text/plain": [
       "recommendations finished on 76000/100003 queries. users per second: 9492.89"
      ]
     },
     "metadata": {
      "tags": []
     },
     "output_type": "display_data"
    },
    {
     "data": {
      "text/html": [
       "<pre>recommendations finished on 77000/100003 queries. users per second: 9500.67</pre>"
      ],
      "text/plain": [
       "recommendations finished on 77000/100003 queries. users per second: 9500.67"
      ]
     },
     "metadata": {
      "tags": []
     },
     "output_type": "display_data"
    },
    {
     "data": {
      "text/html": [
       "<pre>recommendations finished on 78000/100003 queries. users per second: 9508.97</pre>"
      ],
      "text/plain": [
       "recommendations finished on 78000/100003 queries. users per second: 9508.97"
      ]
     },
     "metadata": {
      "tags": []
     },
     "output_type": "display_data"
    },
    {
     "data": {
      "text/html": [
       "<pre>recommendations finished on 79000/100003 queries. users per second: 9512.74</pre>"
      ],
      "text/plain": [
       "recommendations finished on 79000/100003 queries. users per second: 9512.74"
      ]
     },
     "metadata": {
      "tags": []
     },
     "output_type": "display_data"
    },
    {
     "data": {
      "text/html": [
       "<pre>recommendations finished on 80000/100003 queries. users per second: 9521.8</pre>"
      ],
      "text/plain": [
       "recommendations finished on 80000/100003 queries. users per second: 9521.8"
      ]
     },
     "metadata": {
      "tags": []
     },
     "output_type": "display_data"
    },
    {
     "data": {
      "text/html": [
       "<pre>recommendations finished on 81000/100003 queries. users per second: 9518.72</pre>"
      ],
      "text/plain": [
       "recommendations finished on 81000/100003 queries. users per second: 9518.72"
      ]
     },
     "metadata": {
      "tags": []
     },
     "output_type": "display_data"
    },
    {
     "data": {
      "text/html": [
       "<pre>recommendations finished on 82000/100003 queries. users per second: 9520.09</pre>"
      ],
      "text/plain": [
       "recommendations finished on 82000/100003 queries. users per second: 9520.09"
      ]
     },
     "metadata": {
      "tags": []
     },
     "output_type": "display_data"
    },
    {
     "data": {
      "text/html": [
       "<pre>recommendations finished on 83000/100003 queries. users per second: 9513.71</pre>"
      ],
      "text/plain": [
       "recommendations finished on 83000/100003 queries. users per second: 9513.71"
      ]
     },
     "metadata": {
      "tags": []
     },
     "output_type": "display_data"
    },
    {
     "data": {
      "text/html": [
       "<pre>recommendations finished on 84000/100003 queries. users per second: 9512.76</pre>"
      ],
      "text/plain": [
       "recommendations finished on 84000/100003 queries. users per second: 9512.76"
      ]
     },
     "metadata": {
      "tags": []
     },
     "output_type": "display_data"
    },
    {
     "data": {
      "text/html": [
       "<pre>recommendations finished on 85000/100003 queries. users per second: 9518.64</pre>"
      ],
      "text/plain": [
       "recommendations finished on 85000/100003 queries. users per second: 9518.64"
      ]
     },
     "metadata": {
      "tags": []
     },
     "output_type": "display_data"
    },
    {
     "data": {
      "text/html": [
       "<pre>recommendations finished on 86000/100003 queries. users per second: 9525.31</pre>"
      ],
      "text/plain": [
       "recommendations finished on 86000/100003 queries. users per second: 9525.31"
      ]
     },
     "metadata": {
      "tags": []
     },
     "output_type": "display_data"
    },
    {
     "data": {
      "text/html": [
       "<pre>recommendations finished on 87000/100003 queries. users per second: 9525.19</pre>"
      ],
      "text/plain": [
       "recommendations finished on 87000/100003 queries. users per second: 9525.19"
      ]
     },
     "metadata": {
      "tags": []
     },
     "output_type": "display_data"
    },
    {
     "data": {
      "text/html": [
       "<pre>recommendations finished on 88000/100003 queries. users per second: 9527.84</pre>"
      ],
      "text/plain": [
       "recommendations finished on 88000/100003 queries. users per second: 9527.84"
      ]
     },
     "metadata": {
      "tags": []
     },
     "output_type": "display_data"
    },
    {
     "data": {
      "text/html": [
       "<pre>recommendations finished on 89000/100003 queries. users per second: 9534.9</pre>"
      ],
      "text/plain": [
       "recommendations finished on 89000/100003 queries. users per second: 9534.9"
      ]
     },
     "metadata": {
      "tags": []
     },
     "output_type": "display_data"
    },
    {
     "data": {
      "text/html": [
       "<pre>recommendations finished on 90000/100003 queries. users per second: 9542.25</pre>"
      ],
      "text/plain": [
       "recommendations finished on 90000/100003 queries. users per second: 9542.25"
      ]
     },
     "metadata": {
      "tags": []
     },
     "output_type": "display_data"
    },
    {
     "data": {
      "text/html": [
       "<pre>recommendations finished on 91000/100003 queries. users per second: 9542.9</pre>"
      ],
      "text/plain": [
       "recommendations finished on 91000/100003 queries. users per second: 9542.9"
      ]
     },
     "metadata": {
      "tags": []
     },
     "output_type": "display_data"
    },
    {
     "data": {
      "text/html": [
       "<pre>recommendations finished on 92000/100003 queries. users per second: 9550.12</pre>"
      ],
      "text/plain": [
       "recommendations finished on 92000/100003 queries. users per second: 9550.12"
      ]
     },
     "metadata": {
      "tags": []
     },
     "output_type": "display_data"
    },
    {
     "data": {
      "text/html": [
       "<pre>recommendations finished on 93000/100003 queries. users per second: 9546.43</pre>"
      ],
      "text/plain": [
       "recommendations finished on 93000/100003 queries. users per second: 9546.43"
      ]
     },
     "metadata": {
      "tags": []
     },
     "output_type": "display_data"
    },
    {
     "data": {
      "text/html": [
       "<pre>recommendations finished on 94000/100003 queries. users per second: 9546.23</pre>"
      ],
      "text/plain": [
       "recommendations finished on 94000/100003 queries. users per second: 9546.23"
      ]
     },
     "metadata": {
      "tags": []
     },
     "output_type": "display_data"
    },
    {
     "data": {
      "text/html": [
       "<pre>recommendations finished on 95000/100003 queries. users per second: 9547.66</pre>"
      ],
      "text/plain": [
       "recommendations finished on 95000/100003 queries. users per second: 9547.66"
      ]
     },
     "metadata": {
      "tags": []
     },
     "output_type": "display_data"
    },
    {
     "data": {
      "text/html": [
       "<pre>recommendations finished on 96000/100003 queries. users per second: 9541.77</pre>"
      ],
      "text/plain": [
       "recommendations finished on 96000/100003 queries. users per second: 9541.77"
      ]
     },
     "metadata": {
      "tags": []
     },
     "output_type": "display_data"
    },
    {
     "data": {
      "text/html": [
       "<pre>recommendations finished on 97000/100003 queries. users per second: 9513.5</pre>"
      ],
      "text/plain": [
       "recommendations finished on 97000/100003 queries. users per second: 9513.5"
      ]
     },
     "metadata": {
      "tags": []
     },
     "output_type": "display_data"
    },
    {
     "data": {
      "text/html": [
       "<pre>recommendations finished on 98000/100003 queries. users per second: 9489.21</pre>"
      ],
      "text/plain": [
       "recommendations finished on 98000/100003 queries. users per second: 9489.21"
      ]
     },
     "metadata": {
      "tags": []
     },
     "output_type": "display_data"
    },
    {
     "data": {
      "text/html": [
       "<pre>recommendations finished on 99000/100003 queries. users per second: 9468.55</pre>"
      ],
      "text/plain": [
       "recommendations finished on 99000/100003 queries. users per second: 9468.55"
      ]
     },
     "metadata": {
      "tags": []
     },
     "output_type": "display_data"
    },
    {
     "data": {
      "text/html": [
       "<pre>recommendations finished on 100000/100003 queries. users per second: 9442.89</pre>"
      ],
      "text/plain": [
       "recommendations finished on 100000/100003 queries. users per second: 9442.89"
      ]
     },
     "metadata": {
      "tags": []
     },
     "output_type": "display_data"
    },
    {
     "name": "stdout",
     "output_type": "stream",
     "text": [
      "+---------+---------+--------------------+------+\n",
      "| user_id | item_id |       score        | rank |\n",
      "+---------+---------+--------------------+------+\n",
      "|    0    |   174   | 3.3717286586761475 |  1   |\n",
      "|    0    |   210   | 3.107554614543915  |  2   |\n",
      "|    0    |   195   | 3.0422085523605347 |  3   |\n",
      "|    0    |   204   | 3.032400906085968  |  4   |\n",
      "|    0    |   228   | 3.0223384499549866 |  5   |\n",
      "|    0    |   173   | 2.991975247859955  |  6   |\n",
      "|    0    |   183   | 2.9495328664779663 |  7   |\n",
      "|    0    |   176   | 2.9086726903915405 |  8   |\n",
      "|    0    |    82   | 2.903442680835724  |  9   |\n",
      "|    0    |    89   | 2.895689010620117  |  10  |\n",
      "|    0    |   174   | 3.3717286586761475 |  1   |\n",
      "|    0    |   210   | 3.107554614543915  |  2   |\n",
      "|    0    |   195   | 3.0422085523605347 |  3   |\n",
      "|    0    |   204   | 3.032400906085968  |  4   |\n",
      "|    0    |   228   | 3.0223384499549866 |  5   |\n",
      "|    0    |   173   | 2.991975247859955  |  6   |\n",
      "|    0    |   183   | 2.9495328664779663 |  7   |\n",
      "|    0    |   176   | 2.9086726903915405 |  8   |\n",
      "|    0    |    82   | 2.903442680835724  |  9   |\n",
      "|    0    |    89   | 2.895689010620117  |  10  |\n",
      "|    0    |   174   | 3.3717286586761475 |  1   |\n",
      "|    0    |   210   | 3.107554614543915  |  2   |\n",
      "|    0    |   195   | 3.0422085523605347 |  3   |\n",
      "|    0    |   204   | 3.032400906085968  |  4   |\n",
      "|    0    |   228   | 3.0223384499549866 |  5   |\n",
      "|    0    |   173   | 2.991975247859955  |  6   |\n",
      "|    0    |   183   | 2.9495328664779663 |  7   |\n",
      "|    0    |   176   | 2.9086726903915405 |  8   |\n",
      "|    0    |    82   | 2.903442680835724  |  9   |\n",
      "|    0    |    89   | 2.895689010620117  |  10  |\n",
      "+---------+---------+--------------------+------+\n",
      "[1000030 rows x 4 columns]\n",
      "\n"
     ]
    }
   ],
   "source": [
    "#Cosine similarity\n",
    "#Using rating\n",
    "name = 'cosine'\n",
    "target = 'rating'\n",
    "cos_Base = model(train_data_split, name, user_id, item_id, target, users_to_recommend, n_rec, n_display)"
   ]
  },
  {
   "cell_type": "code",
   "execution_count": 35,
   "metadata": {
    "colab": {
     "base_uri": "https://localhost:8080/",
     "height": 1000
    },
    "id": "DGKFS0Fwbxtw",
    "outputId": "95d212c7-6b2f-40b4-b632-c432407fcc97"
   },
   "outputs": [
    {
     "data": {
      "text/html": [
       "<pre>Warning: Ignoring columns rating, timestamp, title, Rating_mean, num of ratings;</pre>"
      ],
      "text/plain": [
       "Warning: Ignoring columns rating, timestamp, title, Rating_mean, num of ratings;"
      ]
     },
     "metadata": {
      "tags": []
     },
     "output_type": "display_data"
    },
    {
     "data": {
      "text/html": [
       "<pre>    To use these columns in scoring predictions, use a model that allows the use of additional features.</pre>"
      ],
      "text/plain": [
       "    To use these columns in scoring predictions, use a model that allows the use of additional features."
      ]
     },
     "metadata": {
      "tags": []
     },
     "output_type": "display_data"
    },
    {
     "data": {
      "text/html": [
       "<pre>Preparing data set.</pre>"
      ],
      "text/plain": [
       "Preparing data set."
      ]
     },
     "metadata": {
      "tags": []
     },
     "output_type": "display_data"
    },
    {
     "data": {
      "text/html": [
       "<pre>    Data has 80002 observations with 944 users and 1647 items.</pre>"
      ],
      "text/plain": [
       "    Data has 80002 observations with 944 users and 1647 items."
      ]
     },
     "metadata": {
      "tags": []
     },
     "output_type": "display_data"
    },
    {
     "data": {
      "text/html": [
       "<pre>    Data prepared in: 0.092801s</pre>"
      ],
      "text/plain": [
       "    Data prepared in: 0.092801s"
      ]
     },
     "metadata": {
      "tags": []
     },
     "output_type": "display_data"
    },
    {
     "data": {
      "text/html": [
       "<pre>Training model from provided data.</pre>"
      ],
      "text/plain": [
       "Training model from provided data."
      ]
     },
     "metadata": {
      "tags": []
     },
     "output_type": "display_data"
    },
    {
     "data": {
      "text/html": [
       "<pre>Gathering per-item and per-user statistics.</pre>"
      ],
      "text/plain": [
       "Gathering per-item and per-user statistics."
      ]
     },
     "metadata": {
      "tags": []
     },
     "output_type": "display_data"
    },
    {
     "data": {
      "text/html": [
       "<pre>+--------------------------------+------------+</pre>"
      ],
      "text/plain": [
       "+--------------------------------+------------+"
      ]
     },
     "metadata": {
      "tags": []
     },
     "output_type": "display_data"
    },
    {
     "data": {
      "text/html": [
       "<pre>| Elapsed Time (Item Statistics) | % Complete |</pre>"
      ],
      "text/plain": [
       "| Elapsed Time (Item Statistics) | % Complete |"
      ]
     },
     "metadata": {
      "tags": []
     },
     "output_type": "display_data"
    },
    {
     "data": {
      "text/html": [
       "<pre>+--------------------------------+------------+</pre>"
      ],
      "text/plain": [
       "+--------------------------------+------------+"
      ]
     },
     "metadata": {
      "tags": []
     },
     "output_type": "display_data"
    },
    {
     "data": {
      "text/html": [
       "<pre>| 16.003ms                       | 100        |</pre>"
      ],
      "text/plain": [
       "| 16.003ms                       | 100        |"
      ]
     },
     "metadata": {
      "tags": []
     },
     "output_type": "display_data"
    },
    {
     "data": {
      "text/html": [
       "<pre>+--------------------------------+------------+</pre>"
      ],
      "text/plain": [
       "+--------------------------------+------------+"
      ]
     },
     "metadata": {
      "tags": []
     },
     "output_type": "display_data"
    },
    {
     "data": {
      "text/html": [
       "<pre>Setting up lookup tables.</pre>"
      ],
      "text/plain": [
       "Setting up lookup tables."
      ]
     },
     "metadata": {
      "tags": []
     },
     "output_type": "display_data"
    },
    {
     "data": {
      "text/html": [
       "<pre>Processing data in one pass using dense lookup tables.</pre>"
      ],
      "text/plain": [
       "Processing data in one pass using dense lookup tables."
      ]
     },
     "metadata": {
      "tags": []
     },
     "output_type": "display_data"
    },
    {
     "data": {
      "text/html": [
       "<pre>+-------------------------------------+------------------+-----------------+</pre>"
      ],
      "text/plain": [
       "+-------------------------------------+------------------+-----------------+"
      ]
     },
     "metadata": {
      "tags": []
     },
     "output_type": "display_data"
    },
    {
     "data": {
      "text/html": [
       "<pre>| Elapsed Time (Constructing Lookups) | Total % Complete | Items Processed |</pre>"
      ],
      "text/plain": [
       "| Elapsed Time (Constructing Lookups) | Total % Complete | Items Processed |"
      ]
     },
     "metadata": {
      "tags": []
     },
     "output_type": "display_data"
    },
    {
     "data": {
      "text/html": [
       "<pre>+-------------------------------------+------------------+-----------------+</pre>"
      ],
      "text/plain": [
       "+-------------------------------------+------------------+-----------------+"
      ]
     },
     "metadata": {
      "tags": []
     },
     "output_type": "display_data"
    },
    {
     "data": {
      "text/html": [
       "<pre>| 24.945ms                            | 0.25             | 6               |</pre>"
      ],
      "text/plain": [
       "| 24.945ms                            | 0.25             | 6               |"
      ]
     },
     "metadata": {
      "tags": []
     },
     "output_type": "display_data"
    },
    {
     "data": {
      "text/html": [
       "<pre>| 203.942ms                           | 100              | 1647            |</pre>"
      ],
      "text/plain": [
       "| 203.942ms                           | 100              | 1647            |"
      ]
     },
     "metadata": {
      "tags": []
     },
     "output_type": "display_data"
    },
    {
     "data": {
      "text/html": [
       "<pre>+-------------------------------------+------------------+-----------------+</pre>"
      ],
      "text/plain": [
       "+-------------------------------------+------------------+-----------------+"
      ]
     },
     "metadata": {
      "tags": []
     },
     "output_type": "display_data"
    },
    {
     "data": {
      "text/html": [
       "<pre>Finalizing lookup tables.</pre>"
      ],
      "text/plain": [
       "Finalizing lookup tables."
      ]
     },
     "metadata": {
      "tags": []
     },
     "output_type": "display_data"
    },
    {
     "data": {
      "text/html": [
       "<pre>Generating candidate set for working with new users.</pre>"
      ],
      "text/plain": [
       "Generating candidate set for working with new users."
      ]
     },
     "metadata": {
      "tags": []
     },
     "output_type": "display_data"
    },
    {
     "data": {
      "text/html": [
       "<pre>Finished training in 0.227098s</pre>"
      ],
      "text/plain": [
       "Finished training in 0.227098s"
      ]
     },
     "metadata": {
      "tags": []
     },
     "output_type": "display_data"
    },
    {
     "data": {
      "text/html": [
       "<pre>recommendations finished on 1000/100003 queries. users per second: 9581.85</pre>"
      ],
      "text/plain": [
       "recommendations finished on 1000/100003 queries. users per second: 9581.85"
      ]
     },
     "metadata": {
      "tags": []
     },
     "output_type": "display_data"
    },
    {
     "data": {
      "text/html": [
       "<pre>recommendations finished on 2000/100003 queries. users per second: 9461.01</pre>"
      ],
      "text/plain": [
       "recommendations finished on 2000/100003 queries. users per second: 9461.01"
      ]
     },
     "metadata": {
      "tags": []
     },
     "output_type": "display_data"
    },
    {
     "data": {
      "text/html": [
       "<pre>recommendations finished on 3000/100003 queries. users per second: 9246.62</pre>"
      ],
      "text/plain": [
       "recommendations finished on 3000/100003 queries. users per second: 9246.62"
      ]
     },
     "metadata": {
      "tags": []
     },
     "output_type": "display_data"
    },
    {
     "data": {
      "text/html": [
       "<pre>recommendations finished on 4000/100003 queries. users per second: 9246.99</pre>"
      ],
      "text/plain": [
       "recommendations finished on 4000/100003 queries. users per second: 9246.99"
      ]
     },
     "metadata": {
      "tags": []
     },
     "output_type": "display_data"
    },
    {
     "data": {
      "text/html": [
       "<pre>recommendations finished on 5000/100003 queries. users per second: 9321.14</pre>"
      ],
      "text/plain": [
       "recommendations finished on 5000/100003 queries. users per second: 9321.14"
      ]
     },
     "metadata": {
      "tags": []
     },
     "output_type": "display_data"
    },
    {
     "data": {
      "text/html": [
       "<pre>recommendations finished on 6000/100003 queries. users per second: 9343.23</pre>"
      ],
      "text/plain": [
       "recommendations finished on 6000/100003 queries. users per second: 9343.23"
      ]
     },
     "metadata": {
      "tags": []
     },
     "output_type": "display_data"
    },
    {
     "data": {
      "text/html": [
       "<pre>recommendations finished on 7000/100003 queries. users per second: 9412.14</pre>"
      ],
      "text/plain": [
       "recommendations finished on 7000/100003 queries. users per second: 9412.14"
      ]
     },
     "metadata": {
      "tags": []
     },
     "output_type": "display_data"
    },
    {
     "data": {
      "text/html": [
       "<pre>recommendations finished on 8000/100003 queries. users per second: 9394.71</pre>"
      ],
      "text/plain": [
       "recommendations finished on 8000/100003 queries. users per second: 9394.71"
      ]
     },
     "metadata": {
      "tags": []
     },
     "output_type": "display_data"
    },
    {
     "data": {
      "text/html": [
       "<pre>recommendations finished on 9000/100003 queries. users per second: 9446.61</pre>"
      ],
      "text/plain": [
       "recommendations finished on 9000/100003 queries. users per second: 9446.61"
      ]
     },
     "metadata": {
      "tags": []
     },
     "output_type": "display_data"
    },
    {
     "data": {
      "text/html": [
       "<pre>recommendations finished on 10000/100003 queries. users per second: 9467.82</pre>"
      ],
      "text/plain": [
       "recommendations finished on 10000/100003 queries. users per second: 9467.82"
      ]
     },
     "metadata": {
      "tags": []
     },
     "output_type": "display_data"
    },
    {
     "data": {
      "text/html": [
       "<pre>recommendations finished on 11000/100003 queries. users per second: 9470.39</pre>"
      ],
      "text/plain": [
       "recommendations finished on 11000/100003 queries. users per second: 9470.39"
      ]
     },
     "metadata": {
      "tags": []
     },
     "output_type": "display_data"
    },
    {
     "data": {
      "text/html": [
       "<pre>recommendations finished on 12000/100003 queries. users per second: 9473.82</pre>"
      ],
      "text/plain": [
       "recommendations finished on 12000/100003 queries. users per second: 9473.82"
      ]
     },
     "metadata": {
      "tags": []
     },
     "output_type": "display_data"
    },
    {
     "data": {
      "text/html": [
       "<pre>recommendations finished on 13000/100003 queries. users per second: 9500.65</pre>"
      ],
      "text/plain": [
       "recommendations finished on 13000/100003 queries. users per second: 9500.65"
      ]
     },
     "metadata": {
      "tags": []
     },
     "output_type": "display_data"
    },
    {
     "data": {
      "text/html": [
       "<pre>recommendations finished on 14000/100003 queries. users per second: 9510.49</pre>"
      ],
      "text/plain": [
       "recommendations finished on 14000/100003 queries. users per second: 9510.49"
      ]
     },
     "metadata": {
      "tags": []
     },
     "output_type": "display_data"
    },
    {
     "data": {
      "text/html": [
       "<pre>recommendations finished on 15000/100003 queries. users per second: 9512.95</pre>"
      ],
      "text/plain": [
       "recommendations finished on 15000/100003 queries. users per second: 9512.95"
      ]
     },
     "metadata": {
      "tags": []
     },
     "output_type": "display_data"
    },
    {
     "data": {
      "text/html": [
       "<pre>recommendations finished on 16000/100003 queries. users per second: 9516.11</pre>"
      ],
      "text/plain": [
       "recommendations finished on 16000/100003 queries. users per second: 9516.11"
      ]
     },
     "metadata": {
      "tags": []
     },
     "output_type": "display_data"
    },
    {
     "data": {
      "text/html": [
       "<pre>recommendations finished on 17000/100003 queries. users per second: 9533.17</pre>"
      ],
      "text/plain": [
       "recommendations finished on 17000/100003 queries. users per second: 9533.17"
      ]
     },
     "metadata": {
      "tags": []
     },
     "output_type": "display_data"
    },
    {
     "data": {
      "text/html": [
       "<pre>recommendations finished on 18000/100003 queries. users per second: 9517.75</pre>"
      ],
      "text/plain": [
       "recommendations finished on 18000/100003 queries. users per second: 9517.75"
      ]
     },
     "metadata": {
      "tags": []
     },
     "output_type": "display_data"
    },
    {
     "data": {
      "text/html": [
       "<pre>recommendations finished on 19000/100003 queries. users per second: 9526.34</pre>"
      ],
      "text/plain": [
       "recommendations finished on 19000/100003 queries. users per second: 9526.34"
      ]
     },
     "metadata": {
      "tags": []
     },
     "output_type": "display_data"
    },
    {
     "data": {
      "text/html": [
       "<pre>recommendations finished on 20000/100003 queries. users per second: 9514.12</pre>"
      ],
      "text/plain": [
       "recommendations finished on 20000/100003 queries. users per second: 9514.12"
      ]
     },
     "metadata": {
      "tags": []
     },
     "output_type": "display_data"
    },
    {
     "data": {
      "text/html": [
       "<pre>recommendations finished on 21000/100003 queries. users per second: 9510.78</pre>"
      ],
      "text/plain": [
       "recommendations finished on 21000/100003 queries. users per second: 9510.78"
      ]
     },
     "metadata": {
      "tags": []
     },
     "output_type": "display_data"
    },
    {
     "data": {
      "text/html": [
       "<pre>recommendations finished on 22000/100003 queries. users per second: 9517.03</pre>"
      ],
      "text/plain": [
       "recommendations finished on 22000/100003 queries. users per second: 9517.03"
      ]
     },
     "metadata": {
      "tags": []
     },
     "output_type": "display_data"
    },
    {
     "data": {
      "text/html": [
       "<pre>recommendations finished on 23000/100003 queries. users per second: 9505.82</pre>"
      ],
      "text/plain": [
       "recommendations finished on 23000/100003 queries. users per second: 9505.82"
      ]
     },
     "metadata": {
      "tags": []
     },
     "output_type": "display_data"
    },
    {
     "data": {
      "text/html": [
       "<pre>recommendations finished on 24000/100003 queries. users per second: 9508.48</pre>"
      ],
      "text/plain": [
       "recommendations finished on 24000/100003 queries. users per second: 9508.48"
      ]
     },
     "metadata": {
      "tags": []
     },
     "output_type": "display_data"
    },
    {
     "data": {
      "text/html": [
       "<pre>recommendations finished on 25000/100003 queries. users per second: 9488.17</pre>"
      ],
      "text/plain": [
       "recommendations finished on 25000/100003 queries. users per second: 9488.17"
      ]
     },
     "metadata": {
      "tags": []
     },
     "output_type": "display_data"
    },
    {
     "data": {
      "text/html": [
       "<pre>recommendations finished on 26000/100003 queries. users per second: 9490.15</pre>"
      ],
      "text/plain": [
       "recommendations finished on 26000/100003 queries. users per second: 9490.15"
      ]
     },
     "metadata": {
      "tags": []
     },
     "output_type": "display_data"
    },
    {
     "data": {
      "text/html": [
       "<pre>recommendations finished on 27000/100003 queries. users per second: 9442.69</pre>"
      ],
      "text/plain": [
       "recommendations finished on 27000/100003 queries. users per second: 9442.69"
      ]
     },
     "metadata": {
      "tags": []
     },
     "output_type": "display_data"
    },
    {
     "data": {
      "text/html": [
       "<pre>recommendations finished on 28000/100003 queries. users per second: 9442.65</pre>"
      ],
      "text/plain": [
       "recommendations finished on 28000/100003 queries. users per second: 9442.65"
      ]
     },
     "metadata": {
      "tags": []
     },
     "output_type": "display_data"
    },
    {
     "data": {
      "text/html": [
       "<pre>recommendations finished on 29000/100003 queries. users per second: 9435.01</pre>"
      ],
      "text/plain": [
       "recommendations finished on 29000/100003 queries. users per second: 9435.01"
      ]
     },
     "metadata": {
      "tags": []
     },
     "output_type": "display_data"
    },
    {
     "data": {
      "text/html": [
       "<pre>recommendations finished on 30000/100003 queries. users per second: 9417.33</pre>"
      ],
      "text/plain": [
       "recommendations finished on 30000/100003 queries. users per second: 9417.33"
      ]
     },
     "metadata": {
      "tags": []
     },
     "output_type": "display_data"
    },
    {
     "data": {
      "text/html": [
       "<pre>recommendations finished on 31000/100003 queries. users per second: 9416.14</pre>"
      ],
      "text/plain": [
       "recommendations finished on 31000/100003 queries. users per second: 9416.14"
      ]
     },
     "metadata": {
      "tags": []
     },
     "output_type": "display_data"
    },
    {
     "data": {
      "text/html": [
       "<pre>recommendations finished on 32000/100003 queries. users per second: 9405.94</pre>"
      ],
      "text/plain": [
       "recommendations finished on 32000/100003 queries. users per second: 9405.94"
      ]
     },
     "metadata": {
      "tags": []
     },
     "output_type": "display_data"
    },
    {
     "data": {
      "text/html": [
       "<pre>recommendations finished on 33000/100003 queries. users per second: 9402.19</pre>"
      ],
      "text/plain": [
       "recommendations finished on 33000/100003 queries. users per second: 9402.19"
      ]
     },
     "metadata": {
      "tags": []
     },
     "output_type": "display_data"
    },
    {
     "data": {
      "text/html": [
       "<pre>recommendations finished on 34000/100003 queries. users per second: 9392.5</pre>"
      ],
      "text/plain": [
       "recommendations finished on 34000/100003 queries. users per second: 9392.5"
      ]
     },
     "metadata": {
      "tags": []
     },
     "output_type": "display_data"
    },
    {
     "data": {
      "text/html": [
       "<pre>recommendations finished on 35000/100003 queries. users per second: 9394.73</pre>"
      ],
      "text/plain": [
       "recommendations finished on 35000/100003 queries. users per second: 9394.73"
      ]
     },
     "metadata": {
      "tags": []
     },
     "output_type": "display_data"
    },
    {
     "data": {
      "text/html": [
       "<pre>recommendations finished on 36000/100003 queries. users per second: 9393.93</pre>"
      ],
      "text/plain": [
       "recommendations finished on 36000/100003 queries. users per second: 9393.93"
      ]
     },
     "metadata": {
      "tags": []
     },
     "output_type": "display_data"
    },
    {
     "data": {
      "text/html": [
       "<pre>recommendations finished on 37000/100003 queries. users per second: 9394.47</pre>"
      ],
      "text/plain": [
       "recommendations finished on 37000/100003 queries. users per second: 9394.47"
      ]
     },
     "metadata": {
      "tags": []
     },
     "output_type": "display_data"
    },
    {
     "data": {
      "text/html": [
       "<pre>recommendations finished on 38000/100003 queries. users per second: 9384.81</pre>"
      ],
      "text/plain": [
       "recommendations finished on 38000/100003 queries. users per second: 9384.81"
      ]
     },
     "metadata": {
      "tags": []
     },
     "output_type": "display_data"
    },
    {
     "data": {
      "text/html": [
       "<pre>recommendations finished on 39000/100003 queries. users per second: 9386.37</pre>"
      ],
      "text/plain": [
       "recommendations finished on 39000/100003 queries. users per second: 9386.37"
      ]
     },
     "metadata": {
      "tags": []
     },
     "output_type": "display_data"
    },
    {
     "data": {
      "text/html": [
       "<pre>recommendations finished on 40000/100003 queries. users per second: 9381.95</pre>"
      ],
      "text/plain": [
       "recommendations finished on 40000/100003 queries. users per second: 9381.95"
      ]
     },
     "metadata": {
      "tags": []
     },
     "output_type": "display_data"
    },
    {
     "data": {
      "text/html": [
       "<pre>recommendations finished on 41000/100003 queries. users per second: 9387.26</pre>"
      ],
      "text/plain": [
       "recommendations finished on 41000/100003 queries. users per second: 9387.26"
      ]
     },
     "metadata": {
      "tags": []
     },
     "output_type": "display_data"
    },
    {
     "data": {
      "text/html": [
       "<pre>recommendations finished on 42000/100003 queries. users per second: 9375.26</pre>"
      ],
      "text/plain": [
       "recommendations finished on 42000/100003 queries. users per second: 9375.26"
      ]
     },
     "metadata": {
      "tags": []
     },
     "output_type": "display_data"
    },
    {
     "data": {
      "text/html": [
       "<pre>recommendations finished on 43000/100003 queries. users per second: 9370.01</pre>"
      ],
      "text/plain": [
       "recommendations finished on 43000/100003 queries. users per second: 9370.01"
      ]
     },
     "metadata": {
      "tags": []
     },
     "output_type": "display_data"
    },
    {
     "data": {
      "text/html": [
       "<pre>recommendations finished on 44000/100003 queries. users per second: 9372.88</pre>"
      ],
      "text/plain": [
       "recommendations finished on 44000/100003 queries. users per second: 9372.88"
      ]
     },
     "metadata": {
      "tags": []
     },
     "output_type": "display_data"
    },
    {
     "data": {
      "text/html": [
       "<pre>recommendations finished on 45000/100003 queries. users per second: 9381.6</pre>"
      ],
      "text/plain": [
       "recommendations finished on 45000/100003 queries. users per second: 9381.6"
      ]
     },
     "metadata": {
      "tags": []
     },
     "output_type": "display_data"
    },
    {
     "data": {
      "text/html": [
       "<pre>recommendations finished on 46000/100003 queries. users per second: 9375.58</pre>"
      ],
      "text/plain": [
       "recommendations finished on 46000/100003 queries. users per second: 9375.58"
      ]
     },
     "metadata": {
      "tags": []
     },
     "output_type": "display_data"
    },
    {
     "data": {
      "text/html": [
       "<pre>recommendations finished on 47000/100003 queries. users per second: 9381.8</pre>"
      ],
      "text/plain": [
       "recommendations finished on 47000/100003 queries. users per second: 9381.8"
      ]
     },
     "metadata": {
      "tags": []
     },
     "output_type": "display_data"
    },
    {
     "data": {
      "text/html": [
       "<pre>recommendations finished on 48000/100003 queries. users per second: 9376.48</pre>"
      ],
      "text/plain": [
       "recommendations finished on 48000/100003 queries. users per second: 9376.48"
      ]
     },
     "metadata": {
      "tags": []
     },
     "output_type": "display_data"
    },
    {
     "data": {
      "text/html": [
       "<pre>recommendations finished on 49000/100003 queries. users per second: 9378.81</pre>"
      ],
      "text/plain": [
       "recommendations finished on 49000/100003 queries. users per second: 9378.81"
      ]
     },
     "metadata": {
      "tags": []
     },
     "output_type": "display_data"
    },
    {
     "data": {
      "text/html": [
       "<pre>recommendations finished on 50000/100003 queries. users per second: 9381.15</pre>"
      ],
      "text/plain": [
       "recommendations finished on 50000/100003 queries. users per second: 9381.15"
      ]
     },
     "metadata": {
      "tags": []
     },
     "output_type": "display_data"
    },
    {
     "data": {
      "text/html": [
       "<pre>recommendations finished on 51000/100003 queries. users per second: 9379.83</pre>"
      ],
      "text/plain": [
       "recommendations finished on 51000/100003 queries. users per second: 9379.83"
      ]
     },
     "metadata": {
      "tags": []
     },
     "output_type": "display_data"
    },
    {
     "data": {
      "text/html": [
       "<pre>recommendations finished on 52000/100003 queries. users per second: 9386.22</pre>"
      ],
      "text/plain": [
       "recommendations finished on 52000/100003 queries. users per second: 9386.22"
      ]
     },
     "metadata": {
      "tags": []
     },
     "output_type": "display_data"
    },
    {
     "data": {
      "text/html": [
       "<pre>recommendations finished on 53000/100003 queries. users per second: 9386.52</pre>"
      ],
      "text/plain": [
       "recommendations finished on 53000/100003 queries. users per second: 9386.52"
      ]
     },
     "metadata": {
      "tags": []
     },
     "output_type": "display_data"
    },
    {
     "data": {
      "text/html": [
       "<pre>recommendations finished on 54000/100003 queries. users per second: 9383.37</pre>"
      ],
      "text/plain": [
       "recommendations finished on 54000/100003 queries. users per second: 9383.37"
      ]
     },
     "metadata": {
      "tags": []
     },
     "output_type": "display_data"
    },
    {
     "data": {
      "text/html": [
       "<pre>recommendations finished on 55000/100003 queries. users per second: 9378.08</pre>"
      ],
      "text/plain": [
       "recommendations finished on 55000/100003 queries. users per second: 9378.08"
      ]
     },
     "metadata": {
      "tags": []
     },
     "output_type": "display_data"
    },
    {
     "data": {
      "text/html": [
       "<pre>recommendations finished on 56000/100003 queries. users per second: 9379.14</pre>"
      ],
      "text/plain": [
       "recommendations finished on 56000/100003 queries. users per second: 9379.14"
      ]
     },
     "metadata": {
      "tags": []
     },
     "output_type": "display_data"
    },
    {
     "data": {
      "text/html": [
       "<pre>recommendations finished on 57000/100003 queries. users per second: 9374.49</pre>"
      ],
      "text/plain": [
       "recommendations finished on 57000/100003 queries. users per second: 9374.49"
      ]
     },
     "metadata": {
      "tags": []
     },
     "output_type": "display_data"
    },
    {
     "data": {
      "text/html": [
       "<pre>recommendations finished on 58000/100003 queries. users per second: 9381.89</pre>"
      ],
      "text/plain": [
       "recommendations finished on 58000/100003 queries. users per second: 9381.89"
      ]
     },
     "metadata": {
      "tags": []
     },
     "output_type": "display_data"
    },
    {
     "data": {
      "text/html": [
       "<pre>recommendations finished on 59000/100003 queries. users per second: 9377.05</pre>"
      ],
      "text/plain": [
       "recommendations finished on 59000/100003 queries. users per second: 9377.05"
      ]
     },
     "metadata": {
      "tags": []
     },
     "output_type": "display_data"
    },
    {
     "data": {
      "text/html": [
       "<pre>recommendations finished on 60000/100003 queries. users per second: 9365.13</pre>"
      ],
      "text/plain": [
       "recommendations finished on 60000/100003 queries. users per second: 9365.13"
      ]
     },
     "metadata": {
      "tags": []
     },
     "output_type": "display_data"
    },
    {
     "data": {
      "text/html": [
       "<pre>recommendations finished on 61000/100003 queries. users per second: 9370.19</pre>"
      ],
      "text/plain": [
       "recommendations finished on 61000/100003 queries. users per second: 9370.19"
      ]
     },
     "metadata": {
      "tags": []
     },
     "output_type": "display_data"
    },
    {
     "data": {
      "text/html": [
       "<pre>recommendations finished on 62000/100003 queries. users per second: 9366.99</pre>"
      ],
      "text/plain": [
       "recommendations finished on 62000/100003 queries. users per second: 9366.99"
      ]
     },
     "metadata": {
      "tags": []
     },
     "output_type": "display_data"
    },
    {
     "data": {
      "text/html": [
       "<pre>recommendations finished on 63000/100003 queries. users per second: 9367.91</pre>"
      ],
      "text/plain": [
       "recommendations finished on 63000/100003 queries. users per second: 9367.91"
      ]
     },
     "metadata": {
      "tags": []
     },
     "output_type": "display_data"
    },
    {
     "data": {
      "text/html": [
       "<pre>recommendations finished on 64000/100003 queries. users per second: 9371.47</pre>"
      ],
      "text/plain": [
       "recommendations finished on 64000/100003 queries. users per second: 9371.47"
      ]
     },
     "metadata": {
      "tags": []
     },
     "output_type": "display_data"
    },
    {
     "data": {
      "text/html": [
       "<pre>recommendations finished on 65000/100003 queries. users per second: 9370.98</pre>"
      ],
      "text/plain": [
       "recommendations finished on 65000/100003 queries. users per second: 9370.98"
      ]
     },
     "metadata": {
      "tags": []
     },
     "output_type": "display_data"
    },
    {
     "data": {
      "text/html": [
       "<pre>recommendations finished on 66000/100003 queries. users per second: 9369.9</pre>"
      ],
      "text/plain": [
       "recommendations finished on 66000/100003 queries. users per second: 9369.9"
      ]
     },
     "metadata": {
      "tags": []
     },
     "output_type": "display_data"
    },
    {
     "data": {
      "text/html": [
       "<pre>recommendations finished on 67000/100003 queries. users per second: 9371.92</pre>"
      ],
      "text/plain": [
       "recommendations finished on 67000/100003 queries. users per second: 9371.92"
      ]
     },
     "metadata": {
      "tags": []
     },
     "output_type": "display_data"
    },
    {
     "data": {
      "text/html": [
       "<pre>recommendations finished on 68000/100003 queries. users per second: 9376.8</pre>"
      ],
      "text/plain": [
       "recommendations finished on 68000/100003 queries. users per second: 9376.8"
      ]
     },
     "metadata": {
      "tags": []
     },
     "output_type": "display_data"
    },
    {
     "data": {
      "text/html": [
       "<pre>recommendations finished on 69000/100003 queries. users per second: 9373.97</pre>"
      ],
      "text/plain": [
       "recommendations finished on 69000/100003 queries. users per second: 9373.97"
      ]
     },
     "metadata": {
      "tags": []
     },
     "output_type": "display_data"
    },
    {
     "data": {
      "text/html": [
       "<pre>recommendations finished on 70000/100003 queries. users per second: 9377.75</pre>"
      ],
      "text/plain": [
       "recommendations finished on 70000/100003 queries. users per second: 9377.75"
      ]
     },
     "metadata": {
      "tags": []
     },
     "output_type": "display_data"
    },
    {
     "data": {
      "text/html": [
       "<pre>recommendations finished on 71000/100003 queries. users per second: 9373.79</pre>"
      ],
      "text/plain": [
       "recommendations finished on 71000/100003 queries. users per second: 9373.79"
      ]
     },
     "metadata": {
      "tags": []
     },
     "output_type": "display_data"
    },
    {
     "data": {
      "text/html": [
       "<pre>recommendations finished on 72000/100003 queries. users per second: 9380.66</pre>"
      ],
      "text/plain": [
       "recommendations finished on 72000/100003 queries. users per second: 9380.66"
      ]
     },
     "metadata": {
      "tags": []
     },
     "output_type": "display_data"
    },
    {
     "data": {
      "text/html": [
       "<pre>recommendations finished on 73000/100003 queries. users per second: 9380.49</pre>"
      ],
      "text/plain": [
       "recommendations finished on 73000/100003 queries. users per second: 9380.49"
      ]
     },
     "metadata": {
      "tags": []
     },
     "output_type": "display_data"
    },
    {
     "data": {
      "text/html": [
       "<pre>recommendations finished on 74000/100003 queries. users per second: 9388.51</pre>"
      ],
      "text/plain": [
       "recommendations finished on 74000/100003 queries. users per second: 9388.51"
      ]
     },
     "metadata": {
      "tags": []
     },
     "output_type": "display_data"
    },
    {
     "data": {
      "text/html": [
       "<pre>recommendations finished on 75000/100003 queries. users per second: 9389.65</pre>"
      ],
      "text/plain": [
       "recommendations finished on 75000/100003 queries. users per second: 9389.65"
      ]
     },
     "metadata": {
      "tags": []
     },
     "output_type": "display_data"
    },
    {
     "data": {
      "text/html": [
       "<pre>recommendations finished on 76000/100003 queries. users per second: 9394.49</pre>"
      ],
      "text/plain": [
       "recommendations finished on 76000/100003 queries. users per second: 9394.49"
      ]
     },
     "metadata": {
      "tags": []
     },
     "output_type": "display_data"
    },
    {
     "data": {
      "text/html": [
       "<pre>recommendations finished on 77000/100003 queries. users per second: 9397.06</pre>"
      ],
      "text/plain": [
       "recommendations finished on 77000/100003 queries. users per second: 9397.06"
      ]
     },
     "metadata": {
      "tags": []
     },
     "output_type": "display_data"
    },
    {
     "data": {
      "text/html": [
       "<pre>recommendations finished on 78000/100003 queries. users per second: 9406.22</pre>"
      ],
      "text/plain": [
       "recommendations finished on 78000/100003 queries. users per second: 9406.22"
      ]
     },
     "metadata": {
      "tags": []
     },
     "output_type": "display_data"
    },
    {
     "data": {
      "text/html": [
       "<pre>recommendations finished on 79000/100003 queries. users per second: 9409.42</pre>"
      ],
      "text/plain": [
       "recommendations finished on 79000/100003 queries. users per second: 9409.42"
      ]
     },
     "metadata": {
      "tags": []
     },
     "output_type": "display_data"
    },
    {
     "data": {
      "text/html": [
       "<pre>recommendations finished on 80000/100003 queries. users per second: 9420.36</pre>"
      ],
      "text/plain": [
       "recommendations finished on 80000/100003 queries. users per second: 9420.36"
      ]
     },
     "metadata": {
      "tags": []
     },
     "output_type": "display_data"
    },
    {
     "data": {
      "text/html": [
       "<pre>recommendations finished on 81000/100003 queries. users per second: 9432.7</pre>"
      ],
      "text/plain": [
       "recommendations finished on 81000/100003 queries. users per second: 9432.7"
      ]
     },
     "metadata": {
      "tags": []
     },
     "output_type": "display_data"
    },
    {
     "data": {
      "text/html": [
       "<pre>recommendations finished on 82000/100003 queries. users per second: 9437.62</pre>"
      ],
      "text/plain": [
       "recommendations finished on 82000/100003 queries. users per second: 9437.62"
      ]
     },
     "metadata": {
      "tags": []
     },
     "output_type": "display_data"
    },
    {
     "data": {
      "text/html": [
       "<pre>recommendations finished on 83000/100003 queries. users per second: 9439.77</pre>"
      ],
      "text/plain": [
       "recommendations finished on 83000/100003 queries. users per second: 9439.77"
      ]
     },
     "metadata": {
      "tags": []
     },
     "output_type": "display_data"
    },
    {
     "data": {
      "text/html": [
       "<pre>recommendations finished on 84000/100003 queries. users per second: 9435.3</pre>"
      ],
      "text/plain": [
       "recommendations finished on 84000/100003 queries. users per second: 9435.3"
      ]
     },
     "metadata": {
      "tags": []
     },
     "output_type": "display_data"
    },
    {
     "data": {
      "text/html": [
       "<pre>recommendations finished on 85000/100003 queries. users per second: 9433.65</pre>"
      ],
      "text/plain": [
       "recommendations finished on 85000/100003 queries. users per second: 9433.65"
      ]
     },
     "metadata": {
      "tags": []
     },
     "output_type": "display_data"
    },
    {
     "data": {
      "text/html": [
       "<pre>recommendations finished on 86000/100003 queries. users per second: 9441.66</pre>"
      ],
      "text/plain": [
       "recommendations finished on 86000/100003 queries. users per second: 9441.66"
      ]
     },
     "metadata": {
      "tags": []
     },
     "output_type": "display_data"
    },
    {
     "data": {
      "text/html": [
       "<pre>recommendations finished on 87000/100003 queries. users per second: 9444.39</pre>"
      ],
      "text/plain": [
       "recommendations finished on 87000/100003 queries. users per second: 9444.39"
      ]
     },
     "metadata": {
      "tags": []
     },
     "output_type": "display_data"
    },
    {
     "data": {
      "text/html": [
       "<pre>recommendations finished on 88000/100003 queries. users per second: 9449.65</pre>"
      ],
      "text/plain": [
       "recommendations finished on 88000/100003 queries. users per second: 9449.65"
      ]
     },
     "metadata": {
      "tags": []
     },
     "output_type": "display_data"
    },
    {
     "data": {
      "text/html": [
       "<pre>recommendations finished on 89000/100003 queries. users per second: 9455.36</pre>"
      ],
      "text/plain": [
       "recommendations finished on 89000/100003 queries. users per second: 9455.36"
      ]
     },
     "metadata": {
      "tags": []
     },
     "output_type": "display_data"
    },
    {
     "data": {
      "text/html": [
       "<pre>recommendations finished on 90000/100003 queries. users per second: 9458.2</pre>"
      ],
      "text/plain": [
       "recommendations finished on 90000/100003 queries. users per second: 9458.2"
      ]
     },
     "metadata": {
      "tags": []
     },
     "output_type": "display_data"
    },
    {
     "data": {
      "text/html": [
       "<pre>recommendations finished on 91000/100003 queries. users per second: 9463.37</pre>"
      ],
      "text/plain": [
       "recommendations finished on 91000/100003 queries. users per second: 9463.37"
      ]
     },
     "metadata": {
      "tags": []
     },
     "output_type": "display_data"
    },
    {
     "data": {
      "text/html": [
       "<pre>recommendations finished on 92000/100003 queries. users per second: 9466.77</pre>"
      ],
      "text/plain": [
       "recommendations finished on 92000/100003 queries. users per second: 9466.77"
      ]
     },
     "metadata": {
      "tags": []
     },
     "output_type": "display_data"
    },
    {
     "data": {
      "text/html": [
       "<pre>recommendations finished on 93000/100003 queries. users per second: 9468.91</pre>"
      ],
      "text/plain": [
       "recommendations finished on 93000/100003 queries. users per second: 9468.91"
      ]
     },
     "metadata": {
      "tags": []
     },
     "output_type": "display_data"
    },
    {
     "data": {
      "text/html": [
       "<pre>recommendations finished on 94000/100003 queries. users per second: 9466.22</pre>"
      ],
      "text/plain": [
       "recommendations finished on 94000/100003 queries. users per second: 9466.22"
      ]
     },
     "metadata": {
      "tags": []
     },
     "output_type": "display_data"
    },
    {
     "data": {
      "text/html": [
       "<pre>recommendations finished on 95000/100003 queries. users per second: 9459.49</pre>"
      ],
      "text/plain": [
       "recommendations finished on 95000/100003 queries. users per second: 9459.49"
      ]
     },
     "metadata": {
      "tags": []
     },
     "output_type": "display_data"
    },
    {
     "data": {
      "text/html": [
       "<pre>recommendations finished on 96000/100003 queries. users per second: 9432.36</pre>"
      ],
      "text/plain": [
       "recommendations finished on 96000/100003 queries. users per second: 9432.36"
      ]
     },
     "metadata": {
      "tags": []
     },
     "output_type": "display_data"
    },
    {
     "data": {
      "text/html": [
       "<pre>recommendations finished on 97000/100003 queries. users per second: 9405.88</pre>"
      ],
      "text/plain": [
       "recommendations finished on 97000/100003 queries. users per second: 9405.88"
      ]
     },
     "metadata": {
      "tags": []
     },
     "output_type": "display_data"
    },
    {
     "data": {
      "text/html": [
       "<pre>recommendations finished on 98000/100003 queries. users per second: 9383.61</pre>"
      ],
      "text/plain": [
       "recommendations finished on 98000/100003 queries. users per second: 9383.61"
      ]
     },
     "metadata": {
      "tags": []
     },
     "output_type": "display_data"
    },
    {
     "data": {
      "text/html": [
       "<pre>recommendations finished on 99000/100003 queries. users per second: 9360.34</pre>"
      ],
      "text/plain": [
       "recommendations finished on 99000/100003 queries. users per second: 9360.34"
      ]
     },
     "metadata": {
      "tags": []
     },
     "output_type": "display_data"
    },
    {
     "data": {
      "text/html": [
       "<pre>recommendations finished on 100000/100003 queries. users per second: 9339.64</pre>"
      ],
      "text/plain": [
       "recommendations finished on 100000/100003 queries. users per second: 9339.64"
      ]
     },
     "metadata": {
      "tags": []
     },
     "output_type": "display_data"
    },
    {
     "name": "stdout",
     "output_type": "stream",
     "text": [
      "+---------+---------+--------------------+------+\n",
      "| user_id | item_id |       score        | rank |\n",
      "+---------+---------+--------------------+------+\n",
      "|    0    |   174   | 0.578438381354014  |  1   |\n",
      "|    0    |    98   | 0.5464432636896769 |  2   |\n",
      "|    0    |   204   | 0.5416606664657593 |  3   |\n",
      "|    0    |    69   | 0.5307084123293558 |  4   |\n",
      "|    0    |   210   | 0.5292100111643473 |  5   |\n",
      "|    0    |   195   | 0.5149057904879252 |  6   |\n",
      "|    0    |   168   | 0.5118171175320944 |  7   |\n",
      "|    0    |   423   | 0.5115724205970764 |  8   |\n",
      "|    0    |   173   | 0.5103564461072286 |  9   |\n",
      "|    0    |    79   | 0.5084802309672037 |  10  |\n",
      "|    0    |   174   | 0.578438381354014  |  1   |\n",
      "|    0    |    98   | 0.5464432636896769 |  2   |\n",
      "|    0    |   204   | 0.5416606664657593 |  3   |\n",
      "|    0    |    69   | 0.5307084123293558 |  4   |\n",
      "|    0    |   210   | 0.5292100111643473 |  5   |\n",
      "|    0    |   195   | 0.5149057904879252 |  6   |\n",
      "|    0    |   168   | 0.5118171175320944 |  7   |\n",
      "|    0    |   423   | 0.5115724205970764 |  8   |\n",
      "|    0    |   173   | 0.5103564461072286 |  9   |\n",
      "|    0    |    79   | 0.5084802309672037 |  10  |\n",
      "|    0    |   174   | 0.578438381354014  |  1   |\n",
      "|    0    |    98   | 0.5464432636896769 |  2   |\n",
      "|    0    |   204   | 0.5416606664657593 |  3   |\n",
      "|    0    |    69   | 0.5307084123293558 |  4   |\n",
      "|    0    |   210   | 0.5292100111643473 |  5   |\n",
      "|    0    |   195   | 0.5149057904879252 |  6   |\n",
      "|    0    |   168   | 0.5118171175320944 |  7   |\n",
      "|    0    |   423   | 0.5115724205970764 |  8   |\n",
      "|    0    |   173   | 0.5103564461072286 |  9   |\n",
      "|    0    |    79   | 0.5084802309672037 |  10  |\n",
      "+---------+---------+--------------------+------+\n",
      "[1000030 rows x 4 columns]\n",
      "\n"
     ]
    }
   ],
   "source": [
    "# Using rating dummies\n",
    "name = 'cosine'\n",
    "target = 'rating_dummy'\n",
    "cos_dummy = model(train_data_dummy, name, user_id, item_id, target, users_to_recommend, n_rec, n_display)"
   ]
  },
  {
   "cell_type": "code",
   "execution_count": 36,
   "metadata": {
    "colab": {
     "base_uri": "https://localhost:8080/",
     "height": 1000
    },
    "id": "9prNgh90cQoU",
    "outputId": "f5f28f31-0785-4e13-ffc9-bb8fe6e43bf9"
   },
   "outputs": [
    {
     "data": {
      "text/html": [
       "<pre>Preparing data set.</pre>"
      ],
      "text/plain": [
       "Preparing data set."
      ]
     },
     "metadata": {
      "tags": []
     },
     "output_type": "display_data"
    },
    {
     "data": {
      "text/html": [
       "<pre>    Data has 79834 observations with 944 users and 1512 items.</pre>"
      ],
      "text/plain": [
       "    Data has 79834 observations with 944 users and 1512 items."
      ]
     },
     "metadata": {
      "tags": []
     },
     "output_type": "display_data"
    },
    {
     "data": {
      "text/html": [
       "<pre>    Data prepared in: 0.086942s</pre>"
      ],
      "text/plain": [
       "    Data prepared in: 0.086942s"
      ]
     },
     "metadata": {
      "tags": []
     },
     "output_type": "display_data"
    },
    {
     "data": {
      "text/html": [
       "<pre>Training model from provided data.</pre>"
      ],
      "text/plain": [
       "Training model from provided data."
      ]
     },
     "metadata": {
      "tags": []
     },
     "output_type": "display_data"
    },
    {
     "data": {
      "text/html": [
       "<pre>Gathering per-item and per-user statistics.</pre>"
      ],
      "text/plain": [
       "Gathering per-item and per-user statistics."
      ]
     },
     "metadata": {
      "tags": []
     },
     "output_type": "display_data"
    },
    {
     "data": {
      "text/html": [
       "<pre>+--------------------------------+------------+</pre>"
      ],
      "text/plain": [
       "+--------------------------------+------------+"
      ]
     },
     "metadata": {
      "tags": []
     },
     "output_type": "display_data"
    },
    {
     "data": {
      "text/html": [
       "<pre>| Elapsed Time (Item Statistics) | % Complete |</pre>"
      ],
      "text/plain": [
       "| Elapsed Time (Item Statistics) | % Complete |"
      ]
     },
     "metadata": {
      "tags": []
     },
     "output_type": "display_data"
    },
    {
     "data": {
      "text/html": [
       "<pre>+--------------------------------+------------+</pre>"
      ],
      "text/plain": [
       "+--------------------------------+------------+"
      ]
     },
     "metadata": {
      "tags": []
     },
     "output_type": "display_data"
    },
    {
     "data": {
      "text/html": [
       "<pre>| 16.007ms                       | 100        |</pre>"
      ],
      "text/plain": [
       "| 16.007ms                       | 100        |"
      ]
     },
     "metadata": {
      "tags": []
     },
     "output_type": "display_data"
    },
    {
     "data": {
      "text/html": [
       "<pre>+--------------------------------+------------+</pre>"
      ],
      "text/plain": [
       "+--------------------------------+------------+"
      ]
     },
     "metadata": {
      "tags": []
     },
     "output_type": "display_data"
    },
    {
     "data": {
      "text/html": [
       "<pre>Setting up lookup tables.</pre>"
      ],
      "text/plain": [
       "Setting up lookup tables."
      ]
     },
     "metadata": {
      "tags": []
     },
     "output_type": "display_data"
    },
    {
     "data": {
      "text/html": [
       "<pre>Processing data in one pass using dense lookup tables.</pre>"
      ],
      "text/plain": [
       "Processing data in one pass using dense lookup tables."
      ]
     },
     "metadata": {
      "tags": []
     },
     "output_type": "display_data"
    },
    {
     "data": {
      "text/html": [
       "<pre>+-------------------------------------+------------------+-----------------+</pre>"
      ],
      "text/plain": [
       "+-------------------------------------+------------------+-----------------+"
      ]
     },
     "metadata": {
      "tags": []
     },
     "output_type": "display_data"
    },
    {
     "data": {
      "text/html": [
       "<pre>| Elapsed Time (Constructing Lookups) | Total % Complete | Items Processed |</pre>"
      ],
      "text/plain": [
       "| Elapsed Time (Constructing Lookups) | Total % Complete | Items Processed |"
      ]
     },
     "metadata": {
      "tags": []
     },
     "output_type": "display_data"
    },
    {
     "data": {
      "text/html": [
       "<pre>+-------------------------------------+------------------+-----------------+</pre>"
      ],
      "text/plain": [
       "+-------------------------------------+------------------+-----------------+"
      ]
     },
     "metadata": {
      "tags": []
     },
     "output_type": "display_data"
    },
    {
     "data": {
      "text/html": [
       "<pre>| 18.459ms                            | 0                | 3               |</pre>"
      ],
      "text/plain": [
       "| 18.459ms                            | 0                | 3               |"
      ]
     },
     "metadata": {
      "tags": []
     },
     "output_type": "display_data"
    },
    {
     "data": {
      "text/html": [
       "<pre>| 195.72ms                            | 100              | 1512            |</pre>"
      ],
      "text/plain": [
       "| 195.72ms                            | 100              | 1512            |"
      ]
     },
     "metadata": {
      "tags": []
     },
     "output_type": "display_data"
    },
    {
     "data": {
      "text/html": [
       "<pre>+-------------------------------------+------------------+-----------------+</pre>"
      ],
      "text/plain": [
       "+-------------------------------------+------------------+-----------------+"
      ]
     },
     "metadata": {
      "tags": []
     },
     "output_type": "display_data"
    },
    {
     "data": {
      "text/html": [
       "<pre>Finalizing lookup tables.</pre>"
      ],
      "text/plain": [
       "Finalizing lookup tables."
      ]
     },
     "metadata": {
      "tags": []
     },
     "output_type": "display_data"
    },
    {
     "data": {
      "text/html": [
       "<pre>Generating candidate set for working with new users.</pre>"
      ],
      "text/plain": [
       "Generating candidate set for working with new users."
      ]
     },
     "metadata": {
      "tags": []
     },
     "output_type": "display_data"
    },
    {
     "data": {
      "text/html": [
       "<pre>Finished training in 0.213785s</pre>"
      ],
      "text/plain": [
       "Finished training in 0.213785s"
      ]
     },
     "metadata": {
      "tags": []
     },
     "output_type": "display_data"
    },
    {
     "data": {
      "text/html": [
       "<pre>recommendations finished on 1000/100003 queries. users per second: 9513.12</pre>"
      ],
      "text/plain": [
       "recommendations finished on 1000/100003 queries. users per second: 9513.12"
      ]
     },
     "metadata": {
      "tags": []
     },
     "output_type": "display_data"
    },
    {
     "data": {
      "text/html": [
       "<pre>recommendations finished on 2000/100003 queries. users per second: 9441.27</pre>"
      ],
      "text/plain": [
       "recommendations finished on 2000/100003 queries. users per second: 9441.27"
      ]
     },
     "metadata": {
      "tags": []
     },
     "output_type": "display_data"
    },
    {
     "data": {
      "text/html": [
       "<pre>recommendations finished on 3000/100003 queries. users per second: 9566.78</pre>"
      ],
      "text/plain": [
       "recommendations finished on 3000/100003 queries. users per second: 9566.78"
      ]
     },
     "metadata": {
      "tags": []
     },
     "output_type": "display_data"
    },
    {
     "data": {
      "text/html": [
       "<pre>recommendations finished on 4000/100003 queries. users per second: 9449.96</pre>"
      ],
      "text/plain": [
       "recommendations finished on 4000/100003 queries. users per second: 9449.96"
      ]
     },
     "metadata": {
      "tags": []
     },
     "output_type": "display_data"
    },
    {
     "data": {
      "text/html": [
       "<pre>recommendations finished on 5000/100003 queries. users per second: 9459.45</pre>"
      ],
      "text/plain": [
       "recommendations finished on 5000/100003 queries. users per second: 9459.45"
      ]
     },
     "metadata": {
      "tags": []
     },
     "output_type": "display_data"
    },
    {
     "data": {
      "text/html": [
       "<pre>recommendations finished on 6000/100003 queries. users per second: 9433.92</pre>"
      ],
      "text/plain": [
       "recommendations finished on 6000/100003 queries. users per second: 9433.92"
      ]
     },
     "metadata": {
      "tags": []
     },
     "output_type": "display_data"
    },
    {
     "data": {
      "text/html": [
       "<pre>recommendations finished on 7000/100003 queries. users per second: 9460.21</pre>"
      ],
      "text/plain": [
       "recommendations finished on 7000/100003 queries. users per second: 9460.21"
      ]
     },
     "metadata": {
      "tags": []
     },
     "output_type": "display_data"
    },
    {
     "data": {
      "text/html": [
       "<pre>recommendations finished on 8000/100003 queries. users per second: 9526.95</pre>"
      ],
      "text/plain": [
       "recommendations finished on 8000/100003 queries. users per second: 9526.95"
      ]
     },
     "metadata": {
      "tags": []
     },
     "output_type": "display_data"
    },
    {
     "data": {
      "text/html": [
       "<pre>recommendations finished on 9000/100003 queries. users per second: 9488.45</pre>"
      ],
      "text/plain": [
       "recommendations finished on 9000/100003 queries. users per second: 9488.45"
      ]
     },
     "metadata": {
      "tags": []
     },
     "output_type": "display_data"
    },
    {
     "data": {
      "text/html": [
       "<pre>recommendations finished on 10000/100003 queries. users per second: 9519.59</pre>"
      ],
      "text/plain": [
       "recommendations finished on 10000/100003 queries. users per second: 9519.59"
      ]
     },
     "metadata": {
      "tags": []
     },
     "output_type": "display_data"
    },
    {
     "data": {
      "text/html": [
       "<pre>recommendations finished on 11000/100003 queries. users per second: 9521.44</pre>"
      ],
      "text/plain": [
       "recommendations finished on 11000/100003 queries. users per second: 9521.44"
      ]
     },
     "metadata": {
      "tags": []
     },
     "output_type": "display_data"
    },
    {
     "data": {
      "text/html": [
       "<pre>recommendations finished on 12000/100003 queries. users per second: 9494.95</pre>"
      ],
      "text/plain": [
       "recommendations finished on 12000/100003 queries. users per second: 9494.95"
      ]
     },
     "metadata": {
      "tags": []
     },
     "output_type": "display_data"
    },
    {
     "data": {
      "text/html": [
       "<pre>recommendations finished on 13000/100003 queries. users per second: 9487.73</pre>"
      ],
      "text/plain": [
       "recommendations finished on 13000/100003 queries. users per second: 9487.73"
      ]
     },
     "metadata": {
      "tags": []
     },
     "output_type": "display_data"
    },
    {
     "data": {
      "text/html": [
       "<pre>recommendations finished on 14000/100003 queries. users per second: 9500.97</pre>"
      ],
      "text/plain": [
       "recommendations finished on 14000/100003 queries. users per second: 9500.97"
      ]
     },
     "metadata": {
      "tags": []
     },
     "output_type": "display_data"
    },
    {
     "data": {
      "text/html": [
       "<pre>recommendations finished on 15000/100003 queries. users per second: 9497.07</pre>"
      ],
      "text/plain": [
       "recommendations finished on 15000/100003 queries. users per second: 9497.07"
      ]
     },
     "metadata": {
      "tags": []
     },
     "output_type": "display_data"
    },
    {
     "data": {
      "text/html": [
       "<pre>recommendations finished on 16000/100003 queries. users per second: 9497.08</pre>"
      ],
      "text/plain": [
       "recommendations finished on 16000/100003 queries. users per second: 9497.08"
      ]
     },
     "metadata": {
      "tags": []
     },
     "output_type": "display_data"
    },
    {
     "data": {
      "text/html": [
       "<pre>recommendations finished on 17000/100003 queries. users per second: 9521.76</pre>"
      ],
      "text/plain": [
       "recommendations finished on 17000/100003 queries. users per second: 9521.76"
      ]
     },
     "metadata": {
      "tags": []
     },
     "output_type": "display_data"
    },
    {
     "data": {
      "text/html": [
       "<pre>recommendations finished on 18000/100003 queries. users per second: 9552.89</pre>"
      ],
      "text/plain": [
       "recommendations finished on 18000/100003 queries. users per second: 9552.89"
      ]
     },
     "metadata": {
      "tags": []
     },
     "output_type": "display_data"
    },
    {
     "data": {
      "text/html": [
       "<pre>recommendations finished on 19000/100003 queries. users per second: 9540.47</pre>"
      ],
      "text/plain": [
       "recommendations finished on 19000/100003 queries. users per second: 9540.47"
      ]
     },
     "metadata": {
      "tags": []
     },
     "output_type": "display_data"
    },
    {
     "data": {
      "text/html": [
       "<pre>recommendations finished on 20000/100003 queries. users per second: 9556.59</pre>"
      ],
      "text/plain": [
       "recommendations finished on 20000/100003 queries. users per second: 9556.59"
      ]
     },
     "metadata": {
      "tags": []
     },
     "output_type": "display_data"
    },
    {
     "data": {
      "text/html": [
       "<pre>recommendations finished on 21000/100003 queries. users per second: 9561.78</pre>"
      ],
      "text/plain": [
       "recommendations finished on 21000/100003 queries. users per second: 9561.78"
      ]
     },
     "metadata": {
      "tags": []
     },
     "output_type": "display_data"
    },
    {
     "data": {
      "text/html": [
       "<pre>recommendations finished on 22000/100003 queries. users per second: 9555.85</pre>"
      ],
      "text/plain": [
       "recommendations finished on 22000/100003 queries. users per second: 9555.85"
      ]
     },
     "metadata": {
      "tags": []
     },
     "output_type": "display_data"
    },
    {
     "data": {
      "text/html": [
       "<pre>recommendations finished on 23000/100003 queries. users per second: 9551.53</pre>"
      ],
      "text/plain": [
       "recommendations finished on 23000/100003 queries. users per second: 9551.53"
      ]
     },
     "metadata": {
      "tags": []
     },
     "output_type": "display_data"
    },
    {
     "data": {
      "text/html": [
       "<pre>recommendations finished on 24000/100003 queries. users per second: 9561.52</pre>"
      ],
      "text/plain": [
       "recommendations finished on 24000/100003 queries. users per second: 9561.52"
      ]
     },
     "metadata": {
      "tags": []
     },
     "output_type": "display_data"
    },
    {
     "data": {
      "text/html": [
       "<pre>recommendations finished on 25000/100003 queries. users per second: 9558.9</pre>"
      ],
      "text/plain": [
       "recommendations finished on 25000/100003 queries. users per second: 9558.9"
      ]
     },
     "metadata": {
      "tags": []
     },
     "output_type": "display_data"
    },
    {
     "data": {
      "text/html": [
       "<pre>recommendations finished on 26000/100003 queries. users per second: 9557.76</pre>"
      ],
      "text/plain": [
       "recommendations finished on 26000/100003 queries. users per second: 9557.76"
      ]
     },
     "metadata": {
      "tags": []
     },
     "output_type": "display_data"
    },
    {
     "data": {
      "text/html": [
       "<pre>recommendations finished on 27000/100003 queries. users per second: 9551.46</pre>"
      ],
      "text/plain": [
       "recommendations finished on 27000/100003 queries. users per second: 9551.46"
      ]
     },
     "metadata": {
      "tags": []
     },
     "output_type": "display_data"
    },
    {
     "data": {
      "text/html": [
       "<pre>recommendations finished on 28000/100003 queries. users per second: 9533.3</pre>"
      ],
      "text/plain": [
       "recommendations finished on 28000/100003 queries. users per second: 9533.3"
      ]
     },
     "metadata": {
      "tags": []
     },
     "output_type": "display_data"
    },
    {
     "data": {
      "text/html": [
       "<pre>recommendations finished on 29000/100003 queries. users per second: 9520.17</pre>"
      ],
      "text/plain": [
       "recommendations finished on 29000/100003 queries. users per second: 9520.17"
      ]
     },
     "metadata": {
      "tags": []
     },
     "output_type": "display_data"
    },
    {
     "data": {
      "text/html": [
       "<pre>recommendations finished on 30000/100003 queries. users per second: 9496.16</pre>"
      ],
      "text/plain": [
       "recommendations finished on 30000/100003 queries. users per second: 9496.16"
      ]
     },
     "metadata": {
      "tags": []
     },
     "output_type": "display_data"
    },
    {
     "data": {
      "text/html": [
       "<pre>recommendations finished on 31000/100003 queries. users per second: 9486.68</pre>"
      ],
      "text/plain": [
       "recommendations finished on 31000/100003 queries. users per second: 9486.68"
      ]
     },
     "metadata": {
      "tags": []
     },
     "output_type": "display_data"
    },
    {
     "data": {
      "text/html": [
       "<pre>recommendations finished on 32000/100003 queries. users per second: 9479</pre>"
      ],
      "text/plain": [
       "recommendations finished on 32000/100003 queries. users per second: 9479"
      ]
     },
     "metadata": {
      "tags": []
     },
     "output_type": "display_data"
    },
    {
     "data": {
      "text/html": [
       "<pre>recommendations finished on 33000/100003 queries. users per second: 9470.11</pre>"
      ],
      "text/plain": [
       "recommendations finished on 33000/100003 queries. users per second: 9470.11"
      ]
     },
     "metadata": {
      "tags": []
     },
     "output_type": "display_data"
    },
    {
     "data": {
      "text/html": [
       "<pre>recommendations finished on 34000/100003 queries. users per second: 9471.51</pre>"
      ],
      "text/plain": [
       "recommendations finished on 34000/100003 queries. users per second: 9471.51"
      ]
     },
     "metadata": {
      "tags": []
     },
     "output_type": "display_data"
    },
    {
     "data": {
      "text/html": [
       "<pre>recommendations finished on 35000/100003 queries. users per second: 9473.6</pre>"
      ],
      "text/plain": [
       "recommendations finished on 35000/100003 queries. users per second: 9473.6"
      ]
     },
     "metadata": {
      "tags": []
     },
     "output_type": "display_data"
    },
    {
     "data": {
      "text/html": [
       "<pre>recommendations finished on 36000/100003 queries. users per second: 9485.26</pre>"
      ],
      "text/plain": [
       "recommendations finished on 36000/100003 queries. users per second: 9485.26"
      ]
     },
     "metadata": {
      "tags": []
     },
     "output_type": "display_data"
    },
    {
     "data": {
      "text/html": [
       "<pre>recommendations finished on 37000/100003 queries. users per second: 9489.13</pre>"
      ],
      "text/plain": [
       "recommendations finished on 37000/100003 queries. users per second: 9489.13"
      ]
     },
     "metadata": {
      "tags": []
     },
     "output_type": "display_data"
    },
    {
     "data": {
      "text/html": [
       "<pre>recommendations finished on 38000/100003 queries. users per second: 9462.86</pre>"
      ],
      "text/plain": [
       "recommendations finished on 38000/100003 queries. users per second: 9462.86"
      ]
     },
     "metadata": {
      "tags": []
     },
     "output_type": "display_data"
    },
    {
     "data": {
      "text/html": [
       "<pre>recommendations finished on 39000/100003 queries. users per second: 9458.84</pre>"
      ],
      "text/plain": [
       "recommendations finished on 39000/100003 queries. users per second: 9458.84"
      ]
     },
     "metadata": {
      "tags": []
     },
     "output_type": "display_data"
    },
    {
     "data": {
      "text/html": [
       "<pre>recommendations finished on 40000/100003 queries. users per second: 9460.47</pre>"
      ],
      "text/plain": [
       "recommendations finished on 40000/100003 queries. users per second: 9460.47"
      ]
     },
     "metadata": {
      "tags": []
     },
     "output_type": "display_data"
    },
    {
     "data": {
      "text/html": [
       "<pre>recommendations finished on 41000/100003 queries. users per second: 9452.62</pre>"
      ],
      "text/plain": [
       "recommendations finished on 41000/100003 queries. users per second: 9452.62"
      ]
     },
     "metadata": {
      "tags": []
     },
     "output_type": "display_data"
    },
    {
     "data": {
      "text/html": [
       "<pre>recommendations finished on 42000/100003 queries. users per second: 9452.86</pre>"
      ],
      "text/plain": [
       "recommendations finished on 42000/100003 queries. users per second: 9452.86"
      ]
     },
     "metadata": {
      "tags": []
     },
     "output_type": "display_data"
    },
    {
     "data": {
      "text/html": [
       "<pre>recommendations finished on 43000/100003 queries. users per second: 9463.29</pre>"
      ],
      "text/plain": [
       "recommendations finished on 43000/100003 queries. users per second: 9463.29"
      ]
     },
     "metadata": {
      "tags": []
     },
     "output_type": "display_data"
    },
    {
     "data": {
      "text/html": [
       "<pre>recommendations finished on 44000/100003 queries. users per second: 9471.79</pre>"
      ],
      "text/plain": [
       "recommendations finished on 44000/100003 queries. users per second: 9471.79"
      ]
     },
     "metadata": {
      "tags": []
     },
     "output_type": "display_data"
    },
    {
     "data": {
      "text/html": [
       "<pre>recommendations finished on 45000/100003 queries. users per second: 9475.09</pre>"
      ],
      "text/plain": [
       "recommendations finished on 45000/100003 queries. users per second: 9475.09"
      ]
     },
     "metadata": {
      "tags": []
     },
     "output_type": "display_data"
    },
    {
     "data": {
      "text/html": [
       "<pre>recommendations finished on 46000/100003 queries. users per second: 9471.69</pre>"
      ],
      "text/plain": [
       "recommendations finished on 46000/100003 queries. users per second: 9471.69"
      ]
     },
     "metadata": {
      "tags": []
     },
     "output_type": "display_data"
    },
    {
     "data": {
      "text/html": [
       "<pre>recommendations finished on 47000/100003 queries. users per second: 9478.4</pre>"
      ],
      "text/plain": [
       "recommendations finished on 47000/100003 queries. users per second: 9478.4"
      ]
     },
     "metadata": {
      "tags": []
     },
     "output_type": "display_data"
    },
    {
     "data": {
      "text/html": [
       "<pre>recommendations finished on 48000/100003 queries. users per second: 9477.4</pre>"
      ],
      "text/plain": [
       "recommendations finished on 48000/100003 queries. users per second: 9477.4"
      ]
     },
     "metadata": {
      "tags": []
     },
     "output_type": "display_data"
    },
    {
     "data": {
      "text/html": [
       "<pre>recommendations finished on 49000/100003 queries. users per second: 9482.2</pre>"
      ],
      "text/plain": [
       "recommendations finished on 49000/100003 queries. users per second: 9482.2"
      ]
     },
     "metadata": {
      "tags": []
     },
     "output_type": "display_data"
    },
    {
     "data": {
      "text/html": [
       "<pre>recommendations finished on 50000/100003 queries. users per second: 9487.26</pre>"
      ],
      "text/plain": [
       "recommendations finished on 50000/100003 queries. users per second: 9487.26"
      ]
     },
     "metadata": {
      "tags": []
     },
     "output_type": "display_data"
    },
    {
     "data": {
      "text/html": [
       "<pre>recommendations finished on 51000/100003 queries. users per second: 9484.47</pre>"
      ],
      "text/plain": [
       "recommendations finished on 51000/100003 queries. users per second: 9484.47"
      ]
     },
     "metadata": {
      "tags": []
     },
     "output_type": "display_data"
    },
    {
     "data": {
      "text/html": [
       "<pre>recommendations finished on 52000/100003 queries. users per second: 9455.05</pre>"
      ],
      "text/plain": [
       "recommendations finished on 52000/100003 queries. users per second: 9455.05"
      ]
     },
     "metadata": {
      "tags": []
     },
     "output_type": "display_data"
    },
    {
     "data": {
      "text/html": [
       "<pre>recommendations finished on 53000/100003 queries. users per second: 9455.03</pre>"
      ],
      "text/plain": [
       "recommendations finished on 53000/100003 queries. users per second: 9455.03"
      ]
     },
     "metadata": {
      "tags": []
     },
     "output_type": "display_data"
    },
    {
     "data": {
      "text/html": [
       "<pre>recommendations finished on 54000/100003 queries. users per second: 9459.06</pre>"
      ],
      "text/plain": [
       "recommendations finished on 54000/100003 queries. users per second: 9459.06"
      ]
     },
     "metadata": {
      "tags": []
     },
     "output_type": "display_data"
    },
    {
     "data": {
      "text/html": [
       "<pre>recommendations finished on 55000/100003 queries. users per second: 9458.44</pre>"
      ],
      "text/plain": [
       "recommendations finished on 55000/100003 queries. users per second: 9458.44"
      ]
     },
     "metadata": {
      "tags": []
     },
     "output_type": "display_data"
    },
    {
     "data": {
      "text/html": [
       "<pre>recommendations finished on 56000/100003 queries. users per second: 9465.59</pre>"
      ],
      "text/plain": [
       "recommendations finished on 56000/100003 queries. users per second: 9465.59"
      ]
     },
     "metadata": {
      "tags": []
     },
     "output_type": "display_data"
    },
    {
     "data": {
      "text/html": [
       "<pre>recommendations finished on 57000/100003 queries. users per second: 9458.22</pre>"
      ],
      "text/plain": [
       "recommendations finished on 57000/100003 queries. users per second: 9458.22"
      ]
     },
     "metadata": {
      "tags": []
     },
     "output_type": "display_data"
    },
    {
     "data": {
      "text/html": [
       "<pre>recommendations finished on 58000/100003 queries. users per second: 9466.68</pre>"
      ],
      "text/plain": [
       "recommendations finished on 58000/100003 queries. users per second: 9466.68"
      ]
     },
     "metadata": {
      "tags": []
     },
     "output_type": "display_data"
    },
    {
     "data": {
      "text/html": [
       "<pre>recommendations finished on 59000/100003 queries. users per second: 9467.42</pre>"
      ],
      "text/plain": [
       "recommendations finished on 59000/100003 queries. users per second: 9467.42"
      ]
     },
     "metadata": {
      "tags": []
     },
     "output_type": "display_data"
    },
    {
     "data": {
      "text/html": [
       "<pre>recommendations finished on 60000/100003 queries. users per second: 9474.56</pre>"
      ],
      "text/plain": [
       "recommendations finished on 60000/100003 queries. users per second: 9474.56"
      ]
     },
     "metadata": {
      "tags": []
     },
     "output_type": "display_data"
    },
    {
     "data": {
      "text/html": [
       "<pre>recommendations finished on 61000/100003 queries. users per second: 9475.68</pre>"
      ],
      "text/plain": [
       "recommendations finished on 61000/100003 queries. users per second: 9475.68"
      ]
     },
     "metadata": {
      "tags": []
     },
     "output_type": "display_data"
    },
    {
     "data": {
      "text/html": [
       "<pre>recommendations finished on 62000/100003 queries. users per second: 9476.8</pre>"
      ],
      "text/plain": [
       "recommendations finished on 62000/100003 queries. users per second: 9476.8"
      ]
     },
     "metadata": {
      "tags": []
     },
     "output_type": "display_data"
    },
    {
     "data": {
      "text/html": [
       "<pre>recommendations finished on 63000/100003 queries. users per second: 9479.51</pre>"
      ],
      "text/plain": [
       "recommendations finished on 63000/100003 queries. users per second: 9479.51"
      ]
     },
     "metadata": {
      "tags": []
     },
     "output_type": "display_data"
    },
    {
     "data": {
      "text/html": [
       "<pre>recommendations finished on 64000/100003 queries. users per second: 9482.83</pre>"
      ],
      "text/plain": [
       "recommendations finished on 64000/100003 queries. users per second: 9482.83"
      ]
     },
     "metadata": {
      "tags": []
     },
     "output_type": "display_data"
    },
    {
     "data": {
      "text/html": [
       "<pre>recommendations finished on 65000/100003 queries. users per second: 9489.86</pre>"
      ],
      "text/plain": [
       "recommendations finished on 65000/100003 queries. users per second: 9489.86"
      ]
     },
     "metadata": {
      "tags": []
     },
     "output_type": "display_data"
    },
    {
     "data": {
      "text/html": [
       "<pre>recommendations finished on 66000/100003 queries. users per second: 9491.68</pre>"
      ],
      "text/plain": [
       "recommendations finished on 66000/100003 queries. users per second: 9491.68"
      ]
     },
     "metadata": {
      "tags": []
     },
     "output_type": "display_data"
    },
    {
     "data": {
      "text/html": [
       "<pre>recommendations finished on 67000/100003 queries. users per second: 9483.46</pre>"
      ],
      "text/plain": [
       "recommendations finished on 67000/100003 queries. users per second: 9483.46"
      ]
     },
     "metadata": {
      "tags": []
     },
     "output_type": "display_data"
    },
    {
     "data": {
      "text/html": [
       "<pre>recommendations finished on 68000/100003 queries. users per second: 9482.92</pre>"
      ],
      "text/plain": [
       "recommendations finished on 68000/100003 queries. users per second: 9482.92"
      ]
     },
     "metadata": {
      "tags": []
     },
     "output_type": "display_data"
    },
    {
     "data": {
      "text/html": [
       "<pre>recommendations finished on 69000/100003 queries. users per second: 9490.86</pre>"
      ],
      "text/plain": [
       "recommendations finished on 69000/100003 queries. users per second: 9490.86"
      ]
     },
     "metadata": {
      "tags": []
     },
     "output_type": "display_data"
    },
    {
     "data": {
      "text/html": [
       "<pre>recommendations finished on 70000/100003 queries. users per second: 9493.62</pre>"
      ],
      "text/plain": [
       "recommendations finished on 70000/100003 queries. users per second: 9493.62"
      ]
     },
     "metadata": {
      "tags": []
     },
     "output_type": "display_data"
    },
    {
     "data": {
      "text/html": [
       "<pre>recommendations finished on 71000/100003 queries. users per second: 9499.95</pre>"
      ],
      "text/plain": [
       "recommendations finished on 71000/100003 queries. users per second: 9499.95"
      ]
     },
     "metadata": {
      "tags": []
     },
     "output_type": "display_data"
    },
    {
     "data": {
      "text/html": [
       "<pre>recommendations finished on 72000/100003 queries. users per second: 9496.99</pre>"
      ],
      "text/plain": [
       "recommendations finished on 72000/100003 queries. users per second: 9496.99"
      ]
     },
     "metadata": {
      "tags": []
     },
     "output_type": "display_data"
    },
    {
     "data": {
      "text/html": [
       "<pre>recommendations finished on 73000/100003 queries. users per second: 9508.22</pre>"
      ],
      "text/plain": [
       "recommendations finished on 73000/100003 queries. users per second: 9508.22"
      ]
     },
     "metadata": {
      "tags": []
     },
     "output_type": "display_data"
    },
    {
     "data": {
      "text/html": [
       "<pre>recommendations finished on 74000/100003 queries. users per second: 9513.24</pre>"
      ],
      "text/plain": [
       "recommendations finished on 74000/100003 queries. users per second: 9513.24"
      ]
     },
     "metadata": {
      "tags": []
     },
     "output_type": "display_data"
    },
    {
     "data": {
      "text/html": [
       "<pre>recommendations finished on 75000/100003 queries. users per second: 9522.48</pre>"
      ],
      "text/plain": [
       "recommendations finished on 75000/100003 queries. users per second: 9522.48"
      ]
     },
     "metadata": {
      "tags": []
     },
     "output_type": "display_data"
    },
    {
     "data": {
      "text/html": [
       "<pre>recommendations finished on 76000/100003 queries. users per second: 9528.44</pre>"
      ],
      "text/plain": [
       "recommendations finished on 76000/100003 queries. users per second: 9528.44"
      ]
     },
     "metadata": {
      "tags": []
     },
     "output_type": "display_data"
    },
    {
     "data": {
      "text/html": [
       "<pre>recommendations finished on 77000/100003 queries. users per second: 9525.51</pre>"
      ],
      "text/plain": [
       "recommendations finished on 77000/100003 queries. users per second: 9525.51"
      ]
     },
     "metadata": {
      "tags": []
     },
     "output_type": "display_data"
    },
    {
     "data": {
      "text/html": [
       "<pre>recommendations finished on 78000/100003 queries. users per second: 9535.74</pre>"
      ],
      "text/plain": [
       "recommendations finished on 78000/100003 queries. users per second: 9535.74"
      ]
     },
     "metadata": {
      "tags": []
     },
     "output_type": "display_data"
    },
    {
     "data": {
      "text/html": [
       "<pre>recommendations finished on 79000/100003 queries. users per second: 9540.43</pre>"
      ],
      "text/plain": [
       "recommendations finished on 79000/100003 queries. users per second: 9540.43"
      ]
     },
     "metadata": {
      "tags": []
     },
     "output_type": "display_data"
    },
    {
     "data": {
      "text/html": [
       "<pre>recommendations finished on 80000/100003 queries. users per second: 9549.66</pre>"
      ],
      "text/plain": [
       "recommendations finished on 80000/100003 queries. users per second: 9549.66"
      ]
     },
     "metadata": {
      "tags": []
     },
     "output_type": "display_data"
    },
    {
     "data": {
      "text/html": [
       "<pre>recommendations finished on 81000/100003 queries. users per second: 9559.27</pre>"
      ],
      "text/plain": [
       "recommendations finished on 81000/100003 queries. users per second: 9559.27"
      ]
     },
     "metadata": {
      "tags": []
     },
     "output_type": "display_data"
    },
    {
     "data": {
      "text/html": [
       "<pre>recommendations finished on 82000/100003 queries. users per second: 9562.42</pre>"
      ],
      "text/plain": [
       "recommendations finished on 82000/100003 queries. users per second: 9562.42"
      ]
     },
     "metadata": {
      "tags": []
     },
     "output_type": "display_data"
    },
    {
     "data": {
      "text/html": [
       "<pre>recommendations finished on 83000/100003 queries. users per second: 9568.12</pre>"
      ],
      "text/plain": [
       "recommendations finished on 83000/100003 queries. users per second: 9568.12"
      ]
     },
     "metadata": {
      "tags": []
     },
     "output_type": "display_data"
    },
    {
     "data": {
      "text/html": [
       "<pre>recommendations finished on 84000/100003 queries. users per second: 9578.12</pre>"
      ],
      "text/plain": [
       "recommendations finished on 84000/100003 queries. users per second: 9578.12"
      ]
     },
     "metadata": {
      "tags": []
     },
     "output_type": "display_data"
    },
    {
     "data": {
      "text/html": [
       "<pre>recommendations finished on 85000/100003 queries. users per second: 9581.76</pre>"
      ],
      "text/plain": [
       "recommendations finished on 85000/100003 queries. users per second: 9581.76"
      ]
     },
     "metadata": {
      "tags": []
     },
     "output_type": "display_data"
    },
    {
     "data": {
      "text/html": [
       "<pre>recommendations finished on 86000/100003 queries. users per second: 9583.67</pre>"
      ],
      "text/plain": [
       "recommendations finished on 86000/100003 queries. users per second: 9583.67"
      ]
     },
     "metadata": {
      "tags": []
     },
     "output_type": "display_data"
    },
    {
     "data": {
      "text/html": [
       "<pre>recommendations finished on 87000/100003 queries. users per second: 9586.04</pre>"
      ],
      "text/plain": [
       "recommendations finished on 87000/100003 queries. users per second: 9586.04"
      ]
     },
     "metadata": {
      "tags": []
     },
     "output_type": "display_data"
    },
    {
     "data": {
      "text/html": [
       "<pre>recommendations finished on 88000/100003 queries. users per second: 9587.6</pre>"
      ],
      "text/plain": [
       "recommendations finished on 88000/100003 queries. users per second: 9587.6"
      ]
     },
     "metadata": {
      "tags": []
     },
     "output_type": "display_data"
    },
    {
     "data": {
      "text/html": [
       "<pre>recommendations finished on 89000/100003 queries. users per second: 9594.24</pre>"
      ],
      "text/plain": [
       "recommendations finished on 89000/100003 queries. users per second: 9594.24"
      ]
     },
     "metadata": {
      "tags": []
     },
     "output_type": "display_data"
    },
    {
     "data": {
      "text/html": [
       "<pre>recommendations finished on 90000/100003 queries. users per second: 9598.36</pre>"
      ],
      "text/plain": [
       "recommendations finished on 90000/100003 queries. users per second: 9598.36"
      ]
     },
     "metadata": {
      "tags": []
     },
     "output_type": "display_data"
    },
    {
     "data": {
      "text/html": [
       "<pre>recommendations finished on 91000/100003 queries. users per second: 9602.72</pre>"
      ],
      "text/plain": [
       "recommendations finished on 91000/100003 queries. users per second: 9602.72"
      ]
     },
     "metadata": {
      "tags": []
     },
     "output_type": "display_data"
    },
    {
     "data": {
      "text/html": [
       "<pre>recommendations finished on 92000/100003 queries. users per second: 9603.65</pre>"
      ],
      "text/plain": [
       "recommendations finished on 92000/100003 queries. users per second: 9603.65"
      ]
     },
     "metadata": {
      "tags": []
     },
     "output_type": "display_data"
    },
    {
     "data": {
      "text/html": [
       "<pre>recommendations finished on 93000/100003 queries. users per second: 9610.15</pre>"
      ],
      "text/plain": [
       "recommendations finished on 93000/100003 queries. users per second: 9610.15"
      ]
     },
     "metadata": {
      "tags": []
     },
     "output_type": "display_data"
    },
    {
     "data": {
      "text/html": [
       "<pre>recommendations finished on 94000/100003 queries. users per second: 9602.49</pre>"
      ],
      "text/plain": [
       "recommendations finished on 94000/100003 queries. users per second: 9602.49"
      ]
     },
     "metadata": {
      "tags": []
     },
     "output_type": "display_data"
    },
    {
     "data": {
      "text/html": [
       "<pre>recommendations finished on 95000/100003 queries. users per second: 9572.95</pre>"
      ],
      "text/plain": [
       "recommendations finished on 95000/100003 queries. users per second: 9572.95"
      ]
     },
     "metadata": {
      "tags": []
     },
     "output_type": "display_data"
    },
    {
     "data": {
      "text/html": [
       "<pre>recommendations finished on 96000/100003 queries. users per second: 9546.87</pre>"
      ],
      "text/plain": [
       "recommendations finished on 96000/100003 queries. users per second: 9546.87"
      ]
     },
     "metadata": {
      "tags": []
     },
     "output_type": "display_data"
    },
    {
     "data": {
      "text/html": [
       "<pre>recommendations finished on 97000/100003 queries. users per second: 9516.11</pre>"
      ],
      "text/plain": [
       "recommendations finished on 97000/100003 queries. users per second: 9516.11"
      ]
     },
     "metadata": {
      "tags": []
     },
     "output_type": "display_data"
    },
    {
     "data": {
      "text/html": [
       "<pre>recommendations finished on 98000/100003 queries. users per second: 9494.73</pre>"
      ],
      "text/plain": [
       "recommendations finished on 98000/100003 queries. users per second: 9494.73"
      ]
     },
     "metadata": {
      "tags": []
     },
     "output_type": "display_data"
    },
    {
     "data": {
      "text/html": [
       "<pre>recommendations finished on 99000/100003 queries. users per second: 9475.31</pre>"
      ],
      "text/plain": [
       "recommendations finished on 99000/100003 queries. users per second: 9475.31"
      ]
     },
     "metadata": {
      "tags": []
     },
     "output_type": "display_data"
    },
    {
     "data": {
      "text/html": [
       "<pre>recommendations finished on 100000/100003 queries. users per second: 9454.95</pre>"
      ],
      "text/plain": [
       "recommendations finished on 100000/100003 queries. users per second: 9454.95"
      ]
     },
     "metadata": {
      "tags": []
     },
     "output_type": "display_data"
    },
    {
     "name": "stdout",
     "output_type": "stream",
     "text": [
      "+---------+---------+--------------------+------+\n",
      "| user_id | item_id |       score        | rank |\n",
      "+---------+---------+--------------------+------+\n",
      "|    0    |   181   | 0.6414898633956909 |  1   |\n",
      "|    0    |    98   | 0.5270242989063263 |  2   |\n",
      "|    0    |    79   | 0.5257005989551544 |  3   |\n",
      "|    0    |   183   | 0.5256378352642059 |  4   |\n",
      "|    0    |   176   | 0.5206825733184814 |  5   |\n",
      "|    0    |    22   | 0.5158477425575256 |  6   |\n",
      "|    0    |    82   | 0.4926591217517853 |  7   |\n",
      "|    0    |    64   | 0.4847051799297333 |  8   |\n",
      "|    0    |   161   | 0.4569465219974518 |  9   |\n",
      "|    0    |   215   | 0.4350099265575409 |  10  |\n",
      "|    0    |   181   | 0.6414898633956909 |  1   |\n",
      "|    0    |    98   | 0.5270242989063263 |  2   |\n",
      "|    0    |    79   | 0.5257005989551544 |  3   |\n",
      "|    0    |   183   | 0.5256378352642059 |  4   |\n",
      "|    0    |   176   | 0.5206825733184814 |  5   |\n",
      "|    0    |    22   | 0.5158477425575256 |  6   |\n",
      "|    0    |    82   | 0.4926591217517853 |  7   |\n",
      "|    0    |    64   | 0.4847051799297333 |  8   |\n",
      "|    0    |   161   | 0.4569465219974518 |  9   |\n",
      "|    0    |   215   | 0.4350099265575409 |  10  |\n",
      "|    0    |   181   | 0.6414898633956909 |  1   |\n",
      "|    0    |    98   | 0.5270242989063263 |  2   |\n",
      "|    0    |    79   | 0.5257005989551544 |  3   |\n",
      "|    0    |   183   | 0.5256378352642059 |  4   |\n",
      "|    0    |   176   | 0.5206825733184814 |  5   |\n",
      "|    0    |    22   | 0.5158477425575256 |  6   |\n",
      "|    0    |    82   | 0.4926591217517853 |  7   |\n",
      "|    0    |    64   | 0.4847051799297333 |  8   |\n",
      "|    0    |   161   | 0.4569465219974518 |  9   |\n",
      "|    0    |   215   | 0.4350099265575409 |  10  |\n",
      "+---------+---------+--------------------+------+\n",
      "[1000030 rows x 4 columns]\n",
      "\n"
     ]
    }
   ],
   "source": [
    "#Using normalized rating\n",
    "name = 'cosine'\n",
    "target = 'scaled_rating_freq'\n",
    "cos_norm = model(train_data_norm, name, user_id, item_id, target, users_to_recommend, n_rec, n_display)"
   ]
  },
  {
   "cell_type": "code",
   "execution_count": 37,
   "metadata": {
    "colab": {
     "base_uri": "https://localhost:8080/",
     "height": 1000
    },
    "id": "qcL_wWlJdMSE",
    "outputId": "ff0a0c79-f06d-4cc5-ffa1-b8b5908b79e8"
   },
   "outputs": [
    {
     "data": {
      "text/html": [
       "<pre>Warning: Ignoring columns timestamp, title, Rating_mean, num of ratings;</pre>"
      ],
      "text/plain": [
       "Warning: Ignoring columns timestamp, title, Rating_mean, num of ratings;"
      ]
     },
     "metadata": {
      "tags": []
     },
     "output_type": "display_data"
    },
    {
     "data": {
      "text/html": [
       "<pre>    To use these columns in scoring predictions, use a model that allows the use of additional features.</pre>"
      ],
      "text/plain": [
       "    To use these columns in scoring predictions, use a model that allows the use of additional features."
      ]
     },
     "metadata": {
      "tags": []
     },
     "output_type": "display_data"
    },
    {
     "data": {
      "text/html": [
       "<pre>Preparing data set.</pre>"
      ],
      "text/plain": [
       "Preparing data set."
      ]
     },
     "metadata": {
      "tags": []
     },
     "output_type": "display_data"
    },
    {
     "data": {
      "text/html": [
       "<pre>    Data has 80002 observations with 944 users and 1654 items.</pre>"
      ],
      "text/plain": [
       "    Data has 80002 observations with 944 users and 1654 items."
      ]
     },
     "metadata": {
      "tags": []
     },
     "output_type": "display_data"
    },
    {
     "data": {
      "text/html": [
       "<pre>    Data prepared in: 0.090498s</pre>"
      ],
      "text/plain": [
       "    Data prepared in: 0.090498s"
      ]
     },
     "metadata": {
      "tags": []
     },
     "output_type": "display_data"
    },
    {
     "data": {
      "text/html": [
       "<pre>Training model from provided data.</pre>"
      ],
      "text/plain": [
       "Training model from provided data."
      ]
     },
     "metadata": {
      "tags": []
     },
     "output_type": "display_data"
    },
    {
     "data": {
      "text/html": [
       "<pre>Gathering per-item and per-user statistics.</pre>"
      ],
      "text/plain": [
       "Gathering per-item and per-user statistics."
      ]
     },
     "metadata": {
      "tags": []
     },
     "output_type": "display_data"
    },
    {
     "data": {
      "text/html": [
       "<pre>+--------------------------------+------------+</pre>"
      ],
      "text/plain": [
       "+--------------------------------+------------+"
      ]
     },
     "metadata": {
      "tags": []
     },
     "output_type": "display_data"
    },
    {
     "data": {
      "text/html": [
       "<pre>| Elapsed Time (Item Statistics) | % Complete |</pre>"
      ],
      "text/plain": [
       "| Elapsed Time (Item Statistics) | % Complete |"
      ]
     },
     "metadata": {
      "tags": []
     },
     "output_type": "display_data"
    },
    {
     "data": {
      "text/html": [
       "<pre>+--------------------------------+------------+</pre>"
      ],
      "text/plain": [
       "+--------------------------------+------------+"
      ]
     },
     "metadata": {
      "tags": []
     },
     "output_type": "display_data"
    },
    {
     "data": {
      "text/html": [
       "<pre>| 10.011ms                       | 100        |</pre>"
      ],
      "text/plain": [
       "| 10.011ms                       | 100        |"
      ]
     },
     "metadata": {
      "tags": []
     },
     "output_type": "display_data"
    },
    {
     "data": {
      "text/html": [
       "<pre>+--------------------------------+------------+</pre>"
      ],
      "text/plain": [
       "+--------------------------------+------------+"
      ]
     },
     "metadata": {
      "tags": []
     },
     "output_type": "display_data"
    },
    {
     "data": {
      "text/html": [
       "<pre>Setting up lookup tables.</pre>"
      ],
      "text/plain": [
       "Setting up lookup tables."
      ]
     },
     "metadata": {
      "tags": []
     },
     "output_type": "display_data"
    },
    {
     "data": {
      "text/html": [
       "<pre>Processing data in one pass using dense lookup tables.</pre>"
      ],
      "text/plain": [
       "Processing data in one pass using dense lookup tables."
      ]
     },
     "metadata": {
      "tags": []
     },
     "output_type": "display_data"
    },
    {
     "data": {
      "text/html": [
       "<pre>+-------------------------------------+------------------+-----------------+</pre>"
      ],
      "text/plain": [
       "+-------------------------------------+------------------+-----------------+"
      ]
     },
     "metadata": {
      "tags": []
     },
     "output_type": "display_data"
    },
    {
     "data": {
      "text/html": [
       "<pre>| Elapsed Time (Constructing Lookups) | Total % Complete | Items Processed |</pre>"
      ],
      "text/plain": [
       "| Elapsed Time (Constructing Lookups) | Total % Complete | Items Processed |"
      ]
     },
     "metadata": {
      "tags": []
     },
     "output_type": "display_data"
    },
    {
     "data": {
      "text/html": [
       "<pre>+-------------------------------------+------------------+-----------------+</pre>"
      ],
      "text/plain": [
       "+-------------------------------------+------------------+-----------------+"
      ]
     },
     "metadata": {
      "tags": []
     },
     "output_type": "display_data"
    },
    {
     "data": {
      "text/html": [
       "<pre>| 12.754ms                            | 0                | 0               |</pre>"
      ],
      "text/plain": [
       "| 12.754ms                            | 0                | 0               |"
      ]
     },
     "metadata": {
      "tags": []
     },
     "output_type": "display_data"
    },
    {
     "data": {
      "text/html": [
       "<pre>| 259.651ms                           | 100              | 1654            |</pre>"
      ],
      "text/plain": [
       "| 259.651ms                           | 100              | 1654            |"
      ]
     },
     "metadata": {
      "tags": []
     },
     "output_type": "display_data"
    },
    {
     "data": {
      "text/html": [
       "<pre>+-------------------------------------+------------------+-----------------+</pre>"
      ],
      "text/plain": [
       "+-------------------------------------+------------------+-----------------+"
      ]
     },
     "metadata": {
      "tags": []
     },
     "output_type": "display_data"
    },
    {
     "data": {
      "text/html": [
       "<pre>Finalizing lookup tables.</pre>"
      ],
      "text/plain": [
       "Finalizing lookup tables."
      ]
     },
     "metadata": {
      "tags": []
     },
     "output_type": "display_data"
    },
    {
     "data": {
      "text/html": [
       "<pre>Generating candidate set for working with new users.</pre>"
      ],
      "text/plain": [
       "Generating candidate set for working with new users."
      ]
     },
     "metadata": {
      "tags": []
     },
     "output_type": "display_data"
    },
    {
     "data": {
      "text/html": [
       "<pre>Finished training in 0.281509s</pre>"
      ],
      "text/plain": [
       "Finished training in 0.281509s"
      ]
     },
     "metadata": {
      "tags": []
     },
     "output_type": "display_data"
    },
    {
     "data": {
      "text/html": [
       "<pre>recommendations finished on 1000/100003 queries. users per second: 7770.85</pre>"
      ],
      "text/plain": [
       "recommendations finished on 1000/100003 queries. users per second: 7770.85"
      ]
     },
     "metadata": {
      "tags": []
     },
     "output_type": "display_data"
    },
    {
     "data": {
      "text/html": [
       "<pre>recommendations finished on 2000/100003 queries. users per second: 8187.09</pre>"
      ],
      "text/plain": [
       "recommendations finished on 2000/100003 queries. users per second: 8187.09"
      ]
     },
     "metadata": {
      "tags": []
     },
     "output_type": "display_data"
    },
    {
     "data": {
      "text/html": [
       "<pre>recommendations finished on 3000/100003 queries. users per second: 8319.12</pre>"
      ],
      "text/plain": [
       "recommendations finished on 3000/100003 queries. users per second: 8319.12"
      ]
     },
     "metadata": {
      "tags": []
     },
     "output_type": "display_data"
    },
    {
     "data": {
      "text/html": [
       "<pre>recommendations finished on 4000/100003 queries. users per second: 8401.1</pre>"
      ],
      "text/plain": [
       "recommendations finished on 4000/100003 queries. users per second: 8401.1"
      ]
     },
     "metadata": {
      "tags": []
     },
     "output_type": "display_data"
    },
    {
     "data": {
      "text/html": [
       "<pre>recommendations finished on 5000/100003 queries. users per second: 8476.03</pre>"
      ],
      "text/plain": [
       "recommendations finished on 5000/100003 queries. users per second: 8476.03"
      ]
     },
     "metadata": {
      "tags": []
     },
     "output_type": "display_data"
    },
    {
     "data": {
      "text/html": [
       "<pre>recommendations finished on 6000/100003 queries. users per second: 8469.47</pre>"
      ],
      "text/plain": [
       "recommendations finished on 6000/100003 queries. users per second: 8469.47"
      ]
     },
     "metadata": {
      "tags": []
     },
     "output_type": "display_data"
    },
    {
     "data": {
      "text/html": [
       "<pre>recommendations finished on 7000/100003 queries. users per second: 8491.79</pre>"
      ],
      "text/plain": [
       "recommendations finished on 7000/100003 queries. users per second: 8491.79"
      ]
     },
     "metadata": {
      "tags": []
     },
     "output_type": "display_data"
    },
    {
     "data": {
      "text/html": [
       "<pre>recommendations finished on 8000/100003 queries. users per second: 8541.86</pre>"
      ],
      "text/plain": [
       "recommendations finished on 8000/100003 queries. users per second: 8541.86"
      ]
     },
     "metadata": {
      "tags": []
     },
     "output_type": "display_data"
    },
    {
     "data": {
      "text/html": [
       "<pre>recommendations finished on 9000/100003 queries. users per second: 8583.68</pre>"
      ],
      "text/plain": [
       "recommendations finished on 9000/100003 queries. users per second: 8583.68"
      ]
     },
     "metadata": {
      "tags": []
     },
     "output_type": "display_data"
    },
    {
     "data": {
      "text/html": [
       "<pre>recommendations finished on 10000/100003 queries. users per second: 8534.18</pre>"
      ],
      "text/plain": [
       "recommendations finished on 10000/100003 queries. users per second: 8534.18"
      ]
     },
     "metadata": {
      "tags": []
     },
     "output_type": "display_data"
    },
    {
     "data": {
      "text/html": [
       "<pre>recommendations finished on 11000/100003 queries. users per second: 8538.12</pre>"
      ],
      "text/plain": [
       "recommendations finished on 11000/100003 queries. users per second: 8538.12"
      ]
     },
     "metadata": {
      "tags": []
     },
     "output_type": "display_data"
    },
    {
     "data": {
      "text/html": [
       "<pre>recommendations finished on 12000/100003 queries. users per second: 8561.13</pre>"
      ],
      "text/plain": [
       "recommendations finished on 12000/100003 queries. users per second: 8561.13"
      ]
     },
     "metadata": {
      "tags": []
     },
     "output_type": "display_data"
    },
    {
     "data": {
      "text/html": [
       "<pre>recommendations finished on 13000/100003 queries. users per second: 8572.39</pre>"
      ],
      "text/plain": [
       "recommendations finished on 13000/100003 queries. users per second: 8572.39"
      ]
     },
     "metadata": {
      "tags": []
     },
     "output_type": "display_data"
    },
    {
     "data": {
      "text/html": [
       "<pre>recommendations finished on 14000/100003 queries. users per second: 8576.4</pre>"
      ],
      "text/plain": [
       "recommendations finished on 14000/100003 queries. users per second: 8576.4"
      ]
     },
     "metadata": {
      "tags": []
     },
     "output_type": "display_data"
    },
    {
     "data": {
      "text/html": [
       "<pre>recommendations finished on 15000/100003 queries. users per second: 8591.4</pre>"
      ],
      "text/plain": [
       "recommendations finished on 15000/100003 queries. users per second: 8591.4"
      ]
     },
     "metadata": {
      "tags": []
     },
     "output_type": "display_data"
    },
    {
     "data": {
      "text/html": [
       "<pre>recommendations finished on 16000/100003 queries. users per second: 8612.28</pre>"
      ],
      "text/plain": [
       "recommendations finished on 16000/100003 queries. users per second: 8612.28"
      ]
     },
     "metadata": {
      "tags": []
     },
     "output_type": "display_data"
    },
    {
     "data": {
      "text/html": [
       "<pre>recommendations finished on 17000/100003 queries. users per second: 8658.22</pre>"
      ],
      "text/plain": [
       "recommendations finished on 17000/100003 queries. users per second: 8658.22"
      ]
     },
     "metadata": {
      "tags": []
     },
     "output_type": "display_data"
    },
    {
     "data": {
      "text/html": [
       "<pre>recommendations finished on 18000/100003 queries. users per second: 8684.75</pre>"
      ],
      "text/plain": [
       "recommendations finished on 18000/100003 queries. users per second: 8684.75"
      ]
     },
     "metadata": {
      "tags": []
     },
     "output_type": "display_data"
    },
    {
     "data": {
      "text/html": [
       "<pre>recommendations finished on 19000/100003 queries. users per second: 8686.06</pre>"
      ],
      "text/plain": [
       "recommendations finished on 19000/100003 queries. users per second: 8686.06"
      ]
     },
     "metadata": {
      "tags": []
     },
     "output_type": "display_data"
    },
    {
     "data": {
      "text/html": [
       "<pre>recommendations finished on 20000/100003 queries. users per second: 8720.78</pre>"
      ],
      "text/plain": [
       "recommendations finished on 20000/100003 queries. users per second: 8720.78"
      ]
     },
     "metadata": {
      "tags": []
     },
     "output_type": "display_data"
    },
    {
     "data": {
      "text/html": [
       "<pre>recommendations finished on 21000/100003 queries. users per second: 8739.87</pre>"
      ],
      "text/plain": [
       "recommendations finished on 21000/100003 queries. users per second: 8739.87"
      ]
     },
     "metadata": {
      "tags": []
     },
     "output_type": "display_data"
    },
    {
     "data": {
      "text/html": [
       "<pre>recommendations finished on 22000/100003 queries. users per second: 8729.54</pre>"
      ],
      "text/plain": [
       "recommendations finished on 22000/100003 queries. users per second: 8729.54"
      ]
     },
     "metadata": {
      "tags": []
     },
     "output_type": "display_data"
    },
    {
     "data": {
      "text/html": [
       "<pre>recommendations finished on 23000/100003 queries. users per second: 8753.22</pre>"
      ],
      "text/plain": [
       "recommendations finished on 23000/100003 queries. users per second: 8753.22"
      ]
     },
     "metadata": {
      "tags": []
     },
     "output_type": "display_data"
    },
    {
     "data": {
      "text/html": [
       "<pre>recommendations finished on 24000/100003 queries. users per second: 8763.15</pre>"
      ],
      "text/plain": [
       "recommendations finished on 24000/100003 queries. users per second: 8763.15"
      ]
     },
     "metadata": {
      "tags": []
     },
     "output_type": "display_data"
    },
    {
     "data": {
      "text/html": [
       "<pre>recommendations finished on 25000/100003 queries. users per second: 8782.56</pre>"
      ],
      "text/plain": [
       "recommendations finished on 25000/100003 queries. users per second: 8782.56"
      ]
     },
     "metadata": {
      "tags": []
     },
     "output_type": "display_data"
    },
    {
     "data": {
      "text/html": [
       "<pre>recommendations finished on 26000/100003 queries. users per second: 8770.12</pre>"
      ],
      "text/plain": [
       "recommendations finished on 26000/100003 queries. users per second: 8770.12"
      ]
     },
     "metadata": {
      "tags": []
     },
     "output_type": "display_data"
    },
    {
     "data": {
      "text/html": [
       "<pre>recommendations finished on 27000/100003 queries. users per second: 8766.69</pre>"
      ],
      "text/plain": [
       "recommendations finished on 27000/100003 queries. users per second: 8766.69"
      ]
     },
     "metadata": {
      "tags": []
     },
     "output_type": "display_data"
    },
    {
     "data": {
      "text/html": [
       "<pre>recommendations finished on 28000/100003 queries. users per second: 8731.61</pre>"
      ],
      "text/plain": [
       "recommendations finished on 28000/100003 queries. users per second: 8731.61"
      ]
     },
     "metadata": {
      "tags": []
     },
     "output_type": "display_data"
    },
    {
     "data": {
      "text/html": [
       "<pre>recommendations finished on 29000/100003 queries. users per second: 8713.56</pre>"
      ],
      "text/plain": [
       "recommendations finished on 29000/100003 queries. users per second: 8713.56"
      ]
     },
     "metadata": {
      "tags": []
     },
     "output_type": "display_data"
    },
    {
     "data": {
      "text/html": [
       "<pre>recommendations finished on 30000/100003 queries. users per second: 8705.62</pre>"
      ],
      "text/plain": [
       "recommendations finished on 30000/100003 queries. users per second: 8705.62"
      ]
     },
     "metadata": {
      "tags": []
     },
     "output_type": "display_data"
    },
    {
     "data": {
      "text/html": [
       "<pre>recommendations finished on 31000/100003 queries. users per second: 8689.15</pre>"
      ],
      "text/plain": [
       "recommendations finished on 31000/100003 queries. users per second: 8689.15"
      ]
     },
     "metadata": {
      "tags": []
     },
     "output_type": "display_data"
    },
    {
     "data": {
      "text/html": [
       "<pre>recommendations finished on 32000/100003 queries. users per second: 8682.38</pre>"
      ],
      "text/plain": [
       "recommendations finished on 32000/100003 queries. users per second: 8682.38"
      ]
     },
     "metadata": {
      "tags": []
     },
     "output_type": "display_data"
    },
    {
     "data": {
      "text/html": [
       "<pre>recommendations finished on 33000/100003 queries. users per second: 8679.09</pre>"
      ],
      "text/plain": [
       "recommendations finished on 33000/100003 queries. users per second: 8679.09"
      ]
     },
     "metadata": {
      "tags": []
     },
     "output_type": "display_data"
    },
    {
     "data": {
      "text/html": [
       "<pre>recommendations finished on 34000/100003 queries. users per second: 8683.07</pre>"
      ],
      "text/plain": [
       "recommendations finished on 34000/100003 queries. users per second: 8683.07"
      ]
     },
     "metadata": {
      "tags": []
     },
     "output_type": "display_data"
    },
    {
     "data": {
      "text/html": [
       "<pre>recommendations finished on 35000/100003 queries. users per second: 8681.52</pre>"
      ],
      "text/plain": [
       "recommendations finished on 35000/100003 queries. users per second: 8681.52"
      ]
     },
     "metadata": {
      "tags": []
     },
     "output_type": "display_data"
    },
    {
     "data": {
      "text/html": [
       "<pre>recommendations finished on 36000/100003 queries. users per second: 8656.89</pre>"
      ],
      "text/plain": [
       "recommendations finished on 36000/100003 queries. users per second: 8656.89"
      ]
     },
     "metadata": {
      "tags": []
     },
     "output_type": "display_data"
    },
    {
     "data": {
      "text/html": [
       "<pre>recommendations finished on 37000/100003 queries. users per second: 8663.94</pre>"
      ],
      "text/plain": [
       "recommendations finished on 37000/100003 queries. users per second: 8663.94"
      ]
     },
     "metadata": {
      "tags": []
     },
     "output_type": "display_data"
    },
    {
     "data": {
      "text/html": [
       "<pre>recommendations finished on 38000/100003 queries. users per second: 8656.7</pre>"
      ],
      "text/plain": [
       "recommendations finished on 38000/100003 queries. users per second: 8656.7"
      ]
     },
     "metadata": {
      "tags": []
     },
     "output_type": "display_data"
    },
    {
     "data": {
      "text/html": [
       "<pre>recommendations finished on 39000/100003 queries. users per second: 8652.38</pre>"
      ],
      "text/plain": [
       "recommendations finished on 39000/100003 queries. users per second: 8652.38"
      ]
     },
     "metadata": {
      "tags": []
     },
     "output_type": "display_data"
    },
    {
     "data": {
      "text/html": [
       "<pre>recommendations finished on 40000/100003 queries. users per second: 8622.18</pre>"
      ],
      "text/plain": [
       "recommendations finished on 40000/100003 queries. users per second: 8622.18"
      ]
     },
     "metadata": {
      "tags": []
     },
     "output_type": "display_data"
    },
    {
     "data": {
      "text/html": [
       "<pre>recommendations finished on 41000/100003 queries. users per second: 8622.25</pre>"
      ],
      "text/plain": [
       "recommendations finished on 41000/100003 queries. users per second: 8622.25"
      ]
     },
     "metadata": {
      "tags": []
     },
     "output_type": "display_data"
    },
    {
     "data": {
      "text/html": [
       "<pre>recommendations finished on 42000/100003 queries. users per second: 8622.13</pre>"
      ],
      "text/plain": [
       "recommendations finished on 42000/100003 queries. users per second: 8622.13"
      ]
     },
     "metadata": {
      "tags": []
     },
     "output_type": "display_data"
    },
    {
     "data": {
      "text/html": [
       "<pre>recommendations finished on 43000/100003 queries. users per second: 8610.28</pre>"
      ],
      "text/plain": [
       "recommendations finished on 43000/100003 queries. users per second: 8610.28"
      ]
     },
     "metadata": {
      "tags": []
     },
     "output_type": "display_data"
    },
    {
     "data": {
      "text/html": [
       "<pre>recommendations finished on 44000/100003 queries. users per second: 8607.07</pre>"
      ],
      "text/plain": [
       "recommendations finished on 44000/100003 queries. users per second: 8607.07"
      ]
     },
     "metadata": {
      "tags": []
     },
     "output_type": "display_data"
    },
    {
     "data": {
      "text/html": [
       "<pre>recommendations finished on 45000/100003 queries. users per second: 8601.28</pre>"
      ],
      "text/plain": [
       "recommendations finished on 45000/100003 queries. users per second: 8601.28"
      ]
     },
     "metadata": {
      "tags": []
     },
     "output_type": "display_data"
    },
    {
     "data": {
      "text/html": [
       "<pre>recommendations finished on 46000/100003 queries. users per second: 8603.93</pre>"
      ],
      "text/plain": [
       "recommendations finished on 46000/100003 queries. users per second: 8603.93"
      ]
     },
     "metadata": {
      "tags": []
     },
     "output_type": "display_data"
    },
    {
     "data": {
      "text/html": [
       "<pre>recommendations finished on 47000/100003 queries. users per second: 8603.12</pre>"
      ],
      "text/plain": [
       "recommendations finished on 47000/100003 queries. users per second: 8603.12"
      ]
     },
     "metadata": {
      "tags": []
     },
     "output_type": "display_data"
    },
    {
     "data": {
      "text/html": [
       "<pre>recommendations finished on 48000/100003 queries. users per second: 8603.01</pre>"
      ],
      "text/plain": [
       "recommendations finished on 48000/100003 queries. users per second: 8603.01"
      ]
     },
     "metadata": {
      "tags": []
     },
     "output_type": "display_data"
    },
    {
     "data": {
      "text/html": [
       "<pre>recommendations finished on 49000/100003 queries. users per second: 8603.64</pre>"
      ],
      "text/plain": [
       "recommendations finished on 49000/100003 queries. users per second: 8603.64"
      ]
     },
     "metadata": {
      "tags": []
     },
     "output_type": "display_data"
    },
    {
     "data": {
      "text/html": [
       "<pre>recommendations finished on 50000/100003 queries. users per second: 8611.36</pre>"
      ],
      "text/plain": [
       "recommendations finished on 50000/100003 queries. users per second: 8611.36"
      ]
     },
     "metadata": {
      "tags": []
     },
     "output_type": "display_data"
    },
    {
     "data": {
      "text/html": [
       "<pre>recommendations finished on 51000/100003 queries. users per second: 8608.74</pre>"
      ],
      "text/plain": [
       "recommendations finished on 51000/100003 queries. users per second: 8608.74"
      ]
     },
     "metadata": {
      "tags": []
     },
     "output_type": "display_data"
    },
    {
     "data": {
      "text/html": [
       "<pre>recommendations finished on 52000/100003 queries. users per second: 8605.64</pre>"
      ],
      "text/plain": [
       "recommendations finished on 52000/100003 queries. users per second: 8605.64"
      ]
     },
     "metadata": {
      "tags": []
     },
     "output_type": "display_data"
    },
    {
     "data": {
      "text/html": [
       "<pre>recommendations finished on 53000/100003 queries. users per second: 8602.95</pre>"
      ],
      "text/plain": [
       "recommendations finished on 53000/100003 queries. users per second: 8602.95"
      ]
     },
     "metadata": {
      "tags": []
     },
     "output_type": "display_data"
    },
    {
     "data": {
      "text/html": [
       "<pre>recommendations finished on 54000/100003 queries. users per second: 8587.74</pre>"
      ],
      "text/plain": [
       "recommendations finished on 54000/100003 queries. users per second: 8587.74"
      ]
     },
     "metadata": {
      "tags": []
     },
     "output_type": "display_data"
    },
    {
     "data": {
      "text/html": [
       "<pre>recommendations finished on 55000/100003 queries. users per second: 8578.04</pre>"
      ],
      "text/plain": [
       "recommendations finished on 55000/100003 queries. users per second: 8578.04"
      ]
     },
     "metadata": {
      "tags": []
     },
     "output_type": "display_data"
    },
    {
     "data": {
      "text/html": [
       "<pre>recommendations finished on 56000/100003 queries. users per second: 8580.68</pre>"
      ],
      "text/plain": [
       "recommendations finished on 56000/100003 queries. users per second: 8580.68"
      ]
     },
     "metadata": {
      "tags": []
     },
     "output_type": "display_data"
    },
    {
     "data": {
      "text/html": [
       "<pre>recommendations finished on 57000/100003 queries. users per second: 8579.02</pre>"
      ],
      "text/plain": [
       "recommendations finished on 57000/100003 queries. users per second: 8579.02"
      ]
     },
     "metadata": {
      "tags": []
     },
     "output_type": "display_data"
    },
    {
     "data": {
      "text/html": [
       "<pre>recommendations finished on 58000/100003 queries. users per second: 8579.53</pre>"
      ],
      "text/plain": [
       "recommendations finished on 58000/100003 queries. users per second: 8579.53"
      ]
     },
     "metadata": {
      "tags": []
     },
     "output_type": "display_data"
    },
    {
     "data": {
      "text/html": [
       "<pre>recommendations finished on 59000/100003 queries. users per second: 8582.28</pre>"
      ],
      "text/plain": [
       "recommendations finished on 59000/100003 queries. users per second: 8582.28"
      ]
     },
     "metadata": {
      "tags": []
     },
     "output_type": "display_data"
    },
    {
     "data": {
      "text/html": [
       "<pre>recommendations finished on 60000/100003 queries. users per second: 8586.56</pre>"
      ],
      "text/plain": [
       "recommendations finished on 60000/100003 queries. users per second: 8586.56"
      ]
     },
     "metadata": {
      "tags": []
     },
     "output_type": "display_data"
    },
    {
     "data": {
      "text/html": [
       "<pre>recommendations finished on 61000/100003 queries. users per second: 8568.18</pre>"
      ],
      "text/plain": [
       "recommendations finished on 61000/100003 queries. users per second: 8568.18"
      ]
     },
     "metadata": {
      "tags": []
     },
     "output_type": "display_data"
    },
    {
     "data": {
      "text/html": [
       "<pre>recommendations finished on 62000/100003 queries. users per second: 8558.74</pre>"
      ],
      "text/plain": [
       "recommendations finished on 62000/100003 queries. users per second: 8558.74"
      ]
     },
     "metadata": {
      "tags": []
     },
     "output_type": "display_data"
    },
    {
     "data": {
      "text/html": [
       "<pre>recommendations finished on 63000/100003 queries. users per second: 8561.18</pre>"
      ],
      "text/plain": [
       "recommendations finished on 63000/100003 queries. users per second: 8561.18"
      ]
     },
     "metadata": {
      "tags": []
     },
     "output_type": "display_data"
    },
    {
     "data": {
      "text/html": [
       "<pre>recommendations finished on 64000/100003 queries. users per second: 8566.78</pre>"
      ],
      "text/plain": [
       "recommendations finished on 64000/100003 queries. users per second: 8566.78"
      ]
     },
     "metadata": {
      "tags": []
     },
     "output_type": "display_data"
    },
    {
     "data": {
      "text/html": [
       "<pre>recommendations finished on 65000/100003 queries. users per second: 8570.06</pre>"
      ],
      "text/plain": [
       "recommendations finished on 65000/100003 queries. users per second: 8570.06"
      ]
     },
     "metadata": {
      "tags": []
     },
     "output_type": "display_data"
    },
    {
     "data": {
      "text/html": [
       "<pre>recommendations finished on 66000/100003 queries. users per second: 8573.62</pre>"
      ],
      "text/plain": [
       "recommendations finished on 66000/100003 queries. users per second: 8573.62"
      ]
     },
     "metadata": {
      "tags": []
     },
     "output_type": "display_data"
    },
    {
     "data": {
      "text/html": [
       "<pre>recommendations finished on 67000/100003 queries. users per second: 8575.91</pre>"
      ],
      "text/plain": [
       "recommendations finished on 67000/100003 queries. users per second: 8575.91"
      ]
     },
     "metadata": {
      "tags": []
     },
     "output_type": "display_data"
    },
    {
     "data": {
      "text/html": [
       "<pre>recommendations finished on 68000/100003 queries. users per second: 8564.28</pre>"
      ],
      "text/plain": [
       "recommendations finished on 68000/100003 queries. users per second: 8564.28"
      ]
     },
     "metadata": {
      "tags": []
     },
     "output_type": "display_data"
    },
    {
     "data": {
      "text/html": [
       "<pre>recommendations finished on 69000/100003 queries. users per second: 8568.25</pre>"
      ],
      "text/plain": [
       "recommendations finished on 69000/100003 queries. users per second: 8568.25"
      ]
     },
     "metadata": {
      "tags": []
     },
     "output_type": "display_data"
    },
    {
     "data": {
      "text/html": [
       "<pre>recommendations finished on 70000/100003 queries. users per second: 8572.89</pre>"
      ],
      "text/plain": [
       "recommendations finished on 70000/100003 queries. users per second: 8572.89"
      ]
     },
     "metadata": {
      "tags": []
     },
     "output_type": "display_data"
    },
    {
     "data": {
      "text/html": [
       "<pre>recommendations finished on 71000/100003 queries. users per second: 8573.77</pre>"
      ],
      "text/plain": [
       "recommendations finished on 71000/100003 queries. users per second: 8573.77"
      ]
     },
     "metadata": {
      "tags": []
     },
     "output_type": "display_data"
    },
    {
     "data": {
      "text/html": [
       "<pre>recommendations finished on 72000/100003 queries. users per second: 8578.57</pre>"
      ],
      "text/plain": [
       "recommendations finished on 72000/100003 queries. users per second: 8578.57"
      ]
     },
     "metadata": {
      "tags": []
     },
     "output_type": "display_data"
    },
    {
     "data": {
      "text/html": [
       "<pre>recommendations finished on 73000/100003 queries. users per second: 8576.53</pre>"
      ],
      "text/plain": [
       "recommendations finished on 73000/100003 queries. users per second: 8576.53"
      ]
     },
     "metadata": {
      "tags": []
     },
     "output_type": "display_data"
    },
    {
     "data": {
      "text/html": [
       "<pre>recommendations finished on 74000/100003 queries. users per second: 8574.06</pre>"
      ],
      "text/plain": [
       "recommendations finished on 74000/100003 queries. users per second: 8574.06"
      ]
     },
     "metadata": {
      "tags": []
     },
     "output_type": "display_data"
    },
    {
     "data": {
      "text/html": [
       "<pre>recommendations finished on 75000/100003 queries. users per second: 8584.52</pre>"
      ],
      "text/plain": [
       "recommendations finished on 75000/100003 queries. users per second: 8584.52"
      ]
     },
     "metadata": {
      "tags": []
     },
     "output_type": "display_data"
    },
    {
     "data": {
      "text/html": [
       "<pre>recommendations finished on 76000/100003 queries. users per second: 8593.07</pre>"
      ],
      "text/plain": [
       "recommendations finished on 76000/100003 queries. users per second: 8593.07"
      ]
     },
     "metadata": {
      "tags": []
     },
     "output_type": "display_data"
    },
    {
     "data": {
      "text/html": [
       "<pre>recommendations finished on 77000/100003 queries. users per second: 8602.82</pre>"
      ],
      "text/plain": [
       "recommendations finished on 77000/100003 queries. users per second: 8602.82"
      ]
     },
     "metadata": {
      "tags": []
     },
     "output_type": "display_data"
    },
    {
     "data": {
      "text/html": [
       "<pre>recommendations finished on 78000/100003 queries. users per second: 8604.39</pre>"
      ],
      "text/plain": [
       "recommendations finished on 78000/100003 queries. users per second: 8604.39"
      ]
     },
     "metadata": {
      "tags": []
     },
     "output_type": "display_data"
    },
    {
     "data": {
      "text/html": [
       "<pre>recommendations finished on 79000/100003 queries. users per second: 8606.34</pre>"
      ],
      "text/plain": [
       "recommendations finished on 79000/100003 queries. users per second: 8606.34"
      ]
     },
     "metadata": {
      "tags": []
     },
     "output_type": "display_data"
    },
    {
     "data": {
      "text/html": [
       "<pre>recommendations finished on 80000/100003 queries. users per second: 8609.24</pre>"
      ],
      "text/plain": [
       "recommendations finished on 80000/100003 queries. users per second: 8609.24"
      ]
     },
     "metadata": {
      "tags": []
     },
     "output_type": "display_data"
    },
    {
     "data": {
      "text/html": [
       "<pre>recommendations finished on 81000/100003 queries. users per second: 8609.7</pre>"
      ],
      "text/plain": [
       "recommendations finished on 81000/100003 queries. users per second: 8609.7"
      ]
     },
     "metadata": {
      "tags": []
     },
     "output_type": "display_data"
    },
    {
     "data": {
      "text/html": [
       "<pre>recommendations finished on 82000/100003 queries. users per second: 8613.77</pre>"
      ],
      "text/plain": [
       "recommendations finished on 82000/100003 queries. users per second: 8613.77"
      ]
     },
     "metadata": {
      "tags": []
     },
     "output_type": "display_data"
    },
    {
     "data": {
      "text/html": [
       "<pre>recommendations finished on 83000/100003 queries. users per second: 8618.19</pre>"
      ],
      "text/plain": [
       "recommendations finished on 83000/100003 queries. users per second: 8618.19"
      ]
     },
     "metadata": {
      "tags": []
     },
     "output_type": "display_data"
    },
    {
     "data": {
      "text/html": [
       "<pre>recommendations finished on 84000/100003 queries. users per second: 8616.28</pre>"
      ],
      "text/plain": [
       "recommendations finished on 84000/100003 queries. users per second: 8616.28"
      ]
     },
     "metadata": {
      "tags": []
     },
     "output_type": "display_data"
    },
    {
     "data": {
      "text/html": [
       "<pre>recommendations finished on 85000/100003 queries. users per second: 8620.28</pre>"
      ],
      "text/plain": [
       "recommendations finished on 85000/100003 queries. users per second: 8620.28"
      ]
     },
     "metadata": {
      "tags": []
     },
     "output_type": "display_data"
    },
    {
     "data": {
      "text/html": [
       "<pre>recommendations finished on 86000/100003 queries. users per second: 8624.47</pre>"
      ],
      "text/plain": [
       "recommendations finished on 86000/100003 queries. users per second: 8624.47"
      ]
     },
     "metadata": {
      "tags": []
     },
     "output_type": "display_data"
    },
    {
     "data": {
      "text/html": [
       "<pre>recommendations finished on 87000/100003 queries. users per second: 8629.48</pre>"
      ],
      "text/plain": [
       "recommendations finished on 87000/100003 queries. users per second: 8629.48"
      ]
     },
     "metadata": {
      "tags": []
     },
     "output_type": "display_data"
    },
    {
     "data": {
      "text/html": [
       "<pre>recommendations finished on 88000/100003 queries. users per second: 8632.57</pre>"
      ],
      "text/plain": [
       "recommendations finished on 88000/100003 queries. users per second: 8632.57"
      ]
     },
     "metadata": {
      "tags": []
     },
     "output_type": "display_data"
    },
    {
     "data": {
      "text/html": [
       "<pre>recommendations finished on 89000/100003 queries. users per second: 8632.75</pre>"
      ],
      "text/plain": [
       "recommendations finished on 89000/100003 queries. users per second: 8632.75"
      ]
     },
     "metadata": {
      "tags": []
     },
     "output_type": "display_data"
    },
    {
     "data": {
      "text/html": [
       "<pre>recommendations finished on 90000/100003 queries. users per second: 8640.56</pre>"
      ],
      "text/plain": [
       "recommendations finished on 90000/100003 queries. users per second: 8640.56"
      ]
     },
     "metadata": {
      "tags": []
     },
     "output_type": "display_data"
    },
    {
     "data": {
      "text/html": [
       "<pre>recommendations finished on 91000/100003 queries. users per second: 8641.05</pre>"
      ],
      "text/plain": [
       "recommendations finished on 91000/100003 queries. users per second: 8641.05"
      ]
     },
     "metadata": {
      "tags": []
     },
     "output_type": "display_data"
    },
    {
     "data": {
      "text/html": [
       "<pre>recommendations finished on 92000/100003 queries. users per second: 8643.96</pre>"
      ],
      "text/plain": [
       "recommendations finished on 92000/100003 queries. users per second: 8643.96"
      ]
     },
     "metadata": {
      "tags": []
     },
     "output_type": "display_data"
    },
    {
     "data": {
      "text/html": [
       "<pre>recommendations finished on 93000/100003 queries. users per second: 8646.44</pre>"
      ],
      "text/plain": [
       "recommendations finished on 93000/100003 queries. users per second: 8646.44"
      ]
     },
     "metadata": {
      "tags": []
     },
     "output_type": "display_data"
    },
    {
     "data": {
      "text/html": [
       "<pre>recommendations finished on 94000/100003 queries. users per second: 8648.57</pre>"
      ],
      "text/plain": [
       "recommendations finished on 94000/100003 queries. users per second: 8648.57"
      ]
     },
     "metadata": {
      "tags": []
     },
     "output_type": "display_data"
    },
    {
     "data": {
      "text/html": [
       "<pre>recommendations finished on 95000/100003 queries. users per second: 8650.52</pre>"
      ],
      "text/plain": [
       "recommendations finished on 95000/100003 queries. users per second: 8650.52"
      ]
     },
     "metadata": {
      "tags": []
     },
     "output_type": "display_data"
    },
    {
     "data": {
      "text/html": [
       "<pre>recommendations finished on 96000/100003 queries. users per second: 8653.86</pre>"
      ],
      "text/plain": [
       "recommendations finished on 96000/100003 queries. users per second: 8653.86"
      ]
     },
     "metadata": {
      "tags": []
     },
     "output_type": "display_data"
    },
    {
     "data": {
      "text/html": [
       "<pre>recommendations finished on 97000/100003 queries. users per second: 8622.65</pre>"
      ],
      "text/plain": [
       "recommendations finished on 97000/100003 queries. users per second: 8622.65"
      ]
     },
     "metadata": {
      "tags": []
     },
     "output_type": "display_data"
    },
    {
     "data": {
      "text/html": [
       "<pre>recommendations finished on 98000/100003 queries. users per second: 8575.56</pre>"
      ],
      "text/plain": [
       "recommendations finished on 98000/100003 queries. users per second: 8575.56"
      ]
     },
     "metadata": {
      "tags": []
     },
     "output_type": "display_data"
    },
    {
     "data": {
      "text/html": [
       "<pre>recommendations finished on 99000/100003 queries. users per second: 8534.39</pre>"
      ],
      "text/plain": [
       "recommendations finished on 99000/100003 queries. users per second: 8534.39"
      ]
     },
     "metadata": {
      "tags": []
     },
     "output_type": "display_data"
    },
    {
     "data": {
      "text/html": [
       "<pre>recommendations finished on 100000/100003 queries. users per second: 8491.46</pre>"
      ],
      "text/plain": [
       "recommendations finished on 100000/100003 queries. users per second: 8491.46"
      ]
     },
     "metadata": {
      "tags": []
     },
     "output_type": "display_data"
    },
    {
     "name": "stdout",
     "output_type": "stream",
     "text": [
      "+---------+---------+-------+------+\n",
      "| user_id | item_id | score | rank |\n",
      "+---------+---------+-------+------+\n",
      "|    0    |   1189  |  5.0  |  1   |\n",
      "|    0    |   1600  |  5.0  |  2   |\n",
      "|    0    |   814   |  5.0  |  3   |\n",
      "|    0    |   1617  |  5.0  |  4   |\n",
      "|    0    |   1122  |  5.0  |  5   |\n",
      "|    0    |   1500  |  5.0  |  6   |\n",
      "|    0    |   1293  |  5.0  |  7   |\n",
      "|    0    |   1467  |  5.0  |  8   |\n",
      "|    0    |   1653  |  5.0  |  9   |\n",
      "|    0    |   1155  |  5.0  |  10  |\n",
      "|    0    |   1189  |  5.0  |  1   |\n",
      "|    0    |   1600  |  5.0  |  2   |\n",
      "|    0    |   814   |  5.0  |  3   |\n",
      "|    0    |   1617  |  5.0  |  4   |\n",
      "|    0    |   1122  |  5.0  |  5   |\n",
      "|    0    |   1500  |  5.0  |  6   |\n",
      "|    0    |   1293  |  5.0  |  7   |\n",
      "|    0    |   1467  |  5.0  |  8   |\n",
      "|    0    |   1653  |  5.0  |  9   |\n",
      "|    0    |   1155  |  5.0  |  10  |\n",
      "|    0    |   1189  |  5.0  |  1   |\n",
      "|    0    |   1600  |  5.0  |  2   |\n",
      "|    0    |   814   |  5.0  |  3   |\n",
      "|    0    |   1617  |  5.0  |  4   |\n",
      "|    0    |   1122  |  5.0  |  5   |\n",
      "|    0    |   1500  |  5.0  |  6   |\n",
      "|    0    |   1293  |  5.0  |  7   |\n",
      "|    0    |   1467  |  5.0  |  8   |\n",
      "|    0    |   1653  |  5.0  |  9   |\n",
      "|    0    |   1155  |  5.0  |  10  |\n",
      "+---------+---------+-------+------+\n",
      "[1000030 rows x 4 columns]\n",
      "\n"
     ]
    }
   ],
   "source": [
    "#Pearson similarity (using rating)\n",
    "name = 'pearson'\n",
    "target = 'rating'\n",
    "pear_Base = model(train_data_split, name, user_id, item_id, target, users_to_recommend, n_rec, n_display)"
   ]
  },
  {
   "cell_type": "code",
   "execution_count": 38,
   "metadata": {
    "colab": {
     "base_uri": "https://localhost:8080/",
     "height": 1000
    },
    "id": "xRqhdArmfz_c",
    "outputId": "dc5897cf-7490-4f52-ae51-52d4297babd7"
   },
   "outputs": [
    {
     "data": {
      "text/html": [
       "<pre>Warning: Ignoring columns rating, timestamp, title, Rating_mean, num of ratings;</pre>"
      ],
      "text/plain": [
       "Warning: Ignoring columns rating, timestamp, title, Rating_mean, num of ratings;"
      ]
     },
     "metadata": {
      "tags": []
     },
     "output_type": "display_data"
    },
    {
     "data": {
      "text/html": [
       "<pre>    To use these columns in scoring predictions, use a model that allows the use of additional features.</pre>"
      ],
      "text/plain": [
       "    To use these columns in scoring predictions, use a model that allows the use of additional features."
      ]
     },
     "metadata": {
      "tags": []
     },
     "output_type": "display_data"
    },
    {
     "data": {
      "text/html": [
       "<pre>Preparing data set.</pre>"
      ],
      "text/plain": [
       "Preparing data set."
      ]
     },
     "metadata": {
      "tags": []
     },
     "output_type": "display_data"
    },
    {
     "data": {
      "text/html": [
       "<pre>    Data has 80002 observations with 944 users and 1647 items.</pre>"
      ],
      "text/plain": [
       "    Data has 80002 observations with 944 users and 1647 items."
      ]
     },
     "metadata": {
      "tags": []
     },
     "output_type": "display_data"
    },
    {
     "data": {
      "text/html": [
       "<pre>    Data prepared in: 0.087194s</pre>"
      ],
      "text/plain": [
       "    Data prepared in: 0.087194s"
      ]
     },
     "metadata": {
      "tags": []
     },
     "output_type": "display_data"
    },
    {
     "data": {
      "text/html": [
       "<pre>Training model from provided data.</pre>"
      ],
      "text/plain": [
       "Training model from provided data."
      ]
     },
     "metadata": {
      "tags": []
     },
     "output_type": "display_data"
    },
    {
     "data": {
      "text/html": [
       "<pre>Gathering per-item and per-user statistics.</pre>"
      ],
      "text/plain": [
       "Gathering per-item and per-user statistics."
      ]
     },
     "metadata": {
      "tags": []
     },
     "output_type": "display_data"
    },
    {
     "data": {
      "text/html": [
       "<pre>+--------------------------------+------------+</pre>"
      ],
      "text/plain": [
       "+--------------------------------+------------+"
      ]
     },
     "metadata": {
      "tags": []
     },
     "output_type": "display_data"
    },
    {
     "data": {
      "text/html": [
       "<pre>| Elapsed Time (Item Statistics) | % Complete |</pre>"
      ],
      "text/plain": [
       "| Elapsed Time (Item Statistics) | % Complete |"
      ]
     },
     "metadata": {
      "tags": []
     },
     "output_type": "display_data"
    },
    {
     "data": {
      "text/html": [
       "<pre>+--------------------------------+------------+</pre>"
      ],
      "text/plain": [
       "+--------------------------------+------------+"
      ]
     },
     "metadata": {
      "tags": []
     },
     "output_type": "display_data"
    },
    {
     "data": {
      "text/html": [
       "<pre>| 12.463ms                       | 100        |</pre>"
      ],
      "text/plain": [
       "| 12.463ms                       | 100        |"
      ]
     },
     "metadata": {
      "tags": []
     },
     "output_type": "display_data"
    },
    {
     "data": {
      "text/html": [
       "<pre>+--------------------------------+------------+</pre>"
      ],
      "text/plain": [
       "+--------------------------------+------------+"
      ]
     },
     "metadata": {
      "tags": []
     },
     "output_type": "display_data"
    },
    {
     "data": {
      "text/html": [
       "<pre>Setting up lookup tables.</pre>"
      ],
      "text/plain": [
       "Setting up lookup tables."
      ]
     },
     "metadata": {
      "tags": []
     },
     "output_type": "display_data"
    },
    {
     "data": {
      "text/html": [
       "<pre>Processing data in one pass using dense lookup tables.</pre>"
      ],
      "text/plain": [
       "Processing data in one pass using dense lookup tables."
      ]
     },
     "metadata": {
      "tags": []
     },
     "output_type": "display_data"
    },
    {
     "data": {
      "text/html": [
       "<pre>+-------------------------------------+------------------+-----------------+</pre>"
      ],
      "text/plain": [
       "+-------------------------------------+------------------+-----------------+"
      ]
     },
     "metadata": {
      "tags": []
     },
     "output_type": "display_data"
    },
    {
     "data": {
      "text/html": [
       "<pre>| Elapsed Time (Constructing Lookups) | Total % Complete | Items Processed |</pre>"
      ],
      "text/plain": [
       "| Elapsed Time (Constructing Lookups) | Total % Complete | Items Processed |"
      ]
     },
     "metadata": {
      "tags": []
     },
     "output_type": "display_data"
    },
    {
     "data": {
      "text/html": [
       "<pre>+-------------------------------------+------------------+-----------------+</pre>"
      ],
      "text/plain": [
       "+-------------------------------------+------------------+-----------------+"
      ]
     },
     "metadata": {
      "tags": []
     },
     "output_type": "display_data"
    },
    {
     "data": {
      "text/html": [
       "<pre>| 15.653ms                            | 0.25             | 6               |</pre>"
      ],
      "text/plain": [
       "| 15.653ms                            | 0.25             | 6               |"
      ]
     },
     "metadata": {
      "tags": []
     },
     "output_type": "display_data"
    },
    {
     "data": {
      "text/html": [
       "<pre>| 237.085ms                           | 100              | 1647            |</pre>"
      ],
      "text/plain": [
       "| 237.085ms                           | 100              | 1647            |"
      ]
     },
     "metadata": {
      "tags": []
     },
     "output_type": "display_data"
    },
    {
     "data": {
      "text/html": [
       "<pre>+-------------------------------------+------------------+-----------------+</pre>"
      ],
      "text/plain": [
       "+-------------------------------------+------------------+-----------------+"
      ]
     },
     "metadata": {
      "tags": []
     },
     "output_type": "display_data"
    },
    {
     "data": {
      "text/html": [
       "<pre>Finalizing lookup tables.</pre>"
      ],
      "text/plain": [
       "Finalizing lookup tables."
      ]
     },
     "metadata": {
      "tags": []
     },
     "output_type": "display_data"
    },
    {
     "data": {
      "text/html": [
       "<pre>Generating candidate set for working with new users.</pre>"
      ],
      "text/plain": [
       "Generating candidate set for working with new users."
      ]
     },
     "metadata": {
      "tags": []
     },
     "output_type": "display_data"
    },
    {
     "data": {
      "text/html": [
       "<pre>Finished training in 0.263603s</pre>"
      ],
      "text/plain": [
       "Finished training in 0.263603s"
      ]
     },
     "metadata": {
      "tags": []
     },
     "output_type": "display_data"
    },
    {
     "data": {
      "text/html": [
       "<pre>recommendations finished on 1000/100003 queries. users per second: 28905.9</pre>"
      ],
      "text/plain": [
       "recommendations finished on 1000/100003 queries. users per second: 28905.9"
      ]
     },
     "metadata": {
      "tags": []
     },
     "output_type": "display_data"
    },
    {
     "data": {
      "text/html": [
       "<pre>recommendations finished on 2000/100003 queries. users per second: 29761</pre>"
      ],
      "text/plain": [
       "recommendations finished on 2000/100003 queries. users per second: 29761"
      ]
     },
     "metadata": {
      "tags": []
     },
     "output_type": "display_data"
    },
    {
     "data": {
      "text/html": [
       "<pre>recommendations finished on 3000/100003 queries. users per second: 28392.2</pre>"
      ],
      "text/plain": [
       "recommendations finished on 3000/100003 queries. users per second: 28392.2"
      ]
     },
     "metadata": {
      "tags": []
     },
     "output_type": "display_data"
    },
    {
     "data": {
      "text/html": [
       "<pre>recommendations finished on 4000/100003 queries. users per second: 27444.6</pre>"
      ],
      "text/plain": [
       "recommendations finished on 4000/100003 queries. users per second: 27444.6"
      ]
     },
     "metadata": {
      "tags": []
     },
     "output_type": "display_data"
    },
    {
     "data": {
      "text/html": [
       "<pre>recommendations finished on 5000/100003 queries. users per second: 27215.8</pre>"
      ],
      "text/plain": [
       "recommendations finished on 5000/100003 queries. users per second: 27215.8"
      ]
     },
     "metadata": {
      "tags": []
     },
     "output_type": "display_data"
    },
    {
     "data": {
      "text/html": [
       "<pre>recommendations finished on 6000/100003 queries. users per second: 27462.1</pre>"
      ],
      "text/plain": [
       "recommendations finished on 6000/100003 queries. users per second: 27462.1"
      ]
     },
     "metadata": {
      "tags": []
     },
     "output_type": "display_data"
    },
    {
     "data": {
      "text/html": [
       "<pre>recommendations finished on 7000/100003 queries. users per second: 27589.1</pre>"
      ],
      "text/plain": [
       "recommendations finished on 7000/100003 queries. users per second: 27589.1"
      ]
     },
     "metadata": {
      "tags": []
     },
     "output_type": "display_data"
    },
    {
     "data": {
      "text/html": [
       "<pre>recommendations finished on 8000/100003 queries. users per second: 27610</pre>"
      ],
      "text/plain": [
       "recommendations finished on 8000/100003 queries. users per second: 27610"
      ]
     },
     "metadata": {
      "tags": []
     },
     "output_type": "display_data"
    },
    {
     "data": {
      "text/html": [
       "<pre>recommendations finished on 9000/100003 queries. users per second: 27682.8</pre>"
      ],
      "text/plain": [
       "recommendations finished on 9000/100003 queries. users per second: 27682.8"
      ]
     },
     "metadata": {
      "tags": []
     },
     "output_type": "display_data"
    },
    {
     "data": {
      "text/html": [
       "<pre>recommendations finished on 10000/100003 queries. users per second: 27717.5</pre>"
      ],
      "text/plain": [
       "recommendations finished on 10000/100003 queries. users per second: 27717.5"
      ]
     },
     "metadata": {
      "tags": []
     },
     "output_type": "display_data"
    },
    {
     "data": {
      "text/html": [
       "<pre>recommendations finished on 11000/100003 queries. users per second: 27652.6</pre>"
      ],
      "text/plain": [
       "recommendations finished on 11000/100003 queries. users per second: 27652.6"
      ]
     },
     "metadata": {
      "tags": []
     },
     "output_type": "display_data"
    },
    {
     "data": {
      "text/html": [
       "<pre>recommendations finished on 12000/100003 queries. users per second: 27816.7</pre>"
      ],
      "text/plain": [
       "recommendations finished on 12000/100003 queries. users per second: 27816.7"
      ]
     },
     "metadata": {
      "tags": []
     },
     "output_type": "display_data"
    },
    {
     "data": {
      "text/html": [
       "<pre>recommendations finished on 13000/100003 queries. users per second: 27797.9</pre>"
      ],
      "text/plain": [
       "recommendations finished on 13000/100003 queries. users per second: 27797.9"
      ]
     },
     "metadata": {
      "tags": []
     },
     "output_type": "display_data"
    },
    {
     "data": {
      "text/html": [
       "<pre>recommendations finished on 14000/100003 queries. users per second: 27877.4</pre>"
      ],
      "text/plain": [
       "recommendations finished on 14000/100003 queries. users per second: 27877.4"
      ]
     },
     "metadata": {
      "tags": []
     },
     "output_type": "display_data"
    },
    {
     "data": {
      "text/html": [
       "<pre>recommendations finished on 15000/100003 queries. users per second: 27983.2</pre>"
      ],
      "text/plain": [
       "recommendations finished on 15000/100003 queries. users per second: 27983.2"
      ]
     },
     "metadata": {
      "tags": []
     },
     "output_type": "display_data"
    },
    {
     "data": {
      "text/html": [
       "<pre>recommendations finished on 16000/100003 queries. users per second: 27971.5</pre>"
      ],
      "text/plain": [
       "recommendations finished on 16000/100003 queries. users per second: 27971.5"
      ]
     },
     "metadata": {
      "tags": []
     },
     "output_type": "display_data"
    },
    {
     "data": {
      "text/html": [
       "<pre>recommendations finished on 17000/100003 queries. users per second: 27844.5</pre>"
      ],
      "text/plain": [
       "recommendations finished on 17000/100003 queries. users per second: 27844.5"
      ]
     },
     "metadata": {
      "tags": []
     },
     "output_type": "display_data"
    },
    {
     "data": {
      "text/html": [
       "<pre>recommendations finished on 18000/100003 queries. users per second: 27685.1</pre>"
      ],
      "text/plain": [
       "recommendations finished on 18000/100003 queries. users per second: 27685.1"
      ]
     },
     "metadata": {
      "tags": []
     },
     "output_type": "display_data"
    },
    {
     "data": {
      "text/html": [
       "<pre>recommendations finished on 19000/100003 queries. users per second: 27527</pre>"
      ],
      "text/plain": [
       "recommendations finished on 19000/100003 queries. users per second: 27527"
      ]
     },
     "metadata": {
      "tags": []
     },
     "output_type": "display_data"
    },
    {
     "data": {
      "text/html": [
       "<pre>recommendations finished on 20000/100003 queries. users per second: 27298.7</pre>"
      ],
      "text/plain": [
       "recommendations finished on 20000/100003 queries. users per second: 27298.7"
      ]
     },
     "metadata": {
      "tags": []
     },
     "output_type": "display_data"
    },
    {
     "data": {
      "text/html": [
       "<pre>recommendations finished on 21000/100003 queries. users per second: 27042</pre>"
      ],
      "text/plain": [
       "recommendations finished on 21000/100003 queries. users per second: 27042"
      ]
     },
     "metadata": {
      "tags": []
     },
     "output_type": "display_data"
    },
    {
     "data": {
      "text/html": [
       "<pre>recommendations finished on 22000/100003 queries. users per second: 26918.1</pre>"
      ],
      "text/plain": [
       "recommendations finished on 22000/100003 queries. users per second: 26918.1"
      ]
     },
     "metadata": {
      "tags": []
     },
     "output_type": "display_data"
    },
    {
     "data": {
      "text/html": [
       "<pre>recommendations finished on 23000/100003 queries. users per second: 26903.9</pre>"
      ],
      "text/plain": [
       "recommendations finished on 23000/100003 queries. users per second: 26903.9"
      ]
     },
     "metadata": {
      "tags": []
     },
     "output_type": "display_data"
    },
    {
     "data": {
      "text/html": [
       "<pre>recommendations finished on 24000/100003 queries. users per second: 26821.8</pre>"
      ],
      "text/plain": [
       "recommendations finished on 24000/100003 queries. users per second: 26821.8"
      ]
     },
     "metadata": {
      "tags": []
     },
     "output_type": "display_data"
    },
    {
     "data": {
      "text/html": [
       "<pre>recommendations finished on 25000/100003 queries. users per second: 26704.9</pre>"
      ],
      "text/plain": [
       "recommendations finished on 25000/100003 queries. users per second: 26704.9"
      ]
     },
     "metadata": {
      "tags": []
     },
     "output_type": "display_data"
    },
    {
     "data": {
      "text/html": [
       "<pre>recommendations finished on 26000/100003 queries. users per second: 26592.2</pre>"
      ],
      "text/plain": [
       "recommendations finished on 26000/100003 queries. users per second: 26592.2"
      ]
     },
     "metadata": {
      "tags": []
     },
     "output_type": "display_data"
    },
    {
     "data": {
      "text/html": [
       "<pre>recommendations finished on 27000/100003 queries. users per second: 26534.8</pre>"
      ],
      "text/plain": [
       "recommendations finished on 27000/100003 queries. users per second: 26534.8"
      ]
     },
     "metadata": {
      "tags": []
     },
     "output_type": "display_data"
    },
    {
     "data": {
      "text/html": [
       "<pre>recommendations finished on 28000/100003 queries. users per second: 26567.4</pre>"
      ],
      "text/plain": [
       "recommendations finished on 28000/100003 queries. users per second: 26567.4"
      ]
     },
     "metadata": {
      "tags": []
     },
     "output_type": "display_data"
    },
    {
     "data": {
      "text/html": [
       "<pre>recommendations finished on 29000/100003 queries. users per second: 26462.2</pre>"
      ],
      "text/plain": [
       "recommendations finished on 29000/100003 queries. users per second: 26462.2"
      ]
     },
     "metadata": {
      "tags": []
     },
     "output_type": "display_data"
    },
    {
     "data": {
      "text/html": [
       "<pre>recommendations finished on 30000/100003 queries. users per second: 26212.2</pre>"
      ],
      "text/plain": [
       "recommendations finished on 30000/100003 queries. users per second: 26212.2"
      ]
     },
     "metadata": {
      "tags": []
     },
     "output_type": "display_data"
    },
    {
     "data": {
      "text/html": [
       "<pre>recommendations finished on 31000/100003 queries. users per second: 26168.1</pre>"
      ],
      "text/plain": [
       "recommendations finished on 31000/100003 queries. users per second: 26168.1"
      ]
     },
     "metadata": {
      "tags": []
     },
     "output_type": "display_data"
    },
    {
     "data": {
      "text/html": [
       "<pre>recommendations finished on 32000/100003 queries. users per second: 26189.7</pre>"
      ],
      "text/plain": [
       "recommendations finished on 32000/100003 queries. users per second: 26189.7"
      ]
     },
     "metadata": {
      "tags": []
     },
     "output_type": "display_data"
    },
    {
     "data": {
      "text/html": [
       "<pre>recommendations finished on 33000/100003 queries. users per second: 26221.6</pre>"
      ],
      "text/plain": [
       "recommendations finished on 33000/100003 queries. users per second: 26221.6"
      ]
     },
     "metadata": {
      "tags": []
     },
     "output_type": "display_data"
    },
    {
     "data": {
      "text/html": [
       "<pre>recommendations finished on 34000/100003 queries. users per second: 26250.3</pre>"
      ],
      "text/plain": [
       "recommendations finished on 34000/100003 queries. users per second: 26250.3"
      ]
     },
     "metadata": {
      "tags": []
     },
     "output_type": "display_data"
    },
    {
     "data": {
      "text/html": [
       "<pre>recommendations finished on 35000/100003 queries. users per second: 26274.1</pre>"
      ],
      "text/plain": [
       "recommendations finished on 35000/100003 queries. users per second: 26274.1"
      ]
     },
     "metadata": {
      "tags": []
     },
     "output_type": "display_data"
    },
    {
     "data": {
      "text/html": [
       "<pre>recommendations finished on 36000/100003 queries. users per second: 26274.3</pre>"
      ],
      "text/plain": [
       "recommendations finished on 36000/100003 queries. users per second: 26274.3"
      ]
     },
     "metadata": {
      "tags": []
     },
     "output_type": "display_data"
    },
    {
     "data": {
      "text/html": [
       "<pre>recommendations finished on 37000/100003 queries. users per second: 26266.1</pre>"
      ],
      "text/plain": [
       "recommendations finished on 37000/100003 queries. users per second: 26266.1"
      ]
     },
     "metadata": {
      "tags": []
     },
     "output_type": "display_data"
    },
    {
     "data": {
      "text/html": [
       "<pre>recommendations finished on 38000/100003 queries. users per second: 26311.1</pre>"
      ],
      "text/plain": [
       "recommendations finished on 38000/100003 queries. users per second: 26311.1"
      ]
     },
     "metadata": {
      "tags": []
     },
     "output_type": "display_data"
    },
    {
     "data": {
      "text/html": [
       "<pre>recommendations finished on 39000/100003 queries. users per second: 26398.6</pre>"
      ],
      "text/plain": [
       "recommendations finished on 39000/100003 queries. users per second: 26398.6"
      ]
     },
     "metadata": {
      "tags": []
     },
     "output_type": "display_data"
    },
    {
     "data": {
      "text/html": [
       "<pre>recommendations finished on 40000/100003 queries. users per second: 26451.9</pre>"
      ],
      "text/plain": [
       "recommendations finished on 40000/100003 queries. users per second: 26451.9"
      ]
     },
     "metadata": {
      "tags": []
     },
     "output_type": "display_data"
    },
    {
     "data": {
      "text/html": [
       "<pre>recommendations finished on 41000/100003 queries. users per second: 26430.7</pre>"
      ],
      "text/plain": [
       "recommendations finished on 41000/100003 queries. users per second: 26430.7"
      ]
     },
     "metadata": {
      "tags": []
     },
     "output_type": "display_data"
    },
    {
     "data": {
      "text/html": [
       "<pre>recommendations finished on 42000/100003 queries. users per second: 26472.7</pre>"
      ],
      "text/plain": [
       "recommendations finished on 42000/100003 queries. users per second: 26472.7"
      ]
     },
     "metadata": {
      "tags": []
     },
     "output_type": "display_data"
    },
    {
     "data": {
      "text/html": [
       "<pre>recommendations finished on 43000/100003 queries. users per second: 26452.5</pre>"
      ],
      "text/plain": [
       "recommendations finished on 43000/100003 queries. users per second: 26452.5"
      ]
     },
     "metadata": {
      "tags": []
     },
     "output_type": "display_data"
    },
    {
     "data": {
      "text/html": [
       "<pre>recommendations finished on 44000/100003 queries. users per second: 26296</pre>"
      ],
      "text/plain": [
       "recommendations finished on 44000/100003 queries. users per second: 26296"
      ]
     },
     "metadata": {
      "tags": []
     },
     "output_type": "display_data"
    },
    {
     "data": {
      "text/html": [
       "<pre>recommendations finished on 45000/100003 queries. users per second: 26294.9</pre>"
      ],
      "text/plain": [
       "recommendations finished on 45000/100003 queries. users per second: 26294.9"
      ]
     },
     "metadata": {
      "tags": []
     },
     "output_type": "display_data"
    },
    {
     "data": {
      "text/html": [
       "<pre>recommendations finished on 46000/100003 queries. users per second: 26344.3</pre>"
      ],
      "text/plain": [
       "recommendations finished on 46000/100003 queries. users per second: 26344.3"
      ]
     },
     "metadata": {
      "tags": []
     },
     "output_type": "display_data"
    },
    {
     "data": {
      "text/html": [
       "<pre>recommendations finished on 47000/100003 queries. users per second: 26384.2</pre>"
      ],
      "text/plain": [
       "recommendations finished on 47000/100003 queries. users per second: 26384.2"
      ]
     },
     "metadata": {
      "tags": []
     },
     "output_type": "display_data"
    },
    {
     "data": {
      "text/html": [
       "<pre>recommendations finished on 48000/100003 queries. users per second: 26414.4</pre>"
      ],
      "text/plain": [
       "recommendations finished on 48000/100003 queries. users per second: 26414.4"
      ]
     },
     "metadata": {
      "tags": []
     },
     "output_type": "display_data"
    },
    {
     "data": {
      "text/html": [
       "<pre>recommendations finished on 49000/100003 queries. users per second: 26383.6</pre>"
      ],
      "text/plain": [
       "recommendations finished on 49000/100003 queries. users per second: 26383.6"
      ]
     },
     "metadata": {
      "tags": []
     },
     "output_type": "display_data"
    },
    {
     "data": {
      "text/html": [
       "<pre>recommendations finished on 50000/100003 queries. users per second: 26402.3</pre>"
      ],
      "text/plain": [
       "recommendations finished on 50000/100003 queries. users per second: 26402.3"
      ]
     },
     "metadata": {
      "tags": []
     },
     "output_type": "display_data"
    },
    {
     "data": {
      "text/html": [
       "<pre>recommendations finished on 51000/100003 queries. users per second: 26425.3</pre>"
      ],
      "text/plain": [
       "recommendations finished on 51000/100003 queries. users per second: 26425.3"
      ]
     },
     "metadata": {
      "tags": []
     },
     "output_type": "display_data"
    },
    {
     "data": {
      "text/html": [
       "<pre>recommendations finished on 52000/100003 queries. users per second: 26372.2</pre>"
      ],
      "text/plain": [
       "recommendations finished on 52000/100003 queries. users per second: 26372.2"
      ]
     },
     "metadata": {
      "tags": []
     },
     "output_type": "display_data"
    },
    {
     "data": {
      "text/html": [
       "<pre>recommendations finished on 53000/100003 queries. users per second: 26324.1</pre>"
      ],
      "text/plain": [
       "recommendations finished on 53000/100003 queries. users per second: 26324.1"
      ]
     },
     "metadata": {
      "tags": []
     },
     "output_type": "display_data"
    },
    {
     "data": {
      "text/html": [
       "<pre>recommendations finished on 54000/100003 queries. users per second: 26310.3</pre>"
      ],
      "text/plain": [
       "recommendations finished on 54000/100003 queries. users per second: 26310.3"
      ]
     },
     "metadata": {
      "tags": []
     },
     "output_type": "display_data"
    },
    {
     "data": {
      "text/html": [
       "<pre>recommendations finished on 55000/100003 queries. users per second: 26318.3</pre>"
      ],
      "text/plain": [
       "recommendations finished on 55000/100003 queries. users per second: 26318.3"
      ]
     },
     "metadata": {
      "tags": []
     },
     "output_type": "display_data"
    },
    {
     "data": {
      "text/html": [
       "<pre>recommendations finished on 56000/100003 queries. users per second: 26304.2</pre>"
      ],
      "text/plain": [
       "recommendations finished on 56000/100003 queries. users per second: 26304.2"
      ]
     },
     "metadata": {
      "tags": []
     },
     "output_type": "display_data"
    },
    {
     "data": {
      "text/html": [
       "<pre>recommendations finished on 57000/100003 queries. users per second: 26252.1</pre>"
      ],
      "text/plain": [
       "recommendations finished on 57000/100003 queries. users per second: 26252.1"
      ]
     },
     "metadata": {
      "tags": []
     },
     "output_type": "display_data"
    },
    {
     "data": {
      "text/html": [
       "<pre>recommendations finished on 58000/100003 queries. users per second: 26247.8</pre>"
      ],
      "text/plain": [
       "recommendations finished on 58000/100003 queries. users per second: 26247.8"
      ]
     },
     "metadata": {
      "tags": []
     },
     "output_type": "display_data"
    },
    {
     "data": {
      "text/html": [
       "<pre>recommendations finished on 59000/100003 queries. users per second: 26296.8</pre>"
      ],
      "text/plain": [
       "recommendations finished on 59000/100003 queries. users per second: 26296.8"
      ]
     },
     "metadata": {
      "tags": []
     },
     "output_type": "display_data"
    },
    {
     "data": {
      "text/html": [
       "<pre>recommendations finished on 60000/100003 queries. users per second: 26272.1</pre>"
      ],
      "text/plain": [
       "recommendations finished on 60000/100003 queries. users per second: 26272.1"
      ]
     },
     "metadata": {
      "tags": []
     },
     "output_type": "display_data"
    },
    {
     "data": {
      "text/html": [
       "<pre>recommendations finished on 61000/100003 queries. users per second: 26267.1</pre>"
      ],
      "text/plain": [
       "recommendations finished on 61000/100003 queries. users per second: 26267.1"
      ]
     },
     "metadata": {
      "tags": []
     },
     "output_type": "display_data"
    },
    {
     "data": {
      "text/html": [
       "<pre>recommendations finished on 62000/100003 queries. users per second: 26302.2</pre>"
      ],
      "text/plain": [
       "recommendations finished on 62000/100003 queries. users per second: 26302.2"
      ]
     },
     "metadata": {
      "tags": []
     },
     "output_type": "display_data"
    },
    {
     "data": {
      "text/html": [
       "<pre>recommendations finished on 63000/100003 queries. users per second: 26338.3</pre>"
      ],
      "text/plain": [
       "recommendations finished on 63000/100003 queries. users per second: 26338.3"
      ]
     },
     "metadata": {
      "tags": []
     },
     "output_type": "display_data"
    },
    {
     "data": {
      "text/html": [
       "<pre>recommendations finished on 64000/100003 queries. users per second: 26318.5</pre>"
      ],
      "text/plain": [
       "recommendations finished on 64000/100003 queries. users per second: 26318.5"
      ]
     },
     "metadata": {
      "tags": []
     },
     "output_type": "display_data"
    },
    {
     "data": {
      "text/html": [
       "<pre>recommendations finished on 65000/100003 queries. users per second: 26352.1</pre>"
      ],
      "text/plain": [
       "recommendations finished on 65000/100003 queries. users per second: 26352.1"
      ]
     },
     "metadata": {
      "tags": []
     },
     "output_type": "display_data"
    },
    {
     "data": {
      "text/html": [
       "<pre>recommendations finished on 66000/100003 queries. users per second: 26367.2</pre>"
      ],
      "text/plain": [
       "recommendations finished on 66000/100003 queries. users per second: 26367.2"
      ]
     },
     "metadata": {
      "tags": []
     },
     "output_type": "display_data"
    },
    {
     "data": {
      "text/html": [
       "<pre>recommendations finished on 67000/100003 queries. users per second: 26338.8</pre>"
      ],
      "text/plain": [
       "recommendations finished on 67000/100003 queries. users per second: 26338.8"
      ]
     },
     "metadata": {
      "tags": []
     },
     "output_type": "display_data"
    },
    {
     "data": {
      "text/html": [
       "<pre>recommendations finished on 68000/100003 queries. users per second: 26273.3</pre>"
      ],
      "text/plain": [
       "recommendations finished on 68000/100003 queries. users per second: 26273.3"
      ]
     },
     "metadata": {
      "tags": []
     },
     "output_type": "display_data"
    },
    {
     "data": {
      "text/html": [
       "<pre>recommendations finished on 69000/100003 queries. users per second: 26223.9</pre>"
      ],
      "text/plain": [
       "recommendations finished on 69000/100003 queries. users per second: 26223.9"
      ]
     },
     "metadata": {
      "tags": []
     },
     "output_type": "display_data"
    },
    {
     "data": {
      "text/html": [
       "<pre>recommendations finished on 70000/100003 queries. users per second: 26217.3</pre>"
      ],
      "text/plain": [
       "recommendations finished on 70000/100003 queries. users per second: 26217.3"
      ]
     },
     "metadata": {
      "tags": []
     },
     "output_type": "display_data"
    },
    {
     "data": {
      "text/html": [
       "<pre>recommendations finished on 71000/100003 queries. users per second: 26217.7</pre>"
      ],
      "text/plain": [
       "recommendations finished on 71000/100003 queries. users per second: 26217.7"
      ]
     },
     "metadata": {
      "tags": []
     },
     "output_type": "display_data"
    },
    {
     "data": {
      "text/html": [
       "<pre>recommendations finished on 72000/100003 queries. users per second: 26232.7</pre>"
      ],
      "text/plain": [
       "recommendations finished on 72000/100003 queries. users per second: 26232.7"
      ]
     },
     "metadata": {
      "tags": []
     },
     "output_type": "display_data"
    },
    {
     "data": {
      "text/html": [
       "<pre>recommendations finished on 73000/100003 queries. users per second: 26236.5</pre>"
      ],
      "text/plain": [
       "recommendations finished on 73000/100003 queries. users per second: 26236.5"
      ]
     },
     "metadata": {
      "tags": []
     },
     "output_type": "display_data"
    },
    {
     "data": {
      "text/html": [
       "<pre>recommendations finished on 74000/100003 queries. users per second: 26262.9</pre>"
      ],
      "text/plain": [
       "recommendations finished on 74000/100003 queries. users per second: 26262.9"
      ]
     },
     "metadata": {
      "tags": []
     },
     "output_type": "display_data"
    },
    {
     "data": {
      "text/html": [
       "<pre>recommendations finished on 75000/100003 queries. users per second: 26280.2</pre>"
      ],
      "text/plain": [
       "recommendations finished on 75000/100003 queries. users per second: 26280.2"
      ]
     },
     "metadata": {
      "tags": []
     },
     "output_type": "display_data"
    },
    {
     "data": {
      "text/html": [
       "<pre>recommendations finished on 76000/100003 queries. users per second: 26268.3</pre>"
      ],
      "text/plain": [
       "recommendations finished on 76000/100003 queries. users per second: 26268.3"
      ]
     },
     "metadata": {
      "tags": []
     },
     "output_type": "display_data"
    },
    {
     "data": {
      "text/html": [
       "<pre>recommendations finished on 77000/100003 queries. users per second: 26293.1</pre>"
      ],
      "text/plain": [
       "recommendations finished on 77000/100003 queries. users per second: 26293.1"
      ]
     },
     "metadata": {
      "tags": []
     },
     "output_type": "display_data"
    },
    {
     "data": {
      "text/html": [
       "<pre>recommendations finished on 78000/100003 queries. users per second: 26280.8</pre>"
      ],
      "text/plain": [
       "recommendations finished on 78000/100003 queries. users per second: 26280.8"
      ]
     },
     "metadata": {
      "tags": []
     },
     "output_type": "display_data"
    },
    {
     "data": {
      "text/html": [
       "<pre>recommendations finished on 79000/100003 queries. users per second: 26320.7</pre>"
      ],
      "text/plain": [
       "recommendations finished on 79000/100003 queries. users per second: 26320.7"
      ]
     },
     "metadata": {
      "tags": []
     },
     "output_type": "display_data"
    },
    {
     "data": {
      "text/html": [
       "<pre>recommendations finished on 80000/100003 queries. users per second: 26319.5</pre>"
      ],
      "text/plain": [
       "recommendations finished on 80000/100003 queries. users per second: 26319.5"
      ]
     },
     "metadata": {
      "tags": []
     },
     "output_type": "display_data"
    },
    {
     "data": {
      "text/html": [
       "<pre>recommendations finished on 81000/100003 queries. users per second: 26319.7</pre>"
      ],
      "text/plain": [
       "recommendations finished on 81000/100003 queries. users per second: 26319.7"
      ]
     },
     "metadata": {
      "tags": []
     },
     "output_type": "display_data"
    },
    {
     "data": {
      "text/html": [
       "<pre>recommendations finished on 82000/100003 queries. users per second: 26334.4</pre>"
      ],
      "text/plain": [
       "recommendations finished on 82000/100003 queries. users per second: 26334.4"
      ]
     },
     "metadata": {
      "tags": []
     },
     "output_type": "display_data"
    },
    {
     "data": {
      "text/html": [
       "<pre>recommendations finished on 83000/100003 queries. users per second: 26349</pre>"
      ],
      "text/plain": [
       "recommendations finished on 83000/100003 queries. users per second: 26349"
      ]
     },
     "metadata": {
      "tags": []
     },
     "output_type": "display_data"
    },
    {
     "data": {
      "text/html": [
       "<pre>recommendations finished on 84000/100003 queries. users per second: 26298.6</pre>"
      ],
      "text/plain": [
       "recommendations finished on 84000/100003 queries. users per second: 26298.6"
      ]
     },
     "metadata": {
      "tags": []
     },
     "output_type": "display_data"
    },
    {
     "data": {
      "text/html": [
       "<pre>recommendations finished on 85000/100003 queries. users per second: 26318.3</pre>"
      ],
      "text/plain": [
       "recommendations finished on 85000/100003 queries. users per second: 26318.3"
      ]
     },
     "metadata": {
      "tags": []
     },
     "output_type": "display_data"
    },
    {
     "data": {
      "text/html": [
       "<pre>recommendations finished on 86000/100003 queries. users per second: 26333.5</pre>"
      ],
      "text/plain": [
       "recommendations finished on 86000/100003 queries. users per second: 26333.5"
      ]
     },
     "metadata": {
      "tags": []
     },
     "output_type": "display_data"
    },
    {
     "data": {
      "text/html": [
       "<pre>recommendations finished on 87000/100003 queries. users per second: 26372.9</pre>"
      ],
      "text/plain": [
       "recommendations finished on 87000/100003 queries. users per second: 26372.9"
      ]
     },
     "metadata": {
      "tags": []
     },
     "output_type": "display_data"
    },
    {
     "data": {
      "text/html": [
       "<pre>recommendations finished on 88000/100003 queries. users per second: 26366.3</pre>"
      ],
      "text/plain": [
       "recommendations finished on 88000/100003 queries. users per second: 26366.3"
      ]
     },
     "metadata": {
      "tags": []
     },
     "output_type": "display_data"
    },
    {
     "data": {
      "text/html": [
       "<pre>recommendations finished on 89000/100003 queries. users per second: 26360.4</pre>"
      ],
      "text/plain": [
       "recommendations finished on 89000/100003 queries. users per second: 26360.4"
      ]
     },
     "metadata": {
      "tags": []
     },
     "output_type": "display_data"
    },
    {
     "data": {
      "text/html": [
       "<pre>recommendations finished on 90000/100003 queries. users per second: 26373.6</pre>"
      ],
      "text/plain": [
       "recommendations finished on 90000/100003 queries. users per second: 26373.6"
      ]
     },
     "metadata": {
      "tags": []
     },
     "output_type": "display_data"
    },
    {
     "data": {
      "text/html": [
       "<pre>recommendations finished on 91000/100003 queries. users per second: 26402.6</pre>"
      ],
      "text/plain": [
       "recommendations finished on 91000/100003 queries. users per second: 26402.6"
      ]
     },
     "metadata": {
      "tags": []
     },
     "output_type": "display_data"
    },
    {
     "data": {
      "text/html": [
       "<pre>recommendations finished on 92000/100003 queries. users per second: 26378.7</pre>"
      ],
      "text/plain": [
       "recommendations finished on 92000/100003 queries. users per second: 26378.7"
      ]
     },
     "metadata": {
      "tags": []
     },
     "output_type": "display_data"
    },
    {
     "data": {
      "text/html": [
       "<pre>recommendations finished on 93000/100003 queries. users per second: 26382.6</pre>"
      ],
      "text/plain": [
       "recommendations finished on 93000/100003 queries. users per second: 26382.6"
      ]
     },
     "metadata": {
      "tags": []
     },
     "output_type": "display_data"
    },
    {
     "data": {
      "text/html": [
       "<pre>recommendations finished on 94000/100003 queries. users per second: 26407.9</pre>"
      ],
      "text/plain": [
       "recommendations finished on 94000/100003 queries. users per second: 26407.9"
      ]
     },
     "metadata": {
      "tags": []
     },
     "output_type": "display_data"
    },
    {
     "data": {
      "text/html": [
       "<pre>recommendations finished on 95000/100003 queries. users per second: 26416.5</pre>"
      ],
      "text/plain": [
       "recommendations finished on 95000/100003 queries. users per second: 26416.5"
      ]
     },
     "metadata": {
      "tags": []
     },
     "output_type": "display_data"
    },
    {
     "data": {
      "text/html": [
       "<pre>recommendations finished on 96000/100003 queries. users per second: 26441.4</pre>"
      ],
      "text/plain": [
       "recommendations finished on 96000/100003 queries. users per second: 26441.4"
      ]
     },
     "metadata": {
      "tags": []
     },
     "output_type": "display_data"
    },
    {
     "data": {
      "text/html": [
       "<pre>recommendations finished on 97000/100003 queries. users per second: 26450.2</pre>"
      ],
      "text/plain": [
       "recommendations finished on 97000/100003 queries. users per second: 26450.2"
      ]
     },
     "metadata": {
      "tags": []
     },
     "output_type": "display_data"
    },
    {
     "data": {
      "text/html": [
       "<pre>recommendations finished on 98000/100003 queries. users per second: 26436.1</pre>"
      ],
      "text/plain": [
       "recommendations finished on 98000/100003 queries. users per second: 26436.1"
      ]
     },
     "metadata": {
      "tags": []
     },
     "output_type": "display_data"
    },
    {
     "data": {
      "text/html": [
       "<pre>recommendations finished on 99000/100003 queries. users per second: 26405.2</pre>"
      ],
      "text/plain": [
       "recommendations finished on 99000/100003 queries. users per second: 26405.2"
      ]
     },
     "metadata": {
      "tags": []
     },
     "output_type": "display_data"
    },
    {
     "data": {
      "text/html": [
       "<pre>recommendations finished on 100000/100003 queries. users per second: 26399.5</pre>"
      ],
      "text/plain": [
       "recommendations finished on 100000/100003 queries. users per second: 26399.5"
      ]
     },
     "metadata": {
      "tags": []
     },
     "output_type": "display_data"
    },
    {
     "name": "stdout",
     "output_type": "stream",
     "text": [
      "+---------+---------+-------+------+\n",
      "| user_id | item_id | score | rank |\n",
      "+---------+---------+-------+------+\n",
      "|    0    |    54   |  0.0  |  1   |\n",
      "|    0    |   225   |  0.0  |  2   |\n",
      "|    0    |    56   |  0.0  |  3   |\n",
      "|    0    |   833   |  0.0  |  4   |\n",
      "|    0    |   653   |  0.0  |  5   |\n",
      "|    0    |   526   |  0.0  |  6   |\n",
      "|    0    |   421   |  0.0  |  7   |\n",
      "|    0    |   136   |  0.0  |  8   |\n",
      "|    0    |   284   |  0.0  |  9   |\n",
      "|    0    |   509   |  0.0  |  10  |\n",
      "|    0    |    54   |  0.0  |  1   |\n",
      "|    0    |   225   |  0.0  |  2   |\n",
      "|    0    |    56   |  0.0  |  3   |\n",
      "|    0    |   833   |  0.0  |  4   |\n",
      "|    0    |   653   |  0.0  |  5   |\n",
      "|    0    |   526   |  0.0  |  6   |\n",
      "|    0    |   421   |  0.0  |  7   |\n",
      "|    0    |   136   |  0.0  |  8   |\n",
      "|    0    |   284   |  0.0  |  9   |\n",
      "|    0    |   509   |  0.0  |  10  |\n",
      "|    0    |    54   |  0.0  |  1   |\n",
      "|    0    |   225   |  0.0  |  2   |\n",
      "|    0    |    56   |  0.0  |  3   |\n",
      "|    0    |   833   |  0.0  |  4   |\n",
      "|    0    |   653   |  0.0  |  5   |\n",
      "|    0    |   526   |  0.0  |  6   |\n",
      "|    0    |   421   |  0.0  |  7   |\n",
      "|    0    |   136   |  0.0  |  8   |\n",
      "|    0    |   284   |  0.0  |  9   |\n",
      "|    0    |   509   |  0.0  |  10  |\n",
      "+---------+---------+-------+------+\n",
      "[1000030 rows x 4 columns]\n",
      "\n"
     ]
    }
   ],
   "source": [
    "#Using Pearson (rating dummy) \n",
    "name = 'pearson'\n",
    "target = 'rating_dummy'\n",
    "pear_dummy = model(train_data_dummy, name, user_id, item_id, target, users_to_recommend, n_rec, n_display)"
   ]
  },
  {
   "cell_type": "code",
   "execution_count": 39,
   "metadata": {
    "colab": {
     "base_uri": "https://localhost:8080/",
     "height": 1000
    },
    "id": "1wBHg4nxgLg-",
    "outputId": "f9727268-4beb-4f02-8fd7-c35af474f0ca"
   },
   "outputs": [
    {
     "data": {
      "text/html": [
       "<pre>Preparing data set.</pre>"
      ],
      "text/plain": [
       "Preparing data set."
      ]
     },
     "metadata": {
      "tags": []
     },
     "output_type": "display_data"
    },
    {
     "data": {
      "text/html": [
       "<pre>    Data has 79834 observations with 944 users and 1512 items.</pre>"
      ],
      "text/plain": [
       "    Data has 79834 observations with 944 users and 1512 items."
      ]
     },
     "metadata": {
      "tags": []
     },
     "output_type": "display_data"
    },
    {
     "data": {
      "text/html": [
       "<pre>    Data prepared in: 0.093921s</pre>"
      ],
      "text/plain": [
       "    Data prepared in: 0.093921s"
      ]
     },
     "metadata": {
      "tags": []
     },
     "output_type": "display_data"
    },
    {
     "data": {
      "text/html": [
       "<pre>Training model from provided data.</pre>"
      ],
      "text/plain": [
       "Training model from provided data."
      ]
     },
     "metadata": {
      "tags": []
     },
     "output_type": "display_data"
    },
    {
     "data": {
      "text/html": [
       "<pre>Gathering per-item and per-user statistics.</pre>"
      ],
      "text/plain": [
       "Gathering per-item and per-user statistics."
      ]
     },
     "metadata": {
      "tags": []
     },
     "output_type": "display_data"
    },
    {
     "data": {
      "text/html": [
       "<pre>+--------------------------------+------------+</pre>"
      ],
      "text/plain": [
       "+--------------------------------+------------+"
      ]
     },
     "metadata": {
      "tags": []
     },
     "output_type": "display_data"
    },
    {
     "data": {
      "text/html": [
       "<pre>| Elapsed Time (Item Statistics) | % Complete |</pre>"
      ],
      "text/plain": [
       "| Elapsed Time (Item Statistics) | % Complete |"
      ]
     },
     "metadata": {
      "tags": []
     },
     "output_type": "display_data"
    },
    {
     "data": {
      "text/html": [
       "<pre>+--------------------------------+------------+</pre>"
      ],
      "text/plain": [
       "+--------------------------------+------------+"
      ]
     },
     "metadata": {
      "tags": []
     },
     "output_type": "display_data"
    },
    {
     "data": {
      "text/html": [
       "<pre>| 9.94ms                         | 100        |</pre>"
      ],
      "text/plain": [
       "| 9.94ms                         | 100        |"
      ]
     },
     "metadata": {
      "tags": []
     },
     "output_type": "display_data"
    },
    {
     "data": {
      "text/html": [
       "<pre>+--------------------------------+------------+</pre>"
      ],
      "text/plain": [
       "+--------------------------------+------------+"
      ]
     },
     "metadata": {
      "tags": []
     },
     "output_type": "display_data"
    },
    {
     "data": {
      "text/html": [
       "<pre>Setting up lookup tables.</pre>"
      ],
      "text/plain": [
       "Setting up lookup tables."
      ]
     },
     "metadata": {
      "tags": []
     },
     "output_type": "display_data"
    },
    {
     "data": {
      "text/html": [
       "<pre>Processing data in one pass using dense lookup tables.</pre>"
      ],
      "text/plain": [
       "Processing data in one pass using dense lookup tables."
      ]
     },
     "metadata": {
      "tags": []
     },
     "output_type": "display_data"
    },
    {
     "data": {
      "text/html": [
       "<pre>+-------------------------------------+------------------+-----------------+</pre>"
      ],
      "text/plain": [
       "+-------------------------------------+------------------+-----------------+"
      ]
     },
     "metadata": {
      "tags": []
     },
     "output_type": "display_data"
    },
    {
     "data": {
      "text/html": [
       "<pre>| Elapsed Time (Constructing Lookups) | Total % Complete | Items Processed |</pre>"
      ],
      "text/plain": [
       "| Elapsed Time (Constructing Lookups) | Total % Complete | Items Processed |"
      ]
     },
     "metadata": {
      "tags": []
     },
     "output_type": "display_data"
    },
    {
     "data": {
      "text/html": [
       "<pre>+-------------------------------------+------------------+-----------------+</pre>"
      ],
      "text/plain": [
       "+-------------------------------------+------------------+-----------------+"
      ]
     },
     "metadata": {
      "tags": []
     },
     "output_type": "display_data"
    },
    {
     "data": {
      "text/html": [
       "<pre>| 13.365ms                            | 0                | 3               |</pre>"
      ],
      "text/plain": [
       "| 13.365ms                            | 0                | 3               |"
      ]
     },
     "metadata": {
      "tags": []
     },
     "output_type": "display_data"
    },
    {
     "data": {
      "text/html": [
       "<pre>| 290.68ms                            | 100              | 1512            |</pre>"
      ],
      "text/plain": [
       "| 290.68ms                            | 100              | 1512            |"
      ]
     },
     "metadata": {
      "tags": []
     },
     "output_type": "display_data"
    },
    {
     "data": {
      "text/html": [
       "<pre>+-------------------------------------+------------------+-----------------+</pre>"
      ],
      "text/plain": [
       "+-------------------------------------+------------------+-----------------+"
      ]
     },
     "metadata": {
      "tags": []
     },
     "output_type": "display_data"
    },
    {
     "data": {
      "text/html": [
       "<pre>Finalizing lookup tables.</pre>"
      ],
      "text/plain": [
       "Finalizing lookup tables."
      ]
     },
     "metadata": {
      "tags": []
     },
     "output_type": "display_data"
    },
    {
     "data": {
      "text/html": [
       "<pre>Generating candidate set for working with new users.</pre>"
      ],
      "text/plain": [
       "Generating candidate set for working with new users."
      ]
     },
     "metadata": {
      "tags": []
     },
     "output_type": "display_data"
    },
    {
     "data": {
      "text/html": [
       "<pre>Finished training in 0.307067s</pre>"
      ],
      "text/plain": [
       "Finished training in 0.307067s"
      ]
     },
     "metadata": {
      "tags": []
     },
     "output_type": "display_data"
    },
    {
     "data": {
      "text/html": [
       "<pre>recommendations finished on 1000/100003 queries. users per second: 8999.52</pre>"
      ],
      "text/plain": [
       "recommendations finished on 1000/100003 queries. users per second: 8999.52"
      ]
     },
     "metadata": {
      "tags": []
     },
     "output_type": "display_data"
    },
    {
     "data": {
      "text/html": [
       "<pre>recommendations finished on 2000/100003 queries. users per second: 8959.37</pre>"
      ],
      "text/plain": [
       "recommendations finished on 2000/100003 queries. users per second: 8959.37"
      ]
     },
     "metadata": {
      "tags": []
     },
     "output_type": "display_data"
    },
    {
     "data": {
      "text/html": [
       "<pre>recommendations finished on 3000/100003 queries. users per second: 8941.58</pre>"
      ],
      "text/plain": [
       "recommendations finished on 3000/100003 queries. users per second: 8941.58"
      ]
     },
     "metadata": {
      "tags": []
     },
     "output_type": "display_data"
    },
    {
     "data": {
      "text/html": [
       "<pre>recommendations finished on 4000/100003 queries. users per second: 8896.8</pre>"
      ],
      "text/plain": [
       "recommendations finished on 4000/100003 queries. users per second: 8896.8"
      ]
     },
     "metadata": {
      "tags": []
     },
     "output_type": "display_data"
    },
    {
     "data": {
      "text/html": [
       "<pre>recommendations finished on 5000/100003 queries. users per second: 8816.15</pre>"
      ],
      "text/plain": [
       "recommendations finished on 5000/100003 queries. users per second: 8816.15"
      ]
     },
     "metadata": {
      "tags": []
     },
     "output_type": "display_data"
    },
    {
     "data": {
      "text/html": [
       "<pre>recommendations finished on 6000/100003 queries. users per second: 8808.09</pre>"
      ],
      "text/plain": [
       "recommendations finished on 6000/100003 queries. users per second: 8808.09"
      ]
     },
     "metadata": {
      "tags": []
     },
     "output_type": "display_data"
    },
    {
     "data": {
      "text/html": [
       "<pre>recommendations finished on 7000/100003 queries. users per second: 8772.27</pre>"
      ],
      "text/plain": [
       "recommendations finished on 7000/100003 queries. users per second: 8772.27"
      ]
     },
     "metadata": {
      "tags": []
     },
     "output_type": "display_data"
    },
    {
     "data": {
      "text/html": [
       "<pre>recommendations finished on 8000/100003 queries. users per second: 8799.81</pre>"
      ],
      "text/plain": [
       "recommendations finished on 8000/100003 queries. users per second: 8799.81"
      ]
     },
     "metadata": {
      "tags": []
     },
     "output_type": "display_data"
    },
    {
     "data": {
      "text/html": [
       "<pre>recommendations finished on 9000/100003 queries. users per second: 8784.77</pre>"
      ],
      "text/plain": [
       "recommendations finished on 9000/100003 queries. users per second: 8784.77"
      ]
     },
     "metadata": {
      "tags": []
     },
     "output_type": "display_data"
    },
    {
     "data": {
      "text/html": [
       "<pre>recommendations finished on 10000/100003 queries. users per second: 8781.87</pre>"
      ],
      "text/plain": [
       "recommendations finished on 10000/100003 queries. users per second: 8781.87"
      ]
     },
     "metadata": {
      "tags": []
     },
     "output_type": "display_data"
    },
    {
     "data": {
      "text/html": [
       "<pre>recommendations finished on 11000/100003 queries. users per second: 8799.26</pre>"
      ],
      "text/plain": [
       "recommendations finished on 11000/100003 queries. users per second: 8799.26"
      ]
     },
     "metadata": {
      "tags": []
     },
     "output_type": "display_data"
    },
    {
     "data": {
      "text/html": [
       "<pre>recommendations finished on 12000/100003 queries. users per second: 8817.04</pre>"
      ],
      "text/plain": [
       "recommendations finished on 12000/100003 queries. users per second: 8817.04"
      ]
     },
     "metadata": {
      "tags": []
     },
     "output_type": "display_data"
    },
    {
     "data": {
      "text/html": [
       "<pre>recommendations finished on 13000/100003 queries. users per second: 8782.09</pre>"
      ],
      "text/plain": [
       "recommendations finished on 13000/100003 queries. users per second: 8782.09"
      ]
     },
     "metadata": {
      "tags": []
     },
     "output_type": "display_data"
    },
    {
     "data": {
      "text/html": [
       "<pre>recommendations finished on 14000/100003 queries. users per second: 8788.6</pre>"
      ],
      "text/plain": [
       "recommendations finished on 14000/100003 queries. users per second: 8788.6"
      ]
     },
     "metadata": {
      "tags": []
     },
     "output_type": "display_data"
    },
    {
     "data": {
      "text/html": [
       "<pre>recommendations finished on 15000/100003 queries. users per second: 8781.93</pre>"
      ],
      "text/plain": [
       "recommendations finished on 15000/100003 queries. users per second: 8781.93"
      ]
     },
     "metadata": {
      "tags": []
     },
     "output_type": "display_data"
    },
    {
     "data": {
      "text/html": [
       "<pre>recommendations finished on 16000/100003 queries. users per second: 8788.78</pre>"
      ],
      "text/plain": [
       "recommendations finished on 16000/100003 queries. users per second: 8788.78"
      ]
     },
     "metadata": {
      "tags": []
     },
     "output_type": "display_data"
    },
    {
     "data": {
      "text/html": [
       "<pre>recommendations finished on 17000/100003 queries. users per second: 8774.82</pre>"
      ],
      "text/plain": [
       "recommendations finished on 17000/100003 queries. users per second: 8774.82"
      ]
     },
     "metadata": {
      "tags": []
     },
     "output_type": "display_data"
    },
    {
     "data": {
      "text/html": [
       "<pre>recommendations finished on 18000/100003 queries. users per second: 8760.07</pre>"
      ],
      "text/plain": [
       "recommendations finished on 18000/100003 queries. users per second: 8760.07"
      ]
     },
     "metadata": {
      "tags": []
     },
     "output_type": "display_data"
    },
    {
     "data": {
      "text/html": [
       "<pre>recommendations finished on 19000/100003 queries. users per second: 8766.56</pre>"
      ],
      "text/plain": [
       "recommendations finished on 19000/100003 queries. users per second: 8766.56"
      ]
     },
     "metadata": {
      "tags": []
     },
     "output_type": "display_data"
    },
    {
     "data": {
      "text/html": [
       "<pre>recommendations finished on 20000/100003 queries. users per second: 8754.56</pre>"
      ],
      "text/plain": [
       "recommendations finished on 20000/100003 queries. users per second: 8754.56"
      ]
     },
     "metadata": {
      "tags": []
     },
     "output_type": "display_data"
    },
    {
     "data": {
      "text/html": [
       "<pre>recommendations finished on 21000/100003 queries. users per second: 8760.27</pre>"
      ],
      "text/plain": [
       "recommendations finished on 21000/100003 queries. users per second: 8760.27"
      ]
     },
     "metadata": {
      "tags": []
     },
     "output_type": "display_data"
    },
    {
     "data": {
      "text/html": [
       "<pre>recommendations finished on 22000/100003 queries. users per second: 8774.36</pre>"
      ],
      "text/plain": [
       "recommendations finished on 22000/100003 queries. users per second: 8774.36"
      ]
     },
     "metadata": {
      "tags": []
     },
     "output_type": "display_data"
    },
    {
     "data": {
      "text/html": [
       "<pre>recommendations finished on 23000/100003 queries. users per second: 8766.78</pre>"
      ],
      "text/plain": [
       "recommendations finished on 23000/100003 queries. users per second: 8766.78"
      ]
     },
     "metadata": {
      "tags": []
     },
     "output_type": "display_data"
    },
    {
     "data": {
      "text/html": [
       "<pre>recommendations finished on 24000/100003 queries. users per second: 8779.27</pre>"
      ],
      "text/plain": [
       "recommendations finished on 24000/100003 queries. users per second: 8779.27"
      ]
     },
     "metadata": {
      "tags": []
     },
     "output_type": "display_data"
    },
    {
     "data": {
      "text/html": [
       "<pre>recommendations finished on 25000/100003 queries. users per second: 8770.82</pre>"
      ],
      "text/plain": [
       "recommendations finished on 25000/100003 queries. users per second: 8770.82"
      ]
     },
     "metadata": {
      "tags": []
     },
     "output_type": "display_data"
    },
    {
     "data": {
      "text/html": [
       "<pre>recommendations finished on 26000/100003 queries. users per second: 8779.6</pre>"
      ],
      "text/plain": [
       "recommendations finished on 26000/100003 queries. users per second: 8779.6"
      ]
     },
     "metadata": {
      "tags": []
     },
     "output_type": "display_data"
    },
    {
     "data": {
      "text/html": [
       "<pre>recommendations finished on 27000/100003 queries. users per second: 8742.74</pre>"
      ],
      "text/plain": [
       "recommendations finished on 27000/100003 queries. users per second: 8742.74"
      ]
     },
     "metadata": {
      "tags": []
     },
     "output_type": "display_data"
    },
    {
     "data": {
      "text/html": [
       "<pre>recommendations finished on 28000/100003 queries. users per second: 8733.54</pre>"
      ],
      "text/plain": [
       "recommendations finished on 28000/100003 queries. users per second: 8733.54"
      ]
     },
     "metadata": {
      "tags": []
     },
     "output_type": "display_data"
    },
    {
     "data": {
      "text/html": [
       "<pre>recommendations finished on 29000/100003 queries. users per second: 8731.95</pre>"
      ],
      "text/plain": [
       "recommendations finished on 29000/100003 queries. users per second: 8731.95"
      ]
     },
     "metadata": {
      "tags": []
     },
     "output_type": "display_data"
    },
    {
     "data": {
      "text/html": [
       "<pre>recommendations finished on 30000/100003 queries. users per second: 8721.77</pre>"
      ],
      "text/plain": [
       "recommendations finished on 30000/100003 queries. users per second: 8721.77"
      ]
     },
     "metadata": {
      "tags": []
     },
     "output_type": "display_data"
    },
    {
     "data": {
      "text/html": [
       "<pre>recommendations finished on 31000/100003 queries. users per second: 8713.61</pre>"
      ],
      "text/plain": [
       "recommendations finished on 31000/100003 queries. users per second: 8713.61"
      ]
     },
     "metadata": {
      "tags": []
     },
     "output_type": "display_data"
    },
    {
     "data": {
      "text/html": [
       "<pre>recommendations finished on 32000/100003 queries. users per second: 8710.08</pre>"
      ],
      "text/plain": [
       "recommendations finished on 32000/100003 queries. users per second: 8710.08"
      ]
     },
     "metadata": {
      "tags": []
     },
     "output_type": "display_data"
    },
    {
     "data": {
      "text/html": [
       "<pre>recommendations finished on 33000/100003 queries. users per second: 8716.14</pre>"
      ],
      "text/plain": [
       "recommendations finished on 33000/100003 queries. users per second: 8716.14"
      ]
     },
     "metadata": {
      "tags": []
     },
     "output_type": "display_data"
    },
    {
     "data": {
      "text/html": [
       "<pre>recommendations finished on 34000/100003 queries. users per second: 8700.12</pre>"
      ],
      "text/plain": [
       "recommendations finished on 34000/100003 queries. users per second: 8700.12"
      ]
     },
     "metadata": {
      "tags": []
     },
     "output_type": "display_data"
    },
    {
     "data": {
      "text/html": [
       "<pre>recommendations finished on 35000/100003 queries. users per second: 8685.96</pre>"
      ],
      "text/plain": [
       "recommendations finished on 35000/100003 queries. users per second: 8685.96"
      ]
     },
     "metadata": {
      "tags": []
     },
     "output_type": "display_data"
    },
    {
     "data": {
      "text/html": [
       "<pre>recommendations finished on 36000/100003 queries. users per second: 8698.8</pre>"
      ],
      "text/plain": [
       "recommendations finished on 36000/100003 queries. users per second: 8698.8"
      ]
     },
     "metadata": {
      "tags": []
     },
     "output_type": "display_data"
    },
    {
     "data": {
      "text/html": [
       "<pre>recommendations finished on 37000/100003 queries. users per second: 8691.73</pre>"
      ],
      "text/plain": [
       "recommendations finished on 37000/100003 queries. users per second: 8691.73"
      ]
     },
     "metadata": {
      "tags": []
     },
     "output_type": "display_data"
    },
    {
     "data": {
      "text/html": [
       "<pre>recommendations finished on 38000/100003 queries. users per second: 8690.81</pre>"
      ],
      "text/plain": [
       "recommendations finished on 38000/100003 queries. users per second: 8690.81"
      ]
     },
     "metadata": {
      "tags": []
     },
     "output_type": "display_data"
    },
    {
     "data": {
      "text/html": [
       "<pre>recommendations finished on 39000/100003 queries. users per second: 8691.54</pre>"
      ],
      "text/plain": [
       "recommendations finished on 39000/100003 queries. users per second: 8691.54"
      ]
     },
     "metadata": {
      "tags": []
     },
     "output_type": "display_data"
    },
    {
     "data": {
      "text/html": [
       "<pre>recommendations finished on 40000/100003 queries. users per second: 8688.57</pre>"
      ],
      "text/plain": [
       "recommendations finished on 40000/100003 queries. users per second: 8688.57"
      ]
     },
     "metadata": {
      "tags": []
     },
     "output_type": "display_data"
    },
    {
     "data": {
      "text/html": [
       "<pre>recommendations finished on 41000/100003 queries. users per second: 8674.07</pre>"
      ],
      "text/plain": [
       "recommendations finished on 41000/100003 queries. users per second: 8674.07"
      ]
     },
     "metadata": {
      "tags": []
     },
     "output_type": "display_data"
    },
    {
     "data": {
      "text/html": [
       "<pre>recommendations finished on 42000/100003 queries. users per second: 8672.81</pre>"
      ],
      "text/plain": [
       "recommendations finished on 42000/100003 queries. users per second: 8672.81"
      ]
     },
     "metadata": {
      "tags": []
     },
     "output_type": "display_data"
    },
    {
     "data": {
      "text/html": [
       "<pre>recommendations finished on 43000/100003 queries. users per second: 8680.3</pre>"
      ],
      "text/plain": [
       "recommendations finished on 43000/100003 queries. users per second: 8680.3"
      ]
     },
     "metadata": {
      "tags": []
     },
     "output_type": "display_data"
    },
    {
     "data": {
      "text/html": [
       "<pre>recommendations finished on 44000/100003 queries. users per second: 8674.56</pre>"
      ],
      "text/plain": [
       "recommendations finished on 44000/100003 queries. users per second: 8674.56"
      ]
     },
     "metadata": {
      "tags": []
     },
     "output_type": "display_data"
    },
    {
     "data": {
      "text/html": [
       "<pre>recommendations finished on 45000/100003 queries. users per second: 8677.77</pre>"
      ],
      "text/plain": [
       "recommendations finished on 45000/100003 queries. users per second: 8677.77"
      ]
     },
     "metadata": {
      "tags": []
     },
     "output_type": "display_data"
    },
    {
     "data": {
      "text/html": [
       "<pre>recommendations finished on 46000/100003 queries. users per second: 8680.88</pre>"
      ],
      "text/plain": [
       "recommendations finished on 46000/100003 queries. users per second: 8680.88"
      ]
     },
     "metadata": {
      "tags": []
     },
     "output_type": "display_data"
    },
    {
     "data": {
      "text/html": [
       "<pre>recommendations finished on 47000/100003 queries. users per second: 8679.82</pre>"
      ],
      "text/plain": [
       "recommendations finished on 47000/100003 queries. users per second: 8679.82"
      ]
     },
     "metadata": {
      "tags": []
     },
     "output_type": "display_data"
    },
    {
     "data": {
      "text/html": [
       "<pre>recommendations finished on 48000/100003 queries. users per second: 8692.06</pre>"
      ],
      "text/plain": [
       "recommendations finished on 48000/100003 queries. users per second: 8692.06"
      ]
     },
     "metadata": {
      "tags": []
     },
     "output_type": "display_data"
    },
    {
     "data": {
      "text/html": [
       "<pre>recommendations finished on 49000/100003 queries. users per second: 8691.04</pre>"
      ],
      "text/plain": [
       "recommendations finished on 49000/100003 queries. users per second: 8691.04"
      ]
     },
     "metadata": {
      "tags": []
     },
     "output_type": "display_data"
    },
    {
     "data": {
      "text/html": [
       "<pre>recommendations finished on 50000/100003 queries. users per second: 8696.79</pre>"
      ],
      "text/plain": [
       "recommendations finished on 50000/100003 queries. users per second: 8696.79"
      ]
     },
     "metadata": {
      "tags": []
     },
     "output_type": "display_data"
    },
    {
     "data": {
      "text/html": [
       "<pre>recommendations finished on 51000/100003 queries. users per second: 8701.63</pre>"
      ],
      "text/plain": [
       "recommendations finished on 51000/100003 queries. users per second: 8701.63"
      ]
     },
     "metadata": {
      "tags": []
     },
     "output_type": "display_data"
    },
    {
     "data": {
      "text/html": [
       "<pre>recommendations finished on 52000/100003 queries. users per second: 8705.54</pre>"
      ],
      "text/plain": [
       "recommendations finished on 52000/100003 queries. users per second: 8705.54"
      ]
     },
     "metadata": {
      "tags": []
     },
     "output_type": "display_data"
    },
    {
     "data": {
      "text/html": [
       "<pre>recommendations finished on 53000/100003 queries. users per second: 8694.3</pre>"
      ],
      "text/plain": [
       "recommendations finished on 53000/100003 queries. users per second: 8694.3"
      ]
     },
     "metadata": {
      "tags": []
     },
     "output_type": "display_data"
    },
    {
     "data": {
      "text/html": [
       "<pre>recommendations finished on 54000/100003 queries. users per second: 8695.03</pre>"
      ],
      "text/plain": [
       "recommendations finished on 54000/100003 queries. users per second: 8695.03"
      ]
     },
     "metadata": {
      "tags": []
     },
     "output_type": "display_data"
    },
    {
     "data": {
      "text/html": [
       "<pre>recommendations finished on 55000/100003 queries. users per second: 8691.9</pre>"
      ],
      "text/plain": [
       "recommendations finished on 55000/100003 queries. users per second: 8691.9"
      ]
     },
     "metadata": {
      "tags": []
     },
     "output_type": "display_data"
    },
    {
     "data": {
      "text/html": [
       "<pre>recommendations finished on 56000/100003 queries. users per second: 8700.74</pre>"
      ],
      "text/plain": [
       "recommendations finished on 56000/100003 queries. users per second: 8700.74"
      ]
     },
     "metadata": {
      "tags": []
     },
     "output_type": "display_data"
    },
    {
     "data": {
      "text/html": [
       "<pre>recommendations finished on 57000/100003 queries. users per second: 8695.22</pre>"
      ],
      "text/plain": [
       "recommendations finished on 57000/100003 queries. users per second: 8695.22"
      ]
     },
     "metadata": {
      "tags": []
     },
     "output_type": "display_data"
    },
    {
     "data": {
      "text/html": [
       "<pre>recommendations finished on 58000/100003 queries. users per second: 8701.98</pre>"
      ],
      "text/plain": [
       "recommendations finished on 58000/100003 queries. users per second: 8701.98"
      ]
     },
     "metadata": {
      "tags": []
     },
     "output_type": "display_data"
    },
    {
     "data": {
      "text/html": [
       "<pre>recommendations finished on 59000/100003 queries. users per second: 8704.7</pre>"
      ],
      "text/plain": [
       "recommendations finished on 59000/100003 queries. users per second: 8704.7"
      ]
     },
     "metadata": {
      "tags": []
     },
     "output_type": "display_data"
    },
    {
     "data": {
      "text/html": [
       "<pre>recommendations finished on 60000/100003 queries. users per second: 8711.99</pre>"
      ],
      "text/plain": [
       "recommendations finished on 60000/100003 queries. users per second: 8711.99"
      ]
     },
     "metadata": {
      "tags": []
     },
     "output_type": "display_data"
    },
    {
     "data": {
      "text/html": [
       "<pre>recommendations finished on 61000/100003 queries. users per second: 8705.81</pre>"
      ],
      "text/plain": [
       "recommendations finished on 61000/100003 queries. users per second: 8705.81"
      ]
     },
     "metadata": {
      "tags": []
     },
     "output_type": "display_data"
    },
    {
     "data": {
      "text/html": [
       "<pre>recommendations finished on 62000/100003 queries. users per second: 8702.56</pre>"
      ],
      "text/plain": [
       "recommendations finished on 62000/100003 queries. users per second: 8702.56"
      ]
     },
     "metadata": {
      "tags": []
     },
     "output_type": "display_data"
    },
    {
     "data": {
      "text/html": [
       "<pre>recommendations finished on 63000/100003 queries. users per second: 8707.74</pre>"
      ],
      "text/plain": [
       "recommendations finished on 63000/100003 queries. users per second: 8707.74"
      ]
     },
     "metadata": {
      "tags": []
     },
     "output_type": "display_data"
    },
    {
     "data": {
      "text/html": [
       "<pre>recommendations finished on 64000/100003 queries. users per second: 8707.12</pre>"
      ],
      "text/plain": [
       "recommendations finished on 64000/100003 queries. users per second: 8707.12"
      ]
     },
     "metadata": {
      "tags": []
     },
     "output_type": "display_data"
    },
    {
     "data": {
      "text/html": [
       "<pre>recommendations finished on 65000/100003 queries. users per second: 8715.76</pre>"
      ],
      "text/plain": [
       "recommendations finished on 65000/100003 queries. users per second: 8715.76"
      ]
     },
     "metadata": {
      "tags": []
     },
     "output_type": "display_data"
    },
    {
     "data": {
      "text/html": [
       "<pre>recommendations finished on 66000/100003 queries. users per second: 8717.43</pre>"
      ],
      "text/plain": [
       "recommendations finished on 66000/100003 queries. users per second: 8717.43"
      ]
     },
     "metadata": {
      "tags": []
     },
     "output_type": "display_data"
    },
    {
     "data": {
      "text/html": [
       "<pre>recommendations finished on 67000/100003 queries. users per second: 8722.44</pre>"
      ],
      "text/plain": [
       "recommendations finished on 67000/100003 queries. users per second: 8722.44"
      ]
     },
     "metadata": {
      "tags": []
     },
     "output_type": "display_data"
    },
    {
     "data": {
      "text/html": [
       "<pre>recommendations finished on 68000/100003 queries. users per second: 8724.05</pre>"
      ],
      "text/plain": [
       "recommendations finished on 68000/100003 queries. users per second: 8724.05"
      ]
     },
     "metadata": {
      "tags": []
     },
     "output_type": "display_data"
    },
    {
     "data": {
      "text/html": [
       "<pre>recommendations finished on 69000/100003 queries. users per second: 8731.08</pre>"
      ],
      "text/plain": [
       "recommendations finished on 69000/100003 queries. users per second: 8731.08"
      ]
     },
     "metadata": {
      "tags": []
     },
     "output_type": "display_data"
    },
    {
     "data": {
      "text/html": [
       "<pre>recommendations finished on 70000/100003 queries. users per second: 8733.35</pre>"
      ],
      "text/plain": [
       "recommendations finished on 70000/100003 queries. users per second: 8733.35"
      ]
     },
     "metadata": {
      "tags": []
     },
     "output_type": "display_data"
    },
    {
     "data": {
      "text/html": [
       "<pre>recommendations finished on 71000/100003 queries. users per second: 8732.08</pre>"
      ],
      "text/plain": [
       "recommendations finished on 71000/100003 queries. users per second: 8732.08"
      ]
     },
     "metadata": {
      "tags": []
     },
     "output_type": "display_data"
    },
    {
     "data": {
      "text/html": [
       "<pre>recommendations finished on 72000/100003 queries. users per second: 8736.08</pre>"
      ],
      "text/plain": [
       "recommendations finished on 72000/100003 queries. users per second: 8736.08"
      ]
     },
     "metadata": {
      "tags": []
     },
     "output_type": "display_data"
    },
    {
     "data": {
      "text/html": [
       "<pre>recommendations finished on 73000/100003 queries. users per second: 8737.22</pre>"
      ],
      "text/plain": [
       "recommendations finished on 73000/100003 queries. users per second: 8737.22"
      ]
     },
     "metadata": {
      "tags": []
     },
     "output_type": "display_data"
    },
    {
     "data": {
      "text/html": [
       "<pre>recommendations finished on 74000/100003 queries. users per second: 8745.64</pre>"
      ],
      "text/plain": [
       "recommendations finished on 74000/100003 queries. users per second: 8745.64"
      ]
     },
     "metadata": {
      "tags": []
     },
     "output_type": "display_data"
    },
    {
     "data": {
      "text/html": [
       "<pre>recommendations finished on 75000/100003 queries. users per second: 8739.04</pre>"
      ],
      "text/plain": [
       "recommendations finished on 75000/100003 queries. users per second: 8739.04"
      ]
     },
     "metadata": {
      "tags": []
     },
     "output_type": "display_data"
    },
    {
     "data": {
      "text/html": [
       "<pre>recommendations finished on 76000/100003 queries. users per second: 8748.6</pre>"
      ],
      "text/plain": [
       "recommendations finished on 76000/100003 queries. users per second: 8748.6"
      ]
     },
     "metadata": {
      "tags": []
     },
     "output_type": "display_data"
    },
    {
     "data": {
      "text/html": [
       "<pre>recommendations finished on 77000/100003 queries. users per second: 8753.35</pre>"
      ],
      "text/plain": [
       "recommendations finished on 77000/100003 queries. users per second: 8753.35"
      ]
     },
     "metadata": {
      "tags": []
     },
     "output_type": "display_data"
    },
    {
     "data": {
      "text/html": [
       "<pre>recommendations finished on 78000/100003 queries. users per second: 8762.54</pre>"
      ],
      "text/plain": [
       "recommendations finished on 78000/100003 queries. users per second: 8762.54"
      ]
     },
     "metadata": {
      "tags": []
     },
     "output_type": "display_data"
    },
    {
     "data": {
      "text/html": [
       "<pre>recommendations finished on 79000/100003 queries. users per second: 8767.54</pre>"
      ],
      "text/plain": [
       "recommendations finished on 79000/100003 queries. users per second: 8767.54"
      ]
     },
     "metadata": {
      "tags": []
     },
     "output_type": "display_data"
    },
    {
     "data": {
      "text/html": [
       "<pre>recommendations finished on 80000/100003 queries. users per second: 8773.64</pre>"
      ],
      "text/plain": [
       "recommendations finished on 80000/100003 queries. users per second: 8773.64"
      ]
     },
     "metadata": {
      "tags": []
     },
     "output_type": "display_data"
    },
    {
     "data": {
      "text/html": [
       "<pre>recommendations finished on 81000/100003 queries. users per second: 8781.78</pre>"
      ],
      "text/plain": [
       "recommendations finished on 81000/100003 queries. users per second: 8781.78"
      ]
     },
     "metadata": {
      "tags": []
     },
     "output_type": "display_data"
    },
    {
     "data": {
      "text/html": [
       "<pre>recommendations finished on 82000/100003 queries. users per second: 8787.73</pre>"
      ],
      "text/plain": [
       "recommendations finished on 82000/100003 queries. users per second: 8787.73"
      ]
     },
     "metadata": {
      "tags": []
     },
     "output_type": "display_data"
    },
    {
     "data": {
      "text/html": [
       "<pre>recommendations finished on 83000/100003 queries. users per second: 8793.03</pre>"
      ],
      "text/plain": [
       "recommendations finished on 83000/100003 queries. users per second: 8793.03"
      ]
     },
     "metadata": {
      "tags": []
     },
     "output_type": "display_data"
    },
    {
     "data": {
      "text/html": [
       "<pre>recommendations finished on 84000/100003 queries. users per second: 8790.97</pre>"
      ],
      "text/plain": [
       "recommendations finished on 84000/100003 queries. users per second: 8790.97"
      ]
     },
     "metadata": {
      "tags": []
     },
     "output_type": "display_data"
    },
    {
     "data": {
      "text/html": [
       "<pre>recommendations finished on 85000/100003 queries. users per second: 8787</pre>"
      ],
      "text/plain": [
       "recommendations finished on 85000/100003 queries. users per second: 8787"
      ]
     },
     "metadata": {
      "tags": []
     },
     "output_type": "display_data"
    },
    {
     "data": {
      "text/html": [
       "<pre>recommendations finished on 86000/100003 queries. users per second: 8792.02</pre>"
      ],
      "text/plain": [
       "recommendations finished on 86000/100003 queries. users per second: 8792.02"
      ]
     },
     "metadata": {
      "tags": []
     },
     "output_type": "display_data"
    },
    {
     "data": {
      "text/html": [
       "<pre>recommendations finished on 87000/100003 queries. users per second: 8796.31</pre>"
      ],
      "text/plain": [
       "recommendations finished on 87000/100003 queries. users per second: 8796.31"
      ]
     },
     "metadata": {
      "tags": []
     },
     "output_type": "display_data"
    },
    {
     "data": {
      "text/html": [
       "<pre>recommendations finished on 88000/100003 queries. users per second: 8802.35</pre>"
      ],
      "text/plain": [
       "recommendations finished on 88000/100003 queries. users per second: 8802.35"
      ]
     },
     "metadata": {
      "tags": []
     },
     "output_type": "display_data"
    },
    {
     "data": {
      "text/html": [
       "<pre>recommendations finished on 89000/100003 queries. users per second: 8802.89</pre>"
      ],
      "text/plain": [
       "recommendations finished on 89000/100003 queries. users per second: 8802.89"
      ]
     },
     "metadata": {
      "tags": []
     },
     "output_type": "display_data"
    },
    {
     "data": {
      "text/html": [
       "<pre>recommendations finished on 90000/100003 queries. users per second: 8802.96</pre>"
      ],
      "text/plain": [
       "recommendations finished on 90000/100003 queries. users per second: 8802.96"
      ]
     },
     "metadata": {
      "tags": []
     },
     "output_type": "display_data"
    },
    {
     "data": {
      "text/html": [
       "<pre>recommendations finished on 91000/100003 queries. users per second: 8809.4</pre>"
      ],
      "text/plain": [
       "recommendations finished on 91000/100003 queries. users per second: 8809.4"
      ]
     },
     "metadata": {
      "tags": []
     },
     "output_type": "display_data"
    },
    {
     "data": {
      "text/html": [
       "<pre>recommendations finished on 92000/100003 queries. users per second: 8809.52</pre>"
      ],
      "text/plain": [
       "recommendations finished on 92000/100003 queries. users per second: 8809.52"
      ]
     },
     "metadata": {
      "tags": []
     },
     "output_type": "display_data"
    },
    {
     "data": {
      "text/html": [
       "<pre>recommendations finished on 93000/100003 queries. users per second: 8811.63</pre>"
      ],
      "text/plain": [
       "recommendations finished on 93000/100003 queries. users per second: 8811.63"
      ]
     },
     "metadata": {
      "tags": []
     },
     "output_type": "display_data"
    },
    {
     "data": {
      "text/html": [
       "<pre>recommendations finished on 94000/100003 queries. users per second: 8812.47</pre>"
      ],
      "text/plain": [
       "recommendations finished on 94000/100003 queries. users per second: 8812.47"
      ]
     },
     "metadata": {
      "tags": []
     },
     "output_type": "display_data"
    },
    {
     "data": {
      "text/html": [
       "<pre>recommendations finished on 95000/100003 queries. users per second: 8817.34</pre>"
      ],
      "text/plain": [
       "recommendations finished on 95000/100003 queries. users per second: 8817.34"
      ]
     },
     "metadata": {
      "tags": []
     },
     "output_type": "display_data"
    },
    {
     "data": {
      "text/html": [
       "<pre>recommendations finished on 96000/100003 queries. users per second: 8772.87</pre>"
      ],
      "text/plain": [
       "recommendations finished on 96000/100003 queries. users per second: 8772.87"
      ]
     },
     "metadata": {
      "tags": []
     },
     "output_type": "display_data"
    },
    {
     "data": {
      "text/html": [
       "<pre>recommendations finished on 97000/100003 queries. users per second: 8725.73</pre>"
      ],
      "text/plain": [
       "recommendations finished on 97000/100003 queries. users per second: 8725.73"
      ]
     },
     "metadata": {
      "tags": []
     },
     "output_type": "display_data"
    },
    {
     "data": {
      "text/html": [
       "<pre>recommendations finished on 98000/100003 queries. users per second: 8680.32</pre>"
      ],
      "text/plain": [
       "recommendations finished on 98000/100003 queries. users per second: 8680.32"
      ]
     },
     "metadata": {
      "tags": []
     },
     "output_type": "display_data"
    },
    {
     "data": {
      "text/html": [
       "<pre>recommendations finished on 99000/100003 queries. users per second: 8640.12</pre>"
      ],
      "text/plain": [
       "recommendations finished on 99000/100003 queries. users per second: 8640.12"
      ]
     },
     "metadata": {
      "tags": []
     },
     "output_type": "display_data"
    },
    {
     "data": {
      "text/html": [
       "<pre>recommendations finished on 100000/100003 queries. users per second: 8598.81</pre>"
      ],
      "text/plain": [
       "recommendations finished on 100000/100003 queries. users per second: 8598.81"
      ]
     },
     "metadata": {
      "tags": []
     },
     "output_type": "display_data"
    },
    {
     "name": "stdout",
     "output_type": "stream",
     "text": [
      "+---------+---------+-------+------+\n",
      "| user_id | item_id | score | rank |\n",
      "+---------+---------+-------+------+\n",
      "|    0    |   1465  |  1.0  |  1   |\n",
      "|    0    |   1389  |  1.0  |  2   |\n",
      "|    0    |   1362  |  1.0  |  3   |\n",
      "|    0    |   1506  |  1.0  |  4   |\n",
      "|    0    |   1365  |  1.0  |  5   |\n",
      "|    0    |   1662  |  1.0  |  6   |\n",
      "|    0    |   1472  |  1.0  |  7   |\n",
      "|    0    |   600   |  1.0  |  8   |\n",
      "|    0    |   1360  |  1.0  |  9   |\n",
      "|    0    |   1261  |  1.0  |  10  |\n",
      "|    0    |   1465  |  1.0  |  1   |\n",
      "|    0    |   1389  |  1.0  |  2   |\n",
      "|    0    |   1362  |  1.0  |  3   |\n",
      "|    0    |   1506  |  1.0  |  4   |\n",
      "|    0    |   1365  |  1.0  |  5   |\n",
      "|    0    |   1662  |  1.0  |  6   |\n",
      "|    0    |   1472  |  1.0  |  7   |\n",
      "|    0    |   600   |  1.0  |  8   |\n",
      "|    0    |   1360  |  1.0  |  9   |\n",
      "|    0    |   1261  |  1.0  |  10  |\n",
      "|    0    |   1465  |  1.0  |  1   |\n",
      "|    0    |   1389  |  1.0  |  2   |\n",
      "|    0    |   1362  |  1.0  |  3   |\n",
      "|    0    |   1506  |  1.0  |  4   |\n",
      "|    0    |   1365  |  1.0  |  5   |\n",
      "|    0    |   1662  |  1.0  |  6   |\n",
      "|    0    |   1472  |  1.0  |  7   |\n",
      "|    0    |   600   |  1.0  |  8   |\n",
      "|    0    |   1360  |  1.0  |  9   |\n",
      "|    0    |   1261  |  1.0  |  10  |\n",
      "+---------+---------+-------+------+\n",
      "[1000030 rows x 4 columns]\n",
      "\n"
     ]
    }
   ],
   "source": [
    "#Using (pearson) normalized rating\n",
    "name = 'pearson'\n",
    "target = 'scaled_rating_freq'\n",
    "pear_norm = model(train_data_norm, name, user_id, item_id, target, users_to_recommend, n_rec, n_display)\n"
   ]
  },
  {
   "cell_type": "code",
   "execution_count": 40,
   "metadata": {
    "id": "0tAj-e0khFOI"
   },
   "outputs": [],
   "source": [
    "#Model Evaluation (Lets compare all the models we have built based on precision-recall characteristics:)\n",
    "\n",
    "# create initial callable variables\n",
    "\n",
    "models_w_rating = [pop_Base, cos_Base, pear_Base]\n",
    "models_w_dummy = [pop_dummy, cos_dummy, pear_dummy]\n",
    "models_w_norm = [pop_norm, cos_norm, pear_norm]\n",
    "\n",
    "names_w_rating = ['Popularity Model on rating', 'Cosine Similarity on rating', 'Pearson Similarity on Rating']\n",
    "names_w_dummy = ['Popularity Model on Rating Dummy', 'Cosine Similarity on Rating Dummy', 'Pearson Similarity on Rating Dummy']\n",
    "names_w_norm = ['Popularity Model on Scaled Rating', 'Cosine Similarity on Scaled Rating', 'Pearson Similarity on Scaled Rating']"
   ]
  },
  {
   "cell_type": "code",
   "execution_count": 41,
   "metadata": {
    "colab": {
     "base_uri": "https://localhost:8080/"
    },
    "id": "3czTAllXiM-8",
    "outputId": "946bcbaf-9fd9-41f5-a924-9895516310a3"
   },
   "outputs": [
    {
     "name": "stdout",
     "output_type": "stream",
     "text": [
      "PROGRESS: Evaluate model Popularity Model on rating\n",
      "\n",
      "Precision and recall summary statistics by cutoff\n",
      "+--------+-----------------------+------------------------+\n",
      "| cutoff |     mean_precision    |      mean_recall       |\n",
      "+--------+-----------------------+------------------------+\n",
      "|   1    |          0.0          |          0.0           |\n",
      "|   2    |          0.0          |          0.0           |\n",
      "|   3    |  0.000707714083510262 | 3.009780289364603e-05  |\n",
      "|   4    | 0.0007961783439490447 | 5.958588970657359e-05  |\n",
      "|   5    | 0.0006369426751592356 | 5.958588970657359e-05  |\n",
      "|   6    | 0.0005307855626326964 | 5.958588970657359e-05  |\n",
      "|   7    | 0.0004549590536851686 | 5.958588970657359e-05  |\n",
      "|   8    | 0.0005307855626326964 | 0.00013541239865410163 |\n",
      "|   9    | 0.0008256664307619721 | 0.00018315572537690305 |\n",
      "|   10   |  0.001061571125265393 |  0.000286265265295025  |\n",
      "+--------+-----------------------+------------------------+\n",
      "[10 rows x 3 columns]\n",
      "\n",
      "\n",
      "Overall RMSE: 1.0251070457455203\n",
      "\n",
      "Per User RMSE (best)\n",
      "+---------+---------------------+-------+\n",
      "| user_id |         rmse        | count |\n",
      "+---------+---------------------+-------+\n",
      "|   208   | 0.02894928211284282 |   2   |\n",
      "+---------+---------------------+-------+\n",
      "[1 rows x 3 columns]\n",
      "\n",
      "\n",
      "Per User RMSE (worst)\n",
      "+---------+-------------------+-------+\n",
      "| user_id |        rmse       | count |\n",
      "+---------+-------------------+-------+\n",
      "|   166   | 2.685185185185185 |   1   |\n",
      "+---------+-------------------+-------+\n",
      "[1 rows x 3 columns]\n",
      "\n",
      "\n",
      "Per Item RMSE (best)\n",
      "+---------+------+-------+\n",
      "| item_id | rmse | count |\n",
      "+---------+------+-------+\n",
      "|   643   | 0.0  |   1   |\n",
      "+---------+------+-------+\n",
      "[1 rows x 3 columns]\n",
      "\n",
      "\n",
      "Per Item RMSE (worst)\n",
      "+---------+------+-------+\n",
      "| item_id | rmse | count |\n",
      "+---------+------+-------+\n",
      "|   1617  | 4.0  |   1   |\n",
      "+---------+------+-------+\n",
      "[1 rows x 3 columns]\n",
      "\n",
      "PROGRESS: Evaluate model Cosine Similarity on rating\n",
      "\n",
      "Precision and recall summary statistics by cutoff\n",
      "+--------+---------------------+----------------------+\n",
      "| cutoff |    mean_precision   |     mean_recall      |\n",
      "+--------+---------------------+----------------------+\n",
      "|   1    |  0.4596602972399151 | 0.03327656334961211  |\n",
      "|   2    |  0.4177282377919319 | 0.057968828282867944 |\n",
      "|   3    |  0.3888888888888889 | 0.07833266610039023  |\n",
      "|   4    |  0.3646496815286624 | 0.09915819228691514  |\n",
      "|   5    |  0.3460721868365182 | 0.11803428912902304  |\n",
      "|   6    | 0.33492569002123146 | 0.13486722394854236  |\n",
      "|   7    | 0.32453745829542013 |  0.150623795122415   |\n",
      "|   8    | 0.30958067940552014 | 0.16267365256859304  |\n",
      "|   9    |  0.2985373908940789 | 0.17659605676612375  |\n",
      "|   10   | 0.28673036093418236 | 0.18510571726636516  |\n",
      "+--------+---------------------+----------------------+\n",
      "[10 rows x 3 columns]\n",
      "\n",
      "\n",
      "Overall RMSE: 3.4578402699330666\n",
      "\n",
      "Per User RMSE (best)\n",
      "+---------+---------------------+-------+\n",
      "| user_id |         rmse        | count |\n",
      "+---------+---------------------+-------+\n",
      "|   166   | 0.07643778073160268 |   1   |\n",
      "+---------+---------------------+-------+\n",
      "[1 rows x 3 columns]\n",
      "\n",
      "\n",
      "Per User RMSE (worst)\n",
      "+---------+------------------+-------+\n",
      "| user_id |       rmse       | count |\n",
      "+---------+------------------+-------+\n",
      "|   242   | 4.93924528486516 |   2   |\n",
      "+---------+------------------+-------+\n",
      "[1 rows x 3 columns]\n",
      "\n",
      "\n",
      "Per Item RMSE (best)\n",
      "+---------+--------------------+-------+\n",
      "| item_id |        rmse        | count |\n",
      "+---------+--------------------+-------+\n",
      "|   1392  | 0.9306210845708847 |   1   |\n",
      "+---------+--------------------+-------+\n",
      "[1 rows x 3 columns]\n",
      "\n",
      "\n",
      "Per Item RMSE (worst)\n",
      "+---------+------+-------+\n",
      "| item_id | rmse | count |\n",
      "+---------+------+-------+\n",
      "|   1599  | 5.0  |   1   |\n",
      "+---------+------+-------+\n",
      "[1 rows x 3 columns]\n",
      "\n",
      "PROGRESS: Evaluate model Pearson Similarity on Rating\n",
      "\n",
      "Precision and recall summary statistics by cutoff\n",
      "+--------+-----------------------+------------------------+\n",
      "| cutoff |     mean_precision    |      mean_recall       |\n",
      "+--------+-----------------------+------------------------+\n",
      "|   1    |  0.001061571125265393 | 1.9301293186643505e-05 |\n",
      "|   2    |  0.001061571125265393 | 3.150326014371698e-05  |\n",
      "|   3    | 0.0010615711252653925 | 3.9484997927667296e-05 |\n",
      "|   4    | 0.0013269639065817411 | 0.00012672625015761909 |\n",
      "|   5    | 0.0010615711252653921 | 0.00012672625015761895 |\n",
      "|   6    | 0.0010615711252653921 | 0.00015085286664092332 |\n",
      "|   7    | 0.0009099181073703363 | 0.00015085286664092332 |\n",
      "|   8    | 0.0007961783439490445 | 0.00015085286664092332 |\n",
      "|   9    | 0.0008256664307619721 | 0.0001588346044248737  |\n",
      "|   10   | 0.0008492569002123144 | 0.00018832269123780134 |\n",
      "+--------+-----------------------+------------------------+\n",
      "[10 rows x 3 columns]\n",
      "\n",
      "\n",
      "Overall RMSE: 1.0245181338054503\n",
      "\n",
      "Per User RMSE (best)\n",
      "+---------+----------------------+-------+\n",
      "| user_id |         rmse         | count |\n",
      "+---------+----------------------+-------+\n",
      "|   208   | 0.014970325983336414 |   2   |\n",
      "+---------+----------------------+-------+\n",
      "[1 rows x 3 columns]\n",
      "\n",
      "\n",
      "Per User RMSE (worst)\n",
      "+---------+--------------------+-------+\n",
      "| user_id |        rmse        | count |\n",
      "+---------+--------------------+-------+\n",
      "|   166   | 2.6967532515061072 |   1   |\n",
      "+---------+--------------------+-------+\n",
      "[1 rows x 3 columns]\n",
      "\n",
      "\n",
      "Per Item RMSE (best)\n",
      "+---------+------+-------+\n",
      "| item_id | rmse | count |\n",
      "+---------+------+-------+\n",
      "|   1538  | 0.0  |   1   |\n",
      "+---------+------+-------+\n",
      "[1 rows x 3 columns]\n",
      "\n",
      "\n",
      "Per Item RMSE (worst)\n",
      "+---------+------+-------+\n",
      "| item_id | rmse | count |\n",
      "+---------+------+-------+\n",
      "|   1599  | 5.0  |   1   |\n",
      "+---------+------+-------+\n",
      "[1 rows x 3 columns]\n",
      "\n"
     ]
    }
   ],
   "source": [
    "#Models on rating\n",
    "eval_Base = tc.recommender.util.compare_models(test_data_split, models_w_rating, model_names=names_w_rating)"
   ]
  },
  {
   "cell_type": "code",
   "execution_count": 41,
   "metadata": {
    "id": "OLo3BAcktc88"
   },
   "outputs": [],
   "source": []
  },
  {
   "cell_type": "code",
   "execution_count": 42,
   "metadata": {
    "colab": {
     "base_uri": "https://localhost:8080/"
    },
    "id": "lN8E9XBnjFCm",
    "outputId": "74d33be8-c093-4672-8f53-814cc8100606"
   },
   "outputs": [
    {
     "name": "stdout",
     "output_type": "stream",
     "text": [
      "PROGRESS: Evaluate model Popularity Model on Rating Dummy\n",
      "\n",
      "Precision and recall summary statistics by cutoff\n",
      "+--------+-----------------------+------------------------+\n",
      "| cutoff |     mean_precision    |      mean_recall       |\n",
      "+--------+-----------------------+------------------------+\n",
      "|   1    |  0.001061571125265393 | 1.3105816361301153e-05 |\n",
      "|   2    | 0.0021231422505307855 | 8.408198374688098e-05  |\n",
      "|   3    | 0.0031847133757961802 | 0.00018525516224172814 |\n",
      "|   4    | 0.0023885350318471337 | 0.00018525516224172814 |\n",
      "|   5    | 0.0023354564755838645 | 0.00021593258145417914 |\n",
      "|   6    | 0.0021231422505307847 | 0.0002348892086910612  |\n",
      "|   7    | 0.0031847133757961763 | 0.00044677928047211375 |\n",
      "|   8    |  0.003184713375796179 | 0.0005871784996665172  |\n",
      "|   9    | 0.0030667610285444688 | 0.0006185028409696273  |\n",
      "|   10   |  0.002866242038216561 | 0.0008308170660227057  |\n",
      "+--------+-----------------------+------------------------+\n",
      "[10 rows x 3 columns]\n",
      "\n",
      "\n",
      "Overall RMSE: 0.0\n",
      "\n",
      "Per User RMSE (best)\n",
      "+---------+------+-------+\n",
      "| user_id | rmse | count |\n",
      "+---------+------+-------+\n",
      "|   918   | 0.0  |   24  |\n",
      "+---------+------+-------+\n",
      "[1 rows x 3 columns]\n",
      "\n",
      "\n",
      "Per User RMSE (worst)\n",
      "+---------+------+-------+\n",
      "| user_id | rmse | count |\n",
      "+---------+------+-------+\n",
      "|   118   | 0.0  |   13  |\n",
      "+---------+------+-------+\n",
      "[1 rows x 3 columns]\n",
      "\n",
      "\n",
      "Per Item RMSE (best)\n",
      "+---------+------+-------+\n",
      "| item_id | rmse | count |\n",
      "+---------+------+-------+\n",
      "|   918   | 0.0  |   2   |\n",
      "+---------+------+-------+\n",
      "[1 rows x 3 columns]\n",
      "\n",
      "\n",
      "Per Item RMSE (worst)\n",
      "+---------+------+-------+\n",
      "| item_id | rmse | count |\n",
      "+---------+------+-------+\n",
      "|   118   | 0.0  |   45  |\n",
      "+---------+------+-------+\n",
      "[1 rows x 3 columns]\n",
      "\n",
      "PROGRESS: Evaluate model Cosine Similarity on Rating Dummy\n",
      "\n",
      "Precision and recall summary statistics by cutoff\n",
      "+--------+---------------------+----------------------+\n",
      "| cutoff |    mean_precision   |     mean_recall      |\n",
      "+--------+---------------------+----------------------+\n",
      "|   1    | 0.45010615711252644 | 0.031944808888070934 |\n",
      "|   2    |  0.416135881104034  |  0.0589560477403676  |\n",
      "|   3    | 0.38110403397027576 | 0.08045101823545801  |\n",
      "|   4    |  0.3497876857749469 | 0.09555896963476347  |\n",
      "|   5    |  0.3314225053078556 | 0.11279729341655548  |\n",
      "|   6    | 0.32024062278839355 | 0.13008094860183606  |\n",
      "|   7    |  0.3046709129511676 | 0.14460404509661948  |\n",
      "|   8    |  0.2944532908704883 | 0.16114159531675384  |\n",
      "|   9    |  0.2834394904458602 | 0.17193113952954628  |\n",
      "|   10   | 0.27494692144373656 | 0.18295742338162568  |\n",
      "+--------+---------------------+----------------------+\n",
      "[10 rows x 3 columns]\n",
      "\n",
      "\n",
      "Overall RMSE: 0.930300717654318\n",
      "\n",
      "Per User RMSE (best)\n",
      "+---------+--------------------+-------+\n",
      "| user_id |        rmse        | count |\n",
      "+---------+--------------------+-------+\n",
      "|   549   | 0.6089391234312542 |   2   |\n",
      "+---------+--------------------+-------+\n",
      "[1 rows x 3 columns]\n",
      "\n",
      "\n",
      "Per User RMSE (worst)\n",
      "+---------+--------------------+-------+\n",
      "| user_id |        rmse        | count |\n",
      "+---------+--------------------+-------+\n",
      "|   675   | 0.9927983135878976 |   2   |\n",
      "+---------+--------------------+-------+\n",
      "[1 rows x 3 columns]\n",
      "\n",
      "\n",
      "Per Item RMSE (best)\n",
      "+---------+--------------------+-------+\n",
      "| item_id |        rmse        | count |\n",
      "+---------+--------------------+-------+\n",
      "|   174   | 0.6979615650044788 |   71  |\n",
      "+---------+--------------------+-------+\n",
      "[1 rows x 3 columns]\n",
      "\n",
      "\n",
      "Per Item RMSE (worst)\n",
      "+---------+------+-------+\n",
      "| item_id | rmse | count |\n",
      "+---------+------+-------+\n",
      "|   1420  | 1.0  |   3   |\n",
      "+---------+------+-------+\n",
      "[1 rows x 3 columns]\n",
      "\n",
      "PROGRESS: Evaluate model Pearson Similarity on Rating Dummy\n",
      "\n",
      "Precision and recall summary statistics by cutoff\n",
      "+--------+-----------------------+------------------------+\n",
      "| cutoff |     mean_precision    |      mean_recall       |\n",
      "+--------+-----------------------+------------------------+\n",
      "|   1    |  0.001061571125265393 | 1.3105816361301154e-05 |\n",
      "|   2    |  0.002123142250530785 | 8.408198374688095e-05  |\n",
      "|   3    |  0.003184713375796179 | 0.00018525516224172808 |\n",
      "|   4    | 0.0023885350318471337 | 0.00018525516224172808 |\n",
      "|   5    |  0.002335456475583864 | 0.0002159325814541792  |\n",
      "|   6    |  0.002123142250530785 | 0.00023488920869106116 |\n",
      "|   7    |  0.003184713375796177 | 0.0004467792804721136  |\n",
      "|   8    | 0.0031847133757961794 | 0.0005871784996665171  |\n",
      "|   9    | 0.0030667610285444683 | 0.0006185028409696271  |\n",
      "|   10   |  0.002866242038216561 | 0.0008308170660227057  |\n",
      "+--------+-----------------------+------------------------+\n",
      "[10 rows x 3 columns]\n",
      "\n",
      "\n",
      "Overall RMSE: 1.0\n",
      "\n",
      "Per User RMSE (best)\n",
      "+---------+------+-------+\n",
      "| user_id | rmse | count |\n",
      "+---------+------+-------+\n",
      "|   918   | 1.0  |   24  |\n",
      "+---------+------+-------+\n",
      "[1 rows x 3 columns]\n",
      "\n",
      "\n",
      "Per User RMSE (worst)\n",
      "+---------+------+-------+\n",
      "| user_id | rmse | count |\n",
      "+---------+------+-------+\n",
      "|   118   | 1.0  |   13  |\n",
      "+---------+------+-------+\n",
      "[1 rows x 3 columns]\n",
      "\n",
      "\n",
      "Per Item RMSE (best)\n",
      "+---------+------+-------+\n",
      "| item_id | rmse | count |\n",
      "+---------+------+-------+\n",
      "|   918   | 1.0  |   2   |\n",
      "+---------+------+-------+\n",
      "[1 rows x 3 columns]\n",
      "\n",
      "\n",
      "Per Item RMSE (worst)\n",
      "+---------+------+-------+\n",
      "| item_id | rmse | count |\n",
      "+---------+------+-------+\n",
      "|   118   | 1.0  |   45  |\n",
      "+---------+------+-------+\n",
      "[1 rows x 3 columns]\n",
      "\n"
     ]
    }
   ],
   "source": [
    "#Models on rating dummy\n",
    "eval_dummy = tc.recommender.util.compare_models(test_data_dummy, models_w_dummy, model_names=names_w_dummy)"
   ]
  },
  {
   "cell_type": "code",
   "execution_count": 43,
   "metadata": {
    "colab": {
     "base_uri": "https://localhost:8080/"
    },
    "id": "VSg4W038jZxe",
    "outputId": "2c949633-1d03-458a-8a85-587f2043af16"
   },
   "outputs": [
    {
     "name": "stdout",
     "output_type": "stream",
     "text": [
      "PROGRESS: Evaluate model Popularity Model on Scaled Rating\n",
      "\n",
      "Precision and recall summary statistics by cutoff\n",
      "+--------+-----------------------+-----------------------+\n",
      "| cutoff |     mean_precision    |      mean_recall      |\n",
      "+--------+-----------------------+-----------------------+\n",
      "|   1    | 0.0031779661016949168 | 0.0005699014968082766 |\n",
      "|   2    | 0.0026483050847457626 | 0.0006016849642285095 |\n",
      "|   3    |  0.001765536723163841 | 0.0006016849642285095 |\n",
      "|   4    |  0.002118644067796611 | 0.0007272597190405525 |\n",
      "|   5    |  0.002118644067796611 | 0.0007434335169940117 |\n",
      "|   6    |  0.001765536723163842 | 0.0007434335169940117 |\n",
      "|   7    | 0.0015133171912832923 | 0.0007434335169940117 |\n",
      "|   8    | 0.0013241525423728813 | 0.0007434335169940117 |\n",
      "|   9    | 0.0014124293785310739 | 0.0007652161129291499 |\n",
      "|   10   | 0.0016949152542372883 | 0.0010202307308398001 |\n",
      "+--------+-----------------------+-----------------------+\n",
      "[10 rows x 3 columns]\n",
      "\n",
      "\n",
      "Overall RMSE: 0.2662005131781638\n",
      "\n",
      "Per User RMSE (best)\n",
      "+---------+-----------------------+-------+\n",
      "| user_id |          rmse         | count |\n",
      "+---------+-----------------------+-------+\n",
      "|   571   | 0.0006249999999999867 |   1   |\n",
      "+---------+-----------------------+-------+\n",
      "[1 rows x 3 columns]\n",
      "\n",
      "\n",
      "Per User RMSE (worst)\n",
      "+---------+--------------------+-------+\n",
      "| user_id |        rmse        | count |\n",
      "+---------+--------------------+-------+\n",
      "|   762   | 0.7342739407697662 |   2   |\n",
      "+---------+--------------------+-------+\n",
      "[1 rows x 3 columns]\n",
      "\n",
      "\n",
      "Per Item RMSE (best)\n",
      "+---------+------+-------+\n",
      "| item_id | rmse | count |\n",
      "+---------+------+-------+\n",
      "|   1537  | 0.0  |   1   |\n",
      "+---------+------+-------+\n",
      "[1 rows x 3 columns]\n",
      "\n",
      "\n",
      "Per Item RMSE (worst)\n",
      "+---------+------+-------+\n",
      "| item_id | rmse | count |\n",
      "+---------+------+-------+\n",
      "|   1504  | 1.0  |   2   |\n",
      "+---------+------+-------+\n",
      "[1 rows x 3 columns]\n",
      "\n",
      "PROGRESS: Evaluate model Cosine Similarity on Scaled Rating\n",
      "\n",
      "Precision and recall summary statistics by cutoff\n",
      "+--------+---------------------+---------------------+\n",
      "| cutoff |    mean_precision   |     mean_recall     |\n",
      "+--------+---------------------+---------------------+\n",
      "|   1    |  0.4904661016949153 | 0.03691365552510986 |\n",
      "|   2    |  0.438029661016949  | 0.06376160923599954 |\n",
      "|   3    | 0.39724576271186435 | 0.08342201454416522 |\n",
      "|   4    | 0.37923728813559315 | 0.10378354128862238 |\n",
      "|   5    | 0.36652542372881336 | 0.12384943373296922 |\n",
      "|   6    | 0.34657485875706245 | 0.13799001742541034 |\n",
      "|   7    |  0.3342917675544795 | 0.15362832414114172 |\n",
      "|   8    |  0.316207627118644  |  0.1628469677360075 |\n",
      "|   9    |  0.3041431261770246 | 0.17426379823757068 |\n",
      "|   10   | 0.29290254237288127 | 0.18550499424062078 |\n",
      "+--------+---------------------+---------------------+\n",
      "[10 rows x 3 columns]\n",
      "\n",
      "\n",
      "Overall RMSE: 0.6502654704474603\n",
      "\n",
      "Per User RMSE (best)\n",
      "+---------+------+-------+\n",
      "| user_id | rmse | count |\n",
      "+---------+------+-------+\n",
      "|    0    | 0.0  |   1   |\n",
      "+---------+------+-------+\n",
      "[1 rows x 3 columns]\n",
      "\n",
      "\n",
      "Per User RMSE (worst)\n",
      "+---------+------+-------+\n",
      "| user_id | rmse | count |\n",
      "+---------+------+-------+\n",
      "|   260   | 1.0  |   1   |\n",
      "+---------+------+-------+\n",
      "[1 rows x 3 columns]\n",
      "\n",
      "\n",
      "Per Item RMSE (best)\n",
      "+---------+------+-------+\n",
      "| item_id | rmse | count |\n",
      "+---------+------+-------+\n",
      "|   590   | 0.0  |   1   |\n",
      "+---------+------+-------+\n",
      "[1 rows x 3 columns]\n",
      "\n",
      "\n",
      "Per Item RMSE (worst)\n",
      "+---------+------+-------+\n",
      "| item_id | rmse | count |\n",
      "+---------+------+-------+\n",
      "|   1504  | 1.0  |   2   |\n",
      "+---------+------+-------+\n",
      "[1 rows x 3 columns]\n",
      "\n",
      "PROGRESS: Evaluate model Pearson Similarity on Scaled Rating\n",
      "\n",
      "Precision and recall summary statistics by cutoff\n",
      "+--------+-----------------------+------------------------+\n",
      "| cutoff |     mean_precision    |      mean_recall       |\n",
      "+--------+-----------------------+------------------------+\n",
      "|   1    | 0.0010593220338983053 | 1.3757429011666289e-05 |\n",
      "|   2    | 0.0010593220338983053 | 2.190606004165327e-05  |\n",
      "|   3    | 0.0010593220338983049 | 0.0005515670769908059  |\n",
      "|   4    | 0.0013241525423728817 | 0.0005994961845153208  |\n",
      "|   5    | 0.0014830508474576267 | 0.0006362823533943416  |\n",
      "|   6    | 0.0017655367231638427 | 0.0006705516469591465  |\n",
      "|   7    | 0.0018159806295399508 | 0.0007078495656129974  |\n",
      "|   8    | 0.0015889830508474584 | 0.0007078495656129974  |\n",
      "|   9    | 0.0015301318267419957 | 0.0007158747325364692  |\n",
      "|   10   | 0.0013771186440677966 | 0.0007158747325364692  |\n",
      "+--------+-----------------------+------------------------+\n",
      "[10 rows x 3 columns]\n",
      "\n",
      "\n",
      "Overall RMSE: 0.2656294151763392\n",
      "\n",
      "Per User RMSE (best)\n",
      "+---------+----------------------+-------+\n",
      "| user_id |         rmse         | count |\n",
      "+---------+----------------------+-------+\n",
      "|   571   | 0.006140748325147327 |   1   |\n",
      "+---------+----------------------+-------+\n",
      "[1 rows x 3 columns]\n",
      "\n",
      "\n",
      "Per User RMSE (worst)\n",
      "+---------+-------------------+-------+\n",
      "| user_id |        rmse       | count |\n",
      "+---------+-------------------+-------+\n",
      "|   762   | 0.734273940769766 |   2   |\n",
      "+---------+-------------------+-------+\n",
      "[1 rows x 3 columns]\n",
      "\n",
      "\n",
      "Per Item RMSE (best)\n",
      "+---------+------+-------+\n",
      "| item_id | rmse | count |\n",
      "+---------+------+-------+\n",
      "|   1351  | 0.0  |   1   |\n",
      "+---------+------+-------+\n",
      "[1 rows x 3 columns]\n",
      "\n",
      "\n",
      "Per Item RMSE (worst)\n",
      "+---------+------+-------+\n",
      "| item_id | rmse | count |\n",
      "+---------+------+-------+\n",
      "|   1504  | 1.0  |   2   |\n",
      "+---------+------+-------+\n",
      "[1 rows x 3 columns]\n",
      "\n"
     ]
    }
   ],
   "source": [
    "#Models on normalized rating\n",
    "eval_norm = tc.recommender.util.compare_models(test_data_norm, models_w_norm, model_names=names_w_norm)"
   ]
  },
  {
   "cell_type": "code",
   "execution_count": 45,
   "metadata": {
    "colab": {
     "base_uri": "https://localhost:8080/"
    },
    "id": "R8kSgTpSbJik",
    "outputId": "23e0a723-3e4d-43ef-dfbb-53e543296e59"
   },
   "outputs": [
    {
     "name": "stdout",
     "output_type": "stream",
     "text": [
      "PROGRESS: Evaluate model Popularity Model on Scaled Rating\n",
      "\n",
      "Precision and recall summary statistics by cutoff\n",
      "+--------+-----------------------+------------------------+\n",
      "| cutoff |     mean_precision    |      mean_recall       |\n",
      "+--------+-----------------------+------------------------+\n",
      "|   1    |  0.006355932203389832 | 0.00024198327543015476 |\n",
      "|   2    |  0.004237288135593222 | 0.00028237795027944855 |\n",
      "|   3    |  0.003531073446327684 | 0.0003042840103211019  |\n",
      "|   4    |  0.003442796610169491 | 0.00047752178949108444 |\n",
      "|   5    |  0.002966101694915255 | 0.00048554695641455585 |\n",
      "|   6    | 0.0026483050847457626 | 0.0005197186349274052  |\n",
      "|   7    | 0.0022699757869249384 |  0.000519718634927405  |\n",
      "|   8    |  0.002118644067796611 | 0.0005334760639390711  |\n",
      "|   9    | 0.0020009416195856857 | 0.0005415012308625431  |\n",
      "|   10   | 0.0019067796610169497 | 0.0005502559584154217  |\n",
      "+--------+-----------------------+------------------------+\n",
      "[10 rows x 3 columns]\n",
      "\n",
      "\n",
      "Overall RMSE: 0.2662005131781638\n",
      "\n",
      "Per User RMSE (best)\n",
      "+---------+-----------------------+-------+\n",
      "| user_id |          rmse         | count |\n",
      "+---------+-----------------------+-------+\n",
      "|   571   | 0.0006249999999999867 |   1   |\n",
      "+---------+-----------------------+-------+\n",
      "[1 rows x 3 columns]\n",
      "\n",
      "\n",
      "Per User RMSE (worst)\n",
      "+---------+--------------------+-------+\n",
      "| user_id |        rmse        | count |\n",
      "+---------+--------------------+-------+\n",
      "|   762   | 0.7342739407697662 |   2   |\n",
      "+---------+--------------------+-------+\n",
      "[1 rows x 3 columns]\n",
      "\n",
      "\n",
      "Per Item RMSE (best)\n",
      "+---------+------+-------+\n",
      "| item_id | rmse | count |\n",
      "+---------+------+-------+\n",
      "|   1537  | 0.0  |   1   |\n",
      "+---------+------+-------+\n",
      "[1 rows x 3 columns]\n",
      "\n",
      "\n",
      "Per Item RMSE (worst)\n",
      "+---------+------+-------+\n",
      "| item_id | rmse | count |\n",
      "+---------+------+-------+\n",
      "|   1504  | 1.0  |   2   |\n",
      "+---------+------+-------+\n",
      "[1 rows x 3 columns]\n",
      "\n",
      "PROGRESS: Evaluate model Cosine Similarity on Scaled Rating\n",
      "\n",
      "Precision and recall summary statistics by cutoff\n",
      "+--------+---------------------+---------------------+\n",
      "| cutoff |    mean_precision   |     mean_recall     |\n",
      "+--------+---------------------+---------------------+\n",
      "|   1    |  0.4904661016949153 |  0.0369136555251099 |\n",
      "|   2    |  0.4380296610169492 | 0.06376160923599954 |\n",
      "|   3    | 0.39724576271186435 | 0.08342201454416523 |\n",
      "|   4    |  0.3792372881355932 | 0.10378354128862242 |\n",
      "|   5    | 0.36652542372881364 | 0.12384943373296928 |\n",
      "|   6    |  0.3465748587570623 | 0.13799001742541037 |\n",
      "|   7    | 0.33429176755447937 |  0.1536283241411416 |\n",
      "|   8    | 0.31620762711864414 | 0.16284696773600751 |\n",
      "|   9    | 0.30414312617702427 |  0.1742637982375707 |\n",
      "|   10   | 0.29290254237288144 | 0.18550499424062086 |\n",
      "+--------+---------------------+---------------------+\n",
      "[10 rows x 3 columns]\n",
      "\n",
      "\n",
      "Overall RMSE: 0.6502654704474603\n",
      "\n",
      "Per User RMSE (best)\n",
      "+---------+------+-------+\n",
      "| user_id | rmse | count |\n",
      "+---------+------+-------+\n",
      "|    0    | 0.0  |   1   |\n",
      "+---------+------+-------+\n",
      "[1 rows x 3 columns]\n",
      "\n",
      "\n",
      "Per User RMSE (worst)\n",
      "+---------+------+-------+\n",
      "| user_id | rmse | count |\n",
      "+---------+------+-------+\n",
      "|   260   | 1.0  |   1   |\n",
      "+---------+------+-------+\n",
      "[1 rows x 3 columns]\n",
      "\n",
      "\n",
      "Per Item RMSE (best)\n",
      "+---------+------+-------+\n",
      "| item_id | rmse | count |\n",
      "+---------+------+-------+\n",
      "|   590   | 0.0  |   1   |\n",
      "+---------+------+-------+\n",
      "[1 rows x 3 columns]\n",
      "\n",
      "\n",
      "Per Item RMSE (worst)\n",
      "+---------+------+-------+\n",
      "| item_id | rmse | count |\n",
      "+---------+------+-------+\n",
      "|   1504  | 1.0  |   2   |\n",
      "+---------+------+-------+\n",
      "[1 rows x 3 columns]\n",
      "\n",
      "PROGRESS: Evaluate model Pearson Similarity on Scaled Rating\n",
      "\n",
      "Precision and recall summary statistics by cutoff\n",
      "+--------+-----------------------+------------------------+\n",
      "| cutoff |     mean_precision    |      mean_recall       |\n",
      "+--------+-----------------------+------------------------+\n",
      "|   1    | 0.0010593220338983053 | 3.417167851284855e-05  |\n",
      "|   2    |  0.002118644067796611 | 0.00010609926772411309 |\n",
      "|   3    | 0.0014124293785310732 | 0.0001060992677241131  |\n",
      "|   4    | 0.0013241525423728817 | 0.00011985669673577927 |\n",
      "|   5    | 0.0014830508474576267 | 0.0002792135827875808  |\n",
      "|   6    |  0.001942090395480225 | 0.0003370233659945702  |\n",
      "|   7    | 0.0018159806295399508 |  0.000866684382943723  |\n",
      "|   8    | 0.0015889830508474584 | 0.0008666843829437231  |\n",
      "|   9    | 0.0014124293785310737 | 0.0008666843829437225  |\n",
      "|   10   |  0.001483050847457627 |  0.000968718648113581  |\n",
      "+--------+-----------------------+------------------------+\n",
      "[10 rows x 3 columns]\n",
      "\n",
      "\n",
      "Overall RMSE: 0.2656294151763392\n",
      "\n",
      "Per User RMSE (best)\n",
      "+---------+----------------------+-------+\n",
      "| user_id |         rmse         | count |\n",
      "+---------+----------------------+-------+\n",
      "|   571   | 0.006140748325147327 |   1   |\n",
      "+---------+----------------------+-------+\n",
      "[1 rows x 3 columns]\n",
      "\n",
      "\n",
      "Per User RMSE (worst)\n",
      "+---------+-------------------+-------+\n",
      "| user_id |        rmse       | count |\n",
      "+---------+-------------------+-------+\n",
      "|   762   | 0.734273940769766 |   2   |\n",
      "+---------+-------------------+-------+\n",
      "[1 rows x 3 columns]\n",
      "\n",
      "\n",
      "Per Item RMSE (best)\n",
      "+---------+------+-------+\n",
      "| item_id | rmse | count |\n",
      "+---------+------+-------+\n",
      "|   1351  | 0.0  |   1   |\n",
      "+---------+------+-------+\n",
      "[1 rows x 3 columns]\n",
      "\n",
      "\n",
      "Per Item RMSE (worst)\n",
      "+---------+------+-------+\n",
      "| item_id | rmse | count |\n",
      "+---------+------+-------+\n",
      "|   1504  | 1.0  |   2   |\n",
      "+---------+------+-------+\n",
      "[1 rows x 3 columns]\n",
      "\n"
     ]
    }
   ],
   "source": [
    "eval_norm = tc.recommender.util.compare_models(test_data_norm, models_w_norm, model_names=names_w_norm)"
   ]
  },
  {
   "cell_type": "code",
   "execution_count": null,
   "metadata": {
    "id": "1vV3KhoRr2zp"
   },
   "outputs": [],
   "source": [
    "Evaluate model Popularity Model on rating Overall RMSE: 1.0252411930314294 ( rejected ) \n",
    "Evaluate model Cosine Similarity on rating Overall RMSE: 3.4554905216883856\n",
    "Evaluate model Pearson Similarity on Rating Overall RMSE: 1.0255541305945077\n",
    "\n",
    "Evaluate model Popularity Model on Rating Dummy Overall RMSE: 0.0 (rejected) \n",
    "Evaluate model Cosine Similarity on Rating Dummy Overall RMSE: 0.9324522227755502\n",
    "Evaluate model Pearson Similarity on Rating Dummy Overall RMSE: 1.0\n",
    "\n",
    "Evaluate model Popularity Model on Scaled Rating Overall RMSE: 0.27065116158285246 ( rejected) \n",
    "Evaluate model Cosine Similarity on Scaled Rating Overall RMSE: 0.6495288765989969\n",
    "Evaluate model Pearson Similarity on Scaled Rating Overall RMSE: 0.2701485254780529\n",
    "\n",
    "Evaluate model Cosine Similarity on rating Overall RMSE: 3.4554905216883856 ( reject )\n",
    "Evaluate model Cosine Similarity on Rating Dummy Overall RMSE: 0.9324522227755502\n",
    "Evaluate model Cosine Similarity on Scaled Rating Overall RMSE: 0.6495288765989969\n",
    "\n",
    "Evaluate model Pearson Similarity on Rating Overall RMSE: 1.0255541305945077 ( score - 5.0)\n",
    "Evaluate model Pearson Similarity on Rating Dummy Overall RMSE: 1.0 ( Score - 0) \n",
    "Evaluate model Pearson Similarity on Scaled Rating Overall RMSE: 0.2701485254780529 ( Score - 1.0"
   ]
  },
  {
   "cell_type": "code",
   "execution_count": null,
   "metadata": {
    "id": "Z4TWp7vhoYs3"
   },
   "outputs": [],
   "source": [
    "#Final Output"
   ]
  },
  {
   "cell_type": "code",
   "execution_count": 56,
   "metadata": {
    "colab": {
     "base_uri": "https://localhost:8080/",
     "height": 1000
    },
    "id": "2LSn4r6bhMod",
    "outputId": "e13cf6a4-a64f-47f6-ff50-d8dc8639dfb2"
   },
   "outputs": [
    {
     "data": {
      "text/html": [
       "<pre>Warning: Ignoring columns rating, timestamp, title, Rating_mean, num of ratings;</pre>"
      ],
      "text/plain": [
       "Warning: Ignoring columns rating, timestamp, title, Rating_mean, num of ratings;"
      ]
     },
     "metadata": {
      "tags": []
     },
     "output_type": "display_data"
    },
    {
     "data": {
      "text/html": [
       "<pre>    To use these columns in scoring predictions, use a model that allows the use of additional features.</pre>"
      ],
      "text/plain": [
       "    To use these columns in scoring predictions, use a model that allows the use of additional features."
      ]
     },
     "metadata": {
      "tags": []
     },
     "output_type": "display_data"
    },
    {
     "data": {
      "text/html": [
       "<pre>Preparing data set.</pre>"
      ],
      "text/plain": [
       "Preparing data set."
      ]
     },
     "metadata": {
      "tags": []
     },
     "output_type": "display_data"
    },
    {
     "data": {
      "text/html": [
       "<pre>    Data has 100003 observations with 944 users and 1682 items.</pre>"
      ],
      "text/plain": [
       "    Data has 100003 observations with 944 users and 1682 items."
      ]
     },
     "metadata": {
      "tags": []
     },
     "output_type": "display_data"
    },
    {
     "data": {
      "text/html": [
       "<pre>    Data prepared in: 0.101902s</pre>"
      ],
      "text/plain": [
       "    Data prepared in: 0.101902s"
      ]
     },
     "metadata": {
      "tags": []
     },
     "output_type": "display_data"
    },
    {
     "data": {
      "text/html": [
       "<pre>Training model from provided data.</pre>"
      ],
      "text/plain": [
       "Training model from provided data."
      ]
     },
     "metadata": {
      "tags": []
     },
     "output_type": "display_data"
    },
    {
     "data": {
      "text/html": [
       "<pre>Gathering per-item and per-user statistics.</pre>"
      ],
      "text/plain": [
       "Gathering per-item and per-user statistics."
      ]
     },
     "metadata": {
      "tags": []
     },
     "output_type": "display_data"
    },
    {
     "data": {
      "text/html": [
       "<pre>+--------------------------------+------------+</pre>"
      ],
      "text/plain": [
       "+--------------------------------+------------+"
      ]
     },
     "metadata": {
      "tags": []
     },
     "output_type": "display_data"
    },
    {
     "data": {
      "text/html": [
       "<pre>| Elapsed Time (Item Statistics) | % Complete |</pre>"
      ],
      "text/plain": [
       "| Elapsed Time (Item Statistics) | % Complete |"
      ]
     },
     "metadata": {
      "tags": []
     },
     "output_type": "display_data"
    },
    {
     "data": {
      "text/html": [
       "<pre>+--------------------------------+------------+</pre>"
      ],
      "text/plain": [
       "+--------------------------------+------------+"
      ]
     },
     "metadata": {
      "tags": []
     },
     "output_type": "display_data"
    },
    {
     "data": {
      "text/html": [
       "<pre>| 15.419ms                       | 100        |</pre>"
      ],
      "text/plain": [
       "| 15.419ms                       | 100        |"
      ]
     },
     "metadata": {
      "tags": []
     },
     "output_type": "display_data"
    },
    {
     "data": {
      "text/html": [
       "<pre>+--------------------------------+------------+</pre>"
      ],
      "text/plain": [
       "+--------------------------------+------------+"
      ]
     },
     "metadata": {
      "tags": []
     },
     "output_type": "display_data"
    },
    {
     "data": {
      "text/html": [
       "<pre>Setting up lookup tables.</pre>"
      ],
      "text/plain": [
       "Setting up lookup tables."
      ]
     },
     "metadata": {
      "tags": []
     },
     "output_type": "display_data"
    },
    {
     "data": {
      "text/html": [
       "<pre>Processing data in one pass using dense lookup tables.</pre>"
      ],
      "text/plain": [
       "Processing data in one pass using dense lookup tables."
      ]
     },
     "metadata": {
      "tags": []
     },
     "output_type": "display_data"
    },
    {
     "data": {
      "text/html": [
       "<pre>+-------------------------------------+------------------+-----------------+</pre>"
      ],
      "text/plain": [
       "+-------------------------------------+------------------+-----------------+"
      ]
     },
     "metadata": {
      "tags": []
     },
     "output_type": "display_data"
    },
    {
     "data": {
      "text/html": [
       "<pre>| Elapsed Time (Constructing Lookups) | Total % Complete | Items Processed |</pre>"
      ],
      "text/plain": [
       "| Elapsed Time (Constructing Lookups) | Total % Complete | Items Processed |"
      ]
     },
     "metadata": {
      "tags": []
     },
     "output_type": "display_data"
    },
    {
     "data": {
      "text/html": [
       "<pre>+-------------------------------------+------------------+-----------------+</pre>"
      ],
      "text/plain": [
       "+-------------------------------------+------------------+-----------------+"
      ]
     },
     "metadata": {
      "tags": []
     },
     "output_type": "display_data"
    },
    {
     "data": {
      "text/html": [
       "<pre>| 52.911ms                            | 0                | 0               |</pre>"
      ],
      "text/plain": [
       "| 52.911ms                            | 0                | 0               |"
      ]
     },
     "metadata": {
      "tags": []
     },
     "output_type": "display_data"
    },
    {
     "data": {
      "text/html": [
       "<pre>| 264.311ms                           | 100              | 1682            |</pre>"
      ],
      "text/plain": [
       "| 264.311ms                           | 100              | 1682            |"
      ]
     },
     "metadata": {
      "tags": []
     },
     "output_type": "display_data"
    },
    {
     "data": {
      "text/html": [
       "<pre>+-------------------------------------+------------------+-----------------+</pre>"
      ],
      "text/plain": [
       "+-------------------------------------+------------------+-----------------+"
      ]
     },
     "metadata": {
      "tags": []
     },
     "output_type": "display_data"
    },
    {
     "data": {
      "text/html": [
       "<pre>Finalizing lookup tables.</pre>"
      ],
      "text/plain": [
       "Finalizing lookup tables."
      ]
     },
     "metadata": {
      "tags": []
     },
     "output_type": "display_data"
    },
    {
     "data": {
      "text/html": [
       "<pre>Generating candidate set for working with new users.</pre>"
      ],
      "text/plain": [
       "Generating candidate set for working with new users."
      ]
     },
     "metadata": {
      "tags": []
     },
     "output_type": "display_data"
    },
    {
     "data": {
      "text/html": [
       "<pre>Finished training in 0.285479s</pre>"
      ],
      "text/plain": [
       "Finished training in 0.285479s"
      ]
     },
     "metadata": {
      "tags": []
     },
     "output_type": "display_data"
    },
    {
     "data": {
      "text/html": [
       "<pre>recommendations finished on 1000/100003 queries. users per second: 7820.08</pre>"
      ],
      "text/plain": [
       "recommendations finished on 1000/100003 queries. users per second: 7820.08"
      ]
     },
     "metadata": {
      "tags": []
     },
     "output_type": "display_data"
    },
    {
     "data": {
      "text/html": [
       "<pre>recommendations finished on 2000/100003 queries. users per second: 7865.22</pre>"
      ],
      "text/plain": [
       "recommendations finished on 2000/100003 queries. users per second: 7865.22"
      ]
     },
     "metadata": {
      "tags": []
     },
     "output_type": "display_data"
    },
    {
     "data": {
      "text/html": [
       "<pre>recommendations finished on 3000/100003 queries. users per second: 7875.24</pre>"
      ],
      "text/plain": [
       "recommendations finished on 3000/100003 queries. users per second: 7875.24"
      ]
     },
     "metadata": {
      "tags": []
     },
     "output_type": "display_data"
    },
    {
     "data": {
      "text/html": [
       "<pre>recommendations finished on 4000/100003 queries. users per second: 7817.39</pre>"
      ],
      "text/plain": [
       "recommendations finished on 4000/100003 queries. users per second: 7817.39"
      ]
     },
     "metadata": {
      "tags": []
     },
     "output_type": "display_data"
    },
    {
     "data": {
      "text/html": [
       "<pre>recommendations finished on 5000/100003 queries. users per second: 7859.98</pre>"
      ],
      "text/plain": [
       "recommendations finished on 5000/100003 queries. users per second: 7859.98"
      ]
     },
     "metadata": {
      "tags": []
     },
     "output_type": "display_data"
    },
    {
     "data": {
      "text/html": [
       "<pre>recommendations finished on 6000/100003 queries. users per second: 7746.1</pre>"
      ],
      "text/plain": [
       "recommendations finished on 6000/100003 queries. users per second: 7746.1"
      ]
     },
     "metadata": {
      "tags": []
     },
     "output_type": "display_data"
    },
    {
     "data": {
      "text/html": [
       "<pre>recommendations finished on 7000/100003 queries. users per second: 7827.04</pre>"
      ],
      "text/plain": [
       "recommendations finished on 7000/100003 queries. users per second: 7827.04"
      ]
     },
     "metadata": {
      "tags": []
     },
     "output_type": "display_data"
    },
    {
     "data": {
      "text/html": [
       "<pre>recommendations finished on 8000/100003 queries. users per second: 7832.88</pre>"
      ],
      "text/plain": [
       "recommendations finished on 8000/100003 queries. users per second: 7832.88"
      ]
     },
     "metadata": {
      "tags": []
     },
     "output_type": "display_data"
    },
    {
     "data": {
      "text/html": [
       "<pre>recommendations finished on 9000/100003 queries. users per second: 7865.65</pre>"
      ],
      "text/plain": [
       "recommendations finished on 9000/100003 queries. users per second: 7865.65"
      ]
     },
     "metadata": {
      "tags": []
     },
     "output_type": "display_data"
    },
    {
     "data": {
      "text/html": [
       "<pre>recommendations finished on 10000/100003 queries. users per second: 7893.33</pre>"
      ],
      "text/plain": [
       "recommendations finished on 10000/100003 queries. users per second: 7893.33"
      ]
     },
     "metadata": {
      "tags": []
     },
     "output_type": "display_data"
    },
    {
     "data": {
      "text/html": [
       "<pre>recommendations finished on 11000/100003 queries. users per second: 7875.91</pre>"
      ],
      "text/plain": [
       "recommendations finished on 11000/100003 queries. users per second: 7875.91"
      ]
     },
     "metadata": {
      "tags": []
     },
     "output_type": "display_data"
    },
    {
     "data": {
      "text/html": [
       "<pre>recommendations finished on 12000/100003 queries. users per second: 7894.07</pre>"
      ],
      "text/plain": [
       "recommendations finished on 12000/100003 queries. users per second: 7894.07"
      ]
     },
     "metadata": {
      "tags": []
     },
     "output_type": "display_data"
    },
    {
     "data": {
      "text/html": [
       "<pre>recommendations finished on 13000/100003 queries. users per second: 7926.19</pre>"
      ],
      "text/plain": [
       "recommendations finished on 13000/100003 queries. users per second: 7926.19"
      ]
     },
     "metadata": {
      "tags": []
     },
     "output_type": "display_data"
    },
    {
     "data": {
      "text/html": [
       "<pre>recommendations finished on 14000/100003 queries. users per second: 7914.86</pre>"
      ],
      "text/plain": [
       "recommendations finished on 14000/100003 queries. users per second: 7914.86"
      ]
     },
     "metadata": {
      "tags": []
     },
     "output_type": "display_data"
    },
    {
     "data": {
      "text/html": [
       "<pre>recommendations finished on 15000/100003 queries. users per second: 7909.71</pre>"
      ],
      "text/plain": [
       "recommendations finished on 15000/100003 queries. users per second: 7909.71"
      ]
     },
     "metadata": {
      "tags": []
     },
     "output_type": "display_data"
    },
    {
     "data": {
      "text/html": [
       "<pre>recommendations finished on 16000/100003 queries. users per second: 7896.11</pre>"
      ],
      "text/plain": [
       "recommendations finished on 16000/100003 queries. users per second: 7896.11"
      ]
     },
     "metadata": {
      "tags": []
     },
     "output_type": "display_data"
    },
    {
     "data": {
      "text/html": [
       "<pre>recommendations finished on 17000/100003 queries. users per second: 7917.28</pre>"
      ],
      "text/plain": [
       "recommendations finished on 17000/100003 queries. users per second: 7917.28"
      ]
     },
     "metadata": {
      "tags": []
     },
     "output_type": "display_data"
    },
    {
     "data": {
      "text/html": [
       "<pre>recommendations finished on 18000/100003 queries. users per second: 7917.03</pre>"
      ],
      "text/plain": [
       "recommendations finished on 18000/100003 queries. users per second: 7917.03"
      ]
     },
     "metadata": {
      "tags": []
     },
     "output_type": "display_data"
    },
    {
     "data": {
      "text/html": [
       "<pre>recommendations finished on 19000/100003 queries. users per second: 7924.48</pre>"
      ],
      "text/plain": [
       "recommendations finished on 19000/100003 queries. users per second: 7924.48"
      ]
     },
     "metadata": {
      "tags": []
     },
     "output_type": "display_data"
    },
    {
     "data": {
      "text/html": [
       "<pre>recommendations finished on 20000/100003 queries. users per second: 7926.68</pre>"
      ],
      "text/plain": [
       "recommendations finished on 20000/100003 queries. users per second: 7926.68"
      ]
     },
     "metadata": {
      "tags": []
     },
     "output_type": "display_data"
    },
    {
     "data": {
      "text/html": [
       "<pre>recommendations finished on 21000/100003 queries. users per second: 7913.02</pre>"
      ],
      "text/plain": [
       "recommendations finished on 21000/100003 queries. users per second: 7913.02"
      ]
     },
     "metadata": {
      "tags": []
     },
     "output_type": "display_data"
    },
    {
     "data": {
      "text/html": [
       "<pre>recommendations finished on 22000/100003 queries. users per second: 7889.77</pre>"
      ],
      "text/plain": [
       "recommendations finished on 22000/100003 queries. users per second: 7889.77"
      ]
     },
     "metadata": {
      "tags": []
     },
     "output_type": "display_data"
    },
    {
     "data": {
      "text/html": [
       "<pre>recommendations finished on 23000/100003 queries. users per second: 7890.21</pre>"
      ],
      "text/plain": [
       "recommendations finished on 23000/100003 queries. users per second: 7890.21"
      ]
     },
     "metadata": {
      "tags": []
     },
     "output_type": "display_data"
    },
    {
     "data": {
      "text/html": [
       "<pre>recommendations finished on 24000/100003 queries. users per second: 7890.25</pre>"
      ],
      "text/plain": [
       "recommendations finished on 24000/100003 queries. users per second: 7890.25"
      ]
     },
     "metadata": {
      "tags": []
     },
     "output_type": "display_data"
    },
    {
     "data": {
      "text/html": [
       "<pre>recommendations finished on 25000/100003 queries. users per second: 7887.02</pre>"
      ],
      "text/plain": [
       "recommendations finished on 25000/100003 queries. users per second: 7887.02"
      ]
     },
     "metadata": {
      "tags": []
     },
     "output_type": "display_data"
    },
    {
     "data": {
      "text/html": [
       "<pre>recommendations finished on 26000/100003 queries. users per second: 7882.78</pre>"
      ],
      "text/plain": [
       "recommendations finished on 26000/100003 queries. users per second: 7882.78"
      ]
     },
     "metadata": {
      "tags": []
     },
     "output_type": "display_data"
    },
    {
     "data": {
      "text/html": [
       "<pre>recommendations finished on 27000/100003 queries. users per second: 7873.36</pre>"
      ],
      "text/plain": [
       "recommendations finished on 27000/100003 queries. users per second: 7873.36"
      ]
     },
     "metadata": {
      "tags": []
     },
     "output_type": "display_data"
    },
    {
     "data": {
      "text/html": [
       "<pre>recommendations finished on 28000/100003 queries. users per second: 7866.5</pre>"
      ],
      "text/plain": [
       "recommendations finished on 28000/100003 queries. users per second: 7866.5"
      ]
     },
     "metadata": {
      "tags": []
     },
     "output_type": "display_data"
    },
    {
     "data": {
      "text/html": [
       "<pre>recommendations finished on 29000/100003 queries. users per second: 7856.02</pre>"
      ],
      "text/plain": [
       "recommendations finished on 29000/100003 queries. users per second: 7856.02"
      ]
     },
     "metadata": {
      "tags": []
     },
     "output_type": "display_data"
    },
    {
     "data": {
      "text/html": [
       "<pre>recommendations finished on 30000/100003 queries. users per second: 7844.96</pre>"
      ],
      "text/plain": [
       "recommendations finished on 30000/100003 queries. users per second: 7844.96"
      ]
     },
     "metadata": {
      "tags": []
     },
     "output_type": "display_data"
    },
    {
     "data": {
      "text/html": [
       "<pre>recommendations finished on 31000/100003 queries. users per second: 7835.64</pre>"
      ],
      "text/plain": [
       "recommendations finished on 31000/100003 queries. users per second: 7835.64"
      ]
     },
     "metadata": {
      "tags": []
     },
     "output_type": "display_data"
    },
    {
     "data": {
      "text/html": [
       "<pre>recommendations finished on 32000/100003 queries. users per second: 7834.55</pre>"
      ],
      "text/plain": [
       "recommendations finished on 32000/100003 queries. users per second: 7834.55"
      ]
     },
     "metadata": {
      "tags": []
     },
     "output_type": "display_data"
    },
    {
     "data": {
      "text/html": [
       "<pre>recommendations finished on 33000/100003 queries. users per second: 7836.7</pre>"
      ],
      "text/plain": [
       "recommendations finished on 33000/100003 queries. users per second: 7836.7"
      ]
     },
     "metadata": {
      "tags": []
     },
     "output_type": "display_data"
    },
    {
     "data": {
      "text/html": [
       "<pre>recommendations finished on 34000/100003 queries. users per second: 7837.05</pre>"
      ],
      "text/plain": [
       "recommendations finished on 34000/100003 queries. users per second: 7837.05"
      ]
     },
     "metadata": {
      "tags": []
     },
     "output_type": "display_data"
    },
    {
     "data": {
      "text/html": [
       "<pre>recommendations finished on 35000/100003 queries. users per second: 7833.91</pre>"
      ],
      "text/plain": [
       "recommendations finished on 35000/100003 queries. users per second: 7833.91"
      ]
     },
     "metadata": {
      "tags": []
     },
     "output_type": "display_data"
    },
    {
     "data": {
      "text/html": [
       "<pre>recommendations finished on 36000/100003 queries. users per second: 7839.29</pre>"
      ],
      "text/plain": [
       "recommendations finished on 36000/100003 queries. users per second: 7839.29"
      ]
     },
     "metadata": {
      "tags": []
     },
     "output_type": "display_data"
    },
    {
     "data": {
      "text/html": [
       "<pre>recommendations finished on 37000/100003 queries. users per second: 7839.58</pre>"
      ],
      "text/plain": [
       "recommendations finished on 37000/100003 queries. users per second: 7839.58"
      ]
     },
     "metadata": {
      "tags": []
     },
     "output_type": "display_data"
    },
    {
     "data": {
      "text/html": [
       "<pre>recommendations finished on 38000/100003 queries. users per second: 7827.2</pre>"
      ],
      "text/plain": [
       "recommendations finished on 38000/100003 queries. users per second: 7827.2"
      ]
     },
     "metadata": {
      "tags": []
     },
     "output_type": "display_data"
    },
    {
     "data": {
      "text/html": [
       "<pre>recommendations finished on 39000/100003 queries. users per second: 7813.5</pre>"
      ],
      "text/plain": [
       "recommendations finished on 39000/100003 queries. users per second: 7813.5"
      ]
     },
     "metadata": {
      "tags": []
     },
     "output_type": "display_data"
    },
    {
     "data": {
      "text/html": [
       "<pre>recommendations finished on 40000/100003 queries. users per second: 7811.08</pre>"
      ],
      "text/plain": [
       "recommendations finished on 40000/100003 queries. users per second: 7811.08"
      ]
     },
     "metadata": {
      "tags": []
     },
     "output_type": "display_data"
    },
    {
     "data": {
      "text/html": [
       "<pre>recommendations finished on 41000/100003 queries. users per second: 7811.49</pre>"
      ],
      "text/plain": [
       "recommendations finished on 41000/100003 queries. users per second: 7811.49"
      ]
     },
     "metadata": {
      "tags": []
     },
     "output_type": "display_data"
    },
    {
     "data": {
      "text/html": [
       "<pre>recommendations finished on 42000/100003 queries. users per second: 7805.37</pre>"
      ],
      "text/plain": [
       "recommendations finished on 42000/100003 queries. users per second: 7805.37"
      ]
     },
     "metadata": {
      "tags": []
     },
     "output_type": "display_data"
    },
    {
     "data": {
      "text/html": [
       "<pre>recommendations finished on 43000/100003 queries. users per second: 7801.46</pre>"
      ],
      "text/plain": [
       "recommendations finished on 43000/100003 queries. users per second: 7801.46"
      ]
     },
     "metadata": {
      "tags": []
     },
     "output_type": "display_data"
    },
    {
     "data": {
      "text/html": [
       "<pre>recommendations finished on 44000/100003 queries. users per second: 7803.29</pre>"
      ],
      "text/plain": [
       "recommendations finished on 44000/100003 queries. users per second: 7803.29"
      ]
     },
     "metadata": {
      "tags": []
     },
     "output_type": "display_data"
    },
    {
     "data": {
      "text/html": [
       "<pre>recommendations finished on 45000/100003 queries. users per second: 7806.42</pre>"
      ],
      "text/plain": [
       "recommendations finished on 45000/100003 queries. users per second: 7806.42"
      ]
     },
     "metadata": {
      "tags": []
     },
     "output_type": "display_data"
    },
    {
     "data": {
      "text/html": [
       "<pre>recommendations finished on 46000/100003 queries. users per second: 7802.25</pre>"
      ],
      "text/plain": [
       "recommendations finished on 46000/100003 queries. users per second: 7802.25"
      ]
     },
     "metadata": {
      "tags": []
     },
     "output_type": "display_data"
    },
    {
     "data": {
      "text/html": [
       "<pre>recommendations finished on 47000/100003 queries. users per second: 7797.44</pre>"
      ],
      "text/plain": [
       "recommendations finished on 47000/100003 queries. users per second: 7797.44"
      ]
     },
     "metadata": {
      "tags": []
     },
     "output_type": "display_data"
    },
    {
     "data": {
      "text/html": [
       "<pre>recommendations finished on 48000/100003 queries. users per second: 7797.29</pre>"
      ],
      "text/plain": [
       "recommendations finished on 48000/100003 queries. users per second: 7797.29"
      ]
     },
     "metadata": {
      "tags": []
     },
     "output_type": "display_data"
    },
    {
     "data": {
      "text/html": [
       "<pre>recommendations finished on 49000/100003 queries. users per second: 7808.66</pre>"
      ],
      "text/plain": [
       "recommendations finished on 49000/100003 queries. users per second: 7808.66"
      ]
     },
     "metadata": {
      "tags": []
     },
     "output_type": "display_data"
    },
    {
     "data": {
      "text/html": [
       "<pre>recommendations finished on 50000/100003 queries. users per second: 7814.78</pre>"
      ],
      "text/plain": [
       "recommendations finished on 50000/100003 queries. users per second: 7814.78"
      ]
     },
     "metadata": {
      "tags": []
     },
     "output_type": "display_data"
    },
    {
     "data": {
      "text/html": [
       "<pre>recommendations finished on 51000/100003 queries. users per second: 7811.04</pre>"
      ],
      "text/plain": [
       "recommendations finished on 51000/100003 queries. users per second: 7811.04"
      ]
     },
     "metadata": {
      "tags": []
     },
     "output_type": "display_data"
    },
    {
     "data": {
      "text/html": [
       "<pre>recommendations finished on 52000/100003 queries. users per second: 7814.44</pre>"
      ],
      "text/plain": [
       "recommendations finished on 52000/100003 queries. users per second: 7814.44"
      ]
     },
     "metadata": {
      "tags": []
     },
     "output_type": "display_data"
    },
    {
     "data": {
      "text/html": [
       "<pre>recommendations finished on 53000/100003 queries. users per second: 7809.64</pre>"
      ],
      "text/plain": [
       "recommendations finished on 53000/100003 queries. users per second: 7809.64"
      ]
     },
     "metadata": {
      "tags": []
     },
     "output_type": "display_data"
    },
    {
     "data": {
      "text/html": [
       "<pre>recommendations finished on 54000/100003 queries. users per second: 7802.81</pre>"
      ],
      "text/plain": [
       "recommendations finished on 54000/100003 queries. users per second: 7802.81"
      ]
     },
     "metadata": {
      "tags": []
     },
     "output_type": "display_data"
    },
    {
     "data": {
      "text/html": [
       "<pre>recommendations finished on 55000/100003 queries. users per second: 7800.23</pre>"
      ],
      "text/plain": [
       "recommendations finished on 55000/100003 queries. users per second: 7800.23"
      ]
     },
     "metadata": {
      "tags": []
     },
     "output_type": "display_data"
    },
    {
     "data": {
      "text/html": [
       "<pre>recommendations finished on 56000/100003 queries. users per second: 7800.85</pre>"
      ],
      "text/plain": [
       "recommendations finished on 56000/100003 queries. users per second: 7800.85"
      ]
     },
     "metadata": {
      "tags": []
     },
     "output_type": "display_data"
    },
    {
     "data": {
      "text/html": [
       "<pre>recommendations finished on 57000/100003 queries. users per second: 7803.64</pre>"
      ],
      "text/plain": [
       "recommendations finished on 57000/100003 queries. users per second: 7803.64"
      ]
     },
     "metadata": {
      "tags": []
     },
     "output_type": "display_data"
    },
    {
     "data": {
      "text/html": [
       "<pre>recommendations finished on 58000/100003 queries. users per second: 7801.1</pre>"
      ],
      "text/plain": [
       "recommendations finished on 58000/100003 queries. users per second: 7801.1"
      ]
     },
     "metadata": {
      "tags": []
     },
     "output_type": "display_data"
    },
    {
     "data": {
      "text/html": [
       "<pre>recommendations finished on 59000/100003 queries. users per second: 7803.33</pre>"
      ],
      "text/plain": [
       "recommendations finished on 59000/100003 queries. users per second: 7803.33"
      ]
     },
     "metadata": {
      "tags": []
     },
     "output_type": "display_data"
    },
    {
     "data": {
      "text/html": [
       "<pre>recommendations finished on 60000/100003 queries. users per second: 7803.1</pre>"
      ],
      "text/plain": [
       "recommendations finished on 60000/100003 queries. users per second: 7803.1"
      ]
     },
     "metadata": {
      "tags": []
     },
     "output_type": "display_data"
    },
    {
     "data": {
      "text/html": [
       "<pre>recommendations finished on 61000/100003 queries. users per second: 7804.09</pre>"
      ],
      "text/plain": [
       "recommendations finished on 61000/100003 queries. users per second: 7804.09"
      ]
     },
     "metadata": {
      "tags": []
     },
     "output_type": "display_data"
    },
    {
     "data": {
      "text/html": [
       "<pre>recommendations finished on 62000/100003 queries. users per second: 7797.48</pre>"
      ],
      "text/plain": [
       "recommendations finished on 62000/100003 queries. users per second: 7797.48"
      ]
     },
     "metadata": {
      "tags": []
     },
     "output_type": "display_data"
    },
    {
     "data": {
      "text/html": [
       "<pre>recommendations finished on 63000/100003 queries. users per second: 7795.02</pre>"
      ],
      "text/plain": [
       "recommendations finished on 63000/100003 queries. users per second: 7795.02"
      ]
     },
     "metadata": {
      "tags": []
     },
     "output_type": "display_data"
    },
    {
     "data": {
      "text/html": [
       "<pre>recommendations finished on 64000/100003 queries. users per second: 7796.96</pre>"
      ],
      "text/plain": [
       "recommendations finished on 64000/100003 queries. users per second: 7796.96"
      ]
     },
     "metadata": {
      "tags": []
     },
     "output_type": "display_data"
    },
    {
     "data": {
      "text/html": [
       "<pre>recommendations finished on 65000/100003 queries. users per second: 7800.57</pre>"
      ],
      "text/plain": [
       "recommendations finished on 65000/100003 queries. users per second: 7800.57"
      ]
     },
     "metadata": {
      "tags": []
     },
     "output_type": "display_data"
    },
    {
     "data": {
      "text/html": [
       "<pre>recommendations finished on 66000/100003 queries. users per second: 7804.52</pre>"
      ],
      "text/plain": [
       "recommendations finished on 66000/100003 queries. users per second: 7804.52"
      ]
     },
     "metadata": {
      "tags": []
     },
     "output_type": "display_data"
    },
    {
     "data": {
      "text/html": [
       "<pre>recommendations finished on 67000/100003 queries. users per second: 7804.77</pre>"
      ],
      "text/plain": [
       "recommendations finished on 67000/100003 queries. users per second: 7804.77"
      ]
     },
     "metadata": {
      "tags": []
     },
     "output_type": "display_data"
    },
    {
     "data": {
      "text/html": [
       "<pre>recommendations finished on 68000/100003 queries. users per second: 7807.29</pre>"
      ],
      "text/plain": [
       "recommendations finished on 68000/100003 queries. users per second: 7807.29"
      ]
     },
     "metadata": {
      "tags": []
     },
     "output_type": "display_data"
    },
    {
     "data": {
      "text/html": [
       "<pre>recommendations finished on 69000/100003 queries. users per second: 7806.98</pre>"
      ],
      "text/plain": [
       "recommendations finished on 69000/100003 queries. users per second: 7806.98"
      ]
     },
     "metadata": {
      "tags": []
     },
     "output_type": "display_data"
    },
    {
     "data": {
      "text/html": [
       "<pre>recommendations finished on 70000/100003 queries. users per second: 7799.58</pre>"
      ],
      "text/plain": [
       "recommendations finished on 70000/100003 queries. users per second: 7799.58"
      ]
     },
     "metadata": {
      "tags": []
     },
     "output_type": "display_data"
    },
    {
     "data": {
      "text/html": [
       "<pre>recommendations finished on 71000/100003 queries. users per second: 7806.79</pre>"
      ],
      "text/plain": [
       "recommendations finished on 71000/100003 queries. users per second: 7806.79"
      ]
     },
     "metadata": {
      "tags": []
     },
     "output_type": "display_data"
    },
    {
     "data": {
      "text/html": [
       "<pre>recommendations finished on 72000/100003 queries. users per second: 7806.57</pre>"
      ],
      "text/plain": [
       "recommendations finished on 72000/100003 queries. users per second: 7806.57"
      ]
     },
     "metadata": {
      "tags": []
     },
     "output_type": "display_data"
    },
    {
     "data": {
      "text/html": [
       "<pre>recommendations finished on 73000/100003 queries. users per second: 7813.22</pre>"
      ],
      "text/plain": [
       "recommendations finished on 73000/100003 queries. users per second: 7813.22"
      ]
     },
     "metadata": {
      "tags": []
     },
     "output_type": "display_data"
    },
    {
     "data": {
      "text/html": [
       "<pre>recommendations finished on 74000/100003 queries. users per second: 7813.62</pre>"
      ],
      "text/plain": [
       "recommendations finished on 74000/100003 queries. users per second: 7813.62"
      ]
     },
     "metadata": {
      "tags": []
     },
     "output_type": "display_data"
    },
    {
     "data": {
      "text/html": [
       "<pre>recommendations finished on 75000/100003 queries. users per second: 7810.13</pre>"
      ],
      "text/plain": [
       "recommendations finished on 75000/100003 queries. users per second: 7810.13"
      ]
     },
     "metadata": {
      "tags": []
     },
     "output_type": "display_data"
    },
    {
     "data": {
      "text/html": [
       "<pre>recommendations finished on 76000/100003 queries. users per second: 7813.61</pre>"
      ],
      "text/plain": [
       "recommendations finished on 76000/100003 queries. users per second: 7813.61"
      ]
     },
     "metadata": {
      "tags": []
     },
     "output_type": "display_data"
    },
    {
     "data": {
      "text/html": [
       "<pre>recommendations finished on 77000/100003 queries. users per second: 7817.43</pre>"
      ],
      "text/plain": [
       "recommendations finished on 77000/100003 queries. users per second: 7817.43"
      ]
     },
     "metadata": {
      "tags": []
     },
     "output_type": "display_data"
    },
    {
     "data": {
      "text/html": [
       "<pre>recommendations finished on 78000/100003 queries. users per second: 7814.59</pre>"
      ],
      "text/plain": [
       "recommendations finished on 78000/100003 queries. users per second: 7814.59"
      ]
     },
     "metadata": {
      "tags": []
     },
     "output_type": "display_data"
    },
    {
     "data": {
      "text/html": [
       "<pre>recommendations finished on 79000/100003 queries. users per second: 7819.77</pre>"
      ],
      "text/plain": [
       "recommendations finished on 79000/100003 queries. users per second: 7819.77"
      ]
     },
     "metadata": {
      "tags": []
     },
     "output_type": "display_data"
    },
    {
     "data": {
      "text/html": [
       "<pre>recommendations finished on 80000/100003 queries. users per second: 7825.4</pre>"
      ],
      "text/plain": [
       "recommendations finished on 80000/100003 queries. users per second: 7825.4"
      ]
     },
     "metadata": {
      "tags": []
     },
     "output_type": "display_data"
    },
    {
     "data": {
      "text/html": [
       "<pre>recommendations finished on 81000/100003 queries. users per second: 7828.47</pre>"
      ],
      "text/plain": [
       "recommendations finished on 81000/100003 queries. users per second: 7828.47"
      ]
     },
     "metadata": {
      "tags": []
     },
     "output_type": "display_data"
    },
    {
     "data": {
      "text/html": [
       "<pre>recommendations finished on 82000/100003 queries. users per second: 7832.8</pre>"
      ],
      "text/plain": [
       "recommendations finished on 82000/100003 queries. users per second: 7832.8"
      ]
     },
     "metadata": {
      "tags": []
     },
     "output_type": "display_data"
    },
    {
     "data": {
      "text/html": [
       "<pre>recommendations finished on 83000/100003 queries. users per second: 7836.08</pre>"
      ],
      "text/plain": [
       "recommendations finished on 83000/100003 queries. users per second: 7836.08"
      ]
     },
     "metadata": {
      "tags": []
     },
     "output_type": "display_data"
    },
    {
     "data": {
      "text/html": [
       "<pre>recommendations finished on 84000/100003 queries. users per second: 7836.65</pre>"
      ],
      "text/plain": [
       "recommendations finished on 84000/100003 queries. users per second: 7836.65"
      ]
     },
     "metadata": {
      "tags": []
     },
     "output_type": "display_data"
    },
    {
     "data": {
      "text/html": [
       "<pre>recommendations finished on 85000/100003 queries. users per second: 7839.63</pre>"
      ],
      "text/plain": [
       "recommendations finished on 85000/100003 queries. users per second: 7839.63"
      ]
     },
     "metadata": {
      "tags": []
     },
     "output_type": "display_data"
    },
    {
     "data": {
      "text/html": [
       "<pre>recommendations finished on 86000/100003 queries. users per second: 7839.16</pre>"
      ],
      "text/plain": [
       "recommendations finished on 86000/100003 queries. users per second: 7839.16"
      ]
     },
     "metadata": {
      "tags": []
     },
     "output_type": "display_data"
    },
    {
     "data": {
      "text/html": [
       "<pre>recommendations finished on 87000/100003 queries. users per second: 7844.85</pre>"
      ],
      "text/plain": [
       "recommendations finished on 87000/100003 queries. users per second: 7844.85"
      ]
     },
     "metadata": {
      "tags": []
     },
     "output_type": "display_data"
    },
    {
     "data": {
      "text/html": [
       "<pre>recommendations finished on 88000/100003 queries. users per second: 7846.79</pre>"
      ],
      "text/plain": [
       "recommendations finished on 88000/100003 queries. users per second: 7846.79"
      ]
     },
     "metadata": {
      "tags": []
     },
     "output_type": "display_data"
    },
    {
     "data": {
      "text/html": [
       "<pre>recommendations finished on 89000/100003 queries. users per second: 7851.01</pre>"
      ],
      "text/plain": [
       "recommendations finished on 89000/100003 queries. users per second: 7851.01"
      ]
     },
     "metadata": {
      "tags": []
     },
     "output_type": "display_data"
    },
    {
     "data": {
      "text/html": [
       "<pre>recommendations finished on 90000/100003 queries. users per second: 7854.37</pre>"
      ],
      "text/plain": [
       "recommendations finished on 90000/100003 queries. users per second: 7854.37"
      ]
     },
     "metadata": {
      "tags": []
     },
     "output_type": "display_data"
    },
    {
     "data": {
      "text/html": [
       "<pre>recommendations finished on 91000/100003 queries. users per second: 7854.52</pre>"
      ],
      "text/plain": [
       "recommendations finished on 91000/100003 queries. users per second: 7854.52"
      ]
     },
     "metadata": {
      "tags": []
     },
     "output_type": "display_data"
    },
    {
     "data": {
      "text/html": [
       "<pre>recommendations finished on 92000/100003 queries. users per second: 7858.64</pre>"
      ],
      "text/plain": [
       "recommendations finished on 92000/100003 queries. users per second: 7858.64"
      ]
     },
     "metadata": {
      "tags": []
     },
     "output_type": "display_data"
    },
    {
     "data": {
      "text/html": [
       "<pre>recommendations finished on 93000/100003 queries. users per second: 7857.73</pre>"
      ],
      "text/plain": [
       "recommendations finished on 93000/100003 queries. users per second: 7857.73"
      ]
     },
     "metadata": {
      "tags": []
     },
     "output_type": "display_data"
    },
    {
     "data": {
      "text/html": [
       "<pre>recommendations finished on 94000/100003 queries. users per second: 7854.12</pre>"
      ],
      "text/plain": [
       "recommendations finished on 94000/100003 queries. users per second: 7854.12"
      ]
     },
     "metadata": {
      "tags": []
     },
     "output_type": "display_data"
    },
    {
     "data": {
      "text/html": [
       "<pre>recommendations finished on 95000/100003 queries. users per second: 7858.95</pre>"
      ],
      "text/plain": [
       "recommendations finished on 95000/100003 queries. users per second: 7858.95"
      ]
     },
     "metadata": {
      "tags": []
     },
     "output_type": "display_data"
    },
    {
     "data": {
      "text/html": [
       "<pre>recommendations finished on 96000/100003 queries. users per second: 7859.1</pre>"
      ],
      "text/plain": [
       "recommendations finished on 96000/100003 queries. users per second: 7859.1"
      ]
     },
     "metadata": {
      "tags": []
     },
     "output_type": "display_data"
    },
    {
     "data": {
      "text/html": [
       "<pre>recommendations finished on 97000/100003 queries. users per second: 7831.55</pre>"
      ],
      "text/plain": [
       "recommendations finished on 97000/100003 queries. users per second: 7831.55"
      ]
     },
     "metadata": {
      "tags": []
     },
     "output_type": "display_data"
    },
    {
     "data": {
      "text/html": [
       "<pre>recommendations finished on 98000/100003 queries. users per second: 7811.57</pre>"
      ],
      "text/plain": [
       "recommendations finished on 98000/100003 queries. users per second: 7811.57"
      ]
     },
     "metadata": {
      "tags": []
     },
     "output_type": "display_data"
    },
    {
     "data": {
      "text/html": [
       "<pre>recommendations finished on 99000/100003 queries. users per second: 7795.04</pre>"
      ],
      "text/plain": [
       "recommendations finished on 99000/100003 queries. users per second: 7795.04"
      ]
     },
     "metadata": {
      "tags": []
     },
     "output_type": "display_data"
    },
    {
     "data": {
      "text/html": [
       "<pre>recommendations finished on 100000/100003 queries. users per second: 7777.49</pre>"
      ],
      "text/plain": [
       "recommendations finished on 100000/100003 queries. users per second: 7777.49"
      ]
     },
     "metadata": {
      "tags": []
     },
     "output_type": "display_data"
    },
    {
     "name": "stdout",
     "output_type": "stream",
     "text": [
      "+---------+---------+--------------------+------+\n",
      "| user_id | item_id |       score        | rank |\n",
      "+---------+---------+--------------------+------+\n",
      "|    0    |   174   | 0.7215228875478109 |  1   |\n",
      "|    0    |   204   | 0.6784453789393107 |  2   |\n",
      "|    0    |    98   | 0.6587709188461304 |  3   |\n",
      "|    0    |    69   | 0.6430636246999105 |  4   |\n",
      "|    0    |   195   | 0.6418836911519369 |  5   |\n",
      "|    0    |   423   | 0.6366146206855774 |  6   |\n",
      "|    0    |   132   | 0.6275354425112406 |  7   |\n",
      "|    0    |   168   | 0.6266975204149882 |  8   |\n",
      "|    0    |    79   | 0.6260609030723572 |  9   |\n",
      "|    0    |   173   | 0.6237259109814962 |  10  |\n",
      "|    0    |   174   | 0.7215228875478109 |  1   |\n",
      "|    0    |   204   | 0.6784453789393107 |  2   |\n",
      "|    0    |    98   | 0.6587709188461304 |  3   |\n",
      "|    0    |    69   | 0.6430636246999105 |  4   |\n",
      "|    0    |   195   | 0.6418836911519369 |  5   |\n",
      "|    0    |   423   | 0.6366146206855774 |  6   |\n",
      "|    0    |   132   | 0.6275354425112406 |  7   |\n",
      "|    0    |   168   | 0.6266975204149882 |  8   |\n",
      "|    0    |    79   | 0.6260609030723572 |  9   |\n",
      "|    0    |   173   | 0.6237259109814962 |  10  |\n",
      "|    0    |   174   | 0.7215228875478109 |  1   |\n",
      "|    0    |   204   | 0.6784453789393107 |  2   |\n",
      "|    0    |    98   | 0.6587709188461304 |  3   |\n",
      "|    0    |    69   | 0.6430636246999105 |  4   |\n",
      "|    0    |   195   | 0.6418836911519369 |  5   |\n",
      "|    0    |   423   | 0.6366146206855774 |  6   |\n",
      "|    0    |   132   | 0.6275354425112406 |  7   |\n",
      "|    0    |   168   | 0.6266975204149882 |  8   |\n",
      "|    0    |    79   | 0.6260609030723572 |  9   |\n",
      "|    0    |   173   | 0.6237259109814962 |  10  |\n",
      "+---------+---------+--------------------+------+\n",
      "[1000030 rows x 4 columns]\n",
      "\n"
     ]
    }
   ],
   "source": [
    "users_to_recommend = list(df[user_id])\n",
    "\n",
    "final_model = tc.item_similarity_recommender.create(tc.SFrame(data_dummy), \n",
    "                                            user_id=user_id, \n",
    "                                            item_id=item_id, \n",
    "                                            target='rating_dummy', \n",
    "                                            similarity_type='cosine')\n",
    "\n",
    "recom = final_model.recommend(users=users_to_recommend, k=n_rec)\n",
    "recom.print_rows(n_display)"
   ]
  },
  {
   "cell_type": "code",
   "execution_count": null,
   "metadata": {
    "id": "3c0ighpWomi_"
   },
   "outputs": [],
   "source": [
    "# CSV output file"
   ]
  },
  {
   "cell_type": "code",
   "execution_count": 57,
   "metadata": {
    "colab": {
     "base_uri": "https://localhost:8080/",
     "height": 219
    },
    "id": "65k02aRKl6zL",
    "outputId": "ed9ed906-fdf2-49c8-e885-d7cae275bed4"
   },
   "outputs": [
    {
     "name": "stdout",
     "output_type": "stream",
     "text": [
      "(1000030, 4)\n"
     ]
    },
    {
     "data": {
      "text/html": [
       "<div>\n",
       "<style scoped>\n",
       "    .dataframe tbody tr th:only-of-type {\n",
       "        vertical-align: middle;\n",
       "    }\n",
       "\n",
       "    .dataframe tbody tr th {\n",
       "        vertical-align: top;\n",
       "    }\n",
       "\n",
       "    .dataframe thead th {\n",
       "        text-align: right;\n",
       "    }\n",
       "</style>\n",
       "<table border=\"1\" class=\"dataframe\">\n",
       "  <thead>\n",
       "    <tr style=\"text-align: right;\">\n",
       "      <th></th>\n",
       "      <th>user_id</th>\n",
       "      <th>item_id</th>\n",
       "      <th>score</th>\n",
       "      <th>rank</th>\n",
       "    </tr>\n",
       "  </thead>\n",
       "  <tbody>\n",
       "    <tr>\n",
       "      <th>0</th>\n",
       "      <td>0</td>\n",
       "      <td>174</td>\n",
       "      <td>0.721523</td>\n",
       "      <td>1</td>\n",
       "    </tr>\n",
       "    <tr>\n",
       "      <th>1</th>\n",
       "      <td>0</td>\n",
       "      <td>204</td>\n",
       "      <td>0.678445</td>\n",
       "      <td>2</td>\n",
       "    </tr>\n",
       "    <tr>\n",
       "      <th>2</th>\n",
       "      <td>0</td>\n",
       "      <td>98</td>\n",
       "      <td>0.658771</td>\n",
       "      <td>3</td>\n",
       "    </tr>\n",
       "    <tr>\n",
       "      <th>3</th>\n",
       "      <td>0</td>\n",
       "      <td>69</td>\n",
       "      <td>0.643064</td>\n",
       "      <td>4</td>\n",
       "    </tr>\n",
       "    <tr>\n",
       "      <th>4</th>\n",
       "      <td>0</td>\n",
       "      <td>195</td>\n",
       "      <td>0.641884</td>\n",
       "      <td>5</td>\n",
       "    </tr>\n",
       "  </tbody>\n",
       "</table>\n",
       "</div>"
      ],
      "text/plain": [
       "   user_id  item_id     score  rank\n",
       "0        0      174  0.721523     1\n",
       "1        0      204  0.678445     2\n",
       "2        0       98  0.658771     3\n",
       "3        0       69  0.643064     4\n",
       "4        0      195  0.641884     5"
      ]
     },
     "execution_count": 57,
     "metadata": {
      "tags": []
     },
     "output_type": "execute_result"
    }
   ],
   "source": [
    "df_rec = recom.to_dataframe()\n",
    "print(df_rec.shape)\n",
    "df_rec.head()"
   ]
  },
  {
   "cell_type": "code",
   "execution_count": 59,
   "metadata": {
    "id": "DwVF_vNomaN1"
   },
   "outputs": [],
   "source": [
    "df_rec['recommendedProducts'] = df_rec.groupby([user_id])[item_id].transform(lambda x: '|'.join(x.astype(str)))\n",
    "df_output = df_rec[['user_id', 'recommendedProducts']].drop_duplicates().sort_values('user_id').set_index('user_id')"
   ]
  },
  {
   "cell_type": "code",
   "execution_count": null,
   "metadata": {
    "id": "2ypOO14xpBeF"
   },
   "outputs": [],
   "source": [
    "#1 Define a function to create a desired output"
   ]
  },
  {
   "cell_type": "code",
   "execution_count": 60,
   "metadata": {
    "id": "ZDVmLc_NncGt"
   },
   "outputs": [],
   "source": [
    "def create_output(model, users_to_recommend, n_rec, print_csv=True):\n",
    "    recomendation = model.recommend(users=users_to_recommend, k=n_rec)\n",
    "    df_rec = recomendation.to_dataframe()\n",
    "    df_rec['recommendedProducts'] = df_rec.groupby([user_id])[item_id] \\\n",
    "        .transform(lambda x: '|'.join(x.astype(str)))\n",
    "    df_output = df_rec[['user_id', 'recommendedProducts']].drop_duplicates() \\\n",
    "        .sort_values('user_id').set_index('user_id')\n",
    "    if print_csv:\n",
    "        df_output.to_csv('../option1_recommendation.csv')\n",
    "        print(\"An output file can be found in 'output' folder with name 'option1_recommendation.csv'\")\n",
    "    return df_output"
   ]
  },
  {
   "cell_type": "code",
   "execution_count": 61,
   "metadata": {
    "colab": {
     "base_uri": "https://localhost:8080/",
     "height": 1000
    },
    "id": "6NWlmk7LnxhL",
    "outputId": "e3b9b0fd-d7aa-46ce-85cb-9a273227387e"
   },
   "outputs": [
    {
     "data": {
      "text/html": [
       "<pre>recommendations finished on 1000/100003 queries. users per second: 9092.4</pre>"
      ],
      "text/plain": [
       "recommendations finished on 1000/100003 queries. users per second: 9092.4"
      ]
     },
     "metadata": {
      "tags": []
     },
     "output_type": "display_data"
    },
    {
     "data": {
      "text/html": [
       "<pre>recommendations finished on 2000/100003 queries. users per second: 8640.58</pre>"
      ],
      "text/plain": [
       "recommendations finished on 2000/100003 queries. users per second: 8640.58"
      ]
     },
     "metadata": {
      "tags": []
     },
     "output_type": "display_data"
    },
    {
     "data": {
      "text/html": [
       "<pre>recommendations finished on 3000/100003 queries. users per second: 8608.25</pre>"
      ],
      "text/plain": [
       "recommendations finished on 3000/100003 queries. users per second: 8608.25"
      ]
     },
     "metadata": {
      "tags": []
     },
     "output_type": "display_data"
    },
    {
     "data": {
      "text/html": [
       "<pre>recommendations finished on 4000/100003 queries. users per second: 8639.14</pre>"
      ],
      "text/plain": [
       "recommendations finished on 4000/100003 queries. users per second: 8639.14"
      ]
     },
     "metadata": {
      "tags": []
     },
     "output_type": "display_data"
    },
    {
     "data": {
      "text/html": [
       "<pre>recommendations finished on 5000/100003 queries. users per second: 8613.47</pre>"
      ],
      "text/plain": [
       "recommendations finished on 5000/100003 queries. users per second: 8613.47"
      ]
     },
     "metadata": {
      "tags": []
     },
     "output_type": "display_data"
    },
    {
     "data": {
      "text/html": [
       "<pre>recommendations finished on 6000/100003 queries. users per second: 8509.68</pre>"
      ],
      "text/plain": [
       "recommendations finished on 6000/100003 queries. users per second: 8509.68"
      ]
     },
     "metadata": {
      "tags": []
     },
     "output_type": "display_data"
    },
    {
     "data": {
      "text/html": [
       "<pre>recommendations finished on 7000/100003 queries. users per second: 8572.72</pre>"
      ],
      "text/plain": [
       "recommendations finished on 7000/100003 queries. users per second: 8572.72"
      ]
     },
     "metadata": {
      "tags": []
     },
     "output_type": "display_data"
    },
    {
     "data": {
      "text/html": [
       "<pre>recommendations finished on 8000/100003 queries. users per second: 8626.03</pre>"
      ],
      "text/plain": [
       "recommendations finished on 8000/100003 queries. users per second: 8626.03"
      ]
     },
     "metadata": {
      "tags": []
     },
     "output_type": "display_data"
    },
    {
     "data": {
      "text/html": [
       "<pre>recommendations finished on 9000/100003 queries. users per second: 8673.03</pre>"
      ],
      "text/plain": [
       "recommendations finished on 9000/100003 queries. users per second: 8673.03"
      ]
     },
     "metadata": {
      "tags": []
     },
     "output_type": "display_data"
    },
    {
     "data": {
      "text/html": [
       "<pre>recommendations finished on 10000/100003 queries. users per second: 8714.89</pre>"
      ],
      "text/plain": [
       "recommendations finished on 10000/100003 queries. users per second: 8714.89"
      ]
     },
     "metadata": {
      "tags": []
     },
     "output_type": "display_data"
    },
    {
     "data": {
      "text/html": [
       "<pre>recommendations finished on 11000/100003 queries. users per second: 8657.98</pre>"
      ],
      "text/plain": [
       "recommendations finished on 11000/100003 queries. users per second: 8657.98"
      ]
     },
     "metadata": {
      "tags": []
     },
     "output_type": "display_data"
    },
    {
     "data": {
      "text/html": [
       "<pre>recommendations finished on 12000/100003 queries. users per second: 8678.01</pre>"
      ],
      "text/plain": [
       "recommendations finished on 12000/100003 queries. users per second: 8678.01"
      ]
     },
     "metadata": {
      "tags": []
     },
     "output_type": "display_data"
    },
    {
     "data": {
      "text/html": [
       "<pre>recommendations finished on 13000/100003 queries. users per second: 8690.62</pre>"
      ],
      "text/plain": [
       "recommendations finished on 13000/100003 queries. users per second: 8690.62"
      ]
     },
     "metadata": {
      "tags": []
     },
     "output_type": "display_data"
    },
    {
     "data": {
      "text/html": [
       "<pre>recommendations finished on 14000/100003 queries. users per second: 8671.2</pre>"
      ],
      "text/plain": [
       "recommendations finished on 14000/100003 queries. users per second: 8671.2"
      ]
     },
     "metadata": {
      "tags": []
     },
     "output_type": "display_data"
    },
    {
     "data": {
      "text/html": [
       "<pre>recommendations finished on 15000/100003 queries. users per second: 8678.64</pre>"
      ],
      "text/plain": [
       "recommendations finished on 15000/100003 queries. users per second: 8678.64"
      ]
     },
     "metadata": {
      "tags": []
     },
     "output_type": "display_data"
    },
    {
     "data": {
      "text/html": [
       "<pre>recommendations finished on 16000/100003 queries. users per second: 8680.58</pre>"
      ],
      "text/plain": [
       "recommendations finished on 16000/100003 queries. users per second: 8680.58"
      ]
     },
     "metadata": {
      "tags": []
     },
     "output_type": "display_data"
    },
    {
     "data": {
      "text/html": [
       "<pre>recommendations finished on 17000/100003 queries. users per second: 8701.48</pre>"
      ],
      "text/plain": [
       "recommendations finished on 17000/100003 queries. users per second: 8701.48"
      ]
     },
     "metadata": {
      "tags": []
     },
     "output_type": "display_data"
    },
    {
     "data": {
      "text/html": [
       "<pre>recommendations finished on 18000/100003 queries. users per second: 8710.76</pre>"
      ],
      "text/plain": [
       "recommendations finished on 18000/100003 queries. users per second: 8710.76"
      ]
     },
     "metadata": {
      "tags": []
     },
     "output_type": "display_data"
    },
    {
     "data": {
      "text/html": [
       "<pre>recommendations finished on 19000/100003 queries. users per second: 8721.65</pre>"
      ],
      "text/plain": [
       "recommendations finished on 19000/100003 queries. users per second: 8721.65"
      ]
     },
     "metadata": {
      "tags": []
     },
     "output_type": "display_data"
    },
    {
     "data": {
      "text/html": [
       "<pre>recommendations finished on 20000/100003 queries. users per second: 8690.15</pre>"
      ],
      "text/plain": [
       "recommendations finished on 20000/100003 queries. users per second: 8690.15"
      ]
     },
     "metadata": {
      "tags": []
     },
     "output_type": "display_data"
    },
    {
     "data": {
      "text/html": [
       "<pre>recommendations finished on 21000/100003 queries. users per second: 8689.13</pre>"
      ],
      "text/plain": [
       "recommendations finished on 21000/100003 queries. users per second: 8689.13"
      ]
     },
     "metadata": {
      "tags": []
     },
     "output_type": "display_data"
    },
    {
     "data": {
      "text/html": [
       "<pre>recommendations finished on 22000/100003 queries. users per second: 8684.78</pre>"
      ],
      "text/plain": [
       "recommendations finished on 22000/100003 queries. users per second: 8684.78"
      ]
     },
     "metadata": {
      "tags": []
     },
     "output_type": "display_data"
    },
    {
     "data": {
      "text/html": [
       "<pre>recommendations finished on 23000/100003 queries. users per second: 8688.86</pre>"
      ],
      "text/plain": [
       "recommendations finished on 23000/100003 queries. users per second: 8688.86"
      ]
     },
     "metadata": {
      "tags": []
     },
     "output_type": "display_data"
    },
    {
     "data": {
      "text/html": [
       "<pre>recommendations finished on 24000/100003 queries. users per second: 8704.66</pre>"
      ],
      "text/plain": [
       "recommendations finished on 24000/100003 queries. users per second: 8704.66"
      ]
     },
     "metadata": {
      "tags": []
     },
     "output_type": "display_data"
    },
    {
     "data": {
      "text/html": [
       "<pre>recommendations finished on 25000/100003 queries. users per second: 8710.05</pre>"
      ],
      "text/plain": [
       "recommendations finished on 25000/100003 queries. users per second: 8710.05"
      ]
     },
     "metadata": {
      "tags": []
     },
     "output_type": "display_data"
    },
    {
     "data": {
      "text/html": [
       "<pre>recommendations finished on 26000/100003 queries. users per second: 8700.49</pre>"
      ],
      "text/plain": [
       "recommendations finished on 26000/100003 queries. users per second: 8700.49"
      ]
     },
     "metadata": {
      "tags": []
     },
     "output_type": "display_data"
    },
    {
     "data": {
      "text/html": [
       "<pre>recommendations finished on 27000/100003 queries. users per second: 8698.28</pre>"
      ],
      "text/plain": [
       "recommendations finished on 27000/100003 queries. users per second: 8698.28"
      ]
     },
     "metadata": {
      "tags": []
     },
     "output_type": "display_data"
    },
    {
     "data": {
      "text/html": [
       "<pre>recommendations finished on 28000/100003 queries. users per second: 8693.87</pre>"
      ],
      "text/plain": [
       "recommendations finished on 28000/100003 queries. users per second: 8693.87"
      ]
     },
     "metadata": {
      "tags": []
     },
     "output_type": "display_data"
    },
    {
     "data": {
      "text/html": [
       "<pre>recommendations finished on 29000/100003 queries. users per second: 8666.77</pre>"
      ],
      "text/plain": [
       "recommendations finished on 29000/100003 queries. users per second: 8666.77"
      ]
     },
     "metadata": {
      "tags": []
     },
     "output_type": "display_data"
    },
    {
     "data": {
      "text/html": [
       "<pre>recommendations finished on 30000/100003 queries. users per second: 8654.28</pre>"
      ],
      "text/plain": [
       "recommendations finished on 30000/100003 queries. users per second: 8654.28"
      ]
     },
     "metadata": {
      "tags": []
     },
     "output_type": "display_data"
    },
    {
     "data": {
      "text/html": [
       "<pre>recommendations finished on 31000/100003 queries. users per second: 8652.25</pre>"
      ],
      "text/plain": [
       "recommendations finished on 31000/100003 queries. users per second: 8652.25"
      ]
     },
     "metadata": {
      "tags": []
     },
     "output_type": "display_data"
    },
    {
     "data": {
      "text/html": [
       "<pre>recommendations finished on 32000/100003 queries. users per second: 8643.07</pre>"
      ],
      "text/plain": [
       "recommendations finished on 32000/100003 queries. users per second: 8643.07"
      ]
     },
     "metadata": {
      "tags": []
     },
     "output_type": "display_data"
    },
    {
     "data": {
      "text/html": [
       "<pre>recommendations finished on 33000/100003 queries. users per second: 8639.44</pre>"
      ],
      "text/plain": [
       "recommendations finished on 33000/100003 queries. users per second: 8639.44"
      ]
     },
     "metadata": {
      "tags": []
     },
     "output_type": "display_data"
    },
    {
     "data": {
      "text/html": [
       "<pre>recommendations finished on 34000/100003 queries. users per second: 8637.08</pre>"
      ],
      "text/plain": [
       "recommendations finished on 34000/100003 queries. users per second: 8637.08"
      ]
     },
     "metadata": {
      "tags": []
     },
     "output_type": "display_data"
    },
    {
     "data": {
      "text/html": [
       "<pre>recommendations finished on 35000/100003 queries. users per second: 8641.17</pre>"
      ],
      "text/plain": [
       "recommendations finished on 35000/100003 queries. users per second: 8641.17"
      ]
     },
     "metadata": {
      "tags": []
     },
     "output_type": "display_data"
    },
    {
     "data": {
      "text/html": [
       "<pre>recommendations finished on 36000/100003 queries. users per second: 8638.83</pre>"
      ],
      "text/plain": [
       "recommendations finished on 36000/100003 queries. users per second: 8638.83"
      ]
     },
     "metadata": {
      "tags": []
     },
     "output_type": "display_data"
    },
    {
     "data": {
      "text/html": [
       "<pre>recommendations finished on 37000/100003 queries. users per second: 8652.07</pre>"
      ],
      "text/plain": [
       "recommendations finished on 37000/100003 queries. users per second: 8652.07"
      ]
     },
     "metadata": {
      "tags": []
     },
     "output_type": "display_data"
    },
    {
     "data": {
      "text/html": [
       "<pre>recommendations finished on 38000/100003 queries. users per second: 8634.35</pre>"
      ],
      "text/plain": [
       "recommendations finished on 38000/100003 queries. users per second: 8634.35"
      ]
     },
     "metadata": {
      "tags": []
     },
     "output_type": "display_data"
    },
    {
     "data": {
      "text/html": [
       "<pre>recommendations finished on 39000/100003 queries. users per second: 8615.77</pre>"
      ],
      "text/plain": [
       "recommendations finished on 39000/100003 queries. users per second: 8615.77"
      ]
     },
     "metadata": {
      "tags": []
     },
     "output_type": "display_data"
    },
    {
     "data": {
      "text/html": [
       "<pre>recommendations finished on 40000/100003 queries. users per second: 8619.35</pre>"
      ],
      "text/plain": [
       "recommendations finished on 40000/100003 queries. users per second: 8619.35"
      ]
     },
     "metadata": {
      "tags": []
     },
     "output_type": "display_data"
    },
    {
     "data": {
      "text/html": [
       "<pre>recommendations finished on 41000/100003 queries. users per second: 8628.08</pre>"
      ],
      "text/plain": [
       "recommendations finished on 41000/100003 queries. users per second: 8628.08"
      ]
     },
     "metadata": {
      "tags": []
     },
     "output_type": "display_data"
    },
    {
     "data": {
      "text/html": [
       "<pre>recommendations finished on 42000/100003 queries. users per second: 8627.17</pre>"
      ],
      "text/plain": [
       "recommendations finished on 42000/100003 queries. users per second: 8627.17"
      ]
     },
     "metadata": {
      "tags": []
     },
     "output_type": "display_data"
    },
    {
     "data": {
      "text/html": [
       "<pre>recommendations finished on 43000/100003 queries. users per second: 8625.07</pre>"
      ],
      "text/plain": [
       "recommendations finished on 43000/100003 queries. users per second: 8625.07"
      ]
     },
     "metadata": {
      "tags": []
     },
     "output_type": "display_data"
    },
    {
     "data": {
      "text/html": [
       "<pre>recommendations finished on 44000/100003 queries. users per second: 8629.26</pre>"
      ],
      "text/plain": [
       "recommendations finished on 44000/100003 queries. users per second: 8629.26"
      ]
     },
     "metadata": {
      "tags": []
     },
     "output_type": "display_data"
    },
    {
     "data": {
      "text/html": [
       "<pre>recommendations finished on 45000/100003 queries. users per second: 8634.16</pre>"
      ],
      "text/plain": [
       "recommendations finished on 45000/100003 queries. users per second: 8634.16"
      ]
     },
     "metadata": {
      "tags": []
     },
     "output_type": "display_data"
    },
    {
     "data": {
      "text/html": [
       "<pre>recommendations finished on 46000/100003 queries. users per second: 8648.18</pre>"
      ],
      "text/plain": [
       "recommendations finished on 46000/100003 queries. users per second: 8648.18"
      ]
     },
     "metadata": {
      "tags": []
     },
     "output_type": "display_data"
    },
    {
     "data": {
      "text/html": [
       "<pre>recommendations finished on 47000/100003 queries. users per second: 8631.16</pre>"
      ],
      "text/plain": [
       "recommendations finished on 47000/100003 queries. users per second: 8631.16"
      ]
     },
     "metadata": {
      "tags": []
     },
     "output_type": "display_data"
    },
    {
     "data": {
      "text/html": [
       "<pre>recommendations finished on 48000/100003 queries. users per second: 8632.12</pre>"
      ],
      "text/plain": [
       "recommendations finished on 48000/100003 queries. users per second: 8632.12"
      ]
     },
     "metadata": {
      "tags": []
     },
     "output_type": "display_data"
    },
    {
     "data": {
      "text/html": [
       "<pre>recommendations finished on 49000/100003 queries. users per second: 8640.05</pre>"
      ],
      "text/plain": [
       "recommendations finished on 49000/100003 queries. users per second: 8640.05"
      ]
     },
     "metadata": {
      "tags": []
     },
     "output_type": "display_data"
    },
    {
     "data": {
      "text/html": [
       "<pre>recommendations finished on 50000/100003 queries. users per second: 8647.18</pre>"
      ],
      "text/plain": [
       "recommendations finished on 50000/100003 queries. users per second: 8647.18"
      ]
     },
     "metadata": {
      "tags": []
     },
     "output_type": "display_data"
    },
    {
     "data": {
      "text/html": [
       "<pre>recommendations finished on 51000/100003 queries. users per second: 8652.74</pre>"
      ],
      "text/plain": [
       "recommendations finished on 51000/100003 queries. users per second: 8652.74"
      ]
     },
     "metadata": {
      "tags": []
     },
     "output_type": "display_data"
    },
    {
     "data": {
      "text/html": [
       "<pre>recommendations finished on 52000/100003 queries. users per second: 8654.15</pre>"
      ],
      "text/plain": [
       "recommendations finished on 52000/100003 queries. users per second: 8654.15"
      ]
     },
     "metadata": {
      "tags": []
     },
     "output_type": "display_data"
    },
    {
     "data": {
      "text/html": [
       "<pre>recommendations finished on 53000/100003 queries. users per second: 8657.62</pre>"
      ],
      "text/plain": [
       "recommendations finished on 53000/100003 queries. users per second: 8657.62"
      ]
     },
     "metadata": {
      "tags": []
     },
     "output_type": "display_data"
    },
    {
     "data": {
      "text/html": [
       "<pre>recommendations finished on 54000/100003 queries. users per second: 8659.95</pre>"
      ],
      "text/plain": [
       "recommendations finished on 54000/100003 queries. users per second: 8659.95"
      ]
     },
     "metadata": {
      "tags": []
     },
     "output_type": "display_data"
    },
    {
     "data": {
      "text/html": [
       "<pre>recommendations finished on 55000/100003 queries. users per second: 8643.44</pre>"
      ],
      "text/plain": [
       "recommendations finished on 55000/100003 queries. users per second: 8643.44"
      ]
     },
     "metadata": {
      "tags": []
     },
     "output_type": "display_data"
    },
    {
     "data": {
      "text/html": [
       "<pre>recommendations finished on 56000/100003 queries. users per second: 8645.31</pre>"
      ],
      "text/plain": [
       "recommendations finished on 56000/100003 queries. users per second: 8645.31"
      ]
     },
     "metadata": {
      "tags": []
     },
     "output_type": "display_data"
    },
    {
     "data": {
      "text/html": [
       "<pre>recommendations finished on 57000/100003 queries. users per second: 8643.4</pre>"
      ],
      "text/plain": [
       "recommendations finished on 57000/100003 queries. users per second: 8643.4"
      ]
     },
     "metadata": {
      "tags": []
     },
     "output_type": "display_data"
    },
    {
     "data": {
      "text/html": [
       "<pre>recommendations finished on 58000/100003 queries. users per second: 8651.55</pre>"
      ],
      "text/plain": [
       "recommendations finished on 58000/100003 queries. users per second: 8651.55"
      ]
     },
     "metadata": {
      "tags": []
     },
     "output_type": "display_data"
    },
    {
     "data": {
      "text/html": [
       "<pre>recommendations finished on 59000/100003 queries. users per second: 8650.64</pre>"
      ],
      "text/plain": [
       "recommendations finished on 59000/100003 queries. users per second: 8650.64"
      ]
     },
     "metadata": {
      "tags": []
     },
     "output_type": "display_data"
    },
    {
     "data": {
      "text/html": [
       "<pre>recommendations finished on 60000/100003 queries. users per second: 8651.2</pre>"
      ],
      "text/plain": [
       "recommendations finished on 60000/100003 queries. users per second: 8651.2"
      ]
     },
     "metadata": {
      "tags": []
     },
     "output_type": "display_data"
    },
    {
     "data": {
      "text/html": [
       "<pre>recommendations finished on 61000/100003 queries. users per second: 8651.73</pre>"
      ],
      "text/plain": [
       "recommendations finished on 61000/100003 queries. users per second: 8651.73"
      ]
     },
     "metadata": {
      "tags": []
     },
     "output_type": "display_data"
    },
    {
     "data": {
      "text/html": [
       "<pre>recommendations finished on 62000/100003 queries. users per second: 8653.91</pre>"
      ],
      "text/plain": [
       "recommendations finished on 62000/100003 queries. users per second: 8653.91"
      ]
     },
     "metadata": {
      "tags": []
     },
     "output_type": "display_data"
    },
    {
     "data": {
      "text/html": [
       "<pre>recommendations finished on 63000/100003 queries. users per second: 8659.14</pre>"
      ],
      "text/plain": [
       "recommendations finished on 63000/100003 queries. users per second: 8659.14"
      ]
     },
     "metadata": {
      "tags": []
     },
     "output_type": "display_data"
    },
    {
     "data": {
      "text/html": [
       "<pre>recommendations finished on 64000/100003 queries. users per second: 8654.74</pre>"
      ],
      "text/plain": [
       "recommendations finished on 64000/100003 queries. users per second: 8654.74"
      ]
     },
     "metadata": {
      "tags": []
     },
     "output_type": "display_data"
    },
    {
     "data": {
      "text/html": [
       "<pre>recommendations finished on 65000/100003 queries. users per second: 8665.91</pre>"
      ],
      "text/plain": [
       "recommendations finished on 65000/100003 queries. users per second: 8665.91"
      ]
     },
     "metadata": {
      "tags": []
     },
     "output_type": "display_data"
    },
    {
     "data": {
      "text/html": [
       "<pre>recommendations finished on 66000/100003 queries. users per second: 8671.47</pre>"
      ],
      "text/plain": [
       "recommendations finished on 66000/100003 queries. users per second: 8671.47"
      ]
     },
     "metadata": {
      "tags": []
     },
     "output_type": "display_data"
    },
    {
     "data": {
      "text/html": [
       "<pre>recommendations finished on 67000/100003 queries. users per second: 8675.25</pre>"
      ],
      "text/plain": [
       "recommendations finished on 67000/100003 queries. users per second: 8675.25"
      ]
     },
     "metadata": {
      "tags": []
     },
     "output_type": "display_data"
    },
    {
     "data": {
      "text/html": [
       "<pre>recommendations finished on 68000/100003 queries. users per second: 8674.77</pre>"
      ],
      "text/plain": [
       "recommendations finished on 68000/100003 queries. users per second: 8674.77"
      ]
     },
     "metadata": {
      "tags": []
     },
     "output_type": "display_data"
    },
    {
     "data": {
      "text/html": [
       "<pre>recommendations finished on 69000/100003 queries. users per second: 8680.47</pre>"
      ],
      "text/plain": [
       "recommendations finished on 69000/100003 queries. users per second: 8680.47"
      ]
     },
     "metadata": {
      "tags": []
     },
     "output_type": "display_data"
    },
    {
     "data": {
      "text/html": [
       "<pre>recommendations finished on 70000/100003 queries. users per second: 8681.89</pre>"
      ],
      "text/plain": [
       "recommendations finished on 70000/100003 queries. users per second: 8681.89"
      ]
     },
     "metadata": {
      "tags": []
     },
     "output_type": "display_data"
    },
    {
     "data": {
      "text/html": [
       "<pre>recommendations finished on 71000/100003 queries. users per second: 8685.44</pre>"
      ],
      "text/plain": [
       "recommendations finished on 71000/100003 queries. users per second: 8685.44"
      ]
     },
     "metadata": {
      "tags": []
     },
     "output_type": "display_data"
    },
    {
     "data": {
      "text/html": [
       "<pre>recommendations finished on 72000/100003 queries. users per second: 8685.93</pre>"
      ],
      "text/plain": [
       "recommendations finished on 72000/100003 queries. users per second: 8685.93"
      ]
     },
     "metadata": {
      "tags": []
     },
     "output_type": "display_data"
    },
    {
     "data": {
      "text/html": [
       "<pre>recommendations finished on 73000/100003 queries. users per second: 8683.93</pre>"
      ],
      "text/plain": [
       "recommendations finished on 73000/100003 queries. users per second: 8683.93"
      ]
     },
     "metadata": {
      "tags": []
     },
     "output_type": "display_data"
    },
    {
     "data": {
      "text/html": [
       "<pre>recommendations finished on 74000/100003 queries. users per second: 8691.06</pre>"
      ],
      "text/plain": [
       "recommendations finished on 74000/100003 queries. users per second: 8691.06"
      ]
     },
     "metadata": {
      "tags": []
     },
     "output_type": "display_data"
    },
    {
     "data": {
      "text/html": [
       "<pre>recommendations finished on 75000/100003 queries. users per second: 8697.79</pre>"
      ],
      "text/plain": [
       "recommendations finished on 75000/100003 queries. users per second: 8697.79"
      ]
     },
     "metadata": {
      "tags": []
     },
     "output_type": "display_data"
    },
    {
     "data": {
      "text/html": [
       "<pre>recommendations finished on 76000/100003 queries. users per second: 8701.6</pre>"
      ],
      "text/plain": [
       "recommendations finished on 76000/100003 queries. users per second: 8701.6"
      ]
     },
     "metadata": {
      "tags": []
     },
     "output_type": "display_data"
    },
    {
     "data": {
      "text/html": [
       "<pre>recommendations finished on 77000/100003 queries. users per second: 8712.95</pre>"
      ],
      "text/plain": [
       "recommendations finished on 77000/100003 queries. users per second: 8712.95"
      ]
     },
     "metadata": {
      "tags": []
     },
     "output_type": "display_data"
    },
    {
     "data": {
      "text/html": [
       "<pre>recommendations finished on 78000/100003 queries. users per second: 8718.57</pre>"
      ],
      "text/plain": [
       "recommendations finished on 78000/100003 queries. users per second: 8718.57"
      ]
     },
     "metadata": {
      "tags": []
     },
     "output_type": "display_data"
    },
    {
     "data": {
      "text/html": [
       "<pre>recommendations finished on 79000/100003 queries. users per second: 8720.92</pre>"
      ],
      "text/plain": [
       "recommendations finished on 79000/100003 queries. users per second: 8720.92"
      ]
     },
     "metadata": {
      "tags": []
     },
     "output_type": "display_data"
    },
    {
     "data": {
      "text/html": [
       "<pre>recommendations finished on 80000/100003 queries. users per second: 8728.9</pre>"
      ],
      "text/plain": [
       "recommendations finished on 80000/100003 queries. users per second: 8728.9"
      ]
     },
     "metadata": {
      "tags": []
     },
     "output_type": "display_data"
    },
    {
     "data": {
      "text/html": [
       "<pre>recommendations finished on 81000/100003 queries. users per second: 8731.7</pre>"
      ],
      "text/plain": [
       "recommendations finished on 81000/100003 queries. users per second: 8731.7"
      ]
     },
     "metadata": {
      "tags": []
     },
     "output_type": "display_data"
    },
    {
     "data": {
      "text/html": [
       "<pre>recommendations finished on 82000/100003 queries. users per second: 8737.69</pre>"
      ],
      "text/plain": [
       "recommendations finished on 82000/100003 queries. users per second: 8737.69"
      ]
     },
     "metadata": {
      "tags": []
     },
     "output_type": "display_data"
    },
    {
     "data": {
      "text/html": [
       "<pre>recommendations finished on 83000/100003 queries. users per second: 8732.94</pre>"
      ],
      "text/plain": [
       "recommendations finished on 83000/100003 queries. users per second: 8732.94"
      ]
     },
     "metadata": {
      "tags": []
     },
     "output_type": "display_data"
    },
    {
     "data": {
      "text/html": [
       "<pre>recommendations finished on 84000/100003 queries. users per second: 8736.96</pre>"
      ],
      "text/plain": [
       "recommendations finished on 84000/100003 queries. users per second: 8736.96"
      ]
     },
     "metadata": {
      "tags": []
     },
     "output_type": "display_data"
    },
    {
     "data": {
      "text/html": [
       "<pre>recommendations finished on 85000/100003 queries. users per second: 8740.32</pre>"
      ],
      "text/plain": [
       "recommendations finished on 85000/100003 queries. users per second: 8740.32"
      ]
     },
     "metadata": {
      "tags": []
     },
     "output_type": "display_data"
    },
    {
     "data": {
      "text/html": [
       "<pre>recommendations finished on 86000/100003 queries. users per second: 8740.7</pre>"
      ],
      "text/plain": [
       "recommendations finished on 86000/100003 queries. users per second: 8740.7"
      ]
     },
     "metadata": {
      "tags": []
     },
     "output_type": "display_data"
    },
    {
     "data": {
      "text/html": [
       "<pre>recommendations finished on 87000/100003 queries. users per second: 8727.73</pre>"
      ],
      "text/plain": [
       "recommendations finished on 87000/100003 queries. users per second: 8727.73"
      ]
     },
     "metadata": {
      "tags": []
     },
     "output_type": "display_data"
    },
    {
     "data": {
      "text/html": [
       "<pre>recommendations finished on 88000/100003 queries. users per second: 8734.71</pre>"
      ],
      "text/plain": [
       "recommendations finished on 88000/100003 queries. users per second: 8734.71"
      ]
     },
     "metadata": {
      "tags": []
     },
     "output_type": "display_data"
    },
    {
     "data": {
      "text/html": [
       "<pre>recommendations finished on 89000/100003 queries. users per second: 8741.96</pre>"
      ],
      "text/plain": [
       "recommendations finished on 89000/100003 queries. users per second: 8741.96"
      ]
     },
     "metadata": {
      "tags": []
     },
     "output_type": "display_data"
    },
    {
     "data": {
      "text/html": [
       "<pre>recommendations finished on 90000/100003 queries. users per second: 8750.33</pre>"
      ],
      "text/plain": [
       "recommendations finished on 90000/100003 queries. users per second: 8750.33"
      ]
     },
     "metadata": {
      "tags": []
     },
     "output_type": "display_data"
    },
    {
     "data": {
      "text/html": [
       "<pre>recommendations finished on 91000/100003 queries. users per second: 8757.52</pre>"
      ],
      "text/plain": [
       "recommendations finished on 91000/100003 queries. users per second: 8757.52"
      ]
     },
     "metadata": {
      "tags": []
     },
     "output_type": "display_data"
    },
    {
     "data": {
      "text/html": [
       "<pre>recommendations finished on 92000/100003 queries. users per second: 8757.13</pre>"
      ],
      "text/plain": [
       "recommendations finished on 92000/100003 queries. users per second: 8757.13"
      ]
     },
     "metadata": {
      "tags": []
     },
     "output_type": "display_data"
    },
    {
     "data": {
      "text/html": [
       "<pre>recommendations finished on 93000/100003 queries. users per second: 8760.55</pre>"
      ],
      "text/plain": [
       "recommendations finished on 93000/100003 queries. users per second: 8760.55"
      ]
     },
     "metadata": {
      "tags": []
     },
     "output_type": "display_data"
    },
    {
     "data": {
      "text/html": [
       "<pre>recommendations finished on 94000/100003 queries. users per second: 8765.17</pre>"
      ],
      "text/plain": [
       "recommendations finished on 94000/100003 queries. users per second: 8765.17"
      ]
     },
     "metadata": {
      "tags": []
     },
     "output_type": "display_data"
    },
    {
     "data": {
      "text/html": [
       "<pre>recommendations finished on 95000/100003 queries. users per second: 8767.08</pre>"
      ],
      "text/plain": [
       "recommendations finished on 95000/100003 queries. users per second: 8767.08"
      ]
     },
     "metadata": {
      "tags": []
     },
     "output_type": "display_data"
    },
    {
     "data": {
      "text/html": [
       "<pre>recommendations finished on 96000/100003 queries. users per second: 8773.34</pre>"
      ],
      "text/plain": [
       "recommendations finished on 96000/100003 queries. users per second: 8773.34"
      ]
     },
     "metadata": {
      "tags": []
     },
     "output_type": "display_data"
    },
    {
     "data": {
      "text/html": [
       "<pre>recommendations finished on 97000/100003 queries. users per second: 8748.81</pre>"
      ],
      "text/plain": [
       "recommendations finished on 97000/100003 queries. users per second: 8748.81"
      ]
     },
     "metadata": {
      "tags": []
     },
     "output_type": "display_data"
    },
    {
     "data": {
      "text/html": [
       "<pre>recommendations finished on 98000/100003 queries. users per second: 8703.32</pre>"
      ],
      "text/plain": [
       "recommendations finished on 98000/100003 queries. users per second: 8703.32"
      ]
     },
     "metadata": {
      "tags": []
     },
     "output_type": "display_data"
    },
    {
     "data": {
      "text/html": [
       "<pre>recommendations finished on 99000/100003 queries. users per second: 8661.86</pre>"
      ],
      "text/plain": [
       "recommendations finished on 99000/100003 queries. users per second: 8661.86"
      ]
     },
     "metadata": {
      "tags": []
     },
     "output_type": "display_data"
    },
    {
     "data": {
      "text/html": [
       "<pre>recommendations finished on 100000/100003 queries. users per second: 8615.86</pre>"
      ],
      "text/plain": [
       "recommendations finished on 100000/100003 queries. users per second: 8615.86"
      ]
     },
     "metadata": {
      "tags": []
     },
     "output_type": "display_data"
    },
    {
     "name": "stdout",
     "output_type": "stream",
     "text": [
      "An output file can be found in 'output' folder with name 'option1_recommendation.csv'\n",
      "(944, 1)\n"
     ]
    },
    {
     "data": {
      "text/html": [
       "<div>\n",
       "<style scoped>\n",
       "    .dataframe tbody tr th:only-of-type {\n",
       "        vertical-align: middle;\n",
       "    }\n",
       "\n",
       "    .dataframe tbody tr th {\n",
       "        vertical-align: top;\n",
       "    }\n",
       "\n",
       "    .dataframe thead th {\n",
       "        text-align: right;\n",
       "    }\n",
       "</style>\n",
       "<table border=\"1\" class=\"dataframe\">\n",
       "  <thead>\n",
       "    <tr style=\"text-align: right;\">\n",
       "      <th></th>\n",
       "      <th>recommendedProducts</th>\n",
       "    </tr>\n",
       "    <tr>\n",
       "      <th>user_id</th>\n",
       "      <th></th>\n",
       "    </tr>\n",
       "  </thead>\n",
       "  <tbody>\n",
       "    <tr>\n",
       "      <th>0</th>\n",
       "      <td>1465|1389|1362|1506|1365|1662|1472|600|1360|12...</td>\n",
       "    </tr>\n",
       "    <tr>\n",
       "      <th>1</th>\n",
       "      <td>1465|1389|1362|1506|1365|1662|1472|600|1360|12...</td>\n",
       "    </tr>\n",
       "    <tr>\n",
       "      <th>2</th>\n",
       "      <td>1465|1389|1362|1506|1365|1662|1472|600|1360|12...</td>\n",
       "    </tr>\n",
       "    <tr>\n",
       "      <th>3</th>\n",
       "      <td>1465|1389|1362|1506|1365|1662|1472|600|1360|12...</td>\n",
       "    </tr>\n",
       "    <tr>\n",
       "      <th>4</th>\n",
       "      <td>1465|1389|1362|1506|1365|1662|1472|600|1360|12...</td>\n",
       "    </tr>\n",
       "  </tbody>\n",
       "</table>\n",
       "</div>"
      ],
      "text/plain": [
       "                                       recommendedProducts\n",
       "user_id                                                   \n",
       "0        1465|1389|1362|1506|1365|1662|1472|600|1360|12...\n",
       "1        1465|1389|1362|1506|1365|1662|1472|600|1360|12...\n",
       "2        1465|1389|1362|1506|1365|1662|1472|600|1360|12...\n",
       "3        1465|1389|1362|1506|1365|1662|1472|600|1360|12...\n",
       "4        1465|1389|1362|1506|1365|1662|1472|600|1360|12..."
      ]
     },
     "execution_count": 61,
     "metadata": {
      "tags": []
     },
     "output_type": "execute_result"
    }
   ],
   "source": [
    "df_output = create_output(pear_norm, users_to_recommend, n_rec, print_csv=True)\n",
    "print(df_output.shape)\n",
    "df_output.head()"
   ]
  },
  {
   "cell_type": "code",
   "execution_count": null,
   "metadata": {
    "id": "Ns7ApFqtpWgM"
   },
   "outputs": [],
   "source": [
    "#Customer recommendation function"
   ]
  },
  {
   "cell_type": "code",
   "execution_count": 63,
   "metadata": {
    "id": "hKs2RFg1pXWJ"
   },
   "outputs": [],
   "source": [
    "def customer_recomendation(user_id):\n",
    "    if user_id not in df_output.index:\n",
    "        print('user not found.')\n",
    "        return user_id\n",
    "    return df_output.loc[user_id]"
   ]
  },
  {
   "cell_type": "code",
   "execution_count": 64,
   "metadata": {
    "colab": {
     "base_uri": "https://localhost:8080/"
    },
    "id": "ZewcRpTMp0gh",
    "outputId": "97b6342e-24c4-4e23-e68f-1abe4426cb83"
   },
   "outputs": [
    {
     "data": {
      "text/plain": [
       "recommendedProducts    1465|1389|1362|1506|1365|1662|1472|600|1360|12...\n",
       "Name: 4, dtype: object"
      ]
     },
     "execution_count": 64,
     "metadata": {
      "tags": []
     },
     "output_type": "execute_result"
    }
   ],
   "source": [
    "customer_recomendation(4)"
   ]
  },
  {
   "cell_type": "code",
   "execution_count": 65,
   "metadata": {
    "colab": {
     "base_uri": "https://localhost:8080/"
    },
    "id": "gkzupY3Op4uX",
    "outputId": "a2138938-93b4-4691-fa46-09805b06cd2c"
   },
   "outputs": [
    {
     "data": {
      "text/plain": [
       "recommendedProducts    1465|1389|1362|1506|1365|1662|1472|600|1360|12...\n",
       "Name: 21, dtype: object"
      ]
     },
     "execution_count": 65,
     "metadata": {
      "tags": []
     },
     "output_type": "execute_result"
    }
   ],
   "source": [
    "customer_recomendation(21)"
   ]
  }
 ],
 "metadata": {
  "colab": {
   "collapsed_sections": [],
   "name": "Untitled8.ipynb",
   "provenance": [],
   "toc_visible": true
  },
  "kernelspec": {
   "display_name": "Python 3 (ipykernel)",
   "language": "python",
   "name": "python3"
  },
  "language_info": {
   "codemirror_mode": {
    "name": "ipython",
    "version": 3
   },
   "file_extension": ".py",
   "mimetype": "text/x-python",
   "name": "python",
   "nbconvert_exporter": "python",
   "pygments_lexer": "ipython3",
   "version": "3.9.7"
  }
 },
 "nbformat": 4,
 "nbformat_minor": 1
}
